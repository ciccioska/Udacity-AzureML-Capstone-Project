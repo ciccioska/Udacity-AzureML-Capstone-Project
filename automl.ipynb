{
 "cells": [
  {
   "cell_type": "markdown",
   "metadata": {},
   "source": [
    "# Automated ML\n",
    "\n",
    "TODO: Import Dependencies. In the cell below, import all the dependencies that you will need to complete the project."
   ]
  },
  {
   "cell_type": "code",
   "execution_count": 1,
   "metadata": {
    "collapsed": false,
    "gather": {
     "logged": 1616782242336
    },
    "jupyter": {
     "outputs_hidden": false,
     "source_hidden": false
    },
    "nteract": {
     "transient": {
      "deleting": false
     }
    }
   },
   "outputs": [],
   "source": [
    "import logging\n",
    "import os\n",
    "import csv\n",
    "\n",
    "from matplotlib import pyplot as plt\n",
    "import numpy as np\n",
    "import pandas as pd\n",
    "from sklearn import datasets\n",
    "import pkg_resources\n",
    "\n",
    "import azureml.core\n",
    "from azureml.core.experiment import Experiment\n",
    "from azureml.core.workspace import Workspace\n",
    "from azureml.train.automl import AutoMLConfig\n",
    "from azureml.core.dataset import Dataset\n",
    "from azureml.core.datastore import Datastore\n",
    "\n",
    "from azureml.pipeline.steps import AutoMLStep\n",
    "\n",
    "from azureml.core.compute import AmlCompute\n",
    "from azureml.core.compute import ComputeTarget\n",
    "from azureml.core.compute_target import ComputeTargetException\n",
    "\n",
    "from azureml.widgets import RunDetails\n",
    "\n",
    "from sklearn.model_selection import train_test_split\n",
    "import pandas as pd\n",
    "from azureml.data.dataset_factory import TabularDatasetFactory\n"
   ]
  },
  {
   "cell_type": "markdown",
   "metadata": {},
   "source": [
    "## Dataset\n",
    "\n",
    "### Overview\n",
    "TODO: In this markdown cell, give an overview of the dataset you are using. Also mention the task you will be performing.\n",
    "\n",
    "\n",
    "TODO: Get data. In the cell below, write code to access the data you will be using in this project. Remember that the dataset needs to be external."
   ]
  },
  {
   "cell_type": "code",
   "execution_count": 2,
   "metadata": {
    "collapsed": false,
    "gather": {
     "logged": 1616782250919
    },
    "jupyter": {
     "outputs_hidden": false,
     "source_hidden": false
    },
    "nteract": {
     "transient": {
      "deleting": false
     }
    }
   },
   "outputs": [],
   "source": [
    "workspace = Workspace.from_config()\n",
    "\n",
    "# choose a name for experiment\n",
    "experiment_name = 'aml-stroke-experiment'\n",
    "project_folder = './aml-project'\n",
    "\n",
    "experiment=Experiment(workspace, experiment_name)\n"
   ]
  },
  {
   "cell_type": "code",
   "execution_count": 3,
   "metadata": {
    "gather": {
     "logged": 1616782257481
    }
   },
   "outputs": [
    {
     "data": {
      "text/html": [
       "<div>\n",
       "<style scoped>\n",
       "    .dataframe tbody tr th:only-of-type {\n",
       "        vertical-align: middle;\n",
       "    }\n",
       "\n",
       "    .dataframe tbody tr th {\n",
       "        vertical-align: top;\n",
       "    }\n",
       "\n",
       "    .dataframe thead th {\n",
       "        text-align: right;\n",
       "    }\n",
       "</style>\n",
       "<table border=\"1\" class=\"dataframe\">\n",
       "  <thead>\n",
       "    <tr style=\"text-align: right;\">\n",
       "      <th></th>\n",
       "      <th>id</th>\n",
       "      <th>age</th>\n",
       "      <th>hypertension</th>\n",
       "      <th>heart_disease</th>\n",
       "      <th>avg_glucose_level</th>\n",
       "      <th>stroke</th>\n",
       "    </tr>\n",
       "  </thead>\n",
       "  <tbody>\n",
       "    <tr>\n",
       "      <th>count</th>\n",
       "      <td>5110.000000</td>\n",
       "      <td>5110.000000</td>\n",
       "      <td>5110.000000</td>\n",
       "      <td>5110.000000</td>\n",
       "      <td>5110.000000</td>\n",
       "      <td>5110.000000</td>\n",
       "    </tr>\n",
       "    <tr>\n",
       "      <th>mean</th>\n",
       "      <td>36517.829354</td>\n",
       "      <td>43.226614</td>\n",
       "      <td>0.097456</td>\n",
       "      <td>0.054012</td>\n",
       "      <td>106.147677</td>\n",
       "      <td>0.048728</td>\n",
       "    </tr>\n",
       "    <tr>\n",
       "      <th>std</th>\n",
       "      <td>21161.721625</td>\n",
       "      <td>22.612647</td>\n",
       "      <td>0.296607</td>\n",
       "      <td>0.226063</td>\n",
       "      <td>45.283560</td>\n",
       "      <td>0.215320</td>\n",
       "    </tr>\n",
       "    <tr>\n",
       "      <th>min</th>\n",
       "      <td>67.000000</td>\n",
       "      <td>0.080000</td>\n",
       "      <td>0.000000</td>\n",
       "      <td>0.000000</td>\n",
       "      <td>55.120000</td>\n",
       "      <td>0.000000</td>\n",
       "    </tr>\n",
       "    <tr>\n",
       "      <th>25%</th>\n",
       "      <td>17741.250000</td>\n",
       "      <td>25.000000</td>\n",
       "      <td>0.000000</td>\n",
       "      <td>0.000000</td>\n",
       "      <td>77.245000</td>\n",
       "      <td>0.000000</td>\n",
       "    </tr>\n",
       "    <tr>\n",
       "      <th>50%</th>\n",
       "      <td>36932.000000</td>\n",
       "      <td>45.000000</td>\n",
       "      <td>0.000000</td>\n",
       "      <td>0.000000</td>\n",
       "      <td>91.885000</td>\n",
       "      <td>0.000000</td>\n",
       "    </tr>\n",
       "    <tr>\n",
       "      <th>75%</th>\n",
       "      <td>54682.000000</td>\n",
       "      <td>61.000000</td>\n",
       "      <td>0.000000</td>\n",
       "      <td>0.000000</td>\n",
       "      <td>114.090000</td>\n",
       "      <td>0.000000</td>\n",
       "    </tr>\n",
       "    <tr>\n",
       "      <th>max</th>\n",
       "      <td>72940.000000</td>\n",
       "      <td>82.000000</td>\n",
       "      <td>1.000000</td>\n",
       "      <td>1.000000</td>\n",
       "      <td>271.740000</td>\n",
       "      <td>1.000000</td>\n",
       "    </tr>\n",
       "  </tbody>\n",
       "</table>\n",
       "</div>"
      ],
      "text/plain": [
       "                 id          age  hypertension  heart_disease  \\\n",
       "count   5110.000000  5110.000000   5110.000000    5110.000000   \n",
       "mean   36517.829354    43.226614      0.097456       0.054012   \n",
       "std    21161.721625    22.612647      0.296607       0.226063   \n",
       "min       67.000000     0.080000      0.000000       0.000000   \n",
       "25%    17741.250000    25.000000      0.000000       0.000000   \n",
       "50%    36932.000000    45.000000      0.000000       0.000000   \n",
       "75%    54682.000000    61.000000      0.000000       0.000000   \n",
       "max    72940.000000    82.000000      1.000000       1.000000   \n",
       "\n",
       "       avg_glucose_level       stroke  \n",
       "count        5110.000000  5110.000000  \n",
       "mean          106.147677     0.048728  \n",
       "std            45.283560     0.215320  \n",
       "min            55.120000     0.000000  \n",
       "25%            77.245000     0.000000  \n",
       "50%            91.885000     0.000000  \n",
       "75%           114.090000     0.000000  \n",
       "max           271.740000     1.000000  "
      ]
     },
     "execution_count": 3,
     "metadata": {},
     "output_type": "execute_result"
    }
   ],
   "source": [
    "found = False\n",
    "key = \"stroke-dataset\"\n",
    "description_text = \"Stroke Dataset - Capstone project\"\n",
    "\n",
    "if key in workspace.datasets.keys(): \n",
    "        found = True\n",
    "        dataset = workspace.datasets[key] \n",
    "\n",
    "if not found:\n",
    "        # Create AML Dataset and register it into Workspace\n",
    "        example_data = 'https://raw.githubusercontent.com/ciccioska/Udacity-AzureML-Capstone-Project/master/healthcare-dataset-stroke-data.csv'\n",
    "        dataset = Dataset.Tabular.from_delimited_files(example_data) \n",
    "\n",
    "        #Register Dataset in Workspace\n",
    "        dataset = dataset.register(workspace=workspace,\n",
    "                                   name=key,\n",
    "                                   description=description_text)\n",
    "\n",
    "\n",
    "x_df = dataset.to_pandas_dataframe().dropna()\n",
    "\n",
    "x_df.describe()"
   ]
  },
  {
   "cell_type": "code",
   "execution_count": 4,
   "metadata": {},
   "outputs": [
    {
     "data": {
      "text/html": [
       "<div>\n",
       "<style scoped>\n",
       "    .dataframe tbody tr th:only-of-type {\n",
       "        vertical-align: middle;\n",
       "    }\n",
       "\n",
       "    .dataframe tbody tr th {\n",
       "        vertical-align: top;\n",
       "    }\n",
       "\n",
       "    .dataframe thead th {\n",
       "        text-align: right;\n",
       "    }\n",
       "</style>\n",
       "<table border=\"1\" class=\"dataframe\">\n",
       "  <thead>\n",
       "    <tr style=\"text-align: right;\">\n",
       "      <th></th>\n",
       "      <th>id</th>\n",
       "      <th>gender</th>\n",
       "      <th>age</th>\n",
       "      <th>hypertension</th>\n",
       "      <th>heart_disease</th>\n",
       "      <th>ever_married</th>\n",
       "      <th>work_type</th>\n",
       "      <th>Residence_type</th>\n",
       "      <th>avg_glucose_level</th>\n",
       "      <th>bmi</th>\n",
       "      <th>smoking_status</th>\n",
       "      <th>stroke</th>\n",
       "    </tr>\n",
       "  </thead>\n",
       "  <tbody>\n",
       "    <tr>\n",
       "      <th>2000</th>\n",
       "      <td>44391</td>\n",
       "      <td>1</td>\n",
       "      <td>54.0</td>\n",
       "      <td>0</td>\n",
       "      <td>0</td>\n",
       "      <td>True</td>\n",
       "      <td>1</td>\n",
       "      <td>1</td>\n",
       "      <td>65.69</td>\n",
       "      <td>21.4</td>\n",
       "      <td>-1</td>\n",
       "      <td>0</td>\n",
       "    </tr>\n",
       "    <tr>\n",
       "      <th>2878</th>\n",
       "      <td>56995</td>\n",
       "      <td>0</td>\n",
       "      <td>81.0</td>\n",
       "      <td>0</td>\n",
       "      <td>0</td>\n",
       "      <td>True</td>\n",
       "      <td>1</td>\n",
       "      <td>1</td>\n",
       "      <td>82.86</td>\n",
       "      <td>25</td>\n",
       "      <td>-1</td>\n",
       "      <td>0</td>\n",
       "    </tr>\n",
       "    <tr>\n",
       "      <th>387</th>\n",
       "      <td>9608</td>\n",
       "      <td>1</td>\n",
       "      <td>24.0</td>\n",
       "      <td>0</td>\n",
       "      <td>0</td>\n",
       "      <td>False</td>\n",
       "      <td>1</td>\n",
       "      <td>1</td>\n",
       "      <td>123.10</td>\n",
       "      <td>37.9</td>\n",
       "      <td>-1</td>\n",
       "      <td>0</td>\n",
       "    </tr>\n",
       "    <tr>\n",
       "      <th>3660</th>\n",
       "      <td>59045</td>\n",
       "      <td>0</td>\n",
       "      <td>52.0</td>\n",
       "      <td>0</td>\n",
       "      <td>0</td>\n",
       "      <td>True</td>\n",
       "      <td>1</td>\n",
       "      <td>1</td>\n",
       "      <td>67.30</td>\n",
       "      <td>36.3</td>\n",
       "      <td>-1</td>\n",
       "      <td>0</td>\n",
       "    </tr>\n",
       "    <tr>\n",
       "      <th>1930</th>\n",
       "      <td>28309</td>\n",
       "      <td>0</td>\n",
       "      <td>67.0</td>\n",
       "      <td>0</td>\n",
       "      <td>0</td>\n",
       "      <td>True</td>\n",
       "      <td>1</td>\n",
       "      <td>1</td>\n",
       "      <td>82.09</td>\n",
       "      <td>14.1</td>\n",
       "      <td>-1</td>\n",
       "      <td>0</td>\n",
       "    </tr>\n",
       "  </tbody>\n",
       "</table>\n",
       "</div>"
      ],
      "text/plain": [
       "         id  gender   age  hypertension  heart_disease  ever_married  \\\n",
       "2000  44391       1  54.0             0              0          True   \n",
       "2878  56995       0  81.0             0              0          True   \n",
       "387    9608       1  24.0             0              0         False   \n",
       "3660  59045       0  52.0             0              0          True   \n",
       "1930  28309       0  67.0             0              0          True   \n",
       "\n",
       "      work_type  Residence_type  avg_glucose_level   bmi  smoking_status  \\\n",
       "2000          1               1              65.69  21.4              -1   \n",
       "2878          1               1              82.86    25              -1   \n",
       "387           1               1             123.10  37.9              -1   \n",
       "3660          1               1              67.30  36.3              -1   \n",
       "1930          1               1              82.09  14.1              -1   \n",
       "\n",
       "      stroke  \n",
       "2000       0  \n",
       "2878       0  \n",
       "387        0  \n",
       "3660       0  \n",
       "1930       0  "
      ]
     },
     "execution_count": 4,
     "metadata": {},
     "output_type": "execute_result"
    }
   ],
   "source": [
    "# Prepare dataset\n",
    "x_df[\"work_type\"] = x_df.work_type.apply(lambda s: 1 if s == \"Private\" else 0 if s == \"Self-employed\" else -1)\n",
    "x_df[\"bmi\"] = x_df.bmi.apply(lambda s: 0 if s == \"N/A\" else s)\n",
    "x_df[\"gender\"] = x_df.gender.apply(lambda s: 1 if s == \"Male\" else 0)\n",
    "x_df[\"Residence_type\"] = x_df.Residence_type.apply(lambda s: 1 if s == \"Urban\" else 0)\n",
    "x_df[\"smoking_status\"] = x_df.smoking_status.apply(lambda s: 1 if s == \"smokes\" else -1 if s == \"never smoked\" else 2 if s == \"formerly smoked\" else 0)        \n",
    "\n",
    "y_df = x_df.pop(\"stroke\")\n",
    "\n",
    "# Split data into train and test sets.\n",
    "(x_train, x_test, y_train, y_test) = train_test_split(x_df, y_df, test_size = 0.3)\n",
    "label = \"stroke\"\n",
    "\n",
    "train_data_df = pd.concat([x_train, y_train], axis=1)\n",
    "test_data_df = pd.concat([x_test, y_train], axis=1)\n",
    "\n",
    "# view train dataset\n",
    "train_data_df.head()\n"
   ]
  },
  {
   "cell_type": "code",
   "execution_count": 5,
   "metadata": {},
   "outputs": [
    {
     "name": "stdout",
     "output_type": "stream",
     "text": [
      "Uploading an estimated of 2 files\n",
      "Uploading ./data/dataset.csv\n",
      "Uploaded ./data/dataset.csv, 1 files out of an estimated total of 2\n",
      "Uploading ./data/.ipynb_checkpoints/dataset-checkpoint.csv\n",
      "Uploaded ./data/.ipynb_checkpoints/dataset-checkpoint.csv, 2 files out of an estimated total of 2\n",
      "Uploaded 2 files\n"
     ]
    }
   ],
   "source": [
    "\n",
    "# create a csv file to use with AutoML\n",
    "if not os.path.isdir('data'): \n",
    "    os.mkdir('data')\n",
    "    \n",
    "# save csv file to datastore\n",
    "pd.DataFrame(train_data_df).to_csv(\"data/dataset.csv\", index=False)\n",
    "\n",
    "# upload to datastore\n",
    "datastore = workspace.get_default_datastore()\n",
    "datastore.upload(src_dir='./data', target_path='classified', overwrite=True, show_progress=True)\n",
    "\n",
    " # datastore for AutoML\n",
    "training_data = TabularDatasetFactory.from_delimited_files(path=datastore.path('classified/dataset.csv'))"
   ]
  },
  {
   "cell_type": "code",
   "execution_count": 6,
   "metadata": {
    "gather": {
     "logged": 1616782392966
    }
   },
   "outputs": [
    {
     "name": "stdout",
     "output_type": "stream",
     "text": [
      "Found existing cluster, use it.\n",
      "Succeeded\n",
      "AmlCompute wait for completion finished\n",
      "\n",
      "Minimum number of nodes requested have been provisioned\n"
     ]
    }
   ],
   "source": [
    "\n",
    "amlcompute_cluster_name = \"aml-cpu-cluster\"\n",
    "\n",
    "# Verify that cluster does not exist already\n",
    "try:\n",
    "    compute_target = ComputeTarget(workspace=workspace, name=amlcompute_cluster_name)\n",
    "    print('Found existing cluster, use it.')\n",
    "except ComputeTargetException:\n",
    "    compute_config = AmlCompute.provisioning_configuration(vm_size='STANDARD_D2_V2',\n",
    "                                                           max_nodes=4)\n",
    "    compute_target = ComputeTarget.create(workspace, amlcompute_cluster_name, compute_config)\n",
    "\n",
    "compute_target.wait_for_completion(show_output=True, min_node_count = 1, timeout_in_minutes = 2)"
   ]
  },
  {
   "cell_type": "markdown",
   "metadata": {},
   "source": [
    "## AutoML Configuration\n",
    "\n",
    "TODO: Explain why you chose the automl settings and cofiguration you used below."
   ]
  },
  {
   "cell_type": "code",
   "execution_count": 7,
   "metadata": {
    "collapsed": false,
    "gather": {
     "logged": 1616782419367
    },
    "jupyter": {
     "outputs_hidden": false,
     "source_hidden": false
    },
    "nteract": {
     "transient": {
      "deleting": false
     }
    }
   },
   "outputs": [],
   "source": [
    "automl_settings = {\n",
    "    \"n_cross_validations\": 2,\n",
    "    \"experiment_timeout_minutes\": 30,\n",
    "    \"max_concurrent_iterations\": 5,\n",
    "    \"primary_metric\" : 'AUC_weighted',\n",
    "    \"verbosity\": logging.INFO,\n",
    "}\n",
    "\n",
    "automl_config = AutoMLConfig(compute_target=compute_target,\n",
    "                             task = \"classification\",\n",
    "                             training_data=training_data,\n",
    "                             label_column_name=\"stroke\",   \n",
    "                             path = project_folder,\n",
    "                             enable_early_stopping= True,\n",
    "                             featurization= 'auto',\n",
    "                             debug_log = \"automl_errors.log\",\n",
    "                             **automl_settings\n",
    "                            )"
   ]
  },
  {
   "cell_type": "code",
   "execution_count": 8,
   "metadata": {
    "collapsed": false,
    "gather": {
     "logged": 1616783849165
    },
    "jupyter": {
     "outputs_hidden": false,
     "source_hidden": false
    },
    "nteract": {
     "transient": {
      "deleting": false
     }
    }
   },
   "outputs": [
    {
     "name": "stdout",
     "output_type": "stream",
     "text": [
      "Running on remote.\n",
      "No run_configuration provided, running on aml-cpu-cluster with default configuration\n",
      "Running on remote compute: aml-cpu-cluster\n",
      "Parent Run ID: AutoML_e1e37940-98de-4b0e-a305-48d874324c83\n",
      "\n",
      "Current status: FeaturesGeneration. Generating features for the dataset.\n",
      "Current status: DatasetBalancing. Performing class balancing sweeping\n",
      "Current status: DatasetCrossValidationSplit. Generating individually featurized CV splits.\n",
      "Current status: ModelSelection. Beginning model selection.\n",
      "\n",
      "****************************************************************************************************\n",
      "DATA GUARDRAILS: \n",
      "\n",
      "TYPE:         Class balancing detection\n",
      "STATUS:       ALERTED\n",
      "DESCRIPTION:  To decrease model bias, please cancel the current run and fix balancing problem.\n",
      "              Learn more about imbalanced data: https://aka.ms/AutomatedMLImbalancedData\n",
      "DETAILS:      Imbalanced data can lead to a falsely perceived positive effect of a model's accuracy because the input data has bias towards one class.\n",
      "+---------------------------------+---------------------------------+--------------------------------------+\n",
      "|Size of the smallest class       |Name/Label of the smallest class |Number of samples in the training data|\n",
      "+=================================+=================================+======================================+\n",
      "|174                              |1                                |3577                                  |\n",
      "+---------------------------------+---------------------------------+--------------------------------------+\n",
      "\n",
      "****************************************************************************************************\n",
      "\n",
      "TYPE:         Missing feature values imputation\n",
      "STATUS:       PASSED\n",
      "DESCRIPTION:  No feature missing values were detected in the training data.\n",
      "              Learn more about missing value imputation: https://aka.ms/AutomatedMLFeaturization\n",
      "\n",
      "****************************************************************************************************\n",
      "\n",
      "TYPE:         High cardinality feature detection\n",
      "STATUS:       PASSED\n",
      "DESCRIPTION:  Your inputs were analyzed, and no high cardinality features were detected.\n",
      "              Learn more about high cardinality feature handling: https://aka.ms/AutomatedMLFeaturization\n",
      "\n",
      "****************************************************************************************************\n",
      "\n",
      "****************************************************************************************************\n",
      "ITERATION: The iteration being evaluated.\n",
      "PIPELINE: A summary description of the pipeline being evaluated.\n",
      "DURATION: Time taken for the current iteration.\n",
      "METRIC: The result of computing score on the fitted pipeline.\n",
      "BEST: The best observed score thus far.\n",
      "****************************************************************************************************\n",
      "\n",
      " ITERATION   PIPELINE                                       DURATION      METRIC      BEST\n",
      "         3   MaxAbsScaler RandomForest                      0:00:39       0.8062    0.8062\n",
      "         4   MaxAbsScaler RandomForest                      0:00:50       0.8123    0.8123\n",
      "         0   MaxAbsScaler LightGBM                          0:00:43       0.7814    0.8123\n",
      "         2   MaxAbsScaler RandomForest                      0:00:46       0.8149    0.8149\n",
      "         1   MaxAbsScaler XGBoostClassifier                 0:00:46       0.7910    0.8149\n",
      "         5   MaxAbsScaler ExtremeRandomTrees                0:00:44       0.8232    0.8232\n",
      "         6   MaxAbsScaler ExtremeRandomTrees                0:00:48       0.7950    0.8232\n",
      "         7   MaxAbsScaler ExtremeRandomTrees                0:00:44       0.8152    0.8232\n",
      "         8   MaxAbsScaler RandomForest                      0:00:46       0.7798    0.8232\n",
      "         9   MaxAbsScaler ExtremeRandomTrees                0:00:40       0.7343    0.8232\n",
      "        10   MaxAbsScaler RandomForest                      0:00:45       0.7755    0.8232\n",
      "        11   MaxAbsScaler RandomForest                      0:00:45       0.7569    0.8232\n",
      "        12   MaxAbsScaler RandomForest                      0:00:40       0.7423    0.8232\n",
      "        13   StandardScalerWrapper XGBoostClassifier        0:00:41       0.8163    0.8232\n",
      "        14   MaxAbsScaler RandomForest                      0:00:50       0.8145    0.8232\n",
      "        15   StandardScalerWrapper ExtremeRandomTrees       0:00:40       0.8311    0.8311\n",
      "        16   MaxAbsScaler ExtremeRandomTrees                0:00:48       0.8139    0.8311\n",
      "        17   MaxAbsScaler ExtremeRandomTrees                0:00:43       0.8002    0.8311\n",
      "        18   MaxAbsScaler RandomForest                      0:00:44       0.7804    0.8311\n",
      "        20   SparseNormalizer XGBoostClassifier             0:00:37       0.7475    0.8311\n",
      "        21   StandardScalerWrapper XGBoostClassifier        0:00:45       0.8083    0.8311\n",
      "        19   StandardScalerWrapper XGBoostClassifier        0:01:00       0.8017    0.8311\n",
      "        22   StandardScalerWrapper XGBoostClassifier        0:00:54       0.7925    0.8311\n",
      "        23   MaxAbsScaler LightGBM                          0:00:49       0.8037    0.8311\n",
      "        24   MaxAbsScaler LightGBM                          0:00:58       0.8100    0.8311\n",
      "        26   MaxAbsScaler LightGBM                          0:00:44       0.8108    0.8311\n",
      "        25   StandardScalerWrapper ExtremeRandomTrees       0:00:48       0.5000    0.8311\n",
      "        27   StandardScalerWrapper RandomForest             0:00:42       0.8165    0.8311\n",
      "        28   MaxAbsScaler ExtremeRandomTrees                0:00:38       0.8174    0.8311\n",
      "        29   MaxAbsScaler RandomForest                      0:00:42       0.7960    0.8311\n",
      "        30   TruncatedSVDWrapper ExtremeRandomTrees         0:00:58       0.6540    0.8311\n",
      "        31   SparseNormalizer LightGBM                      0:00:45       0.7155    0.8311\n",
      "        32   TruncatedSVDWrapper XGBoostClassifier          0:00:44       0.7697    0.8311\n",
      "        33   TruncatedSVDWrapper XGBoostClassifier          0:00:42       0.7648    0.8311\n",
      "        34   TruncatedSVDWrapper XGBoostClassifier          0:00:33       0.7837    0.8311\n",
      "        35   TruncatedSVDWrapper ExtremeRandomTrees         0:00:28       0.4851    0.8311\n",
      "        36                                                  0:00:42          nan    0.8311\n",
      "        37                                                  0:00:33          nan    0.8311\n",
      "        38    VotingEnsemble                                0:01:14       0.8396    0.8396\n",
      "        39    StackEnsemble                                 0:01:34       0.8359    0.8396\n"
     ]
    }
   ],
   "source": [
    "# Experiment \n",
    "remote_run = experiment.submit(automl_config, show_output=True)"
   ]
  },
  {
   "cell_type": "markdown",
   "metadata": {},
   "source": [
    "## Run Details\n",
    "\n",
    "OPTIONAL: Write about the different models trained and their performance. Why do you think some models did better than others?\n",
    "\n",
    "TODO: In the cell below, use the `RunDetails` widget to show the different experiments."
   ]
  },
  {
   "cell_type": "code",
   "execution_count": 9,
   "metadata": {
    "collapsed": false,
    "gather": {
     "logged": 1616783898499
    },
    "jupyter": {
     "outputs_hidden": false,
     "source_hidden": false
    },
    "nteract": {
     "transient": {
      "deleting": false
     }
    }
   },
   "outputs": [
    {
     "data": {
      "application/vnd.jupyter.widget-view+json": {
       "model_id": "2e67b35fae144c20866b0639e8030e18",
       "version_major": 2,
       "version_minor": 0
      },
      "text/plain": [
       "_AutoMLWidget(widget_settings={'childWidgetDisplay': 'popup', 'send_telemetry': False, 'log_level': 'INFO', 's…"
      ]
     },
     "metadata": {},
     "output_type": "display_data"
    },
    {
     "data": {
      "application/aml.mini.widget.v1": "{\"status\": \"Completed\", \"workbench_run_details_uri\": \"https://ml.azure.com/experiments/aml-stroke-experiment/runs/AutoML_e1e37940-98de-4b0e-a305-48d874324c83?wsid=/subscriptions/12cd141f-7e8d-40f4-ba6e-35b327775bd4/resourcegroups/ska_resources/workspaces/capstone_project_workspace\", \"run_id\": \"AutoML_e1e37940-98de-4b0e-a305-48d874324c83\", \"run_properties\": {\"run_id\": \"AutoML_e1e37940-98de-4b0e-a305-48d874324c83\", \"created_utc\": \"2021-03-30T10:21:49.780577Z\", \"properties\": {\"num_iterations\": \"1000\", \"training_type\": \"TrainFull\", \"acquisition_function\": \"EI\", \"primary_metric\": \"AUC_weighted\", \"train_split\": \"0\", \"acquisition_parameter\": \"0\", \"num_cross_validation\": \"2\", \"target\": \"aml-cpu-cluster\", \"AMLSettingsJsonString\": \"{\\\"path\\\":null,\\\"name\\\":\\\"aml-stroke-experiment\\\",\\\"subscription_id\\\":\\\"12cd141f-7e8d-40f4-ba6e-35b327775bd4\\\",\\\"resource_group\\\":\\\"ska_resources\\\",\\\"workspace_name\\\":\\\"capstone_project_workspace\\\",\\\"region\\\":\\\"eastus\\\",\\\"compute_target\\\":\\\"aml-cpu-cluster\\\",\\\"spark_service\\\":null,\\\"azure_service\\\":\\\"remote\\\",\\\"many_models\\\":false,\\\"pipeline_fetch_max_batch_size\\\":1,\\\"enable_batch_run\\\":false,\\\"iterations\\\":1000,\\\"primary_metric\\\":\\\"AUC_weighted\\\",\\\"task_type\\\":\\\"classification\\\",\\\"data_script\\\":null,\\\"validation_size\\\":0.0,\\\"n_cross_validations\\\":2,\\\"y_min\\\":null,\\\"y_max\\\":null,\\\"num_classes\\\":null,\\\"featurization\\\":\\\"auto\\\",\\\"_ignore_package_version_incompatibilities\\\":false,\\\"is_timeseries\\\":false,\\\"max_cores_per_iteration\\\":1,\\\"max_concurrent_iterations\\\":5,\\\"iteration_timeout_minutes\\\":null,\\\"mem_in_mb\\\":null,\\\"enforce_time_on_windows\\\":false,\\\"experiment_timeout_minutes\\\":30,\\\"experiment_exit_score\\\":null,\\\"whitelist_models\\\":null,\\\"blacklist_algos\\\":[\\\"TensorFlowLinearClassifier\\\",\\\"TensorFlowDNN\\\"],\\\"supported_models\\\":[\\\"XGBoostClassifier\\\",\\\"DecisionTree\\\",\\\"BernoulliNaiveBayes\\\",\\\"LogisticRegression\\\",\\\"MultinomialNaiveBayes\\\",\\\"LightGBM\\\",\\\"AveragedPerceptronClassifier\\\",\\\"ExtremeRandomTrees\\\",\\\"GradientBoosting\\\",\\\"LinearSVM\\\",\\\"TensorFlowDNN\\\",\\\"SGD\\\",\\\"KNN\\\",\\\"RandomForest\\\",\\\"SVM\\\",\\\"TensorFlowLinearClassifier\\\"],\\\"private_models\\\":[],\\\"auto_blacklist\\\":true,\\\"blacklist_samples_reached\\\":false,\\\"exclude_nan_labels\\\":true,\\\"verbosity\\\":20,\\\"_debug_log\\\":\\\"azureml_automl.log\\\",\\\"show_warnings\\\":false,\\\"model_explainability\\\":true,\\\"service_url\\\":null,\\\"sdk_url\\\":null,\\\"sdk_packages\\\":null,\\\"enable_onnx_compatible_models\\\":false,\\\"enable_split_onnx_featurizer_estimator_models\\\":false,\\\"vm_type\\\":\\\"STANDARD_D2_V2\\\",\\\"telemetry_verbosity\\\":20,\\\"send_telemetry\\\":true,\\\"enable_dnn\\\":false,\\\"scenario\\\":\\\"SDK-1.13.0\\\",\\\"environment_label\\\":null,\\\"save_mlflow\\\":false,\\\"force_text_dnn\\\":false,\\\"enable_feature_sweeping\\\":true,\\\"enable_early_stopping\\\":true,\\\"early_stopping_n_iters\\\":10,\\\"metrics\\\":null,\\\"enable_metric_confidence\\\":false,\\\"enable_ensembling\\\":true,\\\"enable_stack_ensembling\\\":true,\\\"ensemble_iterations\\\":15,\\\"enable_tf\\\":false,\\\"enable_subsampling\\\":null,\\\"subsample_seed\\\":null,\\\"enable_nimbusml\\\":false,\\\"enable_streaming\\\":false,\\\"force_streaming\\\":false,\\\"track_child_runs\\\":true,\\\"allowed_private_models\\\":[],\\\"label_column_name\\\":\\\"stroke\\\",\\\"weight_column_name\\\":null,\\\"cv_split_column_names\\\":null,\\\"enable_local_managed\\\":false,\\\"_local_managed_run_id\\\":null,\\\"cost_mode\\\":1,\\\"lag_length\\\":0,\\\"metric_operation\\\":\\\"maximize\\\",\\\"preprocess\\\":true}\", \"DataPrepJsonString\": \"{\\\\\\\"training_data\\\\\\\": \\\\\\\"{\\\\\\\\\\\\\\\"blocks\\\\\\\\\\\\\\\": [{\\\\\\\\\\\\\\\"id\\\\\\\\\\\\\\\": \\\\\\\\\\\\\\\"8257c6bd-bdf0-4dad-a474-ad11b30fe8d9\\\\\\\\\\\\\\\", \\\\\\\\\\\\\\\"type\\\\\\\\\\\\\\\": \\\\\\\\\\\\\\\"Microsoft.DPrep.GetDatastoreFilesBlock\\\\\\\\\\\\\\\", \\\\\\\\\\\\\\\"arguments\\\\\\\\\\\\\\\": {\\\\\\\\\\\\\\\"datastores\\\\\\\\\\\\\\\": [{\\\\\\\\\\\\\\\"datastoreName\\\\\\\\\\\\\\\": \\\\\\\\\\\\\\\"workspaceblobstore\\\\\\\\\\\\\\\", \\\\\\\\\\\\\\\"path\\\\\\\\\\\\\\\": \\\\\\\\\\\\\\\"classified/dataset.csv\\\\\\\\\\\\\\\", \\\\\\\\\\\\\\\"resourceGroup\\\\\\\\\\\\\\\": \\\\\\\\\\\\\\\"ska_resources\\\\\\\\\\\\\\\", \\\\\\\\\\\\\\\"subscription\\\\\\\\\\\\\\\": \\\\\\\\\\\\\\\"12cd141f-7e8d-40f4-ba6e-35b327775bd4\\\\\\\\\\\\\\\", \\\\\\\\\\\\\\\"workspaceName\\\\\\\\\\\\\\\": \\\\\\\\\\\\\\\"capstone_project_workspace\\\\\\\\\\\\\\\"}]}, \\\\\\\\\\\\\\\"localData\\\\\\\\\\\\\\\": {}, \\\\\\\\\\\\\\\"isEnabled\\\\\\\\\\\\\\\": true, \\\\\\\\\\\\\\\"name\\\\\\\\\\\\\\\": null, \\\\\\\\\\\\\\\"annotation\\\\\\\\\\\\\\\": null}, {\\\\\\\\\\\\\\\"id\\\\\\\\\\\\\\\": \\\\\\\\\\\\\\\"f6cb6025-e732-4436-9291-659151cd58be\\\\\\\\\\\\\\\", \\\\\\\\\\\\\\\"type\\\\\\\\\\\\\\\": \\\\\\\\\\\\\\\"Microsoft.DPrep.ParseDelimitedBlock\\\\\\\\\\\\\\\", \\\\\\\\\\\\\\\"arguments\\\\\\\\\\\\\\\": {\\\\\\\\\\\\\\\"columnHeadersMode\\\\\\\\\\\\\\\": 3, \\\\\\\\\\\\\\\"fileEncoding\\\\\\\\\\\\\\\": 0, \\\\\\\\\\\\\\\"handleQuotedLineBreaks\\\\\\\\\\\\\\\": false, \\\\\\\\\\\\\\\"preview\\\\\\\\\\\\\\\": false, \\\\\\\\\\\\\\\"separator\\\\\\\\\\\\\\\": \\\\\\\\\\\\\\\",\\\\\\\\\\\\\\\", \\\\\\\\\\\\\\\"skipRows\\\\\\\\\\\\\\\": 0, \\\\\\\\\\\\\\\"skipRowsMode\\\\\\\\\\\\\\\": 0}, \\\\\\\\\\\\\\\"localData\\\\\\\\\\\\\\\": {}, \\\\\\\\\\\\\\\"isEnabled\\\\\\\\\\\\\\\": true, \\\\\\\\\\\\\\\"name\\\\\\\\\\\\\\\": null, \\\\\\\\\\\\\\\"annotation\\\\\\\\\\\\\\\": null}, {\\\\\\\\\\\\\\\"id\\\\\\\\\\\\\\\": \\\\\\\\\\\\\\\"ac13b5f5-8991-49d4-a644-5ce443eb0ad2\\\\\\\\\\\\\\\", \\\\\\\\\\\\\\\"type\\\\\\\\\\\\\\\": \\\\\\\\\\\\\\\"Microsoft.DPrep.DropColumnsBlock\\\\\\\\\\\\\\\", \\\\\\\\\\\\\\\"arguments\\\\\\\\\\\\\\\": {\\\\\\\\\\\\\\\"columns\\\\\\\\\\\\\\\": {\\\\\\\\\\\\\\\"type\\\\\\\\\\\\\\\": 0, \\\\\\\\\\\\\\\"details\\\\\\\\\\\\\\\": {\\\\\\\\\\\\\\\"selectedColumns\\\\\\\\\\\\\\\": [\\\\\\\\\\\\\\\"Path\\\\\\\\\\\\\\\"]}}}, \\\\\\\\\\\\\\\"localData\\\\\\\\\\\\\\\": {}, \\\\\\\\\\\\\\\"isEnabled\\\\\\\\\\\\\\\": true, \\\\\\\\\\\\\\\"name\\\\\\\\\\\\\\\": null, \\\\\\\\\\\\\\\"annotation\\\\\\\\\\\\\\\": null}, {\\\\\\\\\\\\\\\"id\\\\\\\\\\\\\\\": \\\\\\\\\\\\\\\"807f0f87-5b4a-4ee8-af0b-a34fcbaaacb6\\\\\\\\\\\\\\\", \\\\\\\\\\\\\\\"type\\\\\\\\\\\\\\\": \\\\\\\\\\\\\\\"Microsoft.DPrep.SetColumnTypesBlock\\\\\\\\\\\\\\\", \\\\\\\\\\\\\\\"arguments\\\\\\\\\\\\\\\": {\\\\\\\\\\\\\\\"columnConversion\\\\\\\\\\\\\\\": [{\\\\\\\\\\\\\\\"column\\\\\\\\\\\\\\\": {\\\\\\\\\\\\\\\"type\\\\\\\\\\\\\\\": 2, \\\\\\\\\\\\\\\"details\\\\\\\\\\\\\\\": {\\\\\\\\\\\\\\\"selectedColumn\\\\\\\\\\\\\\\": \\\\\\\\\\\\\\\"id\\\\\\\\\\\\\\\"}}, \\\\\\\\\\\\\\\"typeProperty\\\\\\\\\\\\\\\": 2}, {\\\\\\\\\\\\\\\"column\\\\\\\\\\\\\\\": {\\\\\\\\\\\\\\\"type\\\\\\\\\\\\\\\": 2, \\\\\\\\\\\\\\\"details\\\\\\\\\\\\\\\": {\\\\\\\\\\\\\\\"selectedColumn\\\\\\\\\\\\\\\": \\\\\\\\\\\\\\\"gender\\\\\\\\\\\\\\\"}}, \\\\\\\\\\\\\\\"typeProperty\\\\\\\\\\\\\\\": 2}, {\\\\\\\\\\\\\\\"column\\\\\\\\\\\\\\\": {\\\\\\\\\\\\\\\"type\\\\\\\\\\\\\\\": 2, \\\\\\\\\\\\\\\"details\\\\\\\\\\\\\\\": {\\\\\\\\\\\\\\\"selectedColumn\\\\\\\\\\\\\\\": \\\\\\\\\\\\\\\"age\\\\\\\\\\\\\\\"}}, \\\\\\\\\\\\\\\"typeProperty\\\\\\\\\\\\\\\": 3}, {\\\\\\\\\\\\\\\"column\\\\\\\\\\\\\\\": {\\\\\\\\\\\\\\\"type\\\\\\\\\\\\\\\": 2, \\\\\\\\\\\\\\\"details\\\\\\\\\\\\\\\": {\\\\\\\\\\\\\\\"selectedColumn\\\\\\\\\\\\\\\": \\\\\\\\\\\\\\\"hypertension\\\\\\\\\\\\\\\"}}, \\\\\\\\\\\\\\\"typeProperty\\\\\\\\\\\\\\\": 2}, {\\\\\\\\\\\\\\\"column\\\\\\\\\\\\\\\": {\\\\\\\\\\\\\\\"type\\\\\\\\\\\\\\\": 2, \\\\\\\\\\\\\\\"details\\\\\\\\\\\\\\\": {\\\\\\\\\\\\\\\"selectedColumn\\\\\\\\\\\\\\\": \\\\\\\\\\\\\\\"heart_disease\\\\\\\\\\\\\\\"}}, \\\\\\\\\\\\\\\"typeProperty\\\\\\\\\\\\\\\": 2}, {\\\\\\\\\\\\\\\"column\\\\\\\\\\\\\\\": {\\\\\\\\\\\\\\\"type\\\\\\\\\\\\\\\": 2, \\\\\\\\\\\\\\\"details\\\\\\\\\\\\\\\": {\\\\\\\\\\\\\\\"selectedColumn\\\\\\\\\\\\\\\": \\\\\\\\\\\\\\\"ever_married\\\\\\\\\\\\\\\"}}, \\\\\\\\\\\\\\\"typeProperty\\\\\\\\\\\\\\\": 1}, {\\\\\\\\\\\\\\\"column\\\\\\\\\\\\\\\": {\\\\\\\\\\\\\\\"type\\\\\\\\\\\\\\\": 2, \\\\\\\\\\\\\\\"details\\\\\\\\\\\\\\\": {\\\\\\\\\\\\\\\"selectedColumn\\\\\\\\\\\\\\\": \\\\\\\\\\\\\\\"work_type\\\\\\\\\\\\\\\"}}, \\\\\\\\\\\\\\\"typeProperty\\\\\\\\\\\\\\\": 2}, {\\\\\\\\\\\\\\\"column\\\\\\\\\\\\\\\": {\\\\\\\\\\\\\\\"type\\\\\\\\\\\\\\\": 2, \\\\\\\\\\\\\\\"details\\\\\\\\\\\\\\\": {\\\\\\\\\\\\\\\"selectedColumn\\\\\\\\\\\\\\\": \\\\\\\\\\\\\\\"Residence_type\\\\\\\\\\\\\\\"}}, \\\\\\\\\\\\\\\"typeProperty\\\\\\\\\\\\\\\": 2}, {\\\\\\\\\\\\\\\"column\\\\\\\\\\\\\\\": {\\\\\\\\\\\\\\\"type\\\\\\\\\\\\\\\": 2, \\\\\\\\\\\\\\\"details\\\\\\\\\\\\\\\": {\\\\\\\\\\\\\\\"selectedColumn\\\\\\\\\\\\\\\": \\\\\\\\\\\\\\\"avg_glucose_level\\\\\\\\\\\\\\\"}}, \\\\\\\\\\\\\\\"typeProperty\\\\\\\\\\\\\\\": 3}, {\\\\\\\\\\\\\\\"column\\\\\\\\\\\\\\\": {\\\\\\\\\\\\\\\"type\\\\\\\\\\\\\\\": 2, \\\\\\\\\\\\\\\"details\\\\\\\\\\\\\\\": {\\\\\\\\\\\\\\\"selectedColumn\\\\\\\\\\\\\\\": \\\\\\\\\\\\\\\"bmi\\\\\\\\\\\\\\\"}}, \\\\\\\\\\\\\\\"typeProperty\\\\\\\\\\\\\\\": 3}, {\\\\\\\\\\\\\\\"column\\\\\\\\\\\\\\\": {\\\\\\\\\\\\\\\"type\\\\\\\\\\\\\\\": 2, \\\\\\\\\\\\\\\"details\\\\\\\\\\\\\\\": {\\\\\\\\\\\\\\\"selectedColumn\\\\\\\\\\\\\\\": \\\\\\\\\\\\\\\"smoking_status\\\\\\\\\\\\\\\"}}, \\\\\\\\\\\\\\\"typeProperty\\\\\\\\\\\\\\\": 2}, {\\\\\\\\\\\\\\\"column\\\\\\\\\\\\\\\": {\\\\\\\\\\\\\\\"type\\\\\\\\\\\\\\\": 2, \\\\\\\\\\\\\\\"details\\\\\\\\\\\\\\\": {\\\\\\\\\\\\\\\"selectedColumn\\\\\\\\\\\\\\\": \\\\\\\\\\\\\\\"stroke\\\\\\\\\\\\\\\"}}, \\\\\\\\\\\\\\\"typeProperty\\\\\\\\\\\\\\\": 2}]}, \\\\\\\\\\\\\\\"localData\\\\\\\\\\\\\\\": {}, \\\\\\\\\\\\\\\"isEnabled\\\\\\\\\\\\\\\": true, \\\\\\\\\\\\\\\"name\\\\\\\\\\\\\\\": null, \\\\\\\\\\\\\\\"annotation\\\\\\\\\\\\\\\": null}], \\\\\\\\\\\\\\\"inspectors\\\\\\\\\\\\\\\": [], \\\\\\\\\\\\\\\"meta\\\\\\\\\\\\\\\": {\\\\\\\\\\\\\\\"savedDatasetId\\\\\\\\\\\\\\\": \\\\\\\\\\\\\\\"6bf5faee-8433-4dae-be4e-8ec9b410d058\\\\\\\\\\\\\\\", \\\\\\\\\\\\\\\"datasetType\\\\\\\\\\\\\\\": \\\\\\\\\\\\\\\"tabular\\\\\\\\\\\\\\\", \\\\\\\\\\\\\\\"subscriptionId\\\\\\\\\\\\\\\": \\\\\\\\\\\\\\\"12cd141f-7e8d-40f4-ba6e-35b327775bd4\\\\\\\\\\\\\\\", \\\\\\\\\\\\\\\"workspaceId\\\\\\\\\\\\\\\": \\\\\\\\\\\\\\\"89d491f1-2603-401d-9a8e-87b3aa451d3a\\\\\\\\\\\\\\\", \\\\\\\\\\\\\\\"workspaceLocation\\\\\\\\\\\\\\\": \\\\\\\\\\\\\\\"eastus\\\\\\\\\\\\\\\", \\\\\\\\\\\\\\\"partition_keys\\\\\\\\\\\\\\\": \\\\\\\\\\\\\\\"true\\\\\\\\\\\\\\\"}}\\\\\\\", \\\\\\\"activities\\\\\\\": 0}\", \"EnableSubsampling\": null, \"runTemplate\": \"AutoML\", \"azureml.runsource\": \"automl\", \"display_task_type\": \"classification\", \"dependencies_versions\": \"{\\\"azureml-widgets\\\": \\\"1.24.0\\\", \\\"azureml-train\\\": \\\"1.24.0\\\", \\\"azureml-train-restclients-hyperdrive\\\": \\\"1.24.0\\\", \\\"azureml-train-core\\\": \\\"1.24.0\\\", \\\"azureml-train-automl\\\": \\\"1.24.0\\\", \\\"azureml-train-automl-runtime\\\": \\\"1.24.0\\\", \\\"azureml-train-automl-client\\\": \\\"1.24.0\\\", \\\"azureml-tensorboard\\\": \\\"1.24.0\\\", \\\"azureml-telemetry\\\": \\\"1.24.0\\\", \\\"azureml-sdk\\\": \\\"1.24.0\\\", \\\"azureml-samples\\\": \\\"0+unknown\\\", \\\"azureml-pipeline\\\": \\\"1.24.0\\\", \\\"azureml-pipeline-steps\\\": \\\"1.24.0\\\", \\\"azureml-pipeline-core\\\": \\\"1.24.0\\\", \\\"azureml-opendatasets\\\": \\\"1.24.0\\\", \\\"azureml-model-management-sdk\\\": \\\"1.0.1b6.post1\\\", \\\"azureml-mlflow\\\": \\\"1.24.0\\\", \\\"azureml-interpret\\\": \\\"1.24.0\\\", \\\"azureml-explain-model\\\": \\\"1.24.0\\\", \\\"azureml-defaults\\\": \\\"1.24.0\\\", \\\"azureml-dataset-runtime\\\": \\\"1.24.0\\\", \\\"azureml-dataprep\\\": \\\"2.11.2\\\", \\\"azureml-dataprep-rslex\\\": \\\"1.9.1\\\", \\\"azureml-dataprep-native\\\": \\\"30.0.0\\\", \\\"azureml-datadrift\\\": \\\"1.24.0\\\", \\\"azureml-core\\\": \\\"1.24.0.post2\\\", \\\"azureml-contrib-services\\\": \\\"1.24.0\\\", \\\"azureml-contrib-server\\\": \\\"1.24.0\\\", \\\"azureml-contrib-reinforcementlearning\\\": \\\"1.24.0\\\", \\\"azureml-contrib-pipeline-steps\\\": \\\"1.24.0\\\", \\\"azureml-contrib-notebook\\\": \\\"1.24.0\\\", \\\"azureml-contrib-gbdt\\\": \\\"1.24.0\\\", \\\"azureml-contrib-fairness\\\": \\\"1.24.0\\\", \\\"azureml-contrib-dataset\\\": \\\"1.24.0\\\", \\\"azureml-cli-common\\\": \\\"1.24.0\\\", \\\"azureml-automl-runtime\\\": \\\"1.24.0\\\", \\\"azureml-automl-dnn-nlp\\\": \\\"1.24.0\\\", \\\"azureml-automl-core\\\": \\\"1.24.0\\\", \\\"azureml-accel-models\\\": \\\"1.24.0\\\"}\", \"_aml_system_scenario_identification\": \"Remote.Parent\", \"ClientType\": \"SDK\", \"environment_cpu_name\": \"AzureML-AutoML\", \"environment_cpu_label\": \"prod\", \"environment_gpu_name\": \"AzureML-AutoML-GPU\", \"environment_gpu_label\": \"prod\", \"root_attribution\": \"automl\", \"attribution\": \"AutoML\", \"Orchestrator\": \"AutoML\", \"CancelUri\": \"https://eastus.experiments.azureml.net/jasmine/v1.0/subscriptions/12cd141f-7e8d-40f4-ba6e-35b327775bd4/resourceGroups/ska_resources/providers/Microsoft.MachineLearningServices/workspaces/capstone_project_workspace/experimentids/5f36c50a-60bf-46fa-a67c-567445768bfa/cancel/AutoML_e1e37940-98de-4b0e-a305-48d874324c83\", \"ClientSdkVersion\": \"1.24.0\", \"snapshotId\": \"00000000-0000-0000-0000-000000000000\", \"SetupRunId\": \"AutoML_e1e37940-98de-4b0e-a305-48d874324c83_setup\", \"SetupRunContainerId\": \"dcid.AutoML_e1e37940-98de-4b0e-a305-48d874324c83_setup\", \"FeaturizationRunJsonPath\": \"featurizer_container.json\", \"FeaturizationRunId\": \"AutoML_e1e37940-98de-4b0e-a305-48d874324c83_featurize\", \"ProblemInfoJsonString\": \"{\\\"dataset_num_categorical\\\": 0, \\\"is_sparse\\\": true, \\\"subsampling\\\": false, \\\"dataset_classes\\\": 2, \\\"dataset_features\\\": 16, \\\"dataset_samples\\\": 3577, \\\"single_frequency_class_detected\\\": false}\", \"ModelExplainRunId\": \"AutoML_e1e37940-98de-4b0e-a305-48d874324c83_ModelExplain\"}, \"tags\": {\"model_explain_run\": \"best_run\", \"_aml_system_azureml.automlComponent\": \"AutoML\", \"pipeline_id\": \"\", \"score\": \"\", \"predicted_cost\": \"\", \"fit_time\": \"\", \"training_percent\": \"\", \"iteration\": \"\", \"run_preprocessor\": \"\", \"run_algorithm\": \"\", \"dynamic_whitelisting_iterations\": \"<25>;<30>;<35>;\", \"automl_best_child_run_id\": \"AutoML_e1e37940-98de-4b0e-a305-48d874324c83_38\", \"model_explain_best_run_child_id\": \"AutoML_e1e37940-98de-4b0e-a305-48d874324c83_38\"}, \"end_time_utc\": \"2021-03-30T10:44:58.839146Z\", \"status\": \"Completed\", \"log_files\": {}, \"log_groups\": [], \"run_duration\": \"0:23:09\", \"run_number\": \"345\", \"run_queued_details\": {\"status\": \"Completed\", \"details\": null}}, \"child_runs\": [{\"run_id\": \"AutoML_e1e37940-98de-4b0e-a305-48d874324c83_0\", \"run_number\": 360, \"metric\": null, \"status\": \"Completed\", \"run_type\": \"azureml.scriptrun\", \"training_percent\": \"100\", \"start_time\": \"2021-03-30T10:31:09.23453Z\", \"end_time\": \"2021-03-30T10:31:52.144225Z\", \"created_time\": \"2021-03-30T10:29:03.585108Z\", \"created_time_dt\": \"2021-03-30T10:29:03.585108Z\", \"duration\": \"0:02:48\", \"iteration\": \"0\", \"goal\": \"AUC_weighted_max\", \"run_name\": \"MaxAbsScaler, LightGBM\", \"run_properties\": \"copy=True\", \"primary_metric\": 0.78136927, \"best_metric\": 0.78136927}, {\"run_id\": \"AutoML_e1e37940-98de-4b0e-a305-48d874324c83_4\", \"run_number\": 361, \"metric\": null, \"status\": \"Completed\", \"run_type\": \"azureml.scriptrun\", \"training_percent\": \"100\", \"start_time\": \"2021-03-30T10:30:35.588895Z\", \"end_time\": \"2021-03-30T10:31:25.516118Z\", \"created_time\": \"2021-03-30T10:29:03.753027Z\", \"created_time_dt\": \"2021-03-30T10:29:03.753027Z\", \"duration\": \"0:02:21\", \"iteration\": \"4\", \"goal\": \"AUC_weighted_max\", \"run_name\": \"MaxAbsScaler, RandomForest\", \"run_properties\": \"copy=True\", \"primary_metric\": 0.8122966, \"best_metric\": 0.81486813}, {\"run_id\": \"AutoML_e1e37940-98de-4b0e-a305-48d874324c83_1\", \"run_number\": 362, \"metric\": null, \"status\": \"Completed\", \"run_type\": \"azureml.scriptrun\", \"training_percent\": \"100\", \"start_time\": \"2021-03-30T10:31:43.51306Z\", \"end_time\": \"2021-03-30T10:32:29.294952Z\", \"created_time\": \"2021-03-30T10:29:03.77932Z\", \"created_time_dt\": \"2021-03-30T10:29:03.77932Z\", \"duration\": \"0:03:25\", \"iteration\": \"1\", \"goal\": \"AUC_weighted_max\", \"run_name\": \"MaxAbsScaler, XGBoostClassifier\", \"run_properties\": \"copy=True\", \"primary_metric\": 0.79098603, \"best_metric\": 0.79098603}, {\"run_id\": \"AutoML_e1e37940-98de-4b0e-a305-48d874324c83_3\", \"run_number\": 363, \"metric\": null, \"status\": \"Completed\", \"run_type\": \"azureml.scriptrun\", \"training_percent\": \"100\", \"start_time\": \"2021-03-30T10:30:16.347715Z\", \"end_time\": \"2021-03-30T10:30:54.916202Z\", \"created_time\": \"2021-03-30T10:29:03.793066Z\", \"created_time_dt\": \"2021-03-30T10:29:03.793066Z\", \"duration\": \"0:01:51\", \"iteration\": \"3\", \"goal\": \"AUC_weighted_max\", \"run_name\": \"MaxAbsScaler, RandomForest\", \"run_properties\": \"copy=True\", \"primary_metric\": 0.80618156, \"best_metric\": 0.81486813}, {\"run_id\": \"AutoML_e1e37940-98de-4b0e-a305-48d874324c83_2\", \"run_number\": 364, \"metric\": null, \"status\": \"Completed\", \"run_type\": \"azureml.scriptrun\", \"training_percent\": \"100\", \"start_time\": \"2021-03-30T10:31:15.752663Z\", \"end_time\": \"2021-03-30T10:32:01.766072Z\", \"created_time\": \"2021-03-30T10:29:04.254746Z\", \"created_time_dt\": \"2021-03-30T10:29:04.254746Z\", \"duration\": \"0:02:57\", \"iteration\": \"2\", \"goal\": \"AUC_weighted_max\", \"run_name\": \"MaxAbsScaler, RandomForest\", \"run_properties\": \"copy=True\", \"primary_metric\": 0.81486813, \"best_metric\": 0.81486813}, {\"run_id\": \"AutoML_e1e37940-98de-4b0e-a305-48d874324c83_5\", \"run_number\": 370, \"metric\": null, \"status\": \"Completed\", \"run_type\": \"azureml.scriptrun\", \"training_percent\": \"100\", \"start_time\": \"2021-03-30T10:32:16.657165Z\", \"end_time\": \"2021-03-30T10:33:00.644476Z\", \"created_time\": \"2021-03-30T10:30:58.657184Z\", \"created_time_dt\": \"2021-03-30T10:30:58.657184Z\", \"duration\": \"0:02:01\", \"iteration\": \"5\", \"goal\": \"AUC_weighted_max\", \"run_name\": \"MaxAbsScaler, ExtremeRandomTrees\", \"run_properties\": \"copy=True\", \"primary_metric\": 0.82318031, \"best_metric\": 0.82318031}, {\"run_id\": \"AutoML_e1e37940-98de-4b0e-a305-48d874324c83_6\", \"run_number\": 371, \"metric\": null, \"status\": \"Completed\", \"run_type\": \"azureml.scriptrun\", \"training_percent\": \"100\", \"start_time\": \"2021-03-30T10:32:21.482962Z\", \"end_time\": \"2021-03-30T10:33:09.602465Z\", \"created_time\": \"2021-03-30T10:31:29.721764Z\", \"created_time_dt\": \"2021-03-30T10:31:29.721764Z\", \"duration\": \"0:01:39\", \"iteration\": \"6\", \"goal\": \"AUC_weighted_max\", \"run_name\": \"MaxAbsScaler, ExtremeRandomTrees\", \"run_properties\": \"copy=True\", \"primary_metric\": 0.79504406, \"best_metric\": 0.82318031}, {\"run_id\": \"AutoML_e1e37940-98de-4b0e-a305-48d874324c83_7\", \"run_number\": 377, \"metric\": null, \"status\": \"Completed\", \"run_type\": \"azureml.scriptrun\", \"training_percent\": \"100\", \"start_time\": \"2021-03-30T10:33:05.245161Z\", \"end_time\": \"2021-03-30T10:33:49.281741Z\", \"created_time\": \"2021-03-30T10:31:56.122753Z\", \"created_time_dt\": \"2021-03-30T10:31:56.122753Z\", \"duration\": \"0:01:53\", \"iteration\": \"7\", \"goal\": \"AUC_weighted_max\", \"run_name\": \"MaxAbsScaler, ExtremeRandomTrees\", \"run_properties\": \"copy=True\", \"primary_metric\": 0.81518965, \"best_metric\": 0.82318031}, {\"run_id\": \"AutoML_e1e37940-98de-4b0e-a305-48d874324c83_8\", \"run_number\": 378, \"metric\": null, \"status\": \"Completed\", \"run_type\": \"azureml.scriptrun\", \"training_percent\": \"100\", \"start_time\": \"2021-03-30T10:33:15.630719Z\", \"end_time\": \"2021-03-30T10:34:01.594385Z\", \"created_time\": \"2021-03-30T10:32:05.724474Z\", \"created_time_dt\": \"2021-03-30T10:32:05.724474Z\", \"duration\": \"0:01:55\", \"iteration\": \"8\", \"goal\": \"AUC_weighted_max\", \"run_name\": \"MaxAbsScaler, RandomForest\", \"run_properties\": \"copy=True\", \"primary_metric\": 0.77978724, \"best_metric\": 0.82318031}, {\"run_id\": \"AutoML_e1e37940-98de-4b0e-a305-48d874324c83_9\", \"run_number\": 379, \"metric\": null, \"status\": \"Completed\", \"run_type\": \"azureml.scriptrun\", \"training_percent\": \"100\", \"start_time\": \"2021-03-30T10:33:22.058017Z\", \"end_time\": \"2021-03-30T10:34:01.745134Z\", \"created_time\": \"2021-03-30T10:32:33.37157Z\", \"created_time_dt\": \"2021-03-30T10:32:33.37157Z\", \"duration\": \"0:01:28\", \"iteration\": \"9\", \"goal\": \"AUC_weighted_max\", \"run_name\": \"MaxAbsScaler, ExtremeRandomTrees\", \"run_properties\": \"copy=True\", \"primary_metric\": 0.73427312, \"best_metric\": 0.82318031}, {\"run_id\": \"AutoML_e1e37940-98de-4b0e-a305-48d874324c83_10\", \"run_number\": 380, \"metric\": null, \"status\": \"Completed\", \"run_type\": \"azureml.scriptrun\", \"training_percent\": \"100\", \"start_time\": \"2021-03-30T10:34:03.314856Z\", \"end_time\": \"2021-03-30T10:34:48.305478Z\", \"created_time\": \"2021-03-30T10:33:06.461284Z\", \"created_time_dt\": \"2021-03-30T10:33:06.461284Z\", \"duration\": \"0:01:41\", \"iteration\": \"10\", \"goal\": \"AUC_weighted_max\", \"run_name\": \"MaxAbsScaler, RandomForest\", \"run_properties\": \"copy=True\", \"primary_metric\": 0.7754859, \"best_metric\": 0.82318031}, {\"run_id\": \"AutoML_e1e37940-98de-4b0e-a305-48d874324c83_11\", \"run_number\": 381, \"metric\": null, \"status\": \"Completed\", \"run_type\": \"azureml.scriptrun\", \"training_percent\": \"100\", \"start_time\": \"2021-03-30T10:34:15.332403Z\", \"end_time\": \"2021-03-30T10:35:00.34119Z\", \"created_time\": \"2021-03-30T10:33:17.042028Z\", \"created_time_dt\": \"2021-03-30T10:33:17.042028Z\", \"duration\": \"0:01:43\", \"iteration\": \"11\", \"goal\": \"AUC_weighted_max\", \"run_name\": \"MaxAbsScaler, RandomForest\", \"run_properties\": \"copy=True\", \"primary_metric\": 0.75690806, \"best_metric\": 0.82318031}, {\"run_id\": \"AutoML_e1e37940-98de-4b0e-a305-48d874324c83_12\", \"run_number\": 382, \"metric\": null, \"status\": \"Completed\", \"run_type\": \"azureml.scriptrun\", \"training_percent\": \"100\", \"start_time\": \"2021-03-30T10:34:19.148123Z\", \"end_time\": \"2021-03-30T10:34:59.08746Z\", \"created_time\": \"2021-03-30T10:33:55.215797Z\", \"created_time_dt\": \"2021-03-30T10:33:55.215797Z\", \"duration\": \"0:01:03\", \"iteration\": \"12\", \"goal\": \"AUC_weighted_max\", \"run_name\": \"MaxAbsScaler, RandomForest\", \"run_properties\": \"copy=True\", \"primary_metric\": 0.74226559, \"best_metric\": 0.82318031}, {\"run_id\": \"AutoML_e1e37940-98de-4b0e-a305-48d874324c83_13\", \"run_number\": 383, \"metric\": null, \"status\": \"Completed\", \"run_type\": \"azureml.scriptrun\", \"training_percent\": \"100\", \"start_time\": \"2021-03-30T10:35:15.168404Z\", \"end_time\": \"2021-03-30T10:35:55.98724Z\", \"created_time\": \"2021-03-30T10:34:06.884055Z\", \"created_time_dt\": \"2021-03-30T10:34:06.884055Z\", \"duration\": \"0:01:49\", \"iteration\": \"13\", \"goal\": \"AUC_weighted_max\", \"run_name\": \"StandardScalerWrapper, XGBoostClassifier\", \"run_properties\": \"<azureml.automl.runtime.shared.model_wrappers.StandardScalerWrapper object at 0x7f9325c7d208\", \"primary_metric\": 0.81627371, \"best_metric\": 0.82318031}, {\"run_id\": \"AutoML_e1e37940-98de-4b0e-a305-48d874324c83_14\", \"run_number\": 384, \"metric\": null, \"status\": \"Completed\", \"run_type\": \"azureml.scriptrun\", \"training_percent\": \"100\", \"start_time\": \"2021-03-30T10:35:01.438334Z\", \"end_time\": \"2021-03-30T10:35:51.707552Z\", \"created_time\": \"2021-03-30T10:34:07.093094Z\", \"created_time_dt\": \"2021-03-30T10:34:07.093094Z\", \"duration\": \"0:01:44\", \"iteration\": \"14\", \"goal\": \"AUC_weighted_max\", \"run_name\": \"MaxAbsScaler, RandomForest\", \"run_properties\": \"copy=True\", \"primary_metric\": 0.81448208, \"best_metric\": 0.82318031}, {\"run_id\": \"AutoML_e1e37940-98de-4b0e-a305-48d874324c83_15\", \"run_number\": 385, \"metric\": null, \"status\": \"Completed\", \"run_type\": \"azureml.scriptrun\", \"training_percent\": \"100\", \"start_time\": \"2021-03-30T10:35:18.024572Z\", \"end_time\": \"2021-03-30T10:35:58.477153Z\", \"created_time\": \"2021-03-30T10:34:52.208275Z\", \"created_time_dt\": \"2021-03-30T10:34:52.208275Z\", \"duration\": \"0:01:06\", \"iteration\": \"15\", \"goal\": \"AUC_weighted_max\", \"run_name\": \"StandardScalerWrapper, ExtremeRandomTrees\", \"run_properties\": \"<azureml.automl.runtime.shared.model_wrappers.StandardScalerWrapper object at 0x7f6ec6e2c198\", \"primary_metric\": 0.83112664, \"best_metric\": 0.83112664}, {\"run_id\": \"AutoML_e1e37940-98de-4b0e-a305-48d874324c83_16\", \"run_number\": 386, \"metric\": null, \"status\": \"Completed\", \"run_type\": \"azureml.scriptrun\", \"training_percent\": \"100\", \"start_time\": \"2021-03-30T10:36:09.115414Z\", \"end_time\": \"2021-03-30T10:36:57.124919Z\", \"created_time\": \"2021-03-30T10:35:03.371275Z\", \"created_time_dt\": \"2021-03-30T10:35:03.371275Z\", \"duration\": \"0:01:53\", \"iteration\": \"16\", \"goal\": \"AUC_weighted_max\", \"run_name\": \"MaxAbsScaler, ExtremeRandomTrees\", \"run_properties\": \"copy=True\", \"primary_metric\": 0.81388001, \"best_metric\": 0.83112664}, {\"run_id\": \"AutoML_e1e37940-98de-4b0e-a305-48d874324c83_17\", \"run_number\": 387, \"metric\": null, \"status\": \"Completed\", \"run_type\": \"azureml.scriptrun\", \"training_percent\": \"100\", \"start_time\": \"2021-03-30T10:36:15.288644Z\", \"end_time\": \"2021-03-30T10:36:58.079608Z\", \"created_time\": \"2021-03-30T10:35:12.717572Z\", \"created_time_dt\": \"2021-03-30T10:35:12.717572Z\", \"duration\": \"0:01:45\", \"iteration\": \"17\", \"goal\": \"AUC_weighted_max\", \"run_name\": \"MaxAbsScaler, ExtremeRandomTrees\", \"run_properties\": \"copy=True\", \"primary_metric\": 0.80018802, \"best_metric\": 0.83112664}, {\"run_id\": \"AutoML_e1e37940-98de-4b0e-a305-48d874324c83_18\", \"run_number\": 388, \"metric\": null, \"status\": \"Completed\", \"run_type\": \"azureml.scriptrun\", \"training_percent\": \"100\", \"start_time\": \"2021-03-30T10:36:14.372522Z\", \"end_time\": \"2021-03-30T10:36:58.321321Z\", \"created_time\": \"2021-03-30T10:35:56.225987Z\", \"created_time_dt\": \"2021-03-30T10:35:56.225987Z\", \"duration\": \"0:01:02\", \"iteration\": \"18\", \"goal\": \"AUC_weighted_max\", \"run_name\": \"MaxAbsScaler, RandomForest\", \"run_properties\": \"copy=True\", \"primary_metric\": 0.78038653, \"best_metric\": 0.83112664}, {\"run_id\": \"AutoML_e1e37940-98de-4b0e-a305-48d874324c83_19\", \"run_number\": 389, \"metric\": null, \"status\": \"Completed\", \"run_type\": \"azureml.scriptrun\", \"training_percent\": \"100\", \"start_time\": \"2021-03-30T10:37:12.536569Z\", \"end_time\": \"2021-03-30T10:38:12.522386Z\", \"created_time\": \"2021-03-30T10:36:04.063355Z\", \"created_time_dt\": \"2021-03-30T10:36:04.063355Z\", \"duration\": \"0:02:08\", \"iteration\": \"19\", \"goal\": \"AUC_weighted_max\", \"run_name\": \"StandardScalerWrapper, XGBoostClassifier\", \"run_properties\": \"<azureml.automl.runtime.shared.model_wrappers.StandardScalerWrapper object at 0x7f3d90bd6c88\", \"primary_metric\": 0.80173341, \"best_metric\": 0.83112664}, {\"run_id\": \"AutoML_e1e37940-98de-4b0e-a305-48d874324c83_20\", \"run_number\": 390, \"metric\": null, \"status\": \"Completed\", \"run_type\": \"azureml.scriptrun\", \"training_percent\": \"100\", \"start_time\": \"2021-03-30T10:37:12.695819Z\", \"end_time\": \"2021-03-30T10:37:49.364966Z\", \"created_time\": \"2021-03-30T10:36:04.201522Z\", \"created_time_dt\": \"2021-03-30T10:36:04.201522Z\", \"duration\": \"0:01:45\", \"iteration\": \"20\", \"goal\": \"AUC_weighted_max\", \"run_name\": \"SparseNormalizer, XGBoostClassifier\", \"run_properties\": \"<azureml.automl.runtime.shared.model_wrappers.SparseNormalizer object at 0x7f05bc8ffb00\", \"primary_metric\": 0.74750845, \"best_metric\": 0.83112664}, {\"run_id\": \"AutoML_e1e37940-98de-4b0e-a305-48d874324c83_21\", \"run_number\": 391, \"metric\": null, \"status\": \"Completed\", \"run_type\": \"azureml.scriptrun\", \"training_percent\": \"100\", \"start_time\": \"2021-03-30T10:37:13.0162Z\", \"end_time\": \"2021-03-30T10:37:57.768492Z\", \"created_time\": \"2021-03-30T10:37:00.840819Z\", \"created_time_dt\": \"2021-03-30T10:37:00.840819Z\", \"duration\": \"0:00:56\", \"iteration\": \"21\", \"goal\": \"AUC_weighted_max\", \"run_name\": \"StandardScalerWrapper, XGBoostClassifier\", \"run_properties\": \"<azureml.automl.runtime.shared.model_wrappers.StandardScalerWrapper object at 0x7f8fb69b21d0\", \"primary_metric\": 0.80828819, \"best_metric\": 0.83112664}, {\"run_id\": \"AutoML_e1e37940-98de-4b0e-a305-48d874324c83_22\", \"run_number\": 392, \"metric\": null, \"status\": \"Completed\", \"run_type\": \"azureml.scriptrun\", \"training_percent\": \"100\", \"start_time\": \"2021-03-30T10:38:07.518666Z\", \"end_time\": \"2021-03-30T10:39:01.720583Z\", \"created_time\": \"2021-03-30T10:37:01.043737Z\", \"created_time_dt\": \"2021-03-30T10:37:01.043737Z\", \"duration\": \"0:02:00\", \"iteration\": \"22\", \"goal\": \"AUC_weighted_max\", \"run_name\": \"StandardScalerWrapper, XGBoostClassifier\", \"run_properties\": \"<azureml.automl.runtime.shared.model_wrappers.StandardScalerWrapper object at 0x7f27650850b8\", \"primary_metric\": 0.79251135, \"best_metric\": 0.83112664}, {\"run_id\": \"AutoML_e1e37940-98de-4b0e-a305-48d874324c83_23\", \"run_number\": 393, \"metric\": null, \"status\": \"Completed\", \"run_type\": \"azureml.scriptrun\", \"training_percent\": \"100\", \"start_time\": \"2021-03-30T10:38:12.72124Z\", \"end_time\": \"2021-03-30T10:39:01.93187Z\", \"created_time\": \"2021-03-30T10:37:29.574501Z\", \"created_time_dt\": \"2021-03-30T10:37:29.574501Z\", \"duration\": \"0:01:32\", \"iteration\": \"23\", \"goal\": \"AUC_weighted_max\", \"run_name\": \"MaxAbsScaler, LightGBM\", \"run_properties\": \"copy=True\", \"primary_metric\": 0.80369746, \"best_metric\": 0.83112664}, {\"run_id\": \"AutoML_e1e37940-98de-4b0e-a305-48d874324c83_24\", \"run_number\": 394, \"metric\": null, \"status\": \"Completed\", \"run_type\": \"azureml.scriptrun\", \"training_percent\": \"100\", \"start_time\": \"2021-03-30T10:38:26.045023Z\", \"end_time\": \"2021-03-30T10:39:24.15988Z\", \"created_time\": \"2021-03-30T10:37:54.448954Z\", \"created_time_dt\": \"2021-03-30T10:37:54.448954Z\", \"duration\": \"0:01:29\", \"iteration\": \"24\", \"goal\": \"AUC_weighted_max\", \"run_name\": \"MaxAbsScaler, LightGBM\", \"run_properties\": \"copy=True\", \"primary_metric\": 0.81001507, \"best_metric\": 0.83112664}, {\"run_id\": \"AutoML_e1e37940-98de-4b0e-a305-48d874324c83_25\", \"run_number\": 395, \"metric\": null, \"status\": \"Completed\", \"run_type\": \"azureml.scriptrun\", \"training_percent\": \"100\", \"start_time\": \"2021-03-30T10:39:15.151888Z\", \"end_time\": \"2021-03-30T10:40:03.340748Z\", \"created_time\": \"2021-03-30T10:38:04.981071Z\", \"created_time_dt\": \"2021-03-30T10:38:04.981071Z\", \"duration\": \"0:01:58\", \"iteration\": \"25\", \"goal\": \"AUC_weighted_max\", \"run_name\": \"StandardScalerWrapper, ExtremeRandomTrees\", \"run_properties\": \"<azureml.automl.runtime.shared.model_wrappers.StandardScalerWrapper object at 0x7fe3350ba4e0\", \"primary_metric\": 0.5, \"best_metric\": 0.83112664}, {\"run_id\": \"AutoML_e1e37940-98de-4b0e-a305-48d874324c83_26\", \"run_number\": 396, \"metric\": null, \"status\": \"Completed\", \"run_type\": \"azureml.scriptrun\", \"training_percent\": \"100\", \"start_time\": \"2021-03-30T10:39:14.488876Z\", \"end_time\": \"2021-03-30T10:39:58.378323Z\", \"created_time\": \"2021-03-30T10:38:15.712669Z\", \"created_time_dt\": \"2021-03-30T10:38:15.712669Z\", \"duration\": \"0:01:42\", \"iteration\": \"26\", \"goal\": \"AUC_weighted_max\", \"run_name\": \"MaxAbsScaler, LightGBM\", \"run_properties\": \"copy=True\", \"primary_metric\": 0.81075549, \"best_metric\": 0.83112664}, {\"run_id\": \"AutoML_e1e37940-98de-4b0e-a305-48d874324c83_27\", \"run_number\": 397, \"metric\": null, \"status\": \"Completed\", \"run_type\": \"azureml.scriptrun\", \"training_percent\": \"100\", \"start_time\": \"2021-03-30T10:39:38.145817Z\", \"end_time\": \"2021-03-30T10:40:20.598736Z\", \"created_time\": \"2021-03-30T10:39:05.194568Z\", \"created_time_dt\": \"2021-03-30T10:39:05.194568Z\", \"duration\": \"0:01:15\", \"iteration\": \"27\", \"goal\": \"AUC_weighted_max\", \"run_name\": \"StandardScalerWrapper, RandomForest\", \"run_properties\": \"<azureml.automl.runtime.shared.model_wrappers.StandardScalerWrapper object at 0x7fd507ce2f98\", \"primary_metric\": 0.81654036, \"best_metric\": 0.83112664}, {\"run_id\": \"AutoML_e1e37940-98de-4b0e-a305-48d874324c83_28\", \"run_number\": 398, \"metric\": null, \"status\": \"Completed\", \"run_type\": \"azureml.scriptrun\", \"training_percent\": \"100\", \"start_time\": \"2021-03-30T10:40:14.474888Z\", \"end_time\": \"2021-03-30T10:40:52.857217Z\", \"created_time\": \"2021-03-30T10:39:05.360049Z\", \"created_time_dt\": \"2021-03-30T10:39:05.360049Z\", \"duration\": \"0:01:47\", \"iteration\": \"28\", \"goal\": \"AUC_weighted_max\", \"run_name\": \"MaxAbsScaler, ExtremeRandomTrees\", \"run_properties\": \"copy=True\", \"primary_metric\": 0.81743997, \"best_metric\": 0.83112664}, {\"run_id\": \"AutoML_e1e37940-98de-4b0e-a305-48d874324c83_29\", \"run_number\": 399, \"metric\": null, \"status\": \"Completed\", \"run_type\": \"azureml.scriptrun\", \"training_percent\": \"100\", \"start_time\": \"2021-03-30T10:40:16.507096Z\", \"end_time\": \"2021-03-30T10:40:58.832636Z\", \"created_time\": \"2021-03-30T10:39:27.226317Z\", \"created_time_dt\": \"2021-03-30T10:39:27.226317Z\", \"duration\": \"0:01:31\", \"iteration\": \"29\", \"goal\": \"AUC_weighted_max\", \"run_name\": \"MaxAbsScaler, RandomForest\", \"run_properties\": \"copy=True\", \"primary_metric\": 0.79604096, \"best_metric\": 0.83112664}, {\"run_id\": \"AutoML_e1e37940-98de-4b0e-a305-48d874324c83_30\", \"run_number\": 400, \"metric\": null, \"status\": \"Completed\", \"run_type\": \"azureml.scriptrun\", \"training_percent\": \"100\", \"start_time\": \"2021-03-30T10:40:36.959883Z\", \"end_time\": \"2021-03-30T10:41:35.438032Z\", \"created_time\": \"2021-03-30T10:40:03.046927Z\", \"created_time_dt\": \"2021-03-30T10:40:03.046927Z\", \"duration\": \"0:01:32\", \"iteration\": \"30\", \"goal\": \"AUC_weighted_max\", \"run_name\": \"TruncatedSVDWrapper, ExtremeRandomTrees\", \"run_properties\": \"n_components=0.7521052631578947, random_state=None\", \"primary_metric\": 0.65401522, \"best_metric\": 0.83112664}, {\"run_id\": \"AutoML_e1e37940-98de-4b0e-a305-48d874324c83_31\", \"run_number\": 401, \"metric\": null, \"status\": \"Completed\", \"run_type\": \"azureml.scriptrun\", \"training_percent\": \"100\", \"start_time\": \"2021-03-30T10:41:10.181013Z\", \"end_time\": \"2021-03-30T10:41:54.901154Z\", \"created_time\": \"2021-03-30T10:40:10.050921Z\", \"created_time_dt\": \"2021-03-30T10:40:10.050921Z\", \"duration\": \"0:01:44\", \"iteration\": \"31\", \"goal\": \"AUC_weighted_max\", \"run_name\": \"SparseNormalizer, LightGBM\", \"run_properties\": \"<azureml.automl.runtime.shared.model_wrappers.SparseNormalizer object at 0x7f8b6fbd3128\", \"primary_metric\": 0.71548709, \"best_metric\": 0.83112664}, {\"run_id\": \"AutoML_e1e37940-98de-4b0e-a305-48d874324c83_32\", \"run_number\": 402, \"metric\": null, \"status\": \"Completed\", \"run_type\": \"azureml.scriptrun\", \"training_percent\": \"100\", \"start_time\": \"2021-03-30T10:41:14.943912Z\", \"end_time\": \"2021-03-30T10:41:58.895576Z\", \"created_time\": \"2021-03-30T10:40:24.770058Z\", \"created_time_dt\": \"2021-03-30T10:40:24.770058Z\", \"duration\": \"0:01:34\", \"iteration\": \"32\", \"goal\": \"AUC_weighted_max\", \"run_name\": \"TruncatedSVDWrapper, XGBoostClassifier\", \"run_properties\": \"n_components=0.7521052631578947, random_state=None\", \"primary_metric\": 0.76974671, \"best_metric\": 0.83112664}, {\"run_id\": \"AutoML_e1e37940-98de-4b0e-a305-48d874324c83_33\", \"run_number\": 403, \"metric\": null, \"status\": \"Completed\", \"run_type\": \"azureml.scriptrun\", \"training_percent\": \"100\", \"start_time\": \"2021-03-30T10:41:49.974981Z\", \"end_time\": \"2021-03-30T10:42:31.938467Z\", \"created_time\": \"2021-03-30T10:40:55.797793Z\", \"created_time_dt\": \"2021-03-30T10:40:55.797793Z\", \"duration\": \"0:01:36\", \"iteration\": \"33\", \"goal\": \"AUC_weighted_max\", \"run_name\": \"TruncatedSVDWrapper, XGBoostClassifier\", \"run_properties\": \"n_components=0.95, random_state=None\", \"primary_metric\": 0.76484185, \"best_metric\": 0.83112664}, {\"run_id\": \"AutoML_e1e37940-98de-4b0e-a305-48d874324c83_34\", \"run_number\": 404, \"metric\": null, \"status\": \"Canceled\", \"run_type\": \"azureml.scriptrun\", \"training_percent\": \"100\", \"start_time\": \"2021-03-30T10:42:09.18651Z\", \"end_time\": \"2021-03-30T10:42:42.04331Z\", \"created_time\": \"2021-03-30T10:41:03.036549Z\", \"created_time_dt\": \"2021-03-30T10:41:03.036549Z\", \"duration\": \"0:01:39\", \"iteration\": \"34\", \"goal\": \"AUC_weighted_max\", \"run_name\": \"TruncatedSVDWrapper, XGBoostClassifier\", \"run_properties\": \"n_components=0.8015789473684211, random_state=None\", \"primary_metric\": 0.783693, \"best_metric\": 0.83112664}, {\"run_id\": \"AutoML_e1e37940-98de-4b0e-a305-48d874324c83_35\", \"run_number\": 405, \"metric\": null, \"status\": \"Canceled\", \"run_type\": \"azureml.scriptrun\", \"training_percent\": \"100\", \"start_time\": \"2021-03-30T10:42:15.201242Z\", \"end_time\": \"2021-03-30T10:42:42.731896Z\", \"created_time\": \"2021-03-30T10:41:41.104898Z\", \"created_time_dt\": \"2021-03-30T10:41:41.104898Z\", \"duration\": \"0:01:01\", \"iteration\": \"35\", \"goal\": \"AUC_weighted_max\", \"run_name\": \"TruncatedSVDWrapper, ExtremeRandomTrees\", \"run_properties\": \"n_components=0.2573684210526316, random_state=None\", \"primary_metric\": 0.48509734, \"best_metric\": 0.83112664}, {\"run_id\": \"AutoML_e1e37940-98de-4b0e-a305-48d874324c83_36\", \"run_number\": 406, \"metric\": null, \"status\": \"Canceled\", \"run_type\": \"azureml.scriptrun\", \"training_percent\": \"100\", \"start_time\": \"2021-03-30T10:41:59.526805Z\", \"end_time\": \"2021-03-30T10:42:41.063878Z\", \"created_time\": \"2021-03-30T10:41:59.526805Z\", \"created_time_dt\": \"2021-03-30T10:41:59.526805Z\", \"duration\": \"0:00:41\", \"iteration\": \"36\", \"goal\": null, \"run_name\": \"Canceled\", \"run_properties\": null}, {\"run_id\": \"AutoML_e1e37940-98de-4b0e-a305-48d874324c83_37\", \"run_number\": 407, \"metric\": null, \"status\": \"Canceled\", \"run_type\": \"azureml.scriptrun\", \"training_percent\": \"100\", \"start_time\": \"2021-03-30T10:42:09.193271Z\", \"end_time\": \"2021-03-30T10:42:42.239416Z\", \"created_time\": \"2021-03-30T10:42:09.193271Z\", \"created_time_dt\": \"2021-03-30T10:42:09.193271Z\", \"duration\": \"0:00:33\", \"iteration\": \"37\", \"goal\": null, \"run_name\": \"Canceled\", \"run_properties\": null}, {\"run_id\": \"AutoML_e1e37940-98de-4b0e-a305-48d874324c83_38\", \"run_number\": 408, \"metric\": null, \"status\": \"Completed\", \"run_type\": \"azureml.scriptrun\", \"training_percent\": \"100\", \"start_time\": \"2021-03-30T10:42:57.332229Z\", \"end_time\": \"2021-03-30T10:44:11.482523Z\", \"created_time\": \"2021-03-30T10:42:46.109652Z\", \"created_time_dt\": \"2021-03-30T10:42:46.109652Z\", \"duration\": \"0:01:25\", \"iteration\": \"38\", \"goal\": \"AUC_weighted_max\", \"run_name\": \"VotingEnsemble\", \"run_properties\": \"classification_labels=None,\\n                              estimators=[('15',\\n                                           Pipeline(memory=None,\\n                                                    steps=[('standardscalerwrapper',\\n                                                            <azureml.automl.runtime.shared.model_wrappers.StandardScalerWrapper object at 0x7efe664aa358>\", \"primary_metric\": 0.83956661, \"best_metric\": 0.83956661}, {\"run_id\": \"AutoML_e1e37940-98de-4b0e-a305-48d874324c83_39\", \"run_number\": 409, \"metric\": null, \"status\": \"Completed\", \"run_type\": \"azureml.scriptrun\", \"training_percent\": \"100\", \"start_time\": \"2021-03-30T10:43:02.487221Z\", \"end_time\": \"2021-03-30T10:44:36.818821Z\", \"created_time\": \"2021-03-30T10:42:53.489263Z\", \"created_time_dt\": \"2021-03-30T10:42:53.489263Z\", \"duration\": \"0:01:43\", \"iteration\": \"39\", \"goal\": \"AUC_weighted_max\", \"run_name\": \"StackEnsemble\", \"run_properties\": \"base_learners=[('15',\\n                                        Pipeline(memory=None,\\n                                                 steps=[('standardscalerwrapper',\\n                                                         <azureml.automl.runtime.shared.model_wrappers.StandardScalerWrapper object at 0x7f1564735630>\", \"primary_metric\": 0.83586763, \"best_metric\": 0.83956661}], \"children_metrics\": {\"categories\": [0], \"series\": {\"log_loss\": [{\"categories\": [\"0\", \"1\", \"2\", \"3\", \"4\", \"5\", \"6\", \"7\", \"8\", \"9\", \"10\", \"11\", \"12\", \"13\", \"14\", \"15\", \"16\", \"17\", \"18\", \"19\", \"20\", \"21\", \"22\", \"23\", \"24\", \"25\", \"26\", \"27\", \"28\", \"29\", \"30\", \"31\", \"32\", \"33\", \"34\", \"35\", \"38\", \"39\"], \"mode\": \"markers\", \"name\": \"log_loss\", \"stepped\": false, \"type\": \"scatter\", \"data\": [1.9229583976909583, 0.7197872801000782, 0.646125522405999, 0.5333071120896675, 0.5301729345247332, 0.5170672990748859, 0.5677360472420044, 0.5397052563234812, 0.591083305556553, 1.2299498489823866, 0.9126331693408956, 0.9814290919590725, 1.2256550541176918, 0.5703552056232424, 0.9310601999634834, 0.5086327480087413, 0.9073196840466048, 0.6408720258937639, 1.0282804957447529, 0.7774938185337366, 0.7868683584710126, 1.1196643203935268, 0.9321224731244573, 1.0308375505105398, 0.6910423696717369, 1.5313886090228788, 0.771316873653421, 0.5315718692339033, 0.7328835604738209, 0.9548478693925319, 0.6886721084969414, 0.650219706016937, 1.2717138049490273, 1.3771709623233948, 0.8383732877377734, 1.5054193687469855, 0.5159877674362667, 0.5337372036630841]}, {\"categories\": [\"0\", \"1\", \"2\", \"3\", \"4\", \"5\", \"6\", \"7\", \"8\", \"9\", \"10\", \"11\", \"12\", \"13\", \"14\", \"15\", \"16\", \"17\", \"18\", \"19\", \"20\", \"21\", \"22\", \"23\", \"24\", \"25\", \"26\", \"27\", \"28\", \"29\", \"30\", \"31\", \"32\", \"33\", \"34\", \"35\", \"38\", \"39\"], \"mode\": \"lines\", \"name\": \"log_loss_min\", \"stepped\": true, \"type\": \"scatter\", \"data\": [1.9229583976909583, 0.7197872801000782, 0.646125522405999, 0.5333071120896675, 0.5301729345247332, 0.5170672990748859, 0.5170672990748859, 0.5170672990748859, 0.5170672990748859, 0.5170672990748859, 0.5170672990748859, 0.5170672990748859, 0.5170672990748859, 0.5170672990748859, 0.5170672990748859, 0.5086327480087413, 0.5086327480087413, 0.5086327480087413, 0.5086327480087413, 0.5086327480087413, 0.5086327480087413, 0.5086327480087413, 0.5086327480087413, 0.5086327480087413, 0.5086327480087413, 0.5086327480087413, 0.5086327480087413, 0.5086327480087413, 0.5086327480087413, 0.5086327480087413, 0.5086327480087413, 0.5086327480087413, 0.5086327480087413, 0.5086327480087413, 0.5086327480087413, 0.5086327480087413, 0.5086327480087413, 0.5086327480087413]}], \"precision_score_weighted\": [{\"categories\": [\"0\", \"1\", \"2\", \"3\", \"4\", \"5\", \"6\", \"7\", \"8\", \"9\", \"10\", \"11\", \"12\", \"13\", \"14\", \"15\", \"16\", \"17\", \"18\", \"19\", \"20\", \"21\", \"22\", \"23\", \"24\", \"25\", \"26\", \"27\", \"28\", \"29\", \"30\", \"31\", \"32\", \"33\", \"34\", \"35\", \"38\", \"39\"], \"mode\": \"markers\", \"name\": \"precision_score_weighted\", \"stepped\": false, \"type\": \"scatter\", \"data\": [0.6774470311141884, 0.6973366215614583, 0.74430797523293, 0.7391701140754603, 0.7513106290699523, 0.7530694331726104, 0.7187429184949259, 0.7617114892936959, 0.7051171797359699, 0.2499921813354201, 0.7561872018577649, 0.7588739949817608, 0.2499921813354201, 0.7022960943422243, 0.7301236120130346, 0.770776384741152, 0.756367521575954, 0.7434243046704059, 0.7555905770950649, 0.6724872871218541, 0.6682670730098734, 0.6898726265426717, 0.6842905036984475, 0.6765581518848344, 0.712418721418564, 0.2499921813354201, 0.7035589059788145, 0.7516027272317988, 0.7476731717581988, 0.7674137076298525, 0.599780464068557, 0.6423054294710066, 0.6449131048582812, 0.6848973660306652, 0.687096612852202, 0.2499921813354201, 0.7635746362863636, 0.7782313327480297]}, {\"categories\": [\"0\", \"1\", \"2\", \"3\", \"4\", \"5\", \"6\", \"7\", \"8\", \"9\", \"10\", \"11\", \"12\", \"13\", \"14\", \"15\", \"16\", \"17\", \"18\", \"19\", \"20\", \"21\", \"22\", \"23\", \"24\", \"25\", \"26\", \"27\", \"28\", \"29\", \"30\", \"31\", \"32\", \"33\", \"34\", \"35\", \"38\", \"39\"], \"mode\": \"lines\", \"name\": \"precision_score_weighted_max\", \"stepped\": true, \"type\": \"scatter\", \"data\": [0.6774470311141884, 0.6973366215614583, 0.74430797523293, 0.74430797523293, 0.7513106290699523, 0.7530694331726104, 0.7530694331726104, 0.7617114892936959, 0.7617114892936959, 0.7617114892936959, 0.7617114892936959, 0.7617114892936959, 0.7617114892936959, 0.7617114892936959, 0.7617114892936959, 0.770776384741152, 0.770776384741152, 0.770776384741152, 0.770776384741152, 0.770776384741152, 0.770776384741152, 0.770776384741152, 0.770776384741152, 0.770776384741152, 0.770776384741152, 0.770776384741152, 0.770776384741152, 0.770776384741152, 0.770776384741152, 0.770776384741152, 0.770776384741152, 0.770776384741152, 0.770776384741152, 0.770776384741152, 0.770776384741152, 0.770776384741152, 0.770776384741152, 0.7782313327480297]}], \"f1_score_weighted\": [{\"categories\": [\"0\", \"1\", \"2\", \"3\", \"4\", \"5\", \"6\", \"7\", \"8\", \"9\", \"10\", \"11\", \"12\", \"13\", \"14\", \"15\", \"16\", \"17\", \"18\", \"19\", \"20\", \"21\", \"22\", \"23\", \"24\", \"25\", \"26\", \"27\", \"28\", \"29\", \"30\", \"31\", \"32\", \"33\", \"34\", \"35\", \"38\", \"39\"], \"mode\": \"markers\", \"name\": \"f1_score_weighted\", \"stepped\": false, \"type\": \"scatter\", \"data\": [0.46057699808064484, 0.6573393384647894, 0.7434409912981939, 0.7360094429850477, 0.7481414830396282, 0.7463674331419141, 0.7170504768515549, 0.7561207084443878, 0.7039735401230119, 0.33332014237501006, 0.593285366704374, 0.4894885185343958, 0.33332014237501006, 0.67522577211043, 0.7112769586696974, 0.7643649208073295, 0.489923573114297, 0.6630648975067583, 0.5647077208769459, 0.5428248862946454, 0.5168504819366319, 0.5257657515793757, 0.5693315956919606, 0.5407194940906954, 0.6686965728436357, 0.33332014237501006, 0.636807829307661, 0.7397904488151332, 0.7118664648653548, 0.6205287856778785, 0.5849019001640209, 0.6116576999589617, 0.4386488412770148, 0.460856218803083, 0.5460721434961258, 0.33332014237501006, 0.7422968155376207, 0.764507539632638]}, {\"categories\": [\"0\", \"1\", \"2\", \"3\", \"4\", \"5\", \"6\", \"7\", \"8\", \"9\", \"10\", \"11\", \"12\", \"13\", \"14\", \"15\", \"16\", \"17\", \"18\", \"19\", \"20\", \"21\", \"22\", \"23\", \"24\", \"25\", \"26\", \"27\", \"28\", \"29\", \"30\", \"31\", \"32\", \"33\", \"34\", \"35\", \"38\", \"39\"], \"mode\": \"lines\", \"name\": \"f1_score_weighted_max\", \"stepped\": true, \"type\": \"scatter\", \"data\": [0.46057699808064484, 0.6573393384647894, 0.7434409912981939, 0.7434409912981939, 0.7481414830396282, 0.7481414830396282, 0.7481414830396282, 0.7561207084443878, 0.7561207084443878, 0.7561207084443878, 0.7561207084443878, 0.7561207084443878, 0.7561207084443878, 0.7561207084443878, 0.7561207084443878, 0.7643649208073295, 0.7643649208073295, 0.7643649208073295, 0.7643649208073295, 0.7643649208073295, 0.7643649208073295, 0.7643649208073295, 0.7643649208073295, 0.7643649208073295, 0.7643649208073295, 0.7643649208073295, 0.7643649208073295, 0.7643649208073295, 0.7643649208073295, 0.7643649208073295, 0.7643649208073295, 0.7643649208073295, 0.7643649208073295, 0.7643649208073295, 0.7643649208073295, 0.7643649208073295, 0.7643649208073295, 0.764507539632638]}], \"precision_score_micro\": [{\"categories\": [\"0\", \"1\", \"2\", \"3\", \"4\", \"5\", \"6\", \"7\", \"8\", \"9\", \"10\", \"11\", \"12\", \"13\", \"14\", \"15\", \"16\", \"17\", \"18\", \"19\", \"20\", \"21\", \"22\", \"23\", \"24\", \"25\", \"26\", \"27\", \"28\", \"29\", \"30\", \"31\", \"32\", \"33\", \"34\", \"35\", \"38\", \"39\"], \"mode\": \"markers\", \"name\": \"precision_score_micro\", \"stepped\": false, \"type\": \"scatter\", \"data\": [0.5549685162855238, 0.6696271037270423, 0.7436241971171483, 0.7366879143264757, 0.7487482832870485, 0.7476427966237086, 0.7175029998916461, 0.7571256377268776, 0.7042713106061398, 0.4999834955453245, 0.6399277813951787, 0.5789304670840272, 0.4999834955453245, 0.6830606024968022, 0.7157016115035423, 0.7654424917410194, 0.5825785767519097, 0.6836748421712235, 0.6222508171103649, 0.5952055147971949, 0.580141461705851, 0.5888474789365922, 0.612054348946155, 0.5943068236467108, 0.6809720745584549, 0.4999834955453245, 0.6575504156240347, 0.7422727470652796, 0.7199294604311639, 0.6589048277052958, 0.5920406715044051, 0.6239412906954287, 0.5402587262983982, 0.5575085298616306, 0.6001145718665164, 0.4999834955453245, 0.746386448171637, 0.766870990658153]}, {\"categories\": [\"0\", \"1\", \"2\", \"3\", \"4\", \"5\", \"6\", \"7\", \"8\", \"9\", \"10\", \"11\", \"12\", \"13\", \"14\", \"15\", \"16\", \"17\", \"18\", \"19\", \"20\", \"21\", \"22\", \"23\", \"24\", \"25\", \"26\", \"27\", \"28\", \"29\", \"30\", \"31\", \"32\", \"33\", \"34\", \"35\", \"38\", \"39\"], \"mode\": \"lines\", \"name\": \"precision_score_micro_max\", \"stepped\": true, \"type\": \"scatter\", \"data\": [0.5549685162855238, 0.6696271037270423, 0.7436241971171483, 0.7436241971171483, 0.7487482832870485, 0.7487482832870485, 0.7487482832870485, 0.7571256377268776, 0.7571256377268776, 0.7571256377268776, 0.7571256377268776, 0.7571256377268776, 0.7571256377268776, 0.7571256377268776, 0.7571256377268776, 0.7654424917410194, 0.7654424917410194, 0.7654424917410194, 0.7654424917410194, 0.7654424917410194, 0.7654424917410194, 0.7654424917410194, 0.7654424917410194, 0.7654424917410194, 0.7654424917410194, 0.7654424917410194, 0.7654424917410194, 0.7654424917410194, 0.7654424917410194, 0.7654424917410194, 0.7654424917410194, 0.7654424917410194, 0.7654424917410194, 0.7654424917410194, 0.7654424917410194, 0.7654424917410194, 0.7654424917410194, 0.766870990658153]}], \"AUC_micro\": [{\"categories\": [\"0\", \"1\", \"2\", \"3\", \"4\", \"5\", \"6\", \"7\", \"8\", \"9\", \"10\", \"11\", \"12\", \"13\", \"14\", \"15\", \"16\", \"17\", \"18\", \"19\", \"20\", \"21\", \"22\", \"23\", \"24\", \"25\", \"26\", \"27\", \"28\", \"29\", \"30\", \"31\", \"32\", \"33\", \"34\", \"35\", \"38\", \"39\"], \"mode\": \"markers\", \"name\": \"AUC_micro\", \"stepped\": false, \"type\": \"scatter\", \"data\": [0.6521083033725137, 0.7396278693089994, 0.8159127678968862, 0.8116017686850854, 0.8102522354848869, 0.8252128070221958, 0.7918786895863321, 0.8167168628713454, 0.7734339709337557, 0.617115984693861, 0.6770906526941924, 0.6443542869912191, 0.6211120830462566, 0.7829532286262468, 0.7812150895772413, 0.8317151202094921, 0.6847395185494072, 0.7444505239470628, 0.6652695199122882, 0.6931569085215703, 0.6495760978137537, 0.6847227231980004, 0.698155258928316, 0.6941050017605815, 0.7559388113833667, 0.4999834955453265, 0.7403345214040353, 0.8188399118255002, 0.7936586614691292, 0.7024180080727351, 0.6421252842465704, 0.6777518695661235, 0.6479467753968974, 0.6447006270957115, 0.6781953475088297, 0.4925324194245415, 0.8332083244370763, 0.8336413949934229]}, {\"categories\": [\"0\", \"1\", \"2\", \"3\", \"4\", \"5\", \"6\", \"7\", \"8\", \"9\", \"10\", \"11\", \"12\", \"13\", \"14\", \"15\", \"16\", \"17\", \"18\", \"19\", \"20\", \"21\", \"22\", \"23\", \"24\", \"25\", \"26\", \"27\", \"28\", \"29\", \"30\", \"31\", \"32\", \"33\", \"34\", \"35\", \"38\", \"39\"], \"mode\": \"lines\", \"name\": \"AUC_micro_max\", \"stepped\": true, \"type\": \"scatter\", \"data\": [0.6521083033725137, 0.7396278693089994, 0.8159127678968862, 0.8159127678968862, 0.8159127678968862, 0.8252128070221958, 0.8252128070221958, 0.8252128070221958, 0.8252128070221958, 0.8252128070221958, 0.8252128070221958, 0.8252128070221958, 0.8252128070221958, 0.8252128070221958, 0.8252128070221958, 0.8317151202094921, 0.8317151202094921, 0.8317151202094921, 0.8317151202094921, 0.8317151202094921, 0.8317151202094921, 0.8317151202094921, 0.8317151202094921, 0.8317151202094921, 0.8317151202094921, 0.8317151202094921, 0.8317151202094921, 0.8317151202094921, 0.8317151202094921, 0.8317151202094921, 0.8317151202094921, 0.8317151202094921, 0.8317151202094921, 0.8317151202094921, 0.8317151202094921, 0.8317151202094921, 0.8332083244370763, 0.8336413949934229]}], \"accuracy\": [{\"categories\": [\"0\", \"1\", \"2\", \"3\", \"4\", \"5\", \"6\", \"7\", \"8\", \"9\", \"10\", \"11\", \"12\", \"13\", \"14\", \"15\", \"16\", \"17\", \"18\", \"19\", \"20\", \"21\", \"22\", \"23\", \"24\", \"25\", \"26\", \"27\", \"28\", \"29\", \"30\", \"31\", \"32\", \"33\", \"34\", \"35\", \"38\", \"39\"], \"mode\": \"markers\", \"name\": \"accuracy\", \"stepped\": false, \"type\": \"scatter\", \"data\": [0.5549685162855464, 0.6696271037270511, 0.7436241971171413, 0.736687914326468, 0.748748283287041, 0.7476427966237018, 0.7175029998916389, 0.7571256377268705, 0.7042713106061329, 0.4999834955453356, 0.6399277813951862, 0.5789304670840363, 0.4999834955453356, 0.6830606024968067, 0.7157016115035433, 0.765442491741013, 0.5825785767519187, 0.6836748421712273, 0.6222508171103728, 0.595205514797214, 0.5801414617058713, 0.5888474789366126, 0.6120543489461732, 0.5943068236467304, 0.6809720745584643, 0.4999834955453356, 0.6575504156240484, 0.7422727470652728, 0.7199294604311616, 0.658904827705303, 0.5920406715044033, 0.6239412906954334, 0.5402587262984211, 0.557508529861654, 0.6001145718665354, 0.4999834955453356, 0.7463864481716325, 0.7668709906581486]}, {\"categories\": [\"0\", \"1\", \"2\", \"3\", \"4\", \"5\", \"6\", \"7\", \"8\", \"9\", \"10\", \"11\", \"12\", \"13\", \"14\", \"15\", \"16\", \"17\", \"18\", \"19\", \"20\", \"21\", \"22\", \"23\", \"24\", \"25\", \"26\", \"27\", \"28\", \"29\", \"30\", \"31\", \"32\", \"33\", \"34\", \"35\", \"38\", \"39\"], \"mode\": \"lines\", \"name\": \"accuracy_max\", \"stepped\": true, \"type\": \"scatter\", \"data\": [0.5549685162855464, 0.6696271037270511, 0.7436241971171413, 0.7436241971171413, 0.748748283287041, 0.748748283287041, 0.748748283287041, 0.7571256377268705, 0.7571256377268705, 0.7571256377268705, 0.7571256377268705, 0.7571256377268705, 0.7571256377268705, 0.7571256377268705, 0.7571256377268705, 0.765442491741013, 0.765442491741013, 0.765442491741013, 0.765442491741013, 0.765442491741013, 0.765442491741013, 0.765442491741013, 0.765442491741013, 0.765442491741013, 0.765442491741013, 0.765442491741013, 0.765442491741013, 0.765442491741013, 0.765442491741013, 0.765442491741013, 0.765442491741013, 0.765442491741013, 0.765442491741013, 0.765442491741013, 0.765442491741013, 0.765442491741013, 0.765442491741013, 0.7668709906581486]}], \"average_precision_score_weighted\": [{\"categories\": [\"0\", \"1\", \"2\", \"3\", \"4\", \"5\", \"6\", \"7\", \"8\", \"9\", \"10\", \"11\", \"12\", \"13\", \"14\", \"15\", \"16\", \"17\", \"18\", \"19\", \"20\", \"21\", \"22\", \"23\", \"24\", \"25\", \"26\", \"27\", \"28\", \"29\", \"30\", \"31\", \"32\", \"33\", \"34\", \"35\", \"38\", \"39\"], \"mode\": \"markers\", \"name\": \"average_precision_score_weighted\", \"stepped\": false, \"type\": \"scatter\", \"data\": [0.7786761146980434, 0.7861993081903255, 0.798015557096885, 0.7966698396727732, 0.8027557106089178, 0.810478152624376, 0.7821731432249581, 0.8035826713759764, 0.768753824300408, 0.7343778146318676, 0.7676645388503258, 0.7507599111674282, 0.7354619631243531, 0.8113997487297626, 0.7971389934141742, 0.8146162105227124, 0.8012554944900954, 0.7886283085495682, 0.7727783281596742, 0.783180728733996, 0.7395235440383379, 0.8063638939948263, 0.7905264355438606, 0.7967664341772924, 0.8046960261075168, 0.5000173715801728, 0.8062812646600944, 0.8072894526487351, 0.8014556351775037, 0.783375704028413, 0.6382925393868639, 0.7119530004733201, 0.75558853322502, 0.7519455117065369, 0.7664753809401106, 0.49190169168476217, 0.8328754907178809, 0.8275941881287364]}, {\"categories\": [\"0\", \"1\", \"2\", \"3\", \"4\", \"5\", \"6\", \"7\", \"8\", \"9\", \"10\", \"11\", \"12\", \"13\", \"14\", \"15\", \"16\", \"17\", \"18\", \"19\", \"20\", \"21\", \"22\", \"23\", \"24\", \"25\", \"26\", \"27\", \"28\", \"29\", \"30\", \"31\", \"32\", \"33\", \"34\", \"35\", \"38\", \"39\"], \"mode\": \"lines\", \"name\": \"average_precision_score_weighted_max\", \"stepped\": true, \"type\": \"scatter\", \"data\": [0.7786761146980434, 0.7861993081903255, 0.798015557096885, 0.798015557096885, 0.8027557106089178, 0.810478152624376, 0.810478152624376, 0.810478152624376, 0.810478152624376, 0.810478152624376, 0.810478152624376, 0.810478152624376, 0.810478152624376, 0.8113997487297626, 0.8113997487297626, 0.8146162105227124, 0.8146162105227124, 0.8146162105227124, 0.8146162105227124, 0.8146162105227124, 0.8146162105227124, 0.8146162105227124, 0.8146162105227124, 0.8146162105227124, 0.8146162105227124, 0.8146162105227124, 0.8146162105227124, 0.8146162105227124, 0.8146162105227124, 0.8146162105227124, 0.8146162105227124, 0.8146162105227124, 0.8146162105227124, 0.8146162105227124, 0.8146162105227124, 0.8146162105227124, 0.8328754907178809, 0.8328754907178809]}], \"average_precision_score_micro\": [{\"categories\": [\"0\", \"1\", \"2\", \"3\", \"4\", \"5\", \"6\", \"7\", \"8\", \"9\", \"10\", \"11\", \"12\", \"13\", \"14\", \"15\", \"16\", \"17\", \"18\", \"19\", \"20\", \"21\", \"22\", \"23\", \"24\", \"25\", \"26\", \"27\", \"28\", \"29\", \"30\", \"31\", \"32\", \"33\", \"34\", \"35\", \"38\", \"39\"], \"mode\": \"markers\", \"name\": \"average_precision_score_micro\", \"stepped\": false, \"type\": \"scatter\", \"data\": [0.6869038404965697, 0.742219886313569, 0.7989836749550392, 0.8077413495790462, 0.8067124627377067, 0.8186780501337334, 0.7855085065320986, 0.8118551505911286, 0.7747364318145078, 0.6232806789277184, 0.66567523881829, 0.6357128229612775, 0.6194284598588323, 0.7868818807731172, 0.771600669459577, 0.8210451623534867, 0.6791026735766359, 0.7239705374635568, 0.6586998083030582, 0.7044418548259408, 0.6648970355957455, 0.7137274902831404, 0.7196857356118016, 0.7178399151989578, 0.7630856587374139, 0.5000004335627661, 0.7489910524191111, 0.8109840095501701, 0.7787871916638021, 0.6890811917577508, 0.6278119491975152, 0.6848807856862378, 0.6684039616272374, 0.6578412506596567, 0.6873027060612587, 0.4954487675351859, 0.8307732709804513, 0.8286484939336428]}, {\"categories\": [\"0\", \"1\", \"2\", \"3\", \"4\", \"5\", \"6\", \"7\", \"8\", \"9\", \"10\", \"11\", \"12\", \"13\", \"14\", \"15\", \"16\", \"17\", \"18\", \"19\", \"20\", \"21\", \"22\", \"23\", \"24\", \"25\", \"26\", \"27\", \"28\", \"29\", \"30\", \"31\", \"32\", \"33\", \"34\", \"35\", \"38\", \"39\"], \"mode\": \"lines\", \"name\": \"average_precision_score_micro_max\", \"stepped\": true, \"type\": \"scatter\", \"data\": [0.6869038404965697, 0.742219886313569, 0.7989836749550392, 0.8077413495790462, 0.8077413495790462, 0.8186780501337334, 0.8186780501337334, 0.8186780501337334, 0.8186780501337334, 0.8186780501337334, 0.8186780501337334, 0.8186780501337334, 0.8186780501337334, 0.8186780501337334, 0.8186780501337334, 0.8210451623534867, 0.8210451623534867, 0.8210451623534867, 0.8210451623534867, 0.8210451623534867, 0.8210451623534867, 0.8210451623534867, 0.8210451623534867, 0.8210451623534867, 0.8210451623534867, 0.8210451623534867, 0.8210451623534867, 0.8210451623534867, 0.8210451623534867, 0.8210451623534867, 0.8210451623534867, 0.8210451623534867, 0.8210451623534867, 0.8210451623534867, 0.8210451623534867, 0.8210451623534867, 0.8307732709804513, 0.8307732709804513]}], \"average_precision_score_macro\": [{\"categories\": [\"0\", \"1\", \"2\", \"3\", \"4\", \"5\", \"6\", \"7\", \"8\", \"9\", \"10\", \"11\", \"12\", \"13\", \"14\", \"15\", \"16\", \"17\", \"18\", \"19\", \"20\", \"21\", \"22\", \"23\", \"24\", \"25\", \"26\", \"27\", \"28\", \"29\", \"30\", \"31\", \"32\", \"33\", \"34\", \"35\", \"38\", \"39\"], \"mode\": \"markers\", \"name\": \"average_precision_score_macro\", \"stepped\": false, \"type\": \"scatter\", \"data\": [0.7786488750387262, 0.7862420690542978, 0.7979421994139584, 0.796692160741405, 0.8027774211385523, 0.810454563182137, 0.7821810513643932, 0.8035936419849347, 0.7687256032105261, 0.7345020728645606, 0.767654432158934, 0.7507696437612273, 0.7355100914731345, 0.8114174705034349, 0.7970405676640364, 0.8146625625133472, 0.8012907744011162, 0.7886588620754115, 0.7728294521794181, 0.7831215465717899, 0.7395493664596736, 0.8063562115623977, 0.7905065732918911, 0.7967474370500576, 0.8046951637531922, 0.5, 0.8062785610088083, 0.8072595201576092, 0.8015033151396673, 0.7833682024240789, 0.6382219093744134, 0.7120142090059942, 0.7554575996778952, 0.7518797280264748, 0.7663699272298317, 0.49187472002807153, 0.832859579053437, 0.8275843273672451]}, {\"categories\": [\"0\", \"1\", \"2\", \"3\", \"4\", \"5\", \"6\", \"7\", \"8\", \"9\", \"10\", \"11\", \"12\", \"13\", \"14\", \"15\", \"16\", \"17\", \"18\", \"19\", \"20\", \"21\", \"22\", \"23\", \"24\", \"25\", \"26\", \"27\", \"28\", \"29\", \"30\", \"31\", \"32\", \"33\", \"34\", \"35\", \"38\", \"39\"], \"mode\": \"lines\", \"name\": \"average_precision_score_macro_max\", \"stepped\": true, \"type\": \"scatter\", \"data\": [0.7786488750387262, 0.7862420690542978, 0.7979421994139584, 0.7979421994139584, 0.8027774211385523, 0.810454563182137, 0.810454563182137, 0.810454563182137, 0.810454563182137, 0.810454563182137, 0.810454563182137, 0.810454563182137, 0.810454563182137, 0.8114174705034349, 0.8114174705034349, 0.8146625625133472, 0.8146625625133472, 0.8146625625133472, 0.8146625625133472, 0.8146625625133472, 0.8146625625133472, 0.8146625625133472, 0.8146625625133472, 0.8146625625133472, 0.8146625625133472, 0.8146625625133472, 0.8146625625133472, 0.8146625625133472, 0.8146625625133472, 0.8146625625133472, 0.8146625625133472, 0.8146625625133472, 0.8146625625133472, 0.8146625625133472, 0.8146625625133472, 0.8146625625133472, 0.832859579053437, 0.832859579053437]}], \"norm_macro_recall\": [{\"categories\": [\"0\", \"1\", \"2\", \"3\", \"4\", \"5\", \"6\", \"7\", \"8\", \"9\", \"10\", \"11\", \"12\", \"13\", \"14\", \"15\", \"16\", \"17\", \"18\", \"19\", \"20\", \"21\", \"22\", \"23\", \"24\", \"25\", \"26\", \"27\", \"28\", \"29\", \"30\", \"31\", \"32\", \"33\", \"34\", \"35\", \"38\", \"39\"], \"mode\": \"markers\", \"name\": \"norm_macro_recall\", \"stepped\": false, \"type\": \"scatter\", \"data\": [0.11013595176189184, 0.33952439701091275, 0.48722736335785477, 0.4733879269324732, 0.49704762544612036, 0.49476354810025236, 0.43476423783411733, 0.5138031150557838, 0.40855174474290323, 0.0, 0.27967240425110307, 0.15755645625885117, 0.0, 0.36627170367761064, 0.4315257121964211, 0.5305278867308421, 0.16435535717077154, 0.36727181477068993, 0.24421024892179866, 0.1906485913549707, 0.16036921832618778, 0.17767289121631202, 0.2243547398235054, 0.18868455735801937, 0.3619826222483201, 0.0, 0.31494568714403326, 0.4841606200723163, 0.4395750457428932, 0.31775153058576233, 0.18501520318731846, 0.248195891192463, 0.08044492744947651, 0.11466157416752787, 0.19987404817058618, 0.0, 0.49236438956695205, 0.5331000993567002]}, {\"categories\": [\"0\", \"1\", \"2\", \"3\", \"4\", \"5\", \"6\", \"7\", \"8\", \"9\", \"10\", \"11\", \"12\", \"13\", \"14\", \"15\", \"16\", \"17\", \"18\", \"19\", \"20\", \"21\", \"22\", \"23\", \"24\", \"25\", \"26\", \"27\", \"28\", \"29\", \"30\", \"31\", \"32\", \"33\", \"34\", \"35\", \"38\", \"39\"], \"mode\": \"lines\", \"name\": \"norm_macro_recall_max\", \"stepped\": true, \"type\": \"scatter\", \"data\": [0.11013595176189184, 0.33952439701091275, 0.48722736335785477, 0.48722736335785477, 0.49704762544612036, 0.49704762544612036, 0.49704762544612036, 0.5138031150557838, 0.5138031150557838, 0.5138031150557838, 0.5138031150557838, 0.5138031150557838, 0.5138031150557838, 0.5138031150557838, 0.5138031150557838, 0.5305278867308421, 0.5305278867308421, 0.5305278867308421, 0.5305278867308421, 0.5305278867308421, 0.5305278867308421, 0.5305278867308421, 0.5305278867308421, 0.5305278867308421, 0.5305278867308421, 0.5305278867308421, 0.5305278867308421, 0.5305278867308421, 0.5305278867308421, 0.5305278867308421, 0.5305278867308421, 0.5305278867308421, 0.5305278867308421, 0.5305278867308421, 0.5305278867308421, 0.5305278867308421, 0.5305278867308421, 0.5331000993567002]}], \"AUC_macro\": [{\"categories\": [\"0\", \"1\", \"2\", \"3\", \"4\", \"5\", \"6\", \"7\", \"8\", \"9\", \"10\", \"11\", \"12\", \"13\", \"14\", \"15\", \"16\", \"17\", \"18\", \"19\", \"20\", \"21\", \"22\", \"23\", \"24\", \"25\", \"26\", \"27\", \"28\", \"29\", \"30\", \"31\", \"32\", \"33\", \"34\", \"35\", \"38\", \"39\"], \"mode\": \"markers\", \"name\": \"AUC_macro\", \"stepped\": false, \"type\": \"scatter\", \"data\": [0.7813692740877903, 0.7909860256717365, 0.8148681251282094, 0.8061815550264897, 0.8122966022289146, 0.8231803114049504, 0.7950440607972078, 0.8151896515352881, 0.7797872412136274, 0.7342731209010289, 0.7754859019850331, 0.7569080569867017, 0.7422655932654822, 0.8162737105025907, 0.8144820949562003, 0.8311266435178086, 0.8138800063864677, 0.8001880201913919, 0.7803865310325274, 0.8017334070059898, 0.7475084516077113, 0.8082881946914091, 0.7925113479334929, 0.803697464234203, 0.8100150727453852, 0.5, 0.8107554925679304, 0.8165403591935736, 0.8174399742236232, 0.7960409620054621, 0.654015219025472, 0.715487086695379, 0.769746711487809, 0.7648418512015309, 0.7836930030433581, 0.48509733579178005, 0.8395666139178115, 0.8358676344576816]}, {\"categories\": [\"0\", \"1\", \"2\", \"3\", \"4\", \"5\", \"6\", \"7\", \"8\", \"9\", \"10\", \"11\", \"12\", \"13\", \"14\", \"15\", \"16\", \"17\", \"18\", \"19\", \"20\", \"21\", \"22\", \"23\", \"24\", \"25\", \"26\", \"27\", \"28\", \"29\", \"30\", \"31\", \"32\", \"33\", \"34\", \"35\", \"38\", \"39\"], \"mode\": \"lines\", \"name\": \"AUC_macro_max\", \"stepped\": true, \"type\": \"scatter\", \"data\": [0.7813692740877903, 0.7909860256717365, 0.8148681251282094, 0.8148681251282094, 0.8148681251282094, 0.8231803114049504, 0.8231803114049504, 0.8231803114049504, 0.8231803114049504, 0.8231803114049504, 0.8231803114049504, 0.8231803114049504, 0.8231803114049504, 0.8231803114049504, 0.8231803114049504, 0.8311266435178086, 0.8311266435178086, 0.8311266435178086, 0.8311266435178086, 0.8311266435178086, 0.8311266435178086, 0.8311266435178086, 0.8311266435178086, 0.8311266435178086, 0.8311266435178086, 0.8311266435178086, 0.8311266435178086, 0.8311266435178086, 0.8311266435178086, 0.8311266435178086, 0.8311266435178086, 0.8311266435178086, 0.8311266435178086, 0.8311266435178086, 0.8311266435178086, 0.8311266435178086, 0.8395666139178115, 0.8395666139178115]}], \"AUC_weighted\": [{\"categories\": [\"0\", \"1\", \"2\", \"3\", \"4\", \"5\", \"6\", \"7\", \"8\", \"9\", \"10\", \"11\", \"12\", \"13\", \"14\", \"15\", \"16\", \"17\", \"18\", \"19\", \"20\", \"21\", \"22\", \"23\", \"24\", \"25\", \"26\", \"27\", \"28\", \"29\", \"30\", \"31\", \"32\", \"33\", \"34\", \"35\", \"38\", \"39\"], \"mode\": \"markers\", \"name\": \"AUC_weighted\", \"stepped\": false, \"type\": \"scatter\", \"data\": [0.7813692740877904, 0.7909860256717365, 0.8148681251282095, 0.8061815550264897, 0.8122966022289146, 0.8231803114049505, 0.795044060797208, 0.8151896515352881, 0.7797872412136275, 0.7342731209010289, 0.7754859019850331, 0.7569080569867017, 0.7422655932654824, 0.8162737105025908, 0.8144820797707923, 0.8311266435178086, 0.8138800063864677, 0.8001880201913919, 0.7803865310325275, 0.8017334070059899, 0.7475084516077112, 0.8082881946914092, 0.7925113479334929, 0.803697464234203, 0.8100150727453852, 0.5, 0.8107554925679304, 0.8165403591935736, 0.8174399742236232, 0.7960409620054621, 0.6540152190254719, 0.7154870866953789, 0.769746711487809, 0.7648418512015309, 0.7836930030433582, 0.48509733579178005, 0.8395666139178116, 0.8358676344576816]}, {\"categories\": [\"0\", \"1\", \"2\", \"3\", \"4\", \"5\", \"6\", \"7\", \"8\", \"9\", \"10\", \"11\", \"12\", \"13\", \"14\", \"15\", \"16\", \"17\", \"18\", \"19\", \"20\", \"21\", \"22\", \"23\", \"24\", \"25\", \"26\", \"27\", \"28\", \"29\", \"30\", \"31\", \"32\", \"33\", \"34\", \"35\", \"38\", \"39\"], \"mode\": \"lines\", \"name\": \"AUC_weighted_max\", \"stepped\": true, \"type\": \"scatter\", \"data\": [0.7813692740877904, 0.7909860256717365, 0.8148681251282095, 0.8148681251282095, 0.8148681251282095, 0.8231803114049505, 0.8231803114049505, 0.8231803114049505, 0.8231803114049505, 0.8231803114049505, 0.8231803114049505, 0.8231803114049505, 0.8231803114049505, 0.8231803114049505, 0.8231803114049505, 0.8311266435178086, 0.8311266435178086, 0.8311266435178086, 0.8311266435178086, 0.8311266435178086, 0.8311266435178086, 0.8311266435178086, 0.8311266435178086, 0.8311266435178086, 0.8311266435178086, 0.8311266435178086, 0.8311266435178086, 0.8311266435178086, 0.8311266435178086, 0.8311266435178086, 0.8311266435178086, 0.8311266435178086, 0.8311266435178086, 0.8311266435178086, 0.8311266435178086, 0.8311266435178086, 0.8395666139178116, 0.8395666139178116]}], \"precision_score_macro\": [{\"categories\": [\"0\", \"1\", \"2\", \"3\", \"4\", \"5\", \"6\", \"7\", \"8\", \"9\", \"10\", \"11\", \"12\", \"13\", \"14\", \"15\", \"16\", \"17\", \"18\", \"19\", \"20\", \"21\", \"22\", \"23\", \"24\", \"25\", \"26\", \"27\", \"28\", \"29\", \"30\", \"31\", \"32\", \"33\", \"34\", \"35\", \"38\", \"39\"], \"mode\": \"markers\", \"name\": \"precision_score_macro\", \"stepped\": false, \"type\": \"scatter\", \"data\": [0.677487085110423, 0.6972921091319373, 0.744296553011123, 0.7391453281179472, 0.7514198256824919, 0.7532024447711694, 0.718782032512701, 0.7618287802447811, 0.7051012415421496, 0.24999174777266225, 0.7561860127927078, 0.7589733028847767, 0.24999174777266225, 0.7022755828987591, 0.7300624549478543, 0.7708767822143862, 0.7565617484746017, 0.7434624522033468, 0.7556449866162727, 0.6725114715570846, 0.6682391784220556, 0.6898317040485267, 0.6842606641329629, 0.6765514511706503, 0.71241169617554, 0.24999174777266225, 0.7035493716594274, 0.7516907106756368, 0.747747210624346, 0.7674794064773063, 0.5996629136147129, 0.642233429887262, 0.6448262196970822, 0.6847660192857914, 0.6871026804579446, 0.24999174777266225, 0.763693612582877, 0.7784128935786359]}, {\"categories\": [\"0\", \"1\", \"2\", \"3\", \"4\", \"5\", \"6\", \"7\", \"8\", \"9\", \"10\", \"11\", \"12\", \"13\", \"14\", \"15\", \"16\", \"17\", \"18\", \"19\", \"20\", \"21\", \"22\", \"23\", \"24\", \"25\", \"26\", \"27\", \"28\", \"29\", \"30\", \"31\", \"32\", \"33\", \"34\", \"35\", \"38\", \"39\"], \"mode\": \"lines\", \"name\": \"precision_score_macro_max\", \"stepped\": true, \"type\": \"scatter\", \"data\": [0.677487085110423, 0.6972921091319373, 0.744296553011123, 0.744296553011123, 0.7514198256824919, 0.7532024447711694, 0.7532024447711694, 0.7618287802447811, 0.7618287802447811, 0.7618287802447811, 0.7618287802447811, 0.7618287802447811, 0.7618287802447811, 0.7618287802447811, 0.7618287802447811, 0.7708767822143862, 0.7708767822143862, 0.7708767822143862, 0.7708767822143862, 0.7708767822143862, 0.7708767822143862, 0.7708767822143862, 0.7708767822143862, 0.7708767822143862, 0.7708767822143862, 0.7708767822143862, 0.7708767822143862, 0.7708767822143862, 0.7708767822143862, 0.7708767822143862, 0.7708767822143862, 0.7708767822143862, 0.7708767822143862, 0.7708767822143862, 0.7708767822143862, 0.7708767822143862, 0.7708767822143862, 0.7784128935786359]}], \"recall_score_micro\": [{\"categories\": [\"0\", \"1\", \"2\", \"3\", \"4\", \"5\", \"6\", \"7\", \"8\", \"9\", \"10\", \"11\", \"12\", \"13\", \"14\", \"15\", \"16\", \"17\", \"18\", \"19\", \"20\", \"21\", \"22\", \"23\", \"24\", \"25\", \"26\", \"27\", \"28\", \"29\", \"30\", \"31\", \"32\", \"33\", \"34\", \"35\", \"38\", \"39\"], \"mode\": \"markers\", \"name\": \"recall_score_micro\", \"stepped\": false, \"type\": \"scatter\", \"data\": [0.5549685162855411, 0.6696271037270516, 0.7436241971171487, 0.7366879143264765, 0.7487482832870485, 0.74764279662371, 0.7175029998916443, 0.7571256377268787, 0.7042713106061385, 0.499983495545343, 0.6399277813951942, 0.5789304670840443, 0.499983495545343, 0.683060602496808, 0.715701611503545, 0.7654424917410212, 0.5825785767519266, 0.6836748421712378, 0.6222508171103809, 0.5952055147972106, 0.5801414617058674, 0.5888474789366083, 0.6120543489461703, 0.5943068236467268, 0.6809720745584642, 0.499983495545343, 0.6575504156240473, 0.7422727470652828, 0.7199294604311739, 0.6589048277053118, 0.5920406715044089, 0.6239412906954355, 0.5402587262984158, 0.5575085298616482, 0.6001145718665317, 0.499983495545343, 0.7463864481716437, 0.7668709906581577]}, {\"categories\": [\"0\", \"1\", \"2\", \"3\", \"4\", \"5\", \"6\", \"7\", \"8\", \"9\", \"10\", \"11\", \"12\", \"13\", \"14\", \"15\", \"16\", \"17\", \"18\", \"19\", \"20\", \"21\", \"22\", \"23\", \"24\", \"25\", \"26\", \"27\", \"28\", \"29\", \"30\", \"31\", \"32\", \"33\", \"34\", \"35\", \"38\", \"39\"], \"mode\": \"lines\", \"name\": \"recall_score_micro_max\", \"stepped\": true, \"type\": \"scatter\", \"data\": [0.5549685162855411, 0.6696271037270516, 0.7436241971171487, 0.7436241971171487, 0.7487482832870485, 0.7487482832870485, 0.7487482832870485, 0.7571256377268787, 0.7571256377268787, 0.7571256377268787, 0.7571256377268787, 0.7571256377268787, 0.7571256377268787, 0.7571256377268787, 0.7571256377268787, 0.7654424917410212, 0.7654424917410212, 0.7654424917410212, 0.7654424917410212, 0.7654424917410212, 0.7654424917410212, 0.7654424917410212, 0.7654424917410212, 0.7654424917410212, 0.7654424917410212, 0.7654424917410212, 0.7654424917410212, 0.7654424917410212, 0.7654424917410212, 0.7654424917410212, 0.7654424917410212, 0.7654424917410212, 0.7654424917410212, 0.7654424917410212, 0.7654424917410212, 0.7654424917410212, 0.7654424917410212, 0.7668709906581577]}], \"f1_score_micro\": [{\"categories\": [\"0\", \"1\", \"2\", \"3\", \"4\", \"5\", \"6\", \"7\", \"8\", \"9\", \"10\", \"11\", \"12\", \"13\", \"14\", \"15\", \"16\", \"17\", \"18\", \"19\", \"20\", \"21\", \"22\", \"23\", \"24\", \"25\", \"26\", \"27\", \"28\", \"29\", \"30\", \"31\", \"32\", \"33\", \"34\", \"35\", \"38\", \"39\"], \"mode\": \"markers\", \"name\": \"f1_score_micro\", \"stepped\": false, \"type\": \"scatter\", \"data\": [0.5549685162855325, 0.6696271037270469, 0.7436241971171486, 0.736687914326476, 0.7487482832870485, 0.7476427966237094, 0.7175029998916452, 0.7571256377268781, 0.7042713106061391, 0.4999834955453337, 0.6399277813951866, 0.5789304670840357, 0.4999834955453337, 0.6830606024968051, 0.7157016115035437, 0.7654424917410203, 0.5825785767519182, 0.6836748421712306, 0.6222508171103729, 0.5952055147972029, 0.5801414617058592, 0.5888474789366003, 0.6120543489461626, 0.5943068236467188, 0.6809720745584595, 0.4999834955453337, 0.6575504156240409, 0.7422727470652812, 0.7199294604311688, 0.6589048277053038, 0.592040671504407, 0.623941290695432, 0.540258726298407, 0.5575085298616393, 0.6001145718665241, 0.4999834955453337, 0.7463864481716403, 0.7668709906581554]}, {\"categories\": [\"0\", \"1\", \"2\", \"3\", \"4\", \"5\", \"6\", \"7\", \"8\", \"9\", \"10\", \"11\", \"12\", \"13\", \"14\", \"15\", \"16\", \"17\", \"18\", \"19\", \"20\", \"21\", \"22\", \"23\", \"24\", \"25\", \"26\", \"27\", \"28\", \"29\", \"30\", \"31\", \"32\", \"33\", \"34\", \"35\", \"38\", \"39\"], \"mode\": \"lines\", \"name\": \"f1_score_micro_max\", \"stepped\": true, \"type\": \"scatter\", \"data\": [0.5549685162855325, 0.6696271037270469, 0.7436241971171486, 0.7436241971171486, 0.7487482832870485, 0.7487482832870485, 0.7487482832870485, 0.7571256377268781, 0.7571256377268781, 0.7571256377268781, 0.7571256377268781, 0.7571256377268781, 0.7571256377268781, 0.7571256377268781, 0.7571256377268781, 0.7654424917410203, 0.7654424917410203, 0.7654424917410203, 0.7654424917410203, 0.7654424917410203, 0.7654424917410203, 0.7654424917410203, 0.7654424917410203, 0.7654424917410203, 0.7654424917410203, 0.7654424917410203, 0.7654424917410203, 0.7654424917410203, 0.7654424917410203, 0.7654424917410203, 0.7654424917410203, 0.7654424917410203, 0.7654424917410203, 0.7654424917410203, 0.7654424917410203, 0.7654424917410203, 0.7654424917410203, 0.7668709906581554]}], \"recall_score_macro\": [{\"categories\": [\"0\", \"1\", \"2\", \"3\", \"4\", \"5\", \"6\", \"7\", \"8\", \"9\", \"10\", \"11\", \"12\", \"13\", \"14\", \"15\", \"16\", \"17\", \"18\", \"19\", \"20\", \"21\", \"22\", \"23\", \"24\", \"25\", \"26\", \"27\", \"28\", \"29\", \"30\", \"31\", \"32\", \"33\", \"34\", \"35\", \"38\", \"39\"], \"mode\": \"markers\", \"name\": \"recall_score_macro\", \"stepped\": false, \"type\": \"scatter\", \"data\": [0.5550679758809469, 0.6697621985054607, 0.7436136816789339, 0.7366939634662438, 0.7485238127230669, 0.7473817740501334, 0.7173821189170646, 0.7569015575278988, 0.7042758723714577, 0.5, 0.6398362021255548, 0.5787782281294267, 0.5, 0.68313585183881, 0.7157628560982151, 0.7652639433654279, 0.5821776785853874, 0.6836359073853524, 0.6221051244609018, 0.5953242956774878, 0.580184609163096, 0.5888364456081576, 0.6121773699117552, 0.5943422786790119, 0.680991311124164, 0.5, 0.6574728435720201, 0.7420803100361661, 0.7197875228714559, 0.6588757652928854, 0.5925076015936663, 0.6240979455962368, 0.5402224637247395, 0.5573307870837647, 0.5999370240852953, 0.5, 0.7461821947834848, 0.7665500496783576]}, {\"categories\": [\"0\", \"1\", \"2\", \"3\", \"4\", \"5\", \"6\", \"7\", \"8\", \"9\", \"10\", \"11\", \"12\", \"13\", \"14\", \"15\", \"16\", \"17\", \"18\", \"19\", \"20\", \"21\", \"22\", \"23\", \"24\", \"25\", \"26\", \"27\", \"28\", \"29\", \"30\", \"31\", \"32\", \"33\", \"34\", \"35\", \"38\", \"39\"], \"mode\": \"lines\", \"name\": \"recall_score_macro_max\", \"stepped\": true, \"type\": \"scatter\", \"data\": [0.5550679758809469, 0.6697621985054607, 0.7436136816789339, 0.7436136816789339, 0.7485238127230669, 0.7485238127230669, 0.7485238127230669, 0.7569015575278988, 0.7569015575278988, 0.7569015575278988, 0.7569015575278988, 0.7569015575278988, 0.7569015575278988, 0.7569015575278988, 0.7569015575278988, 0.7652639433654279, 0.7652639433654279, 0.7652639433654279, 0.7652639433654279, 0.7652639433654279, 0.7652639433654279, 0.7652639433654279, 0.7652639433654279, 0.7652639433654279, 0.7652639433654279, 0.7652639433654279, 0.7652639433654279, 0.7652639433654279, 0.7652639433654279, 0.7652639433654279, 0.7652639433654279, 0.7652639433654279, 0.7652639433654279, 0.7652639433654279, 0.7652639433654279, 0.7652639433654279, 0.7652639433654279, 0.7665500496783576]}], \"balanced_accuracy\": [{\"categories\": [\"0\", \"1\", \"2\", \"3\", \"4\", \"5\", \"6\", \"7\", \"8\", \"9\", \"10\", \"11\", \"12\", \"13\", \"14\", \"15\", \"16\", \"17\", \"18\", \"19\", \"20\", \"21\", \"22\", \"23\", \"24\", \"25\", \"26\", \"27\", \"28\", \"29\", \"30\", \"31\", \"32\", \"33\", \"34\", \"35\", \"38\", \"39\"], \"mode\": \"markers\", \"name\": \"balanced_accuracy\", \"stepped\": false, \"type\": \"scatter\", \"data\": [0.5550679758809469, 0.6697621985054607, 0.7436136816789339, 0.7366939634662438, 0.7485238127230669, 0.7473817740501334, 0.7173821189170646, 0.7569015575278988, 0.7042758723714577, 0.5, 0.6398362021255548, 0.5787782281294267, 0.5, 0.68313585183881, 0.7157628560982151, 0.7652639433654279, 0.5821776785853874, 0.6836359073853524, 0.6221051244609018, 0.5953242956774878, 0.580184609163096, 0.5888364456081576, 0.6121773699117552, 0.5943422786790119, 0.680991311124164, 0.5, 0.6574728435720201, 0.7420803100361661, 0.7197875228714559, 0.6588757652928854, 0.5925076015936663, 0.6240979455962368, 0.5402224637247395, 0.5573307870837647, 0.5999370240852953, 0.5, 0.7461821947834848, 0.7665500496783576]}, {\"categories\": [\"0\", \"1\", \"2\", \"3\", \"4\", \"5\", \"6\", \"7\", \"8\", \"9\", \"10\", \"11\", \"12\", \"13\", \"14\", \"15\", \"16\", \"17\", \"18\", \"19\", \"20\", \"21\", \"22\", \"23\", \"24\", \"25\", \"26\", \"27\", \"28\", \"29\", \"30\", \"31\", \"32\", \"33\", \"34\", \"35\", \"38\", \"39\"], \"mode\": \"lines\", \"name\": \"balanced_accuracy_max\", \"stepped\": true, \"type\": \"scatter\", \"data\": [0.5550679758809469, 0.6697621985054607, 0.7436136816789339, 0.7436136816789339, 0.7485238127230669, 0.7485238127230669, 0.7485238127230669, 0.7569015575278988, 0.7569015575278988, 0.7569015575278988, 0.7569015575278988, 0.7569015575278988, 0.7569015575278988, 0.7569015575278988, 0.7569015575278988, 0.7652639433654279, 0.7652639433654279, 0.7652639433654279, 0.7652639433654279, 0.7652639433654279, 0.7652639433654279, 0.7652639433654279, 0.7652639433654279, 0.7652639433654279, 0.7652639433654279, 0.7652639433654279, 0.7652639433654279, 0.7652639433654279, 0.7652639433654279, 0.7652639433654279, 0.7652639433654279, 0.7652639433654279, 0.7652639433654279, 0.7652639433654279, 0.7652639433654279, 0.7652639433654279, 0.7652639433654279, 0.7665500496783576]}], \"matthews_correlation\": [{\"categories\": [\"0\", \"1\", \"2\", \"3\", \"4\", \"5\", \"6\", \"7\", \"8\", \"9\", \"10\", \"11\", \"12\", \"13\", \"14\", \"15\", \"16\", \"17\", \"18\", \"19\", \"20\", \"21\", \"22\", \"23\", \"24\", \"25\", \"26\", \"27\", \"28\", \"29\", \"30\", \"31\", \"32\", \"33\", \"34\", \"35\", \"38\", \"39\"], \"mode\": \"markers\", \"name\": \"matthews_correlation\", \"stepped\": false, \"type\": \"scatter\", \"data\": [0.19668286041097482, 0.36594781743589155, 0.48790972547865896, 0.4758329729604677, 0.4999284908907117, 0.5005220929795513, 0.43616003010988924, 0.5186879362711536, 0.4093762816652939, 0.0, 0.3781586282171052, 0.28210302464083453, 0.0, 0.3849218801820269, 0.44558997237875464, 0.536093734189058, 0.26756073891911286, 0.42285761078861506, 0.3521331612140925, 0.2561213708251616, 0.23221023613384903, 0.25972257107393915, 0.2872458170518273, 0.25807251049489255, 0.3921445420933109, 0.0, 0.35802567420444176, 0.49363532964605805, 0.46660883403568776, 0.41223615501403377, 0.19191908427076743, 0.2656514432019924, 0.1526011695610887, 0.20331751581259072, 0.2727329128085209, 0.0, 0.5094826373951603, 0.5447288625193827]}, {\"categories\": [\"0\", \"1\", \"2\", \"3\", \"4\", \"5\", \"6\", \"7\", \"8\", \"9\", \"10\", \"11\", \"12\", \"13\", \"14\", \"15\", \"16\", \"17\", \"18\", \"19\", \"20\", \"21\", \"22\", \"23\", \"24\", \"25\", \"26\", \"27\", \"28\", \"29\", \"30\", \"31\", \"32\", \"33\", \"34\", \"35\", \"38\", \"39\"], \"mode\": \"lines\", \"name\": \"matthews_correlation_max\", \"stepped\": true, \"type\": \"scatter\", \"data\": [0.19668286041097482, 0.36594781743589155, 0.48790972547865896, 0.48790972547865896, 0.4999284908907117, 0.5005220929795513, 0.5005220929795513, 0.5186879362711536, 0.5186879362711536, 0.5186879362711536, 0.5186879362711536, 0.5186879362711536, 0.5186879362711536, 0.5186879362711536, 0.5186879362711536, 0.536093734189058, 0.536093734189058, 0.536093734189058, 0.536093734189058, 0.536093734189058, 0.536093734189058, 0.536093734189058, 0.536093734189058, 0.536093734189058, 0.536093734189058, 0.536093734189058, 0.536093734189058, 0.536093734189058, 0.536093734189058, 0.536093734189058, 0.536093734189058, 0.536093734189058, 0.536093734189058, 0.536093734189058, 0.536093734189058, 0.536093734189058, 0.536093734189058, 0.5447288625193827]}], \"f1_score_macro\": [{\"categories\": [\"0\", \"1\", \"2\", \"3\", \"4\", \"5\", \"6\", \"7\", \"8\", \"9\", \"10\", \"11\", \"12\", \"13\", \"14\", \"15\", \"16\", \"17\", \"18\", \"19\", \"20\", \"21\", \"22\", \"23\", \"24\", \"25\", \"26\", \"27\", \"28\", \"29\", \"30\", \"31\", \"32\", \"33\", \"34\", \"35\", \"38\", \"39\"], \"mode\": \"markers\", \"name\": \"f1_score_macro\", \"stepped\": false, \"type\": \"scatter\", \"data\": [0.4606989985750416, 0.6574001359125179, 0.7434299900167893, 0.7360001300559592, 0.7480824315284661, 0.7462993152406133, 0.7170090499586526, 0.7560642498302829, 0.7039678645815372, 0.33332342435782564, 0.5931920204231378, 0.48930198343818526, 0.33332342435782564, 0.6752586086256512, 0.7112809398364972, 0.7643226633244071, 0.48945855912508685, 0.6630496004399322, 0.5645659423239935, 0.5429342175200296, 0.5168833244904056, 0.5257450298671851, 0.5694209525230831, 0.5407487799675168, 0.6687047619094669, 0.33332342435782564, 0.6367513983433959, 0.739731633838673, 0.7118158543247752, 0.6205181737714699, 0.5850918151730136, 0.6117153082928299, 0.4385958478554931, 0.4606304503226317, 0.5459172042438545, 0.33332342435782564, 0.7422408586052825, 0.7644268653825605]}, {\"categories\": [\"0\", \"1\", \"2\", \"3\", \"4\", \"5\", \"6\", \"7\", \"8\", \"9\", \"10\", \"11\", \"12\", \"13\", \"14\", \"15\", \"16\", \"17\", \"18\", \"19\", \"20\", \"21\", \"22\", \"23\", \"24\", \"25\", \"26\", \"27\", \"28\", \"29\", \"30\", \"31\", \"32\", \"33\", \"34\", \"35\", \"38\", \"39\"], \"mode\": \"lines\", \"name\": \"f1_score_macro_max\", \"stepped\": true, \"type\": \"scatter\", \"data\": [0.4606989985750416, 0.6574001359125179, 0.7434299900167893, 0.7434299900167893, 0.7480824315284661, 0.7480824315284661, 0.7480824315284661, 0.7560642498302829, 0.7560642498302829, 0.7560642498302829, 0.7560642498302829, 0.7560642498302829, 0.7560642498302829, 0.7560642498302829, 0.7560642498302829, 0.7643226633244071, 0.7643226633244071, 0.7643226633244071, 0.7643226633244071, 0.7643226633244071, 0.7643226633244071, 0.7643226633244071, 0.7643226633244071, 0.7643226633244071, 0.7643226633244071, 0.7643226633244071, 0.7643226633244071, 0.7643226633244071, 0.7643226633244071, 0.7643226633244071, 0.7643226633244071, 0.7643226633244071, 0.7643226633244071, 0.7643226633244071, 0.7643226633244071, 0.7643226633244071, 0.7643226633244071, 0.7644268653825605]}], \"recall_score_weighted\": [{\"categories\": [\"0\", \"1\", \"2\", \"3\", \"4\", \"5\", \"6\", \"7\", \"8\", \"9\", \"10\", \"11\", \"12\", \"13\", \"14\", \"15\", \"16\", \"17\", \"18\", \"19\", \"20\", \"21\", \"22\", \"23\", \"24\", \"25\", \"26\", \"27\", \"28\", \"29\", \"30\", \"31\", \"32\", \"33\", \"34\", \"35\", \"38\", \"39\"], \"mode\": \"markers\", \"name\": \"recall_score_weighted\", \"stepped\": false, \"type\": \"scatter\", \"data\": [0.5549685162855411, 0.6696271037270516, 0.7436241971171487, 0.7366879143264765, 0.7487482832870485, 0.74764279662371, 0.7175029998916443, 0.7571256377268787, 0.7042713106061385, 0.499983495545343, 0.6399277813951945, 0.5789304670840443, 0.499983495545343, 0.683060602496808, 0.715701611503545, 0.7654424917410212, 0.5825785767519266, 0.6836748421712378, 0.6222508171103809, 0.5952055147972106, 0.5801414617058674, 0.5888474789366083, 0.6120543489461703, 0.5943068236467269, 0.6809720745584642, 0.499983495545343, 0.6575504156240473, 0.7422727470652828, 0.7199294604311739, 0.6589048277053118, 0.5920406715044089, 0.6239412906954355, 0.5402587262984158, 0.5575085298616482, 0.6001145718665317, 0.499983495545343, 0.7463864481716437, 0.7668709906581577]}, {\"categories\": [\"0\", \"1\", \"2\", \"3\", \"4\", \"5\", \"6\", \"7\", \"8\", \"9\", \"10\", \"11\", \"12\", \"13\", \"14\", \"15\", \"16\", \"17\", \"18\", \"19\", \"20\", \"21\", \"22\", \"23\", \"24\", \"25\", \"26\", \"27\", \"28\", \"29\", \"30\", \"31\", \"32\", \"33\", \"34\", \"35\", \"38\", \"39\"], \"mode\": \"lines\", \"name\": \"recall_score_weighted_max\", \"stepped\": true, \"type\": \"scatter\", \"data\": [0.5549685162855411, 0.6696271037270516, 0.7436241971171487, 0.7436241971171487, 0.7487482832870485, 0.7487482832870485, 0.7487482832870485, 0.7571256377268787, 0.7571256377268787, 0.7571256377268787, 0.7571256377268787, 0.7571256377268787, 0.7571256377268787, 0.7571256377268787, 0.7571256377268787, 0.7654424917410212, 0.7654424917410212, 0.7654424917410212, 0.7654424917410212, 0.7654424917410212, 0.7654424917410212, 0.7654424917410212, 0.7654424917410212, 0.7654424917410212, 0.7654424917410212, 0.7654424917410212, 0.7654424917410212, 0.7654424917410212, 0.7654424917410212, 0.7654424917410212, 0.7654424917410212, 0.7654424917410212, 0.7654424917410212, 0.7654424917410212, 0.7654424917410212, 0.7654424917410212, 0.7654424917410212, 0.7668709906581577]}], \"weighted_accuracy\": [{\"categories\": [\"0\", \"1\", \"2\", \"3\", \"4\", \"5\", \"6\", \"7\", \"8\", \"9\", \"10\", \"11\", \"12\", \"13\", \"14\", \"15\", \"16\", \"17\", \"18\", \"19\", \"20\", \"21\", \"22\", \"23\", \"24\", \"25\", \"26\", \"27\", \"28\", \"29\", \"30\", \"31\", \"32\", \"33\", \"34\", \"35\", \"38\", \"39\"], \"mode\": \"markers\", \"name\": \"weighted_accuracy\", \"stepped\": false, \"type\": \"scatter\", \"data\": [0.9696143285849539, 0.8553296415892152, 0.717149658463885, 0.6861265483851587, 0.716301631296616, 0.6911526671747065, 0.7509228029180273, 0.7043581800667522, 0.7359489808096683, 0.0026079737421241945, 0.3044247573056748, 0.16554060785709013, 0.0026079737421241945, 0.8363966641991702, 0.8389124625759581, 0.7038189542543674, 0.17811057285098436, 0.437669241212272, 0.2634040461809885, 0.9297749151284761, 0.9399300174513723, 0.9516689519398889, 0.9234334735382694, 0.9338642538448372, 0.8723424129706402, 0.0026079737421241945, 0.894439331908087, 0.6516578468718166, 0.5556606812233628, 0.34253470649495493, 0.6950385904112661, 0.7986777542080354, 0.9634009605749569, 0.97518548218744, 0.9400340424199476, 0.0026079737421241945, 0.6256645028861377, 0.683647261462428]}, {\"categories\": [\"0\", \"1\", \"2\", \"3\", \"4\", \"5\", \"6\", \"7\", \"8\", \"9\", \"10\", \"11\", \"12\", \"13\", \"14\", \"15\", \"16\", \"17\", \"18\", \"19\", \"20\", \"21\", \"22\", \"23\", \"24\", \"25\", \"26\", \"27\", \"28\", \"29\", \"30\", \"31\", \"32\", \"33\", \"34\", \"35\", \"38\", \"39\"], \"mode\": \"lines\", \"name\": \"weighted_accuracy_max\", \"stepped\": true, \"type\": \"scatter\", \"data\": [0.9696143285849539, 0.9696143285849539, 0.9696143285849539, 0.9696143285849539, 0.9696143285849539, 0.9696143285849539, 0.9696143285849539, 0.9696143285849539, 0.9696143285849539, 0.9696143285849539, 0.9696143285849539, 0.9696143285849539, 0.9696143285849539, 0.9696143285849539, 0.9696143285849539, 0.9696143285849539, 0.9696143285849539, 0.9696143285849539, 0.9696143285849539, 0.9696143285849539, 0.9696143285849539, 0.9696143285849539, 0.9696143285849539, 0.9696143285849539, 0.9696143285849539, 0.9696143285849539, 0.9696143285849539, 0.9696143285849539, 0.9696143285849539, 0.9696143285849539, 0.9696143285849539, 0.9696143285849539, 0.9696143285849539, 0.97518548218744, 0.97518548218744, 0.97518548218744, 0.97518548218744, 0.97518548218744]}]}, \"metricName\": null, \"primaryMetricName\": \"AUC_weighted\", \"showLegend\": false}, \"run_metrics\": [{\"name\": \"experiment_status\", \"run_id\": \"AutoML_e1e37940-98de-4b0e-a305-48d874324c83\", \"categories\": [0, 1, 2, 3, 4, 5, 6, 7, 8, 9, 10, 11, 12, 13, 14], \"series\": [{\"data\": [\"DatasetEvaluation\", \"FeaturesGeneration\", \"DatasetFeaturization\", \"DatasetFeaturizationCompleted\", \"DatasetBalancing\", \"DatasetCrossValidationSplit\", \"ModelSelection\", \"BestRunExplainModel\", \"ModelExplanationDataSetSetup\", \"PickSurrogateModel\", \"EngineeredFeatureExplanations\", \"EngineeredFeatureExplanations\", \"RawFeaturesExplanations\", \"RawFeaturesExplanations\", \"BestRunExplainModel\"]}]}, {\"name\": \"experiment_status_description\", \"run_id\": \"AutoML_e1e37940-98de-4b0e-a305-48d874324c83\", \"categories\": [0, 1, 2, 3, 4, 5, 6, 7, 8, 9, 10, 11, 12, 13, 14], \"series\": [{\"data\": [\"Gathering dataset statistics.\", \"Generating features for the dataset.\", \"Beginning to fit featurizers and featurize the dataset.\", \"Completed fit featurizers and featurizing the dataset.\", \"Performing class balancing sweeping\", \"Generating individually featurized CV splits.\", \"Beginning model selection.\", \"Best run model explanations started\", \"Model explanations data setup completed\", \"Choosing LightGBM as the surrogate model for explanations\", \"Computation of engineered features started\", \"Computation of engineered features completed\", \"Computation of raw features started\", \"Computation of raw features completed\", \"Best run model explanations completed\"]}]}, {\"name\": \"average_precision_score_weighted\", \"run_id\": \"AutoML_e1e37940-98de-4b0e-a305-48d874324c83\", \"categories\": [0], \"series\": [{\"data\": [0.8328754907178809]}]}, {\"name\": \"weighted_accuracy\", \"run_id\": \"AutoML_e1e37940-98de-4b0e-a305-48d874324c83\", \"categories\": [0], \"series\": [{\"data\": [0.6256645028861377]}]}, {\"name\": \"f1_score_micro\", \"run_id\": \"AutoML_e1e37940-98de-4b0e-a305-48d874324c83\", \"categories\": [0], \"series\": [{\"data\": [0.7463864481716403]}]}, {\"name\": \"matthews_correlation\", \"run_id\": \"AutoML_e1e37940-98de-4b0e-a305-48d874324c83\", \"categories\": [0], \"series\": [{\"data\": [0.5094826373951603]}]}, {\"name\": \"AUC_macro\", \"run_id\": \"AutoML_e1e37940-98de-4b0e-a305-48d874324c83\", \"categories\": [0], \"series\": [{\"data\": [0.8395666139178115]}]}, {\"name\": \"log_loss\", \"run_id\": \"AutoML_e1e37940-98de-4b0e-a305-48d874324c83\", \"categories\": [0], \"series\": [{\"data\": [0.5159877674362667]}]}, {\"name\": \"average_precision_score_macro\", \"run_id\": \"AutoML_e1e37940-98de-4b0e-a305-48d874324c83\", \"categories\": [0], \"series\": [{\"data\": [0.832859579053437]}]}, {\"name\": \"f1_score_macro\", \"run_id\": \"AutoML_e1e37940-98de-4b0e-a305-48d874324c83\", \"categories\": [0], \"series\": [{\"data\": [0.7422408586052825]}]}, {\"name\": \"accuracy\", \"run_id\": \"AutoML_e1e37940-98de-4b0e-a305-48d874324c83\", \"categories\": [0], \"series\": [{\"data\": [0.7463864481716325]}]}, {\"name\": \"precision_score_weighted\", \"run_id\": \"AutoML_e1e37940-98de-4b0e-a305-48d874324c83\", \"categories\": [0], \"series\": [{\"data\": [0.7635746362863636]}]}, {\"name\": \"precision_score_micro\", \"run_id\": \"AutoML_e1e37940-98de-4b0e-a305-48d874324c83\", \"categories\": [0], \"series\": [{\"data\": [0.746386448171637]}]}, {\"name\": \"precision_score_macro\", \"run_id\": \"AutoML_e1e37940-98de-4b0e-a305-48d874324c83\", \"categories\": [0], \"series\": [{\"data\": [0.763693612582877]}]}, {\"name\": \"balanced_accuracy\", \"run_id\": \"AutoML_e1e37940-98de-4b0e-a305-48d874324c83\", \"categories\": [0], \"series\": [{\"data\": [0.7461821947834848]}]}, {\"name\": \"recall_score_macro\", \"run_id\": \"AutoML_e1e37940-98de-4b0e-a305-48d874324c83\", \"categories\": [0], \"series\": [{\"data\": [0.7461821947834848]}]}, {\"name\": \"f1_score_weighted\", \"run_id\": \"AutoML_e1e37940-98de-4b0e-a305-48d874324c83\", \"categories\": [0], \"series\": [{\"data\": [0.7422968155376207]}]}, {\"name\": \"AUC_weighted\", \"run_id\": \"AutoML_e1e37940-98de-4b0e-a305-48d874324c83\", \"categories\": [0], \"series\": [{\"data\": [0.8395666139178116]}]}, {\"name\": \"average_precision_score_micro\", \"run_id\": \"AutoML_e1e37940-98de-4b0e-a305-48d874324c83\", \"categories\": [0], \"series\": [{\"data\": [0.8307732709804513]}]}, {\"name\": \"norm_macro_recall\", \"run_id\": \"AutoML_e1e37940-98de-4b0e-a305-48d874324c83\", \"categories\": [0], \"series\": [{\"data\": [0.49236438956695205]}]}, {\"name\": \"AUC_micro\", \"run_id\": \"AutoML_e1e37940-98de-4b0e-a305-48d874324c83\", \"categories\": [0], \"series\": [{\"data\": [0.8332083244370763]}]}, {\"name\": \"recall_score_weighted\", \"run_id\": \"AutoML_e1e37940-98de-4b0e-a305-48d874324c83\", \"categories\": [0], \"series\": [{\"data\": [0.7463864481716437]}]}, {\"name\": \"recall_score_micro\", \"run_id\": \"AutoML_e1e37940-98de-4b0e-a305-48d874324c83\", \"categories\": [0], \"series\": [{\"data\": [0.7463864481716437]}]}], \"run_logs\": \"\\nRun is completed.\", \"graph\": {}, \"widget_settings\": {\"childWidgetDisplay\": \"popup\", \"send_telemetry\": false, \"log_level\": \"INFO\", \"sdk_version\": \"1.24.0\"}, \"loading\": false}"
     },
     "metadata": {},
     "output_type": "display_data"
    },
    {
     "data": {
      "text/plain": [
       "{'runId': 'AutoML_e1e37940-98de-4b0e-a305-48d874324c83',\n",
       " 'target': 'aml-cpu-cluster',\n",
       " 'status': 'Completed',\n",
       " 'startTimeUtc': '2021-03-30T10:22:09.357048Z',\n",
       " 'endTimeUtc': '2021-03-30T10:44:58.839146Z',\n",
       " 'properties': {'num_iterations': '1000',\n",
       "  'training_type': 'TrainFull',\n",
       "  'acquisition_function': 'EI',\n",
       "  'primary_metric': 'AUC_weighted',\n",
       "  'train_split': '0',\n",
       "  'acquisition_parameter': '0',\n",
       "  'num_cross_validation': '2',\n",
       "  'target': 'aml-cpu-cluster',\n",
       "  'AMLSettingsJsonString': '{\"path\":null,\"name\":\"aml-stroke-experiment\",\"subscription_id\":\"12cd141f-7e8d-40f4-ba6e-35b327775bd4\",\"resource_group\":\"ska_resources\",\"workspace_name\":\"capstone_project_workspace\",\"region\":\"eastus\",\"compute_target\":\"aml-cpu-cluster\",\"spark_service\":null,\"azure_service\":\"remote\",\"many_models\":false,\"pipeline_fetch_max_batch_size\":1,\"enable_batch_run\":false,\"iterations\":1000,\"primary_metric\":\"AUC_weighted\",\"task_type\":\"classification\",\"data_script\":null,\"validation_size\":0.0,\"n_cross_validations\":2,\"y_min\":null,\"y_max\":null,\"num_classes\":null,\"featurization\":\"auto\",\"_ignore_package_version_incompatibilities\":false,\"is_timeseries\":false,\"max_cores_per_iteration\":1,\"max_concurrent_iterations\":5,\"iteration_timeout_minutes\":null,\"mem_in_mb\":null,\"enforce_time_on_windows\":false,\"experiment_timeout_minutes\":30,\"experiment_exit_score\":null,\"whitelist_models\":null,\"blacklist_algos\":[\"TensorFlowLinearClassifier\",\"TensorFlowDNN\"],\"supported_models\":[\"XGBoostClassifier\",\"DecisionTree\",\"BernoulliNaiveBayes\",\"LogisticRegression\",\"MultinomialNaiveBayes\",\"LightGBM\",\"AveragedPerceptronClassifier\",\"ExtremeRandomTrees\",\"GradientBoosting\",\"LinearSVM\",\"TensorFlowDNN\",\"SGD\",\"KNN\",\"RandomForest\",\"SVM\",\"TensorFlowLinearClassifier\"],\"private_models\":[],\"auto_blacklist\":true,\"blacklist_samples_reached\":false,\"exclude_nan_labels\":true,\"verbosity\":20,\"_debug_log\":\"azureml_automl.log\",\"show_warnings\":false,\"model_explainability\":true,\"service_url\":null,\"sdk_url\":null,\"sdk_packages\":null,\"enable_onnx_compatible_models\":false,\"enable_split_onnx_featurizer_estimator_models\":false,\"vm_type\":\"STANDARD_D2_V2\",\"telemetry_verbosity\":20,\"send_telemetry\":true,\"enable_dnn\":false,\"scenario\":\"SDK-1.13.0\",\"environment_label\":null,\"save_mlflow\":false,\"force_text_dnn\":false,\"enable_feature_sweeping\":true,\"enable_early_stopping\":true,\"early_stopping_n_iters\":10,\"metrics\":null,\"enable_metric_confidence\":false,\"enable_ensembling\":true,\"enable_stack_ensembling\":true,\"ensemble_iterations\":15,\"enable_tf\":false,\"enable_subsampling\":null,\"subsample_seed\":null,\"enable_nimbusml\":false,\"enable_streaming\":false,\"force_streaming\":false,\"track_child_runs\":true,\"allowed_private_models\":[],\"label_column_name\":\"stroke\",\"weight_column_name\":null,\"cv_split_column_names\":null,\"enable_local_managed\":false,\"_local_managed_run_id\":null,\"cost_mode\":1,\"lag_length\":0,\"metric_operation\":\"maximize\",\"preprocess\":true}',\n",
       "  'DataPrepJsonString': '{\\\\\"training_data\\\\\": \\\\\"{\\\\\\\\\\\\\"blocks\\\\\\\\\\\\\": [{\\\\\\\\\\\\\"id\\\\\\\\\\\\\": \\\\\\\\\\\\\"8257c6bd-bdf0-4dad-a474-ad11b30fe8d9\\\\\\\\\\\\\", \\\\\\\\\\\\\"type\\\\\\\\\\\\\": \\\\\\\\\\\\\"Microsoft.DPrep.GetDatastoreFilesBlock\\\\\\\\\\\\\", \\\\\\\\\\\\\"arguments\\\\\\\\\\\\\": {\\\\\\\\\\\\\"datastores\\\\\\\\\\\\\": [{\\\\\\\\\\\\\"datastoreName\\\\\\\\\\\\\": \\\\\\\\\\\\\"workspaceblobstore\\\\\\\\\\\\\", \\\\\\\\\\\\\"path\\\\\\\\\\\\\": \\\\\\\\\\\\\"classified/dataset.csv\\\\\\\\\\\\\", \\\\\\\\\\\\\"resourceGroup\\\\\\\\\\\\\": \\\\\\\\\\\\\"ska_resources\\\\\\\\\\\\\", \\\\\\\\\\\\\"subscription\\\\\\\\\\\\\": \\\\\\\\\\\\\"12cd141f-7e8d-40f4-ba6e-35b327775bd4\\\\\\\\\\\\\", \\\\\\\\\\\\\"workspaceName\\\\\\\\\\\\\": \\\\\\\\\\\\\"capstone_project_workspace\\\\\\\\\\\\\"}]}, \\\\\\\\\\\\\"localData\\\\\\\\\\\\\": {}, \\\\\\\\\\\\\"isEnabled\\\\\\\\\\\\\": true, \\\\\\\\\\\\\"name\\\\\\\\\\\\\": null, \\\\\\\\\\\\\"annotation\\\\\\\\\\\\\": null}, {\\\\\\\\\\\\\"id\\\\\\\\\\\\\": \\\\\\\\\\\\\"f6cb6025-e732-4436-9291-659151cd58be\\\\\\\\\\\\\", \\\\\\\\\\\\\"type\\\\\\\\\\\\\": \\\\\\\\\\\\\"Microsoft.DPrep.ParseDelimitedBlock\\\\\\\\\\\\\", \\\\\\\\\\\\\"arguments\\\\\\\\\\\\\": {\\\\\\\\\\\\\"columnHeadersMode\\\\\\\\\\\\\": 3, \\\\\\\\\\\\\"fileEncoding\\\\\\\\\\\\\": 0, \\\\\\\\\\\\\"handleQuotedLineBreaks\\\\\\\\\\\\\": false, \\\\\\\\\\\\\"preview\\\\\\\\\\\\\": false, \\\\\\\\\\\\\"separator\\\\\\\\\\\\\": \\\\\\\\\\\\\",\\\\\\\\\\\\\", \\\\\\\\\\\\\"skipRows\\\\\\\\\\\\\": 0, \\\\\\\\\\\\\"skipRowsMode\\\\\\\\\\\\\": 0}, \\\\\\\\\\\\\"localData\\\\\\\\\\\\\": {}, \\\\\\\\\\\\\"isEnabled\\\\\\\\\\\\\": true, \\\\\\\\\\\\\"name\\\\\\\\\\\\\": null, \\\\\\\\\\\\\"annotation\\\\\\\\\\\\\": null}, {\\\\\\\\\\\\\"id\\\\\\\\\\\\\": \\\\\\\\\\\\\"ac13b5f5-8991-49d4-a644-5ce443eb0ad2\\\\\\\\\\\\\", \\\\\\\\\\\\\"type\\\\\\\\\\\\\": \\\\\\\\\\\\\"Microsoft.DPrep.DropColumnsBlock\\\\\\\\\\\\\", \\\\\\\\\\\\\"arguments\\\\\\\\\\\\\": {\\\\\\\\\\\\\"columns\\\\\\\\\\\\\": {\\\\\\\\\\\\\"type\\\\\\\\\\\\\": 0, \\\\\\\\\\\\\"details\\\\\\\\\\\\\": {\\\\\\\\\\\\\"selectedColumns\\\\\\\\\\\\\": [\\\\\\\\\\\\\"Path\\\\\\\\\\\\\"]}}}, \\\\\\\\\\\\\"localData\\\\\\\\\\\\\": {}, \\\\\\\\\\\\\"isEnabled\\\\\\\\\\\\\": true, \\\\\\\\\\\\\"name\\\\\\\\\\\\\": null, \\\\\\\\\\\\\"annotation\\\\\\\\\\\\\": null}, {\\\\\\\\\\\\\"id\\\\\\\\\\\\\": \\\\\\\\\\\\\"807f0f87-5b4a-4ee8-af0b-a34fcbaaacb6\\\\\\\\\\\\\", \\\\\\\\\\\\\"type\\\\\\\\\\\\\": \\\\\\\\\\\\\"Microsoft.DPrep.SetColumnTypesBlock\\\\\\\\\\\\\", \\\\\\\\\\\\\"arguments\\\\\\\\\\\\\": {\\\\\\\\\\\\\"columnConversion\\\\\\\\\\\\\": [{\\\\\\\\\\\\\"column\\\\\\\\\\\\\": {\\\\\\\\\\\\\"type\\\\\\\\\\\\\": 2, \\\\\\\\\\\\\"details\\\\\\\\\\\\\": {\\\\\\\\\\\\\"selectedColumn\\\\\\\\\\\\\": \\\\\\\\\\\\\"id\\\\\\\\\\\\\"}}, \\\\\\\\\\\\\"typeProperty\\\\\\\\\\\\\": 2}, {\\\\\\\\\\\\\"column\\\\\\\\\\\\\": {\\\\\\\\\\\\\"type\\\\\\\\\\\\\": 2, \\\\\\\\\\\\\"details\\\\\\\\\\\\\": {\\\\\\\\\\\\\"selectedColumn\\\\\\\\\\\\\": \\\\\\\\\\\\\"gender\\\\\\\\\\\\\"}}, \\\\\\\\\\\\\"typeProperty\\\\\\\\\\\\\": 2}, {\\\\\\\\\\\\\"column\\\\\\\\\\\\\": {\\\\\\\\\\\\\"type\\\\\\\\\\\\\": 2, \\\\\\\\\\\\\"details\\\\\\\\\\\\\": {\\\\\\\\\\\\\"selectedColumn\\\\\\\\\\\\\": \\\\\\\\\\\\\"age\\\\\\\\\\\\\"}}, \\\\\\\\\\\\\"typeProperty\\\\\\\\\\\\\": 3}, {\\\\\\\\\\\\\"column\\\\\\\\\\\\\": {\\\\\\\\\\\\\"type\\\\\\\\\\\\\": 2, \\\\\\\\\\\\\"details\\\\\\\\\\\\\": {\\\\\\\\\\\\\"selectedColumn\\\\\\\\\\\\\": \\\\\\\\\\\\\"hypertension\\\\\\\\\\\\\"}}, \\\\\\\\\\\\\"typeProperty\\\\\\\\\\\\\": 2}, {\\\\\\\\\\\\\"column\\\\\\\\\\\\\": {\\\\\\\\\\\\\"type\\\\\\\\\\\\\": 2, \\\\\\\\\\\\\"details\\\\\\\\\\\\\": {\\\\\\\\\\\\\"selectedColumn\\\\\\\\\\\\\": \\\\\\\\\\\\\"heart_disease\\\\\\\\\\\\\"}}, \\\\\\\\\\\\\"typeProperty\\\\\\\\\\\\\": 2}, {\\\\\\\\\\\\\"column\\\\\\\\\\\\\": {\\\\\\\\\\\\\"type\\\\\\\\\\\\\": 2, \\\\\\\\\\\\\"details\\\\\\\\\\\\\": {\\\\\\\\\\\\\"selectedColumn\\\\\\\\\\\\\": \\\\\\\\\\\\\"ever_married\\\\\\\\\\\\\"}}, \\\\\\\\\\\\\"typeProperty\\\\\\\\\\\\\": 1}, {\\\\\\\\\\\\\"column\\\\\\\\\\\\\": {\\\\\\\\\\\\\"type\\\\\\\\\\\\\": 2, \\\\\\\\\\\\\"details\\\\\\\\\\\\\": {\\\\\\\\\\\\\"selectedColumn\\\\\\\\\\\\\": \\\\\\\\\\\\\"work_type\\\\\\\\\\\\\"}}, \\\\\\\\\\\\\"typeProperty\\\\\\\\\\\\\": 2}, {\\\\\\\\\\\\\"column\\\\\\\\\\\\\": {\\\\\\\\\\\\\"type\\\\\\\\\\\\\": 2, \\\\\\\\\\\\\"details\\\\\\\\\\\\\": {\\\\\\\\\\\\\"selectedColumn\\\\\\\\\\\\\": \\\\\\\\\\\\\"Residence_type\\\\\\\\\\\\\"}}, \\\\\\\\\\\\\"typeProperty\\\\\\\\\\\\\": 2}, {\\\\\\\\\\\\\"column\\\\\\\\\\\\\": {\\\\\\\\\\\\\"type\\\\\\\\\\\\\": 2, \\\\\\\\\\\\\"details\\\\\\\\\\\\\": {\\\\\\\\\\\\\"selectedColumn\\\\\\\\\\\\\": \\\\\\\\\\\\\"avg_glucose_level\\\\\\\\\\\\\"}}, \\\\\\\\\\\\\"typeProperty\\\\\\\\\\\\\": 3}, {\\\\\\\\\\\\\"column\\\\\\\\\\\\\": {\\\\\\\\\\\\\"type\\\\\\\\\\\\\": 2, \\\\\\\\\\\\\"details\\\\\\\\\\\\\": {\\\\\\\\\\\\\"selectedColumn\\\\\\\\\\\\\": \\\\\\\\\\\\\"bmi\\\\\\\\\\\\\"}}, \\\\\\\\\\\\\"typeProperty\\\\\\\\\\\\\": 3}, {\\\\\\\\\\\\\"column\\\\\\\\\\\\\": {\\\\\\\\\\\\\"type\\\\\\\\\\\\\": 2, \\\\\\\\\\\\\"details\\\\\\\\\\\\\": {\\\\\\\\\\\\\"selectedColumn\\\\\\\\\\\\\": \\\\\\\\\\\\\"smoking_status\\\\\\\\\\\\\"}}, \\\\\\\\\\\\\"typeProperty\\\\\\\\\\\\\": 2}, {\\\\\\\\\\\\\"column\\\\\\\\\\\\\": {\\\\\\\\\\\\\"type\\\\\\\\\\\\\": 2, \\\\\\\\\\\\\"details\\\\\\\\\\\\\": {\\\\\\\\\\\\\"selectedColumn\\\\\\\\\\\\\": \\\\\\\\\\\\\"stroke\\\\\\\\\\\\\"}}, \\\\\\\\\\\\\"typeProperty\\\\\\\\\\\\\": 2}]}, \\\\\\\\\\\\\"localData\\\\\\\\\\\\\": {}, \\\\\\\\\\\\\"isEnabled\\\\\\\\\\\\\": true, \\\\\\\\\\\\\"name\\\\\\\\\\\\\": null, \\\\\\\\\\\\\"annotation\\\\\\\\\\\\\": null}], \\\\\\\\\\\\\"inspectors\\\\\\\\\\\\\": [], \\\\\\\\\\\\\"meta\\\\\\\\\\\\\": {\\\\\\\\\\\\\"savedDatasetId\\\\\\\\\\\\\": \\\\\\\\\\\\\"6bf5faee-8433-4dae-be4e-8ec9b410d058\\\\\\\\\\\\\", \\\\\\\\\\\\\"datasetType\\\\\\\\\\\\\": \\\\\\\\\\\\\"tabular\\\\\\\\\\\\\", \\\\\\\\\\\\\"subscriptionId\\\\\\\\\\\\\": \\\\\\\\\\\\\"12cd141f-7e8d-40f4-ba6e-35b327775bd4\\\\\\\\\\\\\", \\\\\\\\\\\\\"workspaceId\\\\\\\\\\\\\": \\\\\\\\\\\\\"89d491f1-2603-401d-9a8e-87b3aa451d3a\\\\\\\\\\\\\", \\\\\\\\\\\\\"workspaceLocation\\\\\\\\\\\\\": \\\\\\\\\\\\\"eastus\\\\\\\\\\\\\", \\\\\\\\\\\\\"partition_keys\\\\\\\\\\\\\": \\\\\\\\\\\\\"true\\\\\\\\\\\\\"}}\\\\\", \\\\\"activities\\\\\": 0}',\n",
       "  'EnableSubsampling': None,\n",
       "  'runTemplate': 'AutoML',\n",
       "  'azureml.runsource': 'automl',\n",
       "  'display_task_type': 'classification',\n",
       "  'dependencies_versions': '{\"azureml-widgets\": \"1.24.0\", \"azureml-train\": \"1.24.0\", \"azureml-train-restclients-hyperdrive\": \"1.24.0\", \"azureml-train-core\": \"1.24.0\", \"azureml-train-automl\": \"1.24.0\", \"azureml-train-automl-runtime\": \"1.24.0\", \"azureml-train-automl-client\": \"1.24.0\", \"azureml-tensorboard\": \"1.24.0\", \"azureml-telemetry\": \"1.24.0\", \"azureml-sdk\": \"1.24.0\", \"azureml-samples\": \"0+unknown\", \"azureml-pipeline\": \"1.24.0\", \"azureml-pipeline-steps\": \"1.24.0\", \"azureml-pipeline-core\": \"1.24.0\", \"azureml-opendatasets\": \"1.24.0\", \"azureml-model-management-sdk\": \"1.0.1b6.post1\", \"azureml-mlflow\": \"1.24.0\", \"azureml-interpret\": \"1.24.0\", \"azureml-explain-model\": \"1.24.0\", \"azureml-defaults\": \"1.24.0\", \"azureml-dataset-runtime\": \"1.24.0\", \"azureml-dataprep\": \"2.11.2\", \"azureml-dataprep-rslex\": \"1.9.1\", \"azureml-dataprep-native\": \"30.0.0\", \"azureml-datadrift\": \"1.24.0\", \"azureml-core\": \"1.24.0.post2\", \"azureml-contrib-services\": \"1.24.0\", \"azureml-contrib-server\": \"1.24.0\", \"azureml-contrib-reinforcementlearning\": \"1.24.0\", \"azureml-contrib-pipeline-steps\": \"1.24.0\", \"azureml-contrib-notebook\": \"1.24.0\", \"azureml-contrib-gbdt\": \"1.24.0\", \"azureml-contrib-fairness\": \"1.24.0\", \"azureml-contrib-dataset\": \"1.24.0\", \"azureml-cli-common\": \"1.24.0\", \"azureml-automl-runtime\": \"1.24.0\", \"azureml-automl-dnn-nlp\": \"1.24.0\", \"azureml-automl-core\": \"1.24.0\", \"azureml-accel-models\": \"1.24.0\"}',\n",
       "  '_aml_system_scenario_identification': 'Remote.Parent',\n",
       "  'ClientType': 'SDK',\n",
       "  'environment_cpu_name': 'AzureML-AutoML',\n",
       "  'environment_cpu_label': 'prod',\n",
       "  'environment_gpu_name': 'AzureML-AutoML-GPU',\n",
       "  'environment_gpu_label': 'prod',\n",
       "  'root_attribution': 'automl',\n",
       "  'attribution': 'AutoML',\n",
       "  'Orchestrator': 'AutoML',\n",
       "  'CancelUri': 'https://eastus.experiments.azureml.net/jasmine/v1.0/subscriptions/12cd141f-7e8d-40f4-ba6e-35b327775bd4/resourceGroups/ska_resources/providers/Microsoft.MachineLearningServices/workspaces/capstone_project_workspace/experimentids/5f36c50a-60bf-46fa-a67c-567445768bfa/cancel/AutoML_e1e37940-98de-4b0e-a305-48d874324c83',\n",
       "  'ClientSdkVersion': '1.24.0',\n",
       "  'snapshotId': '00000000-0000-0000-0000-000000000000',\n",
       "  'SetupRunId': 'AutoML_e1e37940-98de-4b0e-a305-48d874324c83_setup',\n",
       "  'SetupRunContainerId': 'dcid.AutoML_e1e37940-98de-4b0e-a305-48d874324c83_setup',\n",
       "  'FeaturizationRunJsonPath': 'featurizer_container.json',\n",
       "  'FeaturizationRunId': 'AutoML_e1e37940-98de-4b0e-a305-48d874324c83_featurize',\n",
       "  'ProblemInfoJsonString': '{\"dataset_num_categorical\": 0, \"is_sparse\": true, \"subsampling\": false, \"dataset_classes\": 2, \"dataset_features\": 16, \"dataset_samples\": 3577, \"single_frequency_class_detected\": false}',\n",
       "  'ModelExplainRunId': 'AutoML_e1e37940-98de-4b0e-a305-48d874324c83_ModelExplain'},\n",
       " 'inputDatasets': [{'dataset': {'id': '6bf5faee-8433-4dae-be4e-8ec9b410d058'}, 'consumptionDetails': {'type': 'RunInput', 'inputName': 'training_data', 'mechanism': 'Direct'}}],\n",
       " 'outputDatasets': [],\n",
       " 'logFiles': {},\n",
       " 'submittedBy': 'Francesco Scalise'}"
      ]
     },
     "execution_count": 9,
     "metadata": {},
     "output_type": "execute_result"
    }
   ],
   "source": [
    "RunDetails(remote_run).show()\n",
    "remote_run.wait_for_completion()"
   ]
  },
  {
   "cell_type": "markdown",
   "metadata": {},
   "source": [
    "## Best Model\n",
    "\n",
    "TODO: In the cell below, get the best model from the automl experiments and display all the properties of the model.\n",
    "\n"
   ]
  },
  {
   "cell_type": "code",
   "execution_count": 12,
   "metadata": {
    "collapsed": false,
    "gather": {
     "logged": 1598431425670
    },
    "jupyter": {
     "outputs_hidden": false,
     "source_hidden": false
    },
    "nteract": {
     "transient": {
      "deleting": false
     }
    }
   },
   "outputs": [
    {
     "name": "stdout",
     "output_type": "stream",
     "text": [
      "Run(Experiment: aml-stroke-experiment,\n",
      "Id: AutoML_e1e37940-98de-4b0e-a305-48d874324c83_38,\n",
      "Type: azureml.scriptrun,\n",
      "Status: Completed)\n",
      "[('15', Pipeline(steps=[('standardscalerwrapper',\n",
      "                 <azureml.automl.runtime.shared.model_wrappers.StandardScalerWrapper object at 0x7f390cb9ebe0>),\n",
      "                ('extratreesclassifier',\n",
      "                 ExtraTreesClassifier(max_features=None,\n",
      "                                      min_samples_leaf=0.06157894736842105,\n",
      "                                      min_samples_split=0.15052631578947367,\n",
      "                                      n_estimators=10, n_jobs=1))])), ('5', Pipeline(steps=[('maxabsscaler', MaxAbsScaler()),\n",
      "                ('extratreesclassifier',\n",
      "                 ExtraTreesClassifier(bootstrap=True, max_features=0.9,\n",
      "                                      min_samples_leaf=0.01,\n",
      "                                      min_samples_split=0.15052631578947367,\n",
      "                                      n_estimators=10, n_jobs=1,\n",
      "                                      oob_score=True))])), ('28', Pipeline(steps=[('maxabsscaler', MaxAbsScaler()),\n",
      "                ('extratreesclassifier',\n",
      "                 ExtraTreesClassifier(bootstrap=True, class_weight='balanced',\n",
      "                                      max_features=None, min_samples_leaf=0.01,\n",
      "                                      min_samples_split=0.056842105263157895,\n",
      "                                      n_estimators=50, n_jobs=1,\n",
      "                                      oob_score=True))])), ('27', Pipeline(steps=[('standardscalerwrapper',\n",
      "                 <azureml.automl.runtime.shared.model_wrappers.StandardScalerWrapper object at 0x7f390cc25080>),\n",
      "                ('randomforestclassifier',\n",
      "                 RandomForestClassifier(bootstrap=False, criterion='entropy',\n",
      "                                        max_features=0.3, min_samples_leaf=0.01,\n",
      "                                        min_samples_split=0.19736842105263158,\n",
      "                                        n_estimators=200, n_jobs=1))])), ('13', Pipeline(steps=[('standardscalerwrapper',\n",
      "                 <azureml.automl.runtime.shared.model_wrappers.StandardScalerWrapper object at 0x7f390710a048>),\n",
      "                ('xgboostclassifier',\n",
      "                 XGBoostClassifier(base_score=0.5, booster='gbtree',\n",
      "                                   colsample_bylevel=1, colsample_bynode=1,\n",
      "                                   colsample_bytree=0.7, eta=0.001, gamma=0,\n",
      "                                   learning_rate=0.1, max_delta_step=0,\n",
      "                                   max_depth=5, max_leaves=0,\n",
      "                                   min_child_weight=1, missing=nan,\n",
      "                                   n_estimators=10, nthread=None,\n",
      "                                   objective='reg:logistic',\n",
      "                                   reg_alpha=1.1458333333333335,\n",
      "                                   reg_lambda=1.3541666666666667,\n",
      "                                   scale_pos_weight=1, seed=None, silent=None,\n",
      "                                   subsample=0.6, tree_method='auto',\n",
      "                                   verbose=-10, verbosity=0))])), ('14', Pipeline(steps=[('maxabsscaler', MaxAbsScaler()),\n",
      "                ('randomforestclassifier',\n",
      "                 RandomForestClassifier(max_features='log2',\n",
      "                                        min_samples_leaf=0.01,\n",
      "                                        min_samples_split=0.01, n_estimators=10,\n",
      "                                        n_jobs=1))])), ('16', Pipeline(steps=[('maxabsscaler', MaxAbsScaler()),\n",
      "                ('extratreesclassifier',\n",
      "                 ExtraTreesClassifier(bootstrap=True, class_weight='balanced',\n",
      "                                      max_features=0.4, min_samples_leaf=0.01,\n",
      "                                      min_samples_split=0.15052631578947367,\n",
      "                                      n_estimators=10, n_jobs=1,\n",
      "                                      oob_score=True))])), ('26', Pipeline(steps=[('maxabsscaler', MaxAbsScaler()),\n",
      "                ('lightgbmclassifier',\n",
      "                 LightGBMClassifier(boosting_type='goss', class_weight=None,\n",
      "                                    colsample_bytree=0.8911111111111111,\n",
      "                                    importance_type='split',\n",
      "                                    learning_rate=0.04737368421052632,\n",
      "                                    max_bin=60, max_depth=10,\n",
      "                                    min_child_samples=25, min_child_weight=9,\n",
      "                                    min_split_gain=0.631578947368421,\n",
      "                                    n_estimators=200, num_leaves=107,\n",
      "                                    objective=None,\n",
      "                                    reg_alpha=0.5263157894736842,\n",
      "                                    reg_lambda=0.05263157894736842, silent=True,\n",
      "                                    subsample=1, subsample_for_bin=200000,\n",
      "                                    subsample_freq=0, verbose=-10))])), ('29', Pipeline(steps=[('maxabsscaler', MaxAbsScaler()),\n",
      "                ('randomforestclassifier',\n",
      "                 RandomForestClassifier(bootstrap=False,\n",
      "                                        class_weight='balanced',\n",
      "                                        max_features=0.5,\n",
      "                                        min_samples_leaf=0.035789473684210524,\n",
      "                                        min_samples_split=0.29105263157894734,\n",
      "                                        n_estimators=400, n_jobs=1))])), ('10', Pipeline(steps=[('maxabsscaler', MaxAbsScaler()),\n",
      "                ('randomforestclassifier',\n",
      "                 RandomForestClassifier(class_weight='balanced',\n",
      "                                        criterion='entropy',\n",
      "                                        max_features='sqrt',\n",
      "                                        min_samples_leaf=0.01,\n",
      "                                        min_samples_split=0.2442105263157895,\n",
      "                                        n_estimators=10, n_jobs=1))])), ('33', Pipeline(steps=[('truncatedsvdwrapper', TruncatedSVDWrapper(n_components=0.95)),\n",
      "                ('xgboostclassifier',\n",
      "                 XGBoostClassifier(base_score=0.5, booster='gbtree',\n",
      "                                   colsample_bylevel=0.5, colsample_bynode=1,\n",
      "                                   colsample_bytree=1, eta=0.2, gamma=0.1,\n",
      "                                   learning_rate=0.1, max_delta_step=0,\n",
      "                                   max_depth=8, max_leaves=0,\n",
      "                                   min_child_weight=1, missing=nan,\n",
      "                                   n_estimators=100, nthread=None,\n",
      "                                   objective='reg:logistic', reg_alpha=0,\n",
      "                                   reg_lambda=2.5, scale_pos_weight=1,\n",
      "                                   seed=None, silent=None, subsample=1,\n",
      "                                   tree_method='auto', verbose=-10,\n",
      "                                   verbosity=0))]))]\n",
      "0.8395666139178116\n"
     ]
    }
   ],
   "source": [
    "best_automl_run, automl_model = remote_run.get_output()\n",
    "\n",
    "# Best run\n",
    "print(best_automl_run)\n",
    "\n",
    "# Parameters\n",
    "print(automl_model.steps[1][1].estimators)\n",
    "\n",
    "#Best run accuracy\n",
    "print(best_automl_run.properties['score'])"
   ]
  },
  {
   "cell_type": "code",
   "execution_count": 11,
   "metadata": {
    "collapsed": false,
    "gather": {
     "logged": 1598431426111
    },
    "jupyter": {
     "outputs_hidden": false,
     "source_hidden": false
    },
    "nteract": {
     "transient": {
      "deleting": false
     }
    }
   },
   "outputs": [
    {
     "data": {
      "text/plain": [
       "'outputs/model.pkl'"
      ]
     },
     "execution_count": 11,
     "metadata": {},
     "output_type": "execute_result"
    }
   ],
   "source": [
    "#Save the best model\n",
    "automl_model = remote_run.register_model(model_name='stroke-experiment-model')\n",
    "\n",
    "automl_model.download(target_dir=\"outputs\", exist_ok=True)"
   ]
  },
  {
   "cell_type": "markdown",
   "metadata": {},
   "source": [
    "## Model Deployment\n",
    "\n",
    "Remember you have to deploy only one of the two models you trained.. Perform the steps in the rest of this notebook only if you wish to deploy this model.\n",
    "\n",
    "TODO: In the cell below, register the model, create an inference config and deploy the model as a web service."
   ]
  },
  {
   "cell_type": "code",
   "execution_count": null,
   "metadata": {
    "collapsed": false,
    "gather": {
     "logged": 1598431435189
    },
    "jupyter": {
     "outputs_hidden": false,
     "source_hidden": false
    },
    "nteract": {
     "transient": {
      "deleting": false
     }
    }
   },
   "outputs": [],
   "source": []
  },
  {
   "cell_type": "markdown",
   "metadata": {
    "gather": {
     "logged": 1598431657736
    },
    "jupyter": {
     "outputs_hidden": false,
     "source_hidden": false
    },
    "nteract": {
     "transient": {
      "deleting": false
     }
    }
   },
   "source": [
    "TODO: In the cell below, send a request to the web service you deployed to test it."
   ]
  },
  {
   "cell_type": "code",
   "execution_count": null,
   "metadata": {
    "collapsed": false,
    "gather": {
     "logged": 1598432707604
    },
    "jupyter": {
     "outputs_hidden": false,
     "source_hidden": false
    },
    "nteract": {
     "transient": {
      "deleting": false
     }
    }
   },
   "outputs": [],
   "source": []
  },
  {
   "cell_type": "markdown",
   "metadata": {
    "gather": {
     "logged": 1598432765711
    },
    "jupyter": {
     "outputs_hidden": false,
     "source_hidden": false
    },
    "nteract": {
     "transient": {
      "deleting": false
     }
    }
   },
   "source": [
    "TODO: In the cell below, print the logs of the web service and delete the service"
   ]
  },
  {
   "cell_type": "code",
   "execution_count": null,
   "metadata": {
    "collapsed": false,
    "jupyter": {
     "outputs_hidden": false,
     "source_hidden": false
    },
    "nteract": {
     "transient": {
      "deleting": false
     }
    }
   },
   "outputs": [],
   "source": []
  }
 ],
 "metadata": {
  "kernel_info": {
   "name": "python3"
  },
  "kernelspec": {
   "display_name": "Python 3",
   "language": "python",
   "name": "python3"
  },
  "language_info": {
   "codemirror_mode": {
    "name": "ipython",
    "version": 3
   },
   "file_extension": ".py",
   "mimetype": "text/x-python",
   "name": "python",
   "nbconvert_exporter": "python",
   "pygments_lexer": "ipython3",
   "version": "3.6.9"
  },
  "microsoft": {
   "host": {
    "AzureML": {
     "notebookHasBeenCompleted": true
    }
   }
  },
  "nteract": {
   "version": "nteract-front-end@1.0.0"
  }
 },
 "nbformat": 4,
 "nbformat_minor": 4
}
