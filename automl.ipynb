{
 "cells": [
  {
   "cell_type": "markdown",
   "metadata": {},
   "source": [
    "# Automated ML\n",
    "\n",
    "TODO: Import Dependencies. In the cell below, import all the dependencies that you will need to complete the project."
   ]
  },
  {
   "cell_type": "code",
   "execution_count": 1,
   "metadata": {
    "collapsed": false,
    "gather": {
     "logged": 1616782242336
    },
    "jupyter": {
     "outputs_hidden": false,
     "source_hidden": false
    },
    "nteract": {
     "transient": {
      "deleting": false
     }
    }
   },
   "outputs": [],
   "source": [
    "import logging\n",
    "import os\n",
    "import csv\n",
    "\n",
    "from matplotlib import pyplot as plt\n",
    "import numpy as np\n",
    "import pandas as pd\n",
    "from sklearn import datasets\n",
    "import pkg_resources\n",
    "\n",
    "import azureml.core\n",
    "from azureml.core.experiment import Experiment\n",
    "from azureml.core.workspace import Workspace\n",
    "from azureml.train.automl import AutoMLConfig\n",
    "from azureml.core.dataset import Dataset\n",
    "from azureml.core.datastore import Datastore\n",
    "\n",
    "from azureml.pipeline.steps import AutoMLStep\n",
    "\n",
    "from azureml.core.compute import AmlCompute\n",
    "from azureml.core.compute import ComputeTarget\n",
    "from azureml.core.compute_target import ComputeTargetException\n",
    "\n",
    "from azureml.widgets import RunDetails\n",
    "\n",
    "from sklearn.model_selection import train_test_split\n",
    "import pandas as pd\n",
    "from azureml.data.dataset_factory import TabularDatasetFactory\n"
   ]
  },
  {
   "cell_type": "markdown",
   "metadata": {},
   "source": [
    "## Dataset\n",
    "\n",
    "### Overview\n",
    "TODO: In this markdown cell, give an overview of the dataset you are using. Also mention the task you will be performing.\n",
    "\n",
    "\n",
    "TODO: Get data. In the cell below, write code to access the data you will be using in this project. Remember that the dataset needs to be external."
   ]
  },
  {
   "cell_type": "code",
   "execution_count": 2,
   "metadata": {
    "collapsed": false,
    "gather": {
     "logged": 1616782250919
    },
    "jupyter": {
     "outputs_hidden": false,
     "source_hidden": false
    },
    "nteract": {
     "transient": {
      "deleting": false
     }
    }
   },
   "outputs": [],
   "source": [
    "workspace = Workspace.from_config()\n",
    "\n",
    "# choose a name for experiment\n",
    "experiment_name = 'aml-stroke-experiment'\n",
    "project_folder = './aml-project'\n",
    "\n",
    "experiment=Experiment(workspace, experiment_name)\n"
   ]
  },
  {
   "cell_type": "code",
   "execution_count": 3,
   "metadata": {
    "gather": {
     "logged": 1616782257481
    }
   },
   "outputs": [
    {
     "data": {
      "text/html": [
       "<div>\n",
       "<style scoped>\n",
       "    .dataframe tbody tr th:only-of-type {\n",
       "        vertical-align: middle;\n",
       "    }\n",
       "\n",
       "    .dataframe tbody tr th {\n",
       "        vertical-align: top;\n",
       "    }\n",
       "\n",
       "    .dataframe thead th {\n",
       "        text-align: right;\n",
       "    }\n",
       "</style>\n",
       "<table border=\"1\" class=\"dataframe\">\n",
       "  <thead>\n",
       "    <tr style=\"text-align: right;\">\n",
       "      <th></th>\n",
       "      <th>id</th>\n",
       "      <th>age</th>\n",
       "      <th>hypertension</th>\n",
       "      <th>heart_disease</th>\n",
       "      <th>avg_glucose_level</th>\n",
       "      <th>stroke</th>\n",
       "    </tr>\n",
       "  </thead>\n",
       "  <tbody>\n",
       "    <tr>\n",
       "      <th>count</th>\n",
       "      <td>5110.000000</td>\n",
       "      <td>5110.000000</td>\n",
       "      <td>5110.000000</td>\n",
       "      <td>5110.000000</td>\n",
       "      <td>5110.000000</td>\n",
       "      <td>5110.000000</td>\n",
       "    </tr>\n",
       "    <tr>\n",
       "      <th>mean</th>\n",
       "      <td>36517.829354</td>\n",
       "      <td>43.226614</td>\n",
       "      <td>0.097456</td>\n",
       "      <td>0.054012</td>\n",
       "      <td>106.147677</td>\n",
       "      <td>0.048728</td>\n",
       "    </tr>\n",
       "    <tr>\n",
       "      <th>std</th>\n",
       "      <td>21161.721625</td>\n",
       "      <td>22.612647</td>\n",
       "      <td>0.296607</td>\n",
       "      <td>0.226063</td>\n",
       "      <td>45.283560</td>\n",
       "      <td>0.215320</td>\n",
       "    </tr>\n",
       "    <tr>\n",
       "      <th>min</th>\n",
       "      <td>67.000000</td>\n",
       "      <td>0.080000</td>\n",
       "      <td>0.000000</td>\n",
       "      <td>0.000000</td>\n",
       "      <td>55.120000</td>\n",
       "      <td>0.000000</td>\n",
       "    </tr>\n",
       "    <tr>\n",
       "      <th>25%</th>\n",
       "      <td>17741.250000</td>\n",
       "      <td>25.000000</td>\n",
       "      <td>0.000000</td>\n",
       "      <td>0.000000</td>\n",
       "      <td>77.245000</td>\n",
       "      <td>0.000000</td>\n",
       "    </tr>\n",
       "    <tr>\n",
       "      <th>50%</th>\n",
       "      <td>36932.000000</td>\n",
       "      <td>45.000000</td>\n",
       "      <td>0.000000</td>\n",
       "      <td>0.000000</td>\n",
       "      <td>91.885000</td>\n",
       "      <td>0.000000</td>\n",
       "    </tr>\n",
       "    <tr>\n",
       "      <th>75%</th>\n",
       "      <td>54682.000000</td>\n",
       "      <td>61.000000</td>\n",
       "      <td>0.000000</td>\n",
       "      <td>0.000000</td>\n",
       "      <td>114.090000</td>\n",
       "      <td>0.000000</td>\n",
       "    </tr>\n",
       "    <tr>\n",
       "      <th>max</th>\n",
       "      <td>72940.000000</td>\n",
       "      <td>82.000000</td>\n",
       "      <td>1.000000</td>\n",
       "      <td>1.000000</td>\n",
       "      <td>271.740000</td>\n",
       "      <td>1.000000</td>\n",
       "    </tr>\n",
       "  </tbody>\n",
       "</table>\n",
       "</div>"
      ],
      "text/plain": [
       "                 id          age  hypertension  heart_disease  \\\n",
       "count   5110.000000  5110.000000   5110.000000    5110.000000   \n",
       "mean   36517.829354    43.226614      0.097456       0.054012   \n",
       "std    21161.721625    22.612647      0.296607       0.226063   \n",
       "min       67.000000     0.080000      0.000000       0.000000   \n",
       "25%    17741.250000    25.000000      0.000000       0.000000   \n",
       "50%    36932.000000    45.000000      0.000000       0.000000   \n",
       "75%    54682.000000    61.000000      0.000000       0.000000   \n",
       "max    72940.000000    82.000000      1.000000       1.000000   \n",
       "\n",
       "       avg_glucose_level       stroke  \n",
       "count        5110.000000  5110.000000  \n",
       "mean          106.147677     0.048728  \n",
       "std            45.283560     0.215320  \n",
       "min            55.120000     0.000000  \n",
       "25%            77.245000     0.000000  \n",
       "50%            91.885000     0.000000  \n",
       "75%           114.090000     0.000000  \n",
       "max           271.740000     1.000000  "
      ]
     },
     "execution_count": 3,
     "metadata": {},
     "output_type": "execute_result"
    }
   ],
   "source": [
    "found = False\n",
    "key = \"stroke-dataset\"\n",
    "description_text = \"Stroke Dataset - Capstone project\"\n",
    "\n",
    "if key in workspace.datasets.keys(): \n",
    "        found = True\n",
    "        dataset = workspace.datasets[key] \n",
    "\n",
    "if not found:\n",
    "        # Create AML Dataset and register it into Workspace\n",
    "        example_data = 'https://raw.githubusercontent.com/ciccioska/Udacity-AzureML-Capstone-Project/master/healthcare-dataset-stroke-data.csv'\n",
    "        dataset = Dataset.Tabular.from_delimited_files(example_data) \n",
    "\n",
    "        #Register Dataset in Workspace\n",
    "        dataset = dataset.register(workspace=workspace,\n",
    "                                   name=key,\n",
    "                                   description=description_text)\n",
    "\n",
    "\n",
    "x_df = dataset.to_pandas_dataframe().dropna()\n",
    "\n",
    "x_df.describe()"
   ]
  },
  {
   "cell_type": "code",
   "execution_count": 4,
   "metadata": {},
   "outputs": [
    {
     "data": {
      "text/html": [
       "<div>\n",
       "<style scoped>\n",
       "    .dataframe tbody tr th:only-of-type {\n",
       "        vertical-align: middle;\n",
       "    }\n",
       "\n",
       "    .dataframe tbody tr th {\n",
       "        vertical-align: top;\n",
       "    }\n",
       "\n",
       "    .dataframe thead th {\n",
       "        text-align: right;\n",
       "    }\n",
       "</style>\n",
       "<table border=\"1\" class=\"dataframe\">\n",
       "  <thead>\n",
       "    <tr style=\"text-align: right;\">\n",
       "      <th></th>\n",
       "      <th>id</th>\n",
       "      <th>gender</th>\n",
       "      <th>age</th>\n",
       "      <th>hypertension</th>\n",
       "      <th>heart_disease</th>\n",
       "      <th>ever_married</th>\n",
       "      <th>work_type</th>\n",
       "      <th>Residence_type</th>\n",
       "      <th>avg_glucose_level</th>\n",
       "      <th>bmi</th>\n",
       "      <th>smoking_status</th>\n",
       "      <th>stroke</th>\n",
       "    </tr>\n",
       "  </thead>\n",
       "  <tbody>\n",
       "    <tr>\n",
       "      <th>2520</th>\n",
       "      <td>12298</td>\n",
       "      <td>1</td>\n",
       "      <td>26.0</td>\n",
       "      <td>0</td>\n",
       "      <td>0</td>\n",
       "      <td>False</td>\n",
       "      <td>0</td>\n",
       "      <td>1</td>\n",
       "      <td>200.28</td>\n",
       "      <td>31.9</td>\n",
       "      <td>2</td>\n",
       "      <td>0</td>\n",
       "    </tr>\n",
       "    <tr>\n",
       "      <th>333</th>\n",
       "      <td>1703</td>\n",
       "      <td>0</td>\n",
       "      <td>52.0</td>\n",
       "      <td>0</td>\n",
       "      <td>0</td>\n",
       "      <td>True</td>\n",
       "      <td>1</td>\n",
       "      <td>1</td>\n",
       "      <td>82.24</td>\n",
       "      <td>54.7</td>\n",
       "      <td>2</td>\n",
       "      <td>0</td>\n",
       "    </tr>\n",
       "    <tr>\n",
       "      <th>2991</th>\n",
       "      <td>5780</td>\n",
       "      <td>0</td>\n",
       "      <td>47.0</td>\n",
       "      <td>0</td>\n",
       "      <td>0</td>\n",
       "      <td>True</td>\n",
       "      <td>1</td>\n",
       "      <td>1</td>\n",
       "      <td>74.63</td>\n",
       "      <td>45.3</td>\n",
       "      <td>-1</td>\n",
       "      <td>0</td>\n",
       "    </tr>\n",
       "    <tr>\n",
       "      <th>876</th>\n",
       "      <td>19742</td>\n",
       "      <td>0</td>\n",
       "      <td>37.0</td>\n",
       "      <td>0</td>\n",
       "      <td>0</td>\n",
       "      <td>True</td>\n",
       "      <td>1</td>\n",
       "      <td>1</td>\n",
       "      <td>106.35</td>\n",
       "      <td>29.7</td>\n",
       "      <td>-1</td>\n",
       "      <td>0</td>\n",
       "    </tr>\n",
       "    <tr>\n",
       "      <th>4604</th>\n",
       "      <td>46691</td>\n",
       "      <td>1</td>\n",
       "      <td>16.0</td>\n",
       "      <td>0</td>\n",
       "      <td>0</td>\n",
       "      <td>False</td>\n",
       "      <td>-1</td>\n",
       "      <td>1</td>\n",
       "      <td>140.10</td>\n",
       "      <td>38.7</td>\n",
       "      <td>-1</td>\n",
       "      <td>0</td>\n",
       "    </tr>\n",
       "  </tbody>\n",
       "</table>\n",
       "</div>"
      ],
      "text/plain": [
       "         id  gender   age  hypertension  heart_disease  ever_married  \\\n",
       "2520  12298       1  26.0             0              0         False   \n",
       "333    1703       0  52.0             0              0          True   \n",
       "2991   5780       0  47.0             0              0          True   \n",
       "876   19742       0  37.0             0              0          True   \n",
       "4604  46691       1  16.0             0              0         False   \n",
       "\n",
       "      work_type  Residence_type  avg_glucose_level   bmi  smoking_status  \\\n",
       "2520          0               1             200.28  31.9               2   \n",
       "333           1               1              82.24  54.7               2   \n",
       "2991          1               1              74.63  45.3              -1   \n",
       "876           1               1             106.35  29.7              -1   \n",
       "4604         -1               1             140.10  38.7              -1   \n",
       "\n",
       "      stroke  \n",
       "2520       0  \n",
       "333        0  \n",
       "2991       0  \n",
       "876        0  \n",
       "4604       0  "
      ]
     },
     "execution_count": 4,
     "metadata": {},
     "output_type": "execute_result"
    }
   ],
   "source": [
    "#prepare dataset\n",
    "x_df[\"work_type\"] = x_df.work_type.apply(lambda s: 1 if s == \"Private\" else 0 if s == \"Self-employed\" else -1)\n",
    "x_df[\"bmi\"] = x_df.bmi.apply(lambda s: 0 if s == \"N/A\" else s)\n",
    "x_df[\"gender\"] = x_df.gender.apply(lambda s: 1 if s == \"Male\" else 0)\n",
    "x_df[\"Residence_type\"] = x_df.Residence_type.apply(lambda s: 1 if s == \"Urban\" else 0)\n",
    "x_df[\"smoking_status\"] = x_df.smoking_status.apply(lambda s: 1 if s == \"smokes\" else -1 if s == \"never smoked\" else 2 if s == \"formerly smoked\" else 0)        \n",
    "\n",
    "y_df = x_df.pop(\"stroke\")\n",
    "\n",
    "# Split data into train and test sets.\n",
    "(x_train, x_test, y_train, y_test) = train_test_split(x_df, y_df, test_size = 0.3)\n",
    "label = \"stroke\"\n",
    "\n",
    "train_data_df = pd.concat([x_train, y_train], axis=1)\n",
    "test_data_df = pd.concat([x_test, y_train], axis=1)\n",
    "\n",
    "# view train dataset\n",
    "train_data_df.head()\n"
   ]
  },
  {
   "cell_type": "code",
   "execution_count": 5,
   "metadata": {},
   "outputs": [
    {
     "name": "stdout",
     "output_type": "stream",
     "text": [
      "Uploading an estimated of 2 files\n",
      "Uploading ./data/dataset.csv\n",
      "Uploaded ./data/dataset.csv, 1 files out of an estimated total of 2\n",
      "Uploading ./data/.ipynb_checkpoints/dataset-checkpoint.csv\n",
      "Uploaded ./data/.ipynb_checkpoints/dataset-checkpoint.csv, 2 files out of an estimated total of 2\n",
      "Uploaded 2 files\n"
     ]
    }
   ],
   "source": [
    "\n",
    "# create a csv file to use with AutoML\n",
    "if not os.path.isdir('data'): \n",
    "    os.mkdir('data')\n",
    "    \n",
    "# save csv file to datastore\n",
    "pd.DataFrame(train_data_df).to_csv(\"data/dataset.csv\", index=False)\n",
    "\n",
    "# upload to datastore\n",
    "datastore = workspace.get_default_datastore()\n",
    "datastore.upload(src_dir='./data', target_path='classified', overwrite=True, show_progress=True)\n",
    "\n",
    " # datastore for AutoML\n",
    "training_data = TabularDatasetFactory.from_delimited_files(path=datastore.path('classified/dataset.csv'))"
   ]
  },
  {
   "cell_type": "code",
   "execution_count": 6,
   "metadata": {
    "gather": {
     "logged": 1616782392966
    }
   },
   "outputs": [
    {
     "name": "stdout",
     "output_type": "stream",
     "text": [
      "Creating....\n",
      "SucceededProvisioning operation finished, operation \"Succeeded\"\n",
      "Succeeded.......................\n",
      "AmlCompute wait for completion finished\n",
      "\n",
      "Wait timeout has been reached\n",
      "Current provisioning state of AmlCompute is \"Succeeded\" and current node count is \"0\"\n"
     ]
    }
   ],
   "source": [
    "\n",
    "amlcompute_cluster_name = \"aml-cpu-cluster\"\n",
    "\n",
    "# Verify that cluster does not exist already\n",
    "try:\n",
    "    compute_target = ComputeTarget(workspace=workspace, name=amlcompute_cluster_name)\n",
    "    print('Found existing cluster, use it.')\n",
    "except ComputeTargetException:\n",
    "    compute_config = AmlCompute.provisioning_configuration(vm_size='STANDARD_D2_V2',\n",
    "                                                           max_nodes=4)\n",
    "    compute_target = ComputeTarget.create(workspace, amlcompute_cluster_name, compute_config)\n",
    "\n",
    "compute_target.wait_for_completion(show_output=True, min_node_count = 1, timeout_in_minutes = 2)"
   ]
  },
  {
   "cell_type": "markdown",
   "metadata": {},
   "source": [
    "## AutoML Configuration\n",
    "\n",
    "TODO: Explain why you chose the automl settings and cofiguration you used below."
   ]
  },
  {
   "cell_type": "code",
   "execution_count": 7,
   "metadata": {
    "collapsed": false,
    "gather": {
     "logged": 1616782419367
    },
    "jupyter": {
     "outputs_hidden": false,
     "source_hidden": false
    },
    "nteract": {
     "transient": {
      "deleting": false
     }
    }
   },
   "outputs": [],
   "source": [
    "automl_settings = {\n",
    "    \"n_cross_validations\": 2,\n",
    "    \"experiment_timeout_minutes\": 30,\n",
    "    \"max_concurrent_iterations\": 5,\n",
    "    \"primary_metric\" : 'AUC_weighted',\n",
    "    \"verbosity\": logging.INFO\n",
    "}\n",
    "\n",
    "automl_config = AutoMLConfig(compute_target=compute_target,\n",
    "                             task = \"classification\",\n",
    "                             training_data=training_data,\n",
    "                             label_column_name=\"stroke\",   \n",
    "                             path = project_folder,\n",
    "                             enable_early_stopping= True,\n",
    "                             featurization= 'auto',\n",
    "                             debug_log = \"automl_errors.log\",\n",
    "                             **automl_settings\n",
    "                            )"
   ]
  },
  {
   "cell_type": "code",
   "execution_count": 8,
   "metadata": {
    "collapsed": false,
    "gather": {
     "logged": 1616783849165
    },
    "jupyter": {
     "outputs_hidden": false,
     "source_hidden": false
    },
    "nteract": {
     "transient": {
      "deleting": false
     }
    }
   },
   "outputs": [
    {
     "name": "stdout",
     "output_type": "stream",
     "text": [
      "Running on remote.\n",
      "No run_configuration provided, running on aml-cpu-cluster with default configuration\n",
      "Running on remote compute: aml-cpu-cluster\n",
      "Parent Run ID: AutoML_6cbddc76-77a8-4440-84d1-54b965184012\n",
      "\n",
      "Current status: FeaturesGeneration. Generating features for the dataset.\n",
      "Current status: DatasetBalancing. Performing class balancing sweeping\n",
      "Current status: DatasetCrossValidationSplit. Generating individually featurized CV splits.\n",
      "Current status: ModelSelection. Beginning model selection.\n",
      "\n",
      "****************************************************************************************************\n",
      "DATA GUARDRAILS: \n",
      "\n",
      "TYPE:         Class balancing detection\n",
      "STATUS:       ALERTED\n",
      "DESCRIPTION:  To decrease model bias, please cancel the current run and fix balancing problem.\n",
      "              Learn more about imbalanced data: https://aka.ms/AutomatedMLImbalancedData\n",
      "DETAILS:      Imbalanced data can lead to a falsely perceived positive effect of a model's accuracy because the input data has bias towards one class.\n",
      "+---------------------------------+---------------------------------+--------------------------------------+\n",
      "|Size of the smallest class       |Name/Label of the smallest class |Number of samples in the training data|\n",
      "+=================================+=================================+======================================+\n",
      "|160                              |1                                |3577                                  |\n",
      "+---------------------------------+---------------------------------+--------------------------------------+\n",
      "\n",
      "****************************************************************************************************\n",
      "\n",
      "TYPE:         Missing feature values imputation\n",
      "STATUS:       PASSED\n",
      "DESCRIPTION:  No feature missing values were detected in the training data.\n",
      "              Learn more about missing value imputation: https://aka.ms/AutomatedMLFeaturization\n",
      "\n",
      "****************************************************************************************************\n",
      "\n",
      "TYPE:         High cardinality feature detection\n",
      "STATUS:       PASSED\n",
      "DESCRIPTION:  Your inputs were analyzed, and no high cardinality features were detected.\n",
      "              Learn more about high cardinality feature handling: https://aka.ms/AutomatedMLFeaturization\n",
      "\n",
      "****************************************************************************************************\n",
      "\n",
      "****************************************************************************************************\n",
      "ITERATION: The iteration being evaluated.\n",
      "PIPELINE: A summary description of the pipeline being evaluated.\n",
      "DURATION: Time taken for the current iteration.\n",
      "METRIC: The result of computing score on the fitted pipeline.\n",
      "BEST: The best observed score thus far.\n",
      "****************************************************************************************************\n",
      "\n",
      " ITERATION   PIPELINE                                       DURATION      METRIC      BEST\n",
      "         1   MaxAbsScaler XGBoostClassifier                 0:00:53       0.7946    0.7946\n",
      "         0   MaxAbsScaler LightGBM                          0:00:58       0.7852    0.7946\n",
      "         4   MaxAbsScaler RandomForest                      0:00:58       0.8008    0.8008\n",
      "         5   MaxAbsScaler ExtremeRandomTrees                0:00:56       0.8294    0.8294\n",
      "         6   MaxAbsScaler ExtremeRandomTrees                0:00:48       0.8000    0.8294\n",
      "         7   MaxAbsScaler ExtremeRandomTrees                0:01:02       0.8138    0.8294\n",
      "         2   MaxAbsScaler RandomForest                      0:05:33       0.8035    0.8294\n",
      "         3   MaxAbsScaler RandomForest                      0:05:29       0.7908    0.8294\n",
      "         8   MaxAbsScaler RandomForest                      0:01:03       0.7931    0.8294\n",
      "        10   MaxAbsScaler RandomForest                      0:00:47       0.7701    0.8294\n",
      "         9   MaxAbsScaler ExtremeRandomTrees                0:00:53       0.7550    0.8294\n",
      "        11   MaxAbsScaler RandomForest                      0:00:55       0.7315    0.8294\n",
      "        13   StandardScalerWrapper XGBoostClassifier        0:00:53       0.7999    0.8294\n",
      "        12   MaxAbsScaler RandomForest                      0:00:59       0.7438    0.8294\n",
      "        14   MaxAbsScaler RandomForest                      0:00:56       0.8071    0.8294\n",
      "        15   StandardScalerWrapper ExtremeRandomTrees       0:01:02       0.8167    0.8294\n",
      "        16   MaxAbsScaler ExtremeRandomTrees                0:01:02       0.7908    0.8294\n",
      "        17   MaxAbsScaler ExtremeRandomTrees                0:00:59       0.7814    0.8294\n",
      "        18   MaxAbsScaler RandomForest                      0:01:04       0.7786    0.8294\n",
      "        19   StandardScalerWrapper XGBoostClassifier        0:01:07       0.8029    0.8294\n",
      "        20   MaxAbsScaler LightGBM                          0:00:50       0.7966    0.8294\n",
      "        21   StandardScalerWrapper XGBoostClassifier        0:00:56       0.7978    0.8294\n",
      "        22   StandardScalerWrapper XGBoostClassifier        0:00:50       0.7958    0.8294\n",
      "        23   StandardScalerWrapper XGBoostClassifier        0:00:52       0.7905    0.8294\n",
      "        24   MaxAbsScaler LightGBM                          0:01:01       0.8030    0.8294\n",
      "        25   StandardScalerWrapper ExtremeRandomTrees       0:00:49       0.5000    0.8294\n",
      "        26   StandardScalerWrapper RandomForest             0:00:50       0.8154    0.8294\n",
      "        27   MaxAbsScaler ExtremeRandomTrees                0:00:49       0.8133    0.8294\n",
      "        28   StandardScalerWrapper RandomForest             0:01:01       0.8227    0.8294\n",
      "        29   MaxAbsScaler GradientBoosting                  0:01:14       0.8145    0.8294\n",
      "        30   MaxAbsScaler ExtremeRandomTrees                0:01:00       0.7748    0.8294\n",
      "        31   StandardScalerWrapper LogisticRegression       0:00:50       0.6944    0.8294\n",
      "        32   StandardScalerWrapper LogisticRegression       0:00:58       0.6869    0.8294\n",
      "        33   StandardScalerWrapper LogisticRegression       0:00:57       0.8166    0.8294\n",
      "        34   StandardScalerWrapper LogisticRegression       0:01:02       0.6046    0.8294\n",
      "        35   MaxAbsScaler ExtremeRandomTrees                0:00:39       0.7921    0.8294\n",
      "        36                                                  0:01:16          nan    0.8294\n",
      "        37                                                  0:00:47          nan    0.8294\n",
      "        39    StackEnsemble                                 0:01:35       0.8376    0.8376\n",
      "        38    VotingEnsemble                                0:01:39       0.8394    0.8394\n"
     ]
    }
   ],
   "source": [
    "# TODO: Submit your experiment\n",
    "remote_run = experiment.submit(automl_config, show_output=True)"
   ]
  },
  {
   "cell_type": "markdown",
   "metadata": {},
   "source": [
    "## Run Details\n",
    "\n",
    "OPTIONAL: Write about the different models trained and their performance. Why do you think some models did better than others?\n",
    "\n",
    "TODO: In the cell below, use the `RunDetails` widget to show the different experiments."
   ]
  },
  {
   "cell_type": "code",
   "execution_count": 9,
   "metadata": {
    "collapsed": false,
    "gather": {
     "logged": 1616783898499
    },
    "jupyter": {
     "outputs_hidden": false,
     "source_hidden": false
    },
    "nteract": {
     "transient": {
      "deleting": false
     }
    }
   },
   "outputs": [
    {
     "data": {
      "application/vnd.jupyter.widget-view+json": {
       "model_id": "1dc8ebb83077488aa855386a74d76ca9",
       "version_major": 2,
       "version_minor": 0
      },
      "text/plain": [
       "_AutoMLWidget(widget_settings={'childWidgetDisplay': 'popup', 'send_telemetry': False, 'log_level': 'INFO', 's…"
      ]
     },
     "metadata": {},
     "output_type": "display_data"
    },
    {
     "data": {
      "application/aml.mini.widget.v1": "{\"status\": \"Completed\", \"workbench_run_details_uri\": \"https://ml.azure.com/experiments/aml-stroke-experiment/runs/AutoML_6cbddc76-77a8-4440-84d1-54b965184012?wsid=/subscriptions/12cd141f-7e8d-40f4-ba6e-35b327775bd4/resourcegroups/ska_resources/workspaces/capstone_project_workspace\", \"run_id\": \"AutoML_6cbddc76-77a8-4440-84d1-54b965184012\", \"run_properties\": {\"run_id\": \"AutoML_6cbddc76-77a8-4440-84d1-54b965184012\", \"created_utc\": \"2021-03-28T17:33:34.620274Z\", \"properties\": {\"num_iterations\": \"1000\", \"training_type\": \"TrainFull\", \"acquisition_function\": \"EI\", \"primary_metric\": \"AUC_weighted\", \"train_split\": \"0\", \"acquisition_parameter\": \"0\", \"num_cross_validation\": \"2\", \"target\": \"aml-cpu-cluster\", \"AMLSettingsJsonString\": \"{\\\"path\\\":null,\\\"name\\\":\\\"aml-stroke-experiment\\\",\\\"subscription_id\\\":\\\"12cd141f-7e8d-40f4-ba6e-35b327775bd4\\\",\\\"resource_group\\\":\\\"ska_resources\\\",\\\"workspace_name\\\":\\\"capstone_project_workspace\\\",\\\"region\\\":\\\"eastus\\\",\\\"compute_target\\\":\\\"aml-cpu-cluster\\\",\\\"spark_service\\\":null,\\\"azure_service\\\":\\\"remote\\\",\\\"many_models\\\":false,\\\"pipeline_fetch_max_batch_size\\\":1,\\\"enable_batch_run\\\":false,\\\"iterations\\\":1000,\\\"primary_metric\\\":\\\"AUC_weighted\\\",\\\"task_type\\\":\\\"classification\\\",\\\"data_script\\\":null,\\\"validation_size\\\":0.0,\\\"n_cross_validations\\\":2,\\\"y_min\\\":null,\\\"y_max\\\":null,\\\"num_classes\\\":null,\\\"featurization\\\":\\\"auto\\\",\\\"_ignore_package_version_incompatibilities\\\":false,\\\"is_timeseries\\\":false,\\\"max_cores_per_iteration\\\":1,\\\"max_concurrent_iterations\\\":5,\\\"iteration_timeout_minutes\\\":null,\\\"mem_in_mb\\\":null,\\\"enforce_time_on_windows\\\":false,\\\"experiment_timeout_minutes\\\":30,\\\"experiment_exit_score\\\":null,\\\"whitelist_models\\\":null,\\\"blacklist_algos\\\":[\\\"TensorFlowLinearClassifier\\\",\\\"TensorFlowDNN\\\"],\\\"supported_models\\\":[\\\"LightGBM\\\",\\\"ExtremeRandomTrees\\\",\\\"XGBoostClassifier\\\",\\\"TensorFlowDNN\\\",\\\"TensorFlowLinearClassifier\\\",\\\"BernoulliNaiveBayes\\\",\\\"SVM\\\",\\\"SGD\\\",\\\"AveragedPerceptronClassifier\\\",\\\"LinearSVM\\\",\\\"GradientBoosting\\\",\\\"LogisticRegression\\\",\\\"KNN\\\",\\\"MultinomialNaiveBayes\\\",\\\"RandomForest\\\",\\\"DecisionTree\\\"],\\\"private_models\\\":[],\\\"auto_blacklist\\\":true,\\\"blacklist_samples_reached\\\":false,\\\"exclude_nan_labels\\\":true,\\\"verbosity\\\":20,\\\"_debug_log\\\":\\\"azureml_automl.log\\\",\\\"show_warnings\\\":false,\\\"model_explainability\\\":true,\\\"service_url\\\":null,\\\"sdk_url\\\":null,\\\"sdk_packages\\\":null,\\\"enable_onnx_compatible_models\\\":false,\\\"enable_split_onnx_featurizer_estimator_models\\\":false,\\\"vm_type\\\":\\\"STANDARD_D2_V2\\\",\\\"telemetry_verbosity\\\":20,\\\"send_telemetry\\\":true,\\\"enable_dnn\\\":false,\\\"scenario\\\":\\\"SDK-1.13.0\\\",\\\"environment_label\\\":null,\\\"save_mlflow\\\":false,\\\"force_text_dnn\\\":false,\\\"enable_feature_sweeping\\\":true,\\\"enable_early_stopping\\\":true,\\\"early_stopping_n_iters\\\":10,\\\"metrics\\\":null,\\\"enable_metric_confidence\\\":false,\\\"enable_ensembling\\\":true,\\\"enable_stack_ensembling\\\":true,\\\"ensemble_iterations\\\":15,\\\"enable_tf\\\":false,\\\"enable_subsampling\\\":null,\\\"subsample_seed\\\":null,\\\"enable_nimbusml\\\":false,\\\"enable_streaming\\\":false,\\\"force_streaming\\\":false,\\\"track_child_runs\\\":true,\\\"allowed_private_models\\\":[],\\\"label_column_name\\\":\\\"stroke\\\",\\\"weight_column_name\\\":null,\\\"cv_split_column_names\\\":null,\\\"enable_local_managed\\\":false,\\\"_local_managed_run_id\\\":null,\\\"cost_mode\\\":1,\\\"lag_length\\\":0,\\\"metric_operation\\\":\\\"maximize\\\",\\\"preprocess\\\":true}\", \"DataPrepJsonString\": \"{\\\\\\\"training_data\\\\\\\": \\\\\\\"{\\\\\\\\\\\\\\\"blocks\\\\\\\\\\\\\\\": [{\\\\\\\\\\\\\\\"id\\\\\\\\\\\\\\\": \\\\\\\\\\\\\\\"f3662f57-b1f2-4a7a-9992-0dfe71e129e2\\\\\\\\\\\\\\\", \\\\\\\\\\\\\\\"type\\\\\\\\\\\\\\\": \\\\\\\\\\\\\\\"Microsoft.DPrep.GetDatastoreFilesBlock\\\\\\\\\\\\\\\", \\\\\\\\\\\\\\\"arguments\\\\\\\\\\\\\\\": {\\\\\\\\\\\\\\\"datastores\\\\\\\\\\\\\\\": [{\\\\\\\\\\\\\\\"datastoreName\\\\\\\\\\\\\\\": \\\\\\\\\\\\\\\"workspaceblobstore\\\\\\\\\\\\\\\", \\\\\\\\\\\\\\\"path\\\\\\\\\\\\\\\": \\\\\\\\\\\\\\\"classified/dataset.csv\\\\\\\\\\\\\\\", \\\\\\\\\\\\\\\"resourceGroup\\\\\\\\\\\\\\\": \\\\\\\\\\\\\\\"ska_resources\\\\\\\\\\\\\\\", \\\\\\\\\\\\\\\"subscription\\\\\\\\\\\\\\\": \\\\\\\\\\\\\\\"12cd141f-7e8d-40f4-ba6e-35b327775bd4\\\\\\\\\\\\\\\", \\\\\\\\\\\\\\\"workspaceName\\\\\\\\\\\\\\\": \\\\\\\\\\\\\\\"capstone_project_workspace\\\\\\\\\\\\\\\"}]}, \\\\\\\\\\\\\\\"localData\\\\\\\\\\\\\\\": {}, \\\\\\\\\\\\\\\"isEnabled\\\\\\\\\\\\\\\": true, \\\\\\\\\\\\\\\"name\\\\\\\\\\\\\\\": null, \\\\\\\\\\\\\\\"annotation\\\\\\\\\\\\\\\": null}, {\\\\\\\\\\\\\\\"id\\\\\\\\\\\\\\\": \\\\\\\\\\\\\\\"3549e7e4-e2a9-4fc0-a303-668cb2de889b\\\\\\\\\\\\\\\", \\\\\\\\\\\\\\\"type\\\\\\\\\\\\\\\": \\\\\\\\\\\\\\\"Microsoft.DPrep.ParseDelimitedBlock\\\\\\\\\\\\\\\", \\\\\\\\\\\\\\\"arguments\\\\\\\\\\\\\\\": {\\\\\\\\\\\\\\\"columnHeadersMode\\\\\\\\\\\\\\\": 3, \\\\\\\\\\\\\\\"fileEncoding\\\\\\\\\\\\\\\": 0, \\\\\\\\\\\\\\\"handleQuotedLineBreaks\\\\\\\\\\\\\\\": false, \\\\\\\\\\\\\\\"preview\\\\\\\\\\\\\\\": false, \\\\\\\\\\\\\\\"separator\\\\\\\\\\\\\\\": \\\\\\\\\\\\\\\",\\\\\\\\\\\\\\\", \\\\\\\\\\\\\\\"skipRows\\\\\\\\\\\\\\\": 0, \\\\\\\\\\\\\\\"skipRowsMode\\\\\\\\\\\\\\\": 0}, \\\\\\\\\\\\\\\"localData\\\\\\\\\\\\\\\": {}, \\\\\\\\\\\\\\\"isEnabled\\\\\\\\\\\\\\\": true, \\\\\\\\\\\\\\\"name\\\\\\\\\\\\\\\": null, \\\\\\\\\\\\\\\"annotation\\\\\\\\\\\\\\\": null}, {\\\\\\\\\\\\\\\"id\\\\\\\\\\\\\\\": \\\\\\\\\\\\\\\"e019ee6c-eebd-4847-ae14-64a57e71e0c1\\\\\\\\\\\\\\\", \\\\\\\\\\\\\\\"type\\\\\\\\\\\\\\\": \\\\\\\\\\\\\\\"Microsoft.DPrep.DropColumnsBlock\\\\\\\\\\\\\\\", \\\\\\\\\\\\\\\"arguments\\\\\\\\\\\\\\\": {\\\\\\\\\\\\\\\"columns\\\\\\\\\\\\\\\": {\\\\\\\\\\\\\\\"type\\\\\\\\\\\\\\\": 0, \\\\\\\\\\\\\\\"details\\\\\\\\\\\\\\\": {\\\\\\\\\\\\\\\"selectedColumns\\\\\\\\\\\\\\\": [\\\\\\\\\\\\\\\"Path\\\\\\\\\\\\\\\"]}}}, \\\\\\\\\\\\\\\"localData\\\\\\\\\\\\\\\": {}, \\\\\\\\\\\\\\\"isEnabled\\\\\\\\\\\\\\\": true, \\\\\\\\\\\\\\\"name\\\\\\\\\\\\\\\": null, \\\\\\\\\\\\\\\"annotation\\\\\\\\\\\\\\\": null}, {\\\\\\\\\\\\\\\"id\\\\\\\\\\\\\\\": \\\\\\\\\\\\\\\"ac61c286-4233-402a-8993-59c0f682348a\\\\\\\\\\\\\\\", \\\\\\\\\\\\\\\"type\\\\\\\\\\\\\\\": \\\\\\\\\\\\\\\"Microsoft.DPrep.SetColumnTypesBlock\\\\\\\\\\\\\\\", \\\\\\\\\\\\\\\"arguments\\\\\\\\\\\\\\\": {\\\\\\\\\\\\\\\"columnConversion\\\\\\\\\\\\\\\": [{\\\\\\\\\\\\\\\"column\\\\\\\\\\\\\\\": {\\\\\\\\\\\\\\\"type\\\\\\\\\\\\\\\": 2, \\\\\\\\\\\\\\\"details\\\\\\\\\\\\\\\": {\\\\\\\\\\\\\\\"selectedColumn\\\\\\\\\\\\\\\": \\\\\\\\\\\\\\\"id\\\\\\\\\\\\\\\"}}, \\\\\\\\\\\\\\\"typeProperty\\\\\\\\\\\\\\\": 2}, {\\\\\\\\\\\\\\\"column\\\\\\\\\\\\\\\": {\\\\\\\\\\\\\\\"type\\\\\\\\\\\\\\\": 2, \\\\\\\\\\\\\\\"details\\\\\\\\\\\\\\\": {\\\\\\\\\\\\\\\"selectedColumn\\\\\\\\\\\\\\\": \\\\\\\\\\\\\\\"gender\\\\\\\\\\\\\\\"}}, \\\\\\\\\\\\\\\"typeProperty\\\\\\\\\\\\\\\": 2}, {\\\\\\\\\\\\\\\"column\\\\\\\\\\\\\\\": {\\\\\\\\\\\\\\\"type\\\\\\\\\\\\\\\": 2, \\\\\\\\\\\\\\\"details\\\\\\\\\\\\\\\": {\\\\\\\\\\\\\\\"selectedColumn\\\\\\\\\\\\\\\": \\\\\\\\\\\\\\\"age\\\\\\\\\\\\\\\"}}, \\\\\\\\\\\\\\\"typeProperty\\\\\\\\\\\\\\\": 3}, {\\\\\\\\\\\\\\\"column\\\\\\\\\\\\\\\": {\\\\\\\\\\\\\\\"type\\\\\\\\\\\\\\\": 2, \\\\\\\\\\\\\\\"details\\\\\\\\\\\\\\\": {\\\\\\\\\\\\\\\"selectedColumn\\\\\\\\\\\\\\\": \\\\\\\\\\\\\\\"hypertension\\\\\\\\\\\\\\\"}}, \\\\\\\\\\\\\\\"typeProperty\\\\\\\\\\\\\\\": 2}, {\\\\\\\\\\\\\\\"column\\\\\\\\\\\\\\\": {\\\\\\\\\\\\\\\"type\\\\\\\\\\\\\\\": 2, \\\\\\\\\\\\\\\"details\\\\\\\\\\\\\\\": {\\\\\\\\\\\\\\\"selectedColumn\\\\\\\\\\\\\\\": \\\\\\\\\\\\\\\"heart_disease\\\\\\\\\\\\\\\"}}, \\\\\\\\\\\\\\\"typeProperty\\\\\\\\\\\\\\\": 2}, {\\\\\\\\\\\\\\\"column\\\\\\\\\\\\\\\": {\\\\\\\\\\\\\\\"type\\\\\\\\\\\\\\\": 2, \\\\\\\\\\\\\\\"details\\\\\\\\\\\\\\\": {\\\\\\\\\\\\\\\"selectedColumn\\\\\\\\\\\\\\\": \\\\\\\\\\\\\\\"ever_married\\\\\\\\\\\\\\\"}}, \\\\\\\\\\\\\\\"typeProperty\\\\\\\\\\\\\\\": 1}, {\\\\\\\\\\\\\\\"column\\\\\\\\\\\\\\\": {\\\\\\\\\\\\\\\"type\\\\\\\\\\\\\\\": 2, \\\\\\\\\\\\\\\"details\\\\\\\\\\\\\\\": {\\\\\\\\\\\\\\\"selectedColumn\\\\\\\\\\\\\\\": \\\\\\\\\\\\\\\"work_type\\\\\\\\\\\\\\\"}}, \\\\\\\\\\\\\\\"typeProperty\\\\\\\\\\\\\\\": 2}, {\\\\\\\\\\\\\\\"column\\\\\\\\\\\\\\\": {\\\\\\\\\\\\\\\"type\\\\\\\\\\\\\\\": 2, \\\\\\\\\\\\\\\"details\\\\\\\\\\\\\\\": {\\\\\\\\\\\\\\\"selectedColumn\\\\\\\\\\\\\\\": \\\\\\\\\\\\\\\"Residence_type\\\\\\\\\\\\\\\"}}, \\\\\\\\\\\\\\\"typeProperty\\\\\\\\\\\\\\\": 2}, {\\\\\\\\\\\\\\\"column\\\\\\\\\\\\\\\": {\\\\\\\\\\\\\\\"type\\\\\\\\\\\\\\\": 2, \\\\\\\\\\\\\\\"details\\\\\\\\\\\\\\\": {\\\\\\\\\\\\\\\"selectedColumn\\\\\\\\\\\\\\\": \\\\\\\\\\\\\\\"avg_glucose_level\\\\\\\\\\\\\\\"}}, \\\\\\\\\\\\\\\"typeProperty\\\\\\\\\\\\\\\": 3}, {\\\\\\\\\\\\\\\"column\\\\\\\\\\\\\\\": {\\\\\\\\\\\\\\\"type\\\\\\\\\\\\\\\": 2, \\\\\\\\\\\\\\\"details\\\\\\\\\\\\\\\": {\\\\\\\\\\\\\\\"selectedColumn\\\\\\\\\\\\\\\": \\\\\\\\\\\\\\\"bmi\\\\\\\\\\\\\\\"}}, \\\\\\\\\\\\\\\"typeProperty\\\\\\\\\\\\\\\": 3}, {\\\\\\\\\\\\\\\"column\\\\\\\\\\\\\\\": {\\\\\\\\\\\\\\\"type\\\\\\\\\\\\\\\": 2, \\\\\\\\\\\\\\\"details\\\\\\\\\\\\\\\": {\\\\\\\\\\\\\\\"selectedColumn\\\\\\\\\\\\\\\": \\\\\\\\\\\\\\\"smoking_status\\\\\\\\\\\\\\\"}}, \\\\\\\\\\\\\\\"typeProperty\\\\\\\\\\\\\\\": 2}, {\\\\\\\\\\\\\\\"column\\\\\\\\\\\\\\\": {\\\\\\\\\\\\\\\"type\\\\\\\\\\\\\\\": 2, \\\\\\\\\\\\\\\"details\\\\\\\\\\\\\\\": {\\\\\\\\\\\\\\\"selectedColumn\\\\\\\\\\\\\\\": \\\\\\\\\\\\\\\"stroke\\\\\\\\\\\\\\\"}}, \\\\\\\\\\\\\\\"typeProperty\\\\\\\\\\\\\\\": 2}]}, \\\\\\\\\\\\\\\"localData\\\\\\\\\\\\\\\": {}, \\\\\\\\\\\\\\\"isEnabled\\\\\\\\\\\\\\\": true, \\\\\\\\\\\\\\\"name\\\\\\\\\\\\\\\": null, \\\\\\\\\\\\\\\"annotation\\\\\\\\\\\\\\\": null}], \\\\\\\\\\\\\\\"inspectors\\\\\\\\\\\\\\\": [], \\\\\\\\\\\\\\\"meta\\\\\\\\\\\\\\\": {\\\\\\\\\\\\\\\"savedDatasetId\\\\\\\\\\\\\\\": \\\\\\\\\\\\\\\"6bf5faee-8433-4dae-be4e-8ec9b410d058\\\\\\\\\\\\\\\", \\\\\\\\\\\\\\\"datasetType\\\\\\\\\\\\\\\": \\\\\\\\\\\\\\\"tabular\\\\\\\\\\\\\\\", \\\\\\\\\\\\\\\"subscriptionId\\\\\\\\\\\\\\\": \\\\\\\\\\\\\\\"12cd141f-7e8d-40f4-ba6e-35b327775bd4\\\\\\\\\\\\\\\", \\\\\\\\\\\\\\\"workspaceId\\\\\\\\\\\\\\\": \\\\\\\\\\\\\\\"89d491f1-2603-401d-9a8e-87b3aa451d3a\\\\\\\\\\\\\\\", \\\\\\\\\\\\\\\"workspaceLocation\\\\\\\\\\\\\\\": \\\\\\\\\\\\\\\"eastus\\\\\\\\\\\\\\\", \\\\\\\\\\\\\\\"partition_keys\\\\\\\\\\\\\\\": \\\\\\\\\\\\\\\"true\\\\\\\\\\\\\\\"}}\\\\\\\", \\\\\\\"activities\\\\\\\": 0}\", \"EnableSubsampling\": null, \"runTemplate\": \"AutoML\", \"azureml.runsource\": \"automl\", \"display_task_type\": \"classification\", \"dependencies_versions\": \"{\\\"azureml-widgets\\\": \\\"1.24.0\\\", \\\"azureml-train\\\": \\\"1.24.0\\\", \\\"azureml-train-restclients-hyperdrive\\\": \\\"1.24.0\\\", \\\"azureml-train-core\\\": \\\"1.24.0\\\", \\\"azureml-train-automl\\\": \\\"1.24.0\\\", \\\"azureml-train-automl-runtime\\\": \\\"1.24.0\\\", \\\"azureml-train-automl-client\\\": \\\"1.24.0\\\", \\\"azureml-tensorboard\\\": \\\"1.24.0\\\", \\\"azureml-telemetry\\\": \\\"1.24.0\\\", \\\"azureml-sdk\\\": \\\"1.24.0\\\", \\\"azureml-samples\\\": \\\"0+unknown\\\", \\\"azureml-pipeline\\\": \\\"1.24.0\\\", \\\"azureml-pipeline-steps\\\": \\\"1.24.0\\\", \\\"azureml-pipeline-core\\\": \\\"1.24.0\\\", \\\"azureml-opendatasets\\\": \\\"1.24.0\\\", \\\"azureml-model-management-sdk\\\": \\\"1.0.1b6.post1\\\", \\\"azureml-mlflow\\\": \\\"1.24.0\\\", \\\"azureml-interpret\\\": \\\"1.24.0\\\", \\\"azureml-explain-model\\\": \\\"1.24.0\\\", \\\"azureml-defaults\\\": \\\"1.24.0\\\", \\\"azureml-dataset-runtime\\\": \\\"1.24.0\\\", \\\"azureml-dataprep\\\": \\\"2.11.2\\\", \\\"azureml-dataprep-rslex\\\": \\\"1.9.1\\\", \\\"azureml-dataprep-native\\\": \\\"30.0.0\\\", \\\"azureml-datadrift\\\": \\\"1.24.0\\\", \\\"azureml-core\\\": \\\"1.24.0.post2\\\", \\\"azureml-contrib-services\\\": \\\"1.24.0\\\", \\\"azureml-contrib-server\\\": \\\"1.24.0\\\", \\\"azureml-contrib-reinforcementlearning\\\": \\\"1.24.0\\\", \\\"azureml-contrib-pipeline-steps\\\": \\\"1.24.0\\\", \\\"azureml-contrib-notebook\\\": \\\"1.24.0\\\", \\\"azureml-contrib-gbdt\\\": \\\"1.24.0\\\", \\\"azureml-contrib-fairness\\\": \\\"1.24.0\\\", \\\"azureml-contrib-dataset\\\": \\\"1.24.0\\\", \\\"azureml-cli-common\\\": \\\"1.24.0\\\", \\\"azureml-automl-runtime\\\": \\\"1.24.0\\\", \\\"azureml-automl-dnn-nlp\\\": \\\"1.24.0\\\", \\\"azureml-automl-core\\\": \\\"1.24.0\\\", \\\"azureml-accel-models\\\": \\\"1.24.0\\\"}\", \"_aml_system_scenario_identification\": \"Remote.Parent\", \"ClientType\": \"SDK\", \"environment_cpu_name\": \"AzureML-AutoML\", \"environment_cpu_label\": \"prod\", \"environment_gpu_name\": \"AzureML-AutoML-GPU\", \"environment_gpu_label\": \"prod\", \"root_attribution\": \"automl\", \"attribution\": \"AutoML\", \"Orchestrator\": \"AutoML\", \"CancelUri\": \"https://eastus.experiments.azureml.net/jasmine/v1.0/subscriptions/12cd141f-7e8d-40f4-ba6e-35b327775bd4/resourceGroups/ska_resources/providers/Microsoft.MachineLearningServices/workspaces/capstone_project_workspace/experimentids/5f36c50a-60bf-46fa-a67c-567445768bfa/cancel/AutoML_6cbddc76-77a8-4440-84d1-54b965184012\", \"ClientSdkVersion\": \"1.24.0\", \"snapshotId\": \"00000000-0000-0000-0000-000000000000\", \"SetupRunId\": \"AutoML_6cbddc76-77a8-4440-84d1-54b965184012_setup\", \"SetupRunContainerId\": \"dcid.AutoML_6cbddc76-77a8-4440-84d1-54b965184012_setup\", \"FeaturizationRunJsonPath\": \"featurizer_container.json\", \"FeaturizationRunId\": \"AutoML_6cbddc76-77a8-4440-84d1-54b965184012_featurize\", \"ProblemInfoJsonString\": \"{\\\"dataset_num_categorical\\\": 0, \\\"is_sparse\\\": true, \\\"subsampling\\\": false, \\\"dataset_classes\\\": 2, \\\"dataset_features\\\": 16, \\\"dataset_samples\\\": 3577, \\\"single_frequency_class_detected\\\": false}\", \"ModelExplainRunId\": \"AutoML_6cbddc76-77a8-4440-84d1-54b965184012_ModelExplain\"}, \"tags\": {\"model_explain_run\": \"best_run\", \"_aml_system_azureml.automlComponent\": \"AutoML\", \"pipeline_id\": \"\", \"score\": \"\", \"predicted_cost\": \"\", \"fit_time\": \"\", \"training_percent\": \"\", \"iteration\": \"\", \"run_preprocessor\": \"\", \"run_algorithm\": \"\", \"dynamic_whitelisting_iterations\": \"<25>;<30>;<35>;\", \"automl_best_child_run_id\": \"AutoML_6cbddc76-77a8-4440-84d1-54b965184012_38\", \"model_explain_best_run_child_id\": \"AutoML_6cbddc76-77a8-4440-84d1-54b965184012_38\"}, \"end_time_utc\": \"2021-03-28T18:05:46.233822Z\", \"status\": \"Completed\", \"log_files\": {}, \"log_groups\": [], \"run_duration\": \"0:32:11\", \"run_number\": \"196\", \"run_queued_details\": {\"status\": \"Completed\", \"details\": null}}, \"child_runs\": [{\"run_id\": \"AutoML_6cbddc76-77a8-4440-84d1-54b965184012_3\", \"run_number\": 200, \"metric\": null, \"status\": \"Completed\", \"run_type\": \"azureml.scriptrun\", \"training_percent\": \"100\", \"start_time\": \"2021-03-28T17:47:10.229407Z\", \"end_time\": \"2021-03-28T17:52:39.363333Z\", \"created_time\": \"2021-03-28T17:45:04.031941Z\", \"created_time_dt\": \"2021-03-28T17:45:04.031941Z\", \"duration\": \"0:07:35\", \"iteration\": \"3\", \"goal\": \"AUC_weighted_max\", \"run_name\": \"MaxAbsScaler, RandomForest\", \"run_properties\": \"copy=True\", \"primary_metric\": 0.79078284, \"best_metric\": 0.80354546}, {\"run_id\": \"AutoML_6cbddc76-77a8-4440-84d1-54b965184012_2\", \"run_number\": 201, \"metric\": null, \"status\": \"Completed\", \"run_type\": \"azureml.scriptrun\", \"training_percent\": \"100\", \"start_time\": \"2021-03-28T17:47:07.334284Z\", \"end_time\": \"2021-03-28T17:52:40.641322Z\", \"created_time\": \"2021-03-28T17:45:04.074788Z\", \"created_time_dt\": \"2021-03-28T17:45:04.074788Z\", \"duration\": \"0:07:36\", \"iteration\": \"2\", \"goal\": \"AUC_weighted_max\", \"run_name\": \"MaxAbsScaler, RandomForest\", \"run_properties\": \"copy=True\", \"primary_metric\": 0.80354546, \"best_metric\": 0.80354546}, {\"run_id\": \"AutoML_6cbddc76-77a8-4440-84d1-54b965184012_0\", \"run_number\": 202, \"metric\": null, \"status\": \"Completed\", \"run_type\": \"azureml.scriptrun\", \"training_percent\": \"100\", \"start_time\": \"2021-03-28T17:46:23.299743Z\", \"end_time\": \"2021-03-28T17:47:21.69449Z\", \"created_time\": \"2021-03-28T17:45:04.098465Z\", \"created_time_dt\": \"2021-03-28T17:45:04.098465Z\", \"duration\": \"0:02:17\", \"iteration\": \"0\", \"goal\": \"AUC_weighted_max\", \"run_name\": \"MaxAbsScaler, LightGBM\", \"run_properties\": \"copy=True\", \"primary_metric\": 0.78518765, \"best_metric\": 0.78518765}, {\"run_id\": \"AutoML_6cbddc76-77a8-4440-84d1-54b965184012_4\", \"run_number\": 203, \"metric\": null, \"status\": \"Completed\", \"run_type\": \"azureml.scriptrun\", \"training_percent\": \"100\", \"start_time\": \"2021-03-28T17:47:37.73413Z\", \"end_time\": \"2021-03-28T17:48:35.789836Z\", \"created_time\": \"2021-03-28T17:45:04.102504Z\", \"created_time_dt\": \"2021-03-28T17:45:04.102504Z\", \"duration\": \"0:03:31\", \"iteration\": \"4\", \"goal\": \"AUC_weighted_max\", \"run_name\": \"MaxAbsScaler, RandomForest\", \"run_properties\": \"copy=True\", \"primary_metric\": 0.80083744, \"best_metric\": 0.80354546}, {\"run_id\": \"AutoML_6cbddc76-77a8-4440-84d1-54b965184012_1\", \"run_number\": 204, \"metric\": null, \"status\": \"Completed\", \"run_type\": \"azureml.scriptrun\", \"training_percent\": \"100\", \"start_time\": \"2021-03-28T17:45:14.093011Z\", \"end_time\": \"2021-03-28T17:46:06.641371Z\", \"created_time\": \"2021-03-28T17:45:04.103433Z\", \"created_time_dt\": \"2021-03-28T17:45:04.103433Z\", \"duration\": \"0:01:02\", \"iteration\": \"1\", \"goal\": \"AUC_weighted_max\", \"run_name\": \"MaxAbsScaler, XGBoostClassifier\", \"run_properties\": \"copy=True\", \"primary_metric\": 0.79458742, \"best_metric\": 0.79458742}, {\"run_id\": \"AutoML_6cbddc76-77a8-4440-84d1-54b965184012_5\", \"run_number\": 205, \"metric\": null, \"status\": \"Completed\", \"run_type\": \"azureml.scriptrun\", \"training_percent\": \"100\", \"start_time\": \"2021-03-28T17:48:49.931989Z\", \"end_time\": \"2021-03-28T17:49:45.611236Z\", \"created_time\": \"2021-03-28T17:46:09.169068Z\", \"created_time_dt\": \"2021-03-28T17:46:09.169068Z\", \"duration\": \"0:03:36\", \"iteration\": \"5\", \"goal\": \"AUC_weighted_max\", \"run_name\": \"MaxAbsScaler, ExtremeRandomTrees\", \"run_properties\": \"copy=True\", \"primary_metric\": 0.82944523, \"best_metric\": 0.82944523}, {\"run_id\": \"AutoML_6cbddc76-77a8-4440-84d1-54b965184012_6\", \"run_number\": 206, \"metric\": null, \"status\": \"Completed\", \"run_type\": \"azureml.scriptrun\", \"training_percent\": \"100\", \"start_time\": \"2021-03-28T17:49:58.055397Z\", \"end_time\": \"2021-03-28T17:50:46.133136Z\", \"created_time\": \"2021-03-28T17:47:23.136188Z\", \"created_time_dt\": \"2021-03-28T17:47:23.136188Z\", \"duration\": \"0:03:22\", \"iteration\": \"6\", \"goal\": \"AUC_weighted_max\", \"run_name\": \"MaxAbsScaler, ExtremeRandomTrees\", \"run_properties\": \"copy=True\", \"primary_metric\": 0.79997055, \"best_metric\": 0.82944523}, {\"run_id\": \"AutoML_6cbddc76-77a8-4440-84d1-54b965184012_7\", \"run_number\": 207, \"metric\": null, \"status\": \"Completed\", \"run_type\": \"azureml.scriptrun\", \"training_percent\": \"100\", \"start_time\": \"2021-03-28T17:51:00.612312Z\", \"end_time\": \"2021-03-28T17:52:02.91051Z\", \"created_time\": \"2021-03-28T17:48:41.599876Z\", \"created_time_dt\": \"2021-03-28T17:48:41.599876Z\", \"duration\": \"0:03:21\", \"iteration\": \"7\", \"goal\": \"AUC_weighted_max\", \"run_name\": \"MaxAbsScaler, ExtremeRandomTrees\", \"run_properties\": \"copy=True\", \"primary_metric\": 0.81380377, \"best_metric\": 0.82944523}, {\"run_id\": \"AutoML_6cbddc76-77a8-4440-84d1-54b965184012_8\", \"run_number\": 208, \"metric\": null, \"status\": \"Completed\", \"run_type\": \"azureml.scriptrun\", \"training_percent\": \"100\", \"start_time\": \"2021-03-28T17:52:14.275292Z\", \"end_time\": \"2021-03-28T17:53:16.792294Z\", \"created_time\": \"2021-03-28T17:49:49.487163Z\", \"created_time_dt\": \"2021-03-28T17:49:49.487163Z\", \"duration\": \"0:03:27\", \"iteration\": \"8\", \"goal\": \"AUC_weighted_max\", \"run_name\": \"MaxAbsScaler, RandomForest\", \"run_properties\": \"copy=True\", \"primary_metric\": 0.79306956, \"best_metric\": 0.82944523}, {\"run_id\": \"AutoML_6cbddc76-77a8-4440-84d1-54b965184012_9\", \"run_number\": 209, \"metric\": null, \"status\": \"Completed\", \"run_type\": \"azureml.scriptrun\", \"training_percent\": \"100\", \"start_time\": \"2021-03-28T17:52:54.726726Z\", \"end_time\": \"2021-03-28T17:53:47.90982Z\", \"created_time\": \"2021-03-28T17:50:50.238275Z\", \"created_time_dt\": \"2021-03-28T17:50:50.238275Z\", \"duration\": \"0:02:57\", \"iteration\": \"9\", \"goal\": \"AUC_weighted_max\", \"run_name\": \"MaxAbsScaler, ExtremeRandomTrees\", \"run_properties\": \"copy=True\", \"primary_metric\": 0.75497674, \"best_metric\": 0.82944523}, {\"run_id\": \"AutoML_6cbddc76-77a8-4440-84d1-54b965184012_10\", \"run_number\": 210, \"metric\": null, \"status\": \"Completed\", \"run_type\": \"azureml.scriptrun\", \"training_percent\": \"100\", \"start_time\": \"2021-03-28T17:52:53.176894Z\", \"end_time\": \"2021-03-28T17:53:39.862805Z\", \"created_time\": \"2021-03-28T17:52:07.78963Z\", \"created_time_dt\": \"2021-03-28T17:52:07.78963Z\", \"duration\": \"0:01:32\", \"iteration\": \"10\", \"goal\": \"AUC_weighted_max\", \"run_name\": \"MaxAbsScaler, RandomForest\", \"run_properties\": \"copy=True\", \"primary_metric\": 0.77005089, \"best_metric\": 0.82944523}, {\"run_id\": \"AutoML_6cbddc76-77a8-4440-84d1-54b965184012_11\", \"run_number\": 211, \"metric\": null, \"status\": \"Completed\", \"run_type\": \"azureml.scriptrun\", \"training_percent\": \"100\", \"start_time\": \"2021-03-28T17:53:33.15621Z\", \"end_time\": \"2021-03-28T17:54:27.841088Z\", \"created_time\": \"2021-03-28T17:52:43.935481Z\", \"created_time_dt\": \"2021-03-28T17:52:43.935481Z\", \"duration\": \"0:01:43\", \"iteration\": \"11\", \"goal\": \"AUC_weighted_max\", \"run_name\": \"MaxAbsScaler, RandomForest\", \"run_properties\": \"copy=True\", \"primary_metric\": 0.73153291, \"best_metric\": 0.82944523}, {\"run_id\": \"AutoML_6cbddc76-77a8-4440-84d1-54b965184012_12\", \"run_number\": 212, \"metric\": null, \"status\": \"Completed\", \"run_type\": \"azureml.scriptrun\", \"training_percent\": \"100\", \"start_time\": \"2021-03-28T17:53:57.513093Z\", \"end_time\": \"2021-03-28T17:54:56.017818Z\", \"created_time\": \"2021-03-28T17:52:44.183699Z\", \"created_time_dt\": \"2021-03-28T17:52:44.183699Z\", \"duration\": \"0:02:11\", \"iteration\": \"12\", \"goal\": \"AUC_weighted_max\", \"run_name\": \"MaxAbsScaler, RandomForest\", \"run_properties\": \"copy=True\", \"primary_metric\": 0.74377818, \"best_metric\": 0.82944523}, {\"run_id\": \"AutoML_6cbddc76-77a8-4440-84d1-54b965184012_13\", \"run_number\": 213, \"metric\": null, \"status\": \"Completed\", \"run_type\": \"azureml.scriptrun\", \"training_percent\": \"100\", \"start_time\": \"2021-03-28T17:53:51.655663Z\", \"end_time\": \"2021-03-28T17:54:44.746582Z\", \"created_time\": \"2021-03-28T17:53:20.613868Z\", \"created_time_dt\": \"2021-03-28T17:53:20.613868Z\", \"duration\": \"0:01:24\", \"iteration\": \"13\", \"goal\": \"AUC_weighted_max\", \"run_name\": \"StandardScalerWrapper, XGBoostClassifier\", \"run_properties\": \"<azureml.automl.runtime.shared.model_wrappers.StandardScalerWrapper object at 0x7f1deec8c710\", \"primary_metric\": 0.79993683, \"best_metric\": 0.82944523}, {\"run_id\": \"AutoML_6cbddc76-77a8-4440-84d1-54b965184012_14\", \"run_number\": 214, \"metric\": null, \"status\": \"Completed\", \"run_type\": \"azureml.scriptrun\", \"training_percent\": \"100\", \"start_time\": \"2021-03-28T17:54:40.216561Z\", \"end_time\": \"2021-03-28T17:55:36.225397Z\", \"created_time\": \"2021-03-28T17:53:43.822284Z\", \"created_time_dt\": \"2021-03-28T17:53:43.822284Z\", \"duration\": \"0:01:52\", \"iteration\": \"14\", \"goal\": \"AUC_weighted_max\", \"run_name\": \"MaxAbsScaler, RandomForest\", \"run_properties\": \"copy=True\", \"primary_metric\": 0.80707819, \"best_metric\": 0.82944523}, {\"run_id\": \"AutoML_6cbddc76-77a8-4440-84d1-54b965184012_15\", \"run_number\": 215, \"metric\": null, \"status\": \"Completed\", \"run_type\": \"azureml.scriptrun\", \"training_percent\": \"100\", \"start_time\": \"2021-03-28T17:55:09.288406Z\", \"end_time\": \"2021-03-28T17:56:11.39599Z\", \"created_time\": \"2021-03-28T17:53:51.620854Z\", \"created_time_dt\": \"2021-03-28T17:53:51.620854Z\", \"duration\": \"0:02:19\", \"iteration\": \"15\", \"goal\": \"AUC_weighted_max\", \"run_name\": \"StandardScalerWrapper, ExtremeRandomTrees\", \"run_properties\": \"<azureml.automl.runtime.shared.model_wrappers.StandardScalerWrapper object at 0x7f4ea17862e8\", \"primary_metric\": 0.8167134, \"best_metric\": 0.82944523}, {\"run_id\": \"AutoML_6cbddc76-77a8-4440-84d1-54b965184012_16\", \"run_number\": 216, \"metric\": null, \"status\": \"Completed\", \"run_type\": \"azureml.scriptrun\", \"training_percent\": \"100\", \"start_time\": \"2021-03-28T17:55:12.166776Z\", \"end_time\": \"2021-03-28T17:56:13.773567Z\", \"created_time\": \"2021-03-28T17:54:32.051028Z\", \"created_time_dt\": \"2021-03-28T17:54:32.051028Z\", \"duration\": \"0:01:41\", \"iteration\": \"16\", \"goal\": \"AUC_weighted_max\", \"run_name\": \"MaxAbsScaler, ExtremeRandomTrees\", \"run_properties\": \"copy=True\", \"primary_metric\": 0.79081977, \"best_metric\": 0.82944523}, {\"run_id\": \"AutoML_6cbddc76-77a8-4440-84d1-54b965184012_17\", \"run_number\": 217, \"metric\": null, \"status\": \"Completed\", \"run_type\": \"azureml.scriptrun\", \"training_percent\": \"100\", \"start_time\": \"2021-03-28T17:55:53.77857Z\", \"end_time\": \"2021-03-28T17:56:52.626153Z\", \"created_time\": \"2021-03-28T17:54:59.20062Z\", \"created_time_dt\": \"2021-03-28T17:54:59.20062Z\", \"duration\": \"0:01:53\", \"iteration\": \"17\", \"goal\": \"AUC_weighted_max\", \"run_name\": \"MaxAbsScaler, ExtremeRandomTrees\", \"run_properties\": \"copy=True\", \"primary_metric\": 0.78135531, \"best_metric\": 0.82944523}, {\"run_id\": \"AutoML_6cbddc76-77a8-4440-84d1-54b965184012_18\", \"run_number\": 218, \"metric\": null, \"status\": \"Completed\", \"run_type\": \"azureml.scriptrun\", \"training_percent\": \"100\", \"start_time\": \"2021-03-28T17:56:24.911455Z\", \"end_time\": \"2021-03-28T17:57:28.746636Z\", \"created_time\": \"2021-03-28T17:55:06.683053Z\", \"created_time_dt\": \"2021-03-28T17:55:06.683053Z\", \"duration\": \"0:02:22\", \"iteration\": \"18\", \"goal\": \"AUC_weighted_max\", \"run_name\": \"MaxAbsScaler, RandomForest\", \"run_properties\": \"copy=True\", \"primary_metric\": 0.77857363, \"best_metric\": 0.82944523}, {\"run_id\": \"AutoML_6cbddc76-77a8-4440-84d1-54b965184012_19\", \"run_number\": 219, \"metric\": null, \"status\": \"Completed\", \"run_type\": \"azureml.scriptrun\", \"training_percent\": \"100\", \"start_time\": \"2021-03-28T17:56:30.899018Z\", \"end_time\": \"2021-03-28T17:57:37.590419Z\", \"created_time\": \"2021-03-28T17:55:42.868487Z\", \"created_time_dt\": \"2021-03-28T17:55:42.868487Z\", \"duration\": \"0:01:54\", \"iteration\": \"19\", \"goal\": \"AUC_weighted_max\", \"run_name\": \"StandardScalerWrapper, XGBoostClassifier\", \"run_properties\": \"<azureml.automl.runtime.shared.model_wrappers.StandardScalerWrapper object at 0x7fc9d43fed68\", \"primary_metric\": 0.8029276, \"best_metric\": 0.82944523}, {\"run_id\": \"AutoML_6cbddc76-77a8-4440-84d1-54b965184012_20\", \"run_number\": 220, \"metric\": null, \"status\": \"Completed\", \"run_type\": \"azureml.scriptrun\", \"training_percent\": \"100\", \"start_time\": \"2021-03-28T17:57:05.892267Z\", \"end_time\": \"2021-03-28T17:57:56.216539Z\", \"created_time\": \"2021-03-28T17:56:15.499655Z\", \"created_time_dt\": \"2021-03-28T17:56:15.499655Z\", \"duration\": \"0:01:40\", \"iteration\": \"20\", \"goal\": \"AUC_weighted_max\", \"run_name\": \"MaxAbsScaler, LightGBM\", \"run_properties\": \"copy=True\", \"primary_metric\": 0.79659989, \"best_metric\": 0.82944523}, {\"run_id\": \"AutoML_6cbddc76-77a8-4440-84d1-54b965184012_21\", \"run_number\": 221, \"metric\": null, \"status\": \"Completed\", \"run_type\": \"azureml.scriptrun\", \"training_percent\": \"100\", \"start_time\": \"2021-03-28T17:57:43.971558Z\", \"end_time\": \"2021-03-28T17:58:39.938748Z\", \"created_time\": \"2021-03-28T17:56:22.220231Z\", \"created_time_dt\": \"2021-03-28T17:56:22.220231Z\", \"duration\": \"0:02:17\", \"iteration\": \"21\", \"goal\": \"AUC_weighted_max\", \"run_name\": \"StandardScalerWrapper, XGBoostClassifier\", \"run_properties\": \"<azureml.automl.runtime.shared.model_wrappers.StandardScalerWrapper object at 0x7f94766fe278\", \"primary_metric\": 0.79778216, \"best_metric\": 0.82944523}, {\"run_id\": \"AutoML_6cbddc76-77a8-4440-84d1-54b965184012_22\", \"run_number\": 222, \"metric\": null, \"status\": \"Completed\", \"run_type\": \"azureml.scriptrun\", \"training_percent\": \"100\", \"start_time\": \"2021-03-28T17:57:53.970644Z\", \"end_time\": \"2021-03-28T17:58:44.108337Z\", \"created_time\": \"2021-03-28T17:56:56.050464Z\", \"created_time_dt\": \"2021-03-28T17:56:56.050464Z\", \"duration\": \"0:01:48\", \"iteration\": \"22\", \"goal\": \"AUC_weighted_max\", \"run_name\": \"StandardScalerWrapper, XGBoostClassifier\", \"run_properties\": \"<azureml.automl.runtime.shared.model_wrappers.StandardScalerWrapper object at 0x7fa266c96438\", \"primary_metric\": 0.79579631, \"best_metric\": 0.82944523}, {\"run_id\": \"AutoML_6cbddc76-77a8-4440-84d1-54b965184012_23\", \"run_number\": 223, \"metric\": null, \"status\": \"Completed\", \"run_type\": \"azureml.scriptrun\", \"training_percent\": \"100\", \"start_time\": \"2021-03-28T17:58:10.103132Z\", \"end_time\": \"2021-03-28T17:59:01.788808Z\", \"created_time\": \"2021-03-28T17:57:32.903717Z\", \"created_time_dt\": \"2021-03-28T17:57:32.903717Z\", \"duration\": \"0:01:28\", \"iteration\": \"23\", \"goal\": \"AUC_weighted_max\", \"run_name\": \"StandardScalerWrapper, XGBoostClassifier\", \"run_properties\": \"<azureml.automl.runtime.shared.model_wrappers.StandardScalerWrapper object at 0x7fdfc1989f28\", \"primary_metric\": 0.79054022, \"best_metric\": 0.82944523}, {\"run_id\": \"AutoML_6cbddc76-77a8-4440-84d1-54b965184012_24\", \"run_number\": 224, \"metric\": null, \"status\": \"Completed\", \"run_type\": \"azureml.scriptrun\", \"training_percent\": \"100\", \"start_time\": \"2021-03-28T17:58:54.364124Z\", \"end_time\": \"2021-03-28T17:59:55.172821Z\", \"created_time\": \"2021-03-28T17:57:42.59164Z\", \"created_time_dt\": \"2021-03-28T17:57:42.59164Z\", \"duration\": \"0:02:12\", \"iteration\": \"24\", \"goal\": \"AUC_weighted_max\", \"run_name\": \"MaxAbsScaler, LightGBM\", \"run_properties\": \"copy=True\", \"primary_metric\": 0.80298282, \"best_metric\": 0.82944523}, {\"run_id\": \"AutoML_6cbddc76-77a8-4440-84d1-54b965184012_25\", \"run_number\": 225, \"metric\": null, \"status\": \"Completed\", \"run_type\": \"azureml.scriptrun\", \"training_percent\": \"100\", \"start_time\": \"2021-03-28T17:59:01.0983Z\", \"end_time\": \"2021-03-28T17:59:49.972677Z\", \"created_time\": \"2021-03-28T17:58:02.19634Z\", \"created_time_dt\": \"2021-03-28T17:58:02.19634Z\", \"duration\": \"0:01:47\", \"iteration\": \"25\", \"goal\": \"AUC_weighted_max\", \"run_name\": \"StandardScalerWrapper, ExtremeRandomTrees\", \"run_properties\": \"<azureml.automl.runtime.shared.model_wrappers.StandardScalerWrapper object at 0x7f7e4cadd2b0\", \"primary_metric\": 0.5, \"best_metric\": 0.82944523}, {\"run_id\": \"AutoML_6cbddc76-77a8-4440-84d1-54b965184012_26\", \"run_number\": 226, \"metric\": null, \"status\": \"Completed\", \"run_type\": \"azureml.scriptrun\", \"training_percent\": \"100\", \"start_time\": \"2021-03-28T17:59:05.532377Z\", \"end_time\": \"2021-03-28T17:59:55.277786Z\", \"created_time\": \"2021-03-28T17:58:43.089009Z\", \"created_time_dt\": \"2021-03-28T17:58:43.089009Z\", \"duration\": \"0:01:12\", \"iteration\": \"26\", \"goal\": \"AUC_weighted_max\", \"run_name\": \"StandardScalerWrapper, RandomForest\", \"run_properties\": \"<azureml.automl.runtime.shared.model_wrappers.StandardScalerWrapper object at 0x7f951c8a8b70\", \"primary_metric\": 0.81540997, \"best_metric\": 0.82944523}, {\"run_id\": \"AutoML_6cbddc76-77a8-4440-84d1-54b965184012_27\", \"run_number\": 227, \"metric\": null, \"status\": \"Completed\", \"run_type\": \"azureml.scriptrun\", \"training_percent\": \"100\", \"start_time\": \"2021-03-28T18:00:04.964542Z\", \"end_time\": \"2021-03-28T18:00:54.168057Z\", \"created_time\": \"2021-03-28T17:58:51.444179Z\", \"created_time_dt\": \"2021-03-28T17:58:51.444179Z\", \"duration\": \"0:02:02\", \"iteration\": \"27\", \"goal\": \"AUC_weighted_max\", \"run_name\": \"MaxAbsScaler, ExtremeRandomTrees\", \"run_properties\": \"copy=True\", \"primary_metric\": 0.81329732, \"best_metric\": 0.82944523}, {\"run_id\": \"AutoML_6cbddc76-77a8-4440-84d1-54b965184012_28\", \"run_number\": 228, \"metric\": null, \"status\": \"Completed\", \"run_type\": \"azureml.scriptrun\", \"training_percent\": \"100\", \"start_time\": \"2021-03-28T18:00:11.241136Z\", \"end_time\": \"2021-03-28T18:01:12.371585Z\", \"created_time\": \"2021-03-28T17:59:08.667015Z\", \"created_time_dt\": \"2021-03-28T17:59:08.667015Z\", \"duration\": \"0:02:03\", \"iteration\": \"28\", \"goal\": \"AUC_weighted_max\", \"run_name\": \"StandardScalerWrapper, RandomForest\", \"run_properties\": \"<azureml.automl.runtime.shared.model_wrappers.StandardScalerWrapper object at 0x7f4335a8b358\", \"primary_metric\": 0.82265465, \"best_metric\": 0.82944523}, {\"run_id\": \"AutoML_6cbddc76-77a8-4440-84d1-54b965184012_29\", \"run_number\": 229, \"metric\": null, \"status\": \"Completed\", \"run_type\": \"azureml.scriptrun\", \"training_percent\": \"100\", \"start_time\": \"2021-03-28T18:00:20.732545Z\", \"end_time\": \"2021-03-28T18:01:34.70399Z\", \"created_time\": \"2021-03-28T17:59:54.557129Z\", \"created_time_dt\": \"2021-03-28T17:59:54.557129Z\", \"duration\": \"0:01:40\", \"iteration\": \"29\", \"goal\": \"AUC_weighted_max\", \"run_name\": \"MaxAbsScaler, GradientBoosting\", \"run_properties\": \"copy=True\", \"primary_metric\": 0.81447305, \"best_metric\": 0.82944523}, {\"run_id\": \"AutoML_6cbddc76-77a8-4440-84d1-54b965184012_30\", \"run_number\": 230, \"metric\": null, \"status\": \"Completed\", \"run_type\": \"azureml.scriptrun\", \"training_percent\": \"100\", \"start_time\": \"2021-03-28T18:01:13.78703Z\", \"end_time\": \"2021-03-28T18:02:13.668907Z\", \"created_time\": \"2021-03-28T18:00:07.358393Z\", \"created_time_dt\": \"2021-03-28T18:00:07.358393Z\", \"duration\": \"0:02:06\", \"iteration\": \"30\", \"goal\": \"AUC_weighted_max\", \"run_name\": \"MaxAbsScaler, ExtremeRandomTrees\", \"run_properties\": \"copy=True\", \"primary_metric\": 0.77477304, \"best_metric\": 0.82944523}, {\"run_id\": \"AutoML_6cbddc76-77a8-4440-84d1-54b965184012_31\", \"run_number\": 231, \"metric\": null, \"status\": \"Completed\", \"run_type\": \"azureml.scriptrun\", \"training_percent\": \"100\", \"start_time\": \"2021-03-28T18:01:26.416303Z\", \"end_time\": \"2021-03-28T18:02:16.65956Z\", \"created_time\": \"2021-03-28T18:00:13.876885Z\", \"created_time_dt\": \"2021-03-28T18:00:13.876885Z\", \"duration\": \"0:02:02\", \"iteration\": \"31\", \"goal\": \"AUC_weighted_max\", \"run_name\": \"StandardScalerWrapper, LogisticRegression\", \"run_properties\": \"<azureml.automl.runtime.shared.model_wrappers.StandardScalerWrapper object at 0x7fb159c2dc18\", \"primary_metric\": 0.69444239, \"best_metric\": 0.82944523}, {\"run_id\": \"AutoML_6cbddc76-77a8-4440-84d1-54b965184012_32\", \"run_number\": 232, \"metric\": null, \"status\": \"Completed\", \"run_type\": \"azureml.scriptrun\", \"training_percent\": \"100\", \"start_time\": \"2021-03-28T18:01:48.771525Z\", \"end_time\": \"2021-03-28T18:02:46.528895Z\", \"created_time\": \"2021-03-28T18:00:57.501724Z\", \"created_time_dt\": \"2021-03-28T18:00:57.501724Z\", \"duration\": \"0:01:49\", \"iteration\": \"32\", \"goal\": \"AUC_weighted_max\", \"run_name\": \"StandardScalerWrapper, LogisticRegression\", \"run_properties\": \"<azureml.automl.runtime.shared.model_wrappers.StandardScalerWrapper object at 0x7f4725354cf8\", \"primary_metric\": 0.68685231, \"best_metric\": 0.82944523}, {\"run_id\": \"AutoML_6cbddc76-77a8-4440-84d1-54b965184012_33\", \"run_number\": 233, \"metric\": null, \"status\": \"Completed\", \"run_type\": \"azureml.scriptrun\", \"training_percent\": \"100\", \"start_time\": \"2021-03-28T18:02:28.791052Z\", \"end_time\": \"2021-03-28T18:03:25.440422Z\", \"created_time\": \"2021-03-28T18:01:14.993444Z\", \"created_time_dt\": \"2021-03-28T18:01:14.993444Z\", \"duration\": \"0:02:10\", \"iteration\": \"33\", \"goal\": \"AUC_weighted_max\", \"run_name\": \"StandardScalerWrapper, LogisticRegression\", \"run_properties\": \"<azureml.automl.runtime.shared.model_wrappers.StandardScalerWrapper object at 0x7f5eb1500da0\", \"primary_metric\": 0.81657693, \"best_metric\": 0.82944523}, {\"run_id\": \"AutoML_6cbddc76-77a8-4440-84d1-54b965184012_34\", \"run_number\": 234, \"metric\": null, \"status\": \"Canceled\", \"run_type\": \"azureml.scriptrun\", \"training_percent\": \"100\", \"start_time\": \"2021-03-28T18:02:32.567772Z\", \"end_time\": \"2021-03-28T18:03:34.172664Z\", \"created_time\": \"2021-03-28T18:01:37.523377Z\", \"created_time_dt\": \"2021-03-28T18:01:37.523377Z\", \"duration\": \"0:01:56\", \"iteration\": \"34\", \"goal\": \"AUC_weighted_max\", \"run_name\": \"StandardScalerWrapper, LogisticRegression\", \"run_properties\": \"<azureml.automl.runtime.shared.model_wrappers.StandardScalerWrapper object at 0x7fbe225fd7f0\", \"primary_metric\": 0.60455418, \"best_metric\": 0.82944523}, {\"run_id\": \"AutoML_6cbddc76-77a8-4440-84d1-54b965184012_35\", \"run_number\": 235, \"metric\": null, \"status\": \"Canceled\", \"run_type\": \"azureml.scriptrun\", \"training_percent\": \"100\", \"start_time\": \"2021-03-28T18:02:59.162752Z\", \"end_time\": \"2021-03-28T18:03:37.721367Z\", \"created_time\": \"2021-03-28T18:02:17.746822Z\", \"created_time_dt\": \"2021-03-28T18:02:17.746822Z\", \"duration\": \"0:01:19\", \"iteration\": \"35\", \"goal\": \"AUC_weighted_max\", \"run_name\": \"MaxAbsScaler, ExtremeRandomTrees\", \"run_properties\": \"copy=True\", \"primary_metric\": 0.79207193, \"best_metric\": 0.82944523}, {\"run_id\": \"AutoML_6cbddc76-77a8-4440-84d1-54b965184012_36\", \"run_number\": 236, \"metric\": null, \"status\": \"Canceled\", \"run_type\": \"azureml.scriptrun\", \"training_percent\": \"100\", \"start_time\": \"2021-03-28T18:02:22.783318Z\", \"end_time\": \"2021-03-28T18:03:38.581243Z\", \"created_time\": \"2021-03-28T18:02:22.783318Z\", \"created_time_dt\": \"2021-03-28T18:02:22.783318Z\", \"duration\": \"0:01:15\", \"iteration\": \"36\", \"goal\": null, \"run_name\": \"Canceled\", \"run_properties\": null}, {\"run_id\": \"AutoML_6cbddc76-77a8-4440-84d1-54b965184012_37\", \"run_number\": 237, \"metric\": null, \"status\": \"Canceled\", \"run_type\": \"azureml.scriptrun\", \"training_percent\": \"100\", \"start_time\": \"2021-03-28T18:02:50.285872Z\", \"end_time\": \"2021-03-28T18:03:37.392278Z\", \"created_time\": \"2021-03-28T18:02:50.285872Z\", \"created_time_dt\": \"2021-03-28T18:02:50.285872Z\", \"duration\": \"0:00:47\", \"iteration\": \"37\", \"goal\": null, \"run_name\": \"Canceled\", \"run_properties\": null}, {\"run_id\": \"AutoML_6cbddc76-77a8-4440-84d1-54b965184012_39\", \"run_number\": 238, \"metric\": null, \"status\": \"Completed\", \"run_type\": \"azureml.scriptrun\", \"training_percent\": \"100\", \"start_time\": \"2021-03-28T18:03:57.728759Z\", \"end_time\": \"2021-03-28T18:05:32.49687Z\", \"created_time\": \"2021-03-28T18:03:43.241006Z\", \"created_time_dt\": \"2021-03-28T18:03:43.241006Z\", \"duration\": \"0:01:49\", \"iteration\": \"39\", \"goal\": \"AUC_weighted_max\", \"run_name\": \"StackEnsemble\", \"run_properties\": \"base_learners=[('5',\\n                                        Pipeline(memory=None,\\n                                                 steps=[('maxabsscaler',\\n                                                         MaxAbsScaler(copy=True\", \"primary_metric\": 0.8376066, \"best_metric\": 0.83939501}, {\"run_id\": \"AutoML_6cbddc76-77a8-4440-84d1-54b965184012_38\", \"run_number\": 239, \"metric\": null, \"status\": \"Completed\", \"run_type\": \"azureml.scriptrun\", \"training_percent\": \"100\", \"start_time\": \"2021-03-28T18:03:56.938451Z\", \"end_time\": \"2021-03-28T18:05:35.71162Z\", \"created_time\": \"2021-03-28T18:03:43.580413Z\", \"created_time_dt\": \"2021-03-28T18:03:43.580413Z\", \"duration\": \"0:01:52\", \"iteration\": \"38\", \"goal\": \"AUC_weighted_max\", \"run_name\": \"VotingEnsemble\", \"run_properties\": \"classification_labels=None,\\n                              estimators=[('5',\\n                                           Pipeline(memory=None,\\n                                                    steps=[('maxabsscaler',\\n                                                            MaxAbsScaler(copy=True\", \"primary_metric\": 0.83939501, \"best_metric\": 0.83939501}], \"children_metrics\": {\"categories\": [0], \"series\": {\"AUC_micro\": [{\"categories\": [\"0\", \"1\", \"2\", \"3\", \"4\", \"5\", \"6\", \"7\", \"8\", \"9\", \"10\", \"11\", \"12\", \"13\", \"14\", \"15\", \"16\", \"17\", \"18\", \"19\", \"20\", \"21\", \"22\", \"23\", \"24\", \"25\", \"26\", \"27\", \"28\", \"29\", \"30\", \"31\", \"32\", \"33\", \"34\", \"35\", \"38\", \"39\"], \"mode\": \"markers\", \"name\": \"AUC_micro\", \"stepped\": false, \"type\": \"scatter\", \"data\": [0.664740881748821, 0.7525862942332879, 0.7973566077225752, 0.7938081524257088, 0.7988976159919096, 0.8318156209185565, 0.7909084403177874, 0.8185085831522417, 0.7744122444474102, 0.6262604159741723, 0.666290601356681, 0.6364325818734449, 0.6206719853159695, 0.7622881005496855, 0.7727035286104202, 0.8197058713093873, 0.6722600981329354, 0.7451314657995185, 0.6731033284199811, 0.7113631775445332, 0.7160292244513933, 0.6814715562601892, 0.7056639849536157, 0.6931250215058689, 0.755346018902145, 0.4990437262420524, 0.815835285147013, 0.8008565661674119, 0.8240775901974994, 0.8110572707452213, 0.6361361538767067, 0.6395120918818733, 0.6089723771030943, 0.7983753238101994, 0.5583467025735372, 0.6447683890622866, 0.7844296014653827, 0.741976730949726]}, {\"categories\": [\"0\", \"1\", \"2\", \"3\", \"4\", \"5\", \"6\", \"7\", \"8\", \"9\", \"10\", \"11\", \"12\", \"13\", \"14\", \"15\", \"16\", \"17\", \"18\", \"19\", \"20\", \"21\", \"22\", \"23\", \"24\", \"25\", \"26\", \"27\", \"28\", \"29\", \"30\", \"31\", \"32\", \"33\", \"34\", \"35\", \"38\", \"39\"], \"mode\": \"lines\", \"name\": \"AUC_micro_max\", \"stepped\": true, \"type\": \"scatter\", \"data\": [0.664740881748821, 0.7525862942332879, 0.7973566077225752, 0.7973566077225752, 0.7988976159919096, 0.8318156209185565, 0.8318156209185565, 0.8318156209185565, 0.8318156209185565, 0.8318156209185565, 0.8318156209185565, 0.8318156209185565, 0.8318156209185565, 0.8318156209185565, 0.8318156209185565, 0.8318156209185565, 0.8318156209185565, 0.8318156209185565, 0.8318156209185565, 0.8318156209185565, 0.8318156209185565, 0.8318156209185565, 0.8318156209185565, 0.8318156209185565, 0.8318156209185565, 0.8318156209185565, 0.8318156209185565, 0.8318156209185565, 0.8318156209185565, 0.8318156209185565, 0.8318156209185565, 0.8318156209185565, 0.8318156209185565, 0.8318156209185565, 0.8318156209185565, 0.8318156209185565, 0.8318156209185565, 0.8318156209185565]}], \"recall_score_micro\": [{\"categories\": [\"0\", \"1\", \"2\", \"3\", \"4\", \"5\", \"6\", \"7\", \"8\", \"9\", \"10\", \"11\", \"12\", \"13\", \"14\", \"15\", \"16\", \"17\", \"18\", \"19\", \"20\", \"21\", \"22\", \"23\", \"24\", \"25\", \"26\", \"27\", \"28\", \"29\", \"30\", \"31\", \"32\", \"33\", \"34\", \"35\", \"38\", \"39\"], \"mode\": \"markers\", \"name\": \"recall_score_micro\", \"stepped\": false, \"type\": \"scatter\", \"data\": [0.5720889308129335, 0.7013449885379712, 0.744768089201079, 0.7188074140558163, 0.7348780235221651, 0.748242697179794, 0.729558400420569, 0.7482273887764799, 0.6982921858203052, 0.4990437262420747, 0.6495206466971382, 0.5900056909340495, 0.4990437262420747, 0.7049235676314567, 0.7320406093702962, 0.7530779761373652, 0.6198884189032949, 0.6868227731418675, 0.6777379444126719, 0.6314403842132803, 0.6449903690058338, 0.5924989629859265, 0.6206006426245407, 0.601428649457878, 0.6961931768732402, 0.4990437262420747, 0.7367349419960519, 0.7129919588732822, 0.7455519812834865, 0.7331622203839954, 0.4990437262420747, 0.6238542484728185, 0.583882482736376, 0.7193715941159492, 0.541549456488713, 0.4990437262420747, 0.7078609145700467, 0.6219945603085826]}, {\"categories\": [\"0\", \"1\", \"2\", \"3\", \"4\", \"5\", \"6\", \"7\", \"8\", \"9\", \"10\", \"11\", \"12\", \"13\", \"14\", \"15\", \"16\", \"17\", \"18\", \"19\", \"20\", \"21\", \"22\", \"23\", \"24\", \"25\", \"26\", \"27\", \"28\", \"29\", \"30\", \"31\", \"32\", \"33\", \"34\", \"35\", \"38\", \"39\"], \"mode\": \"lines\", \"name\": \"recall_score_micro_max\", \"stepped\": true, \"type\": \"scatter\", \"data\": [0.5720889308129335, 0.7013449885379712, 0.744768089201079, 0.744768089201079, 0.744768089201079, 0.748242697179794, 0.748242697179794, 0.748242697179794, 0.748242697179794, 0.748242697179794, 0.748242697179794, 0.748242697179794, 0.748242697179794, 0.748242697179794, 0.748242697179794, 0.7530779761373652, 0.7530779761373652, 0.7530779761373652, 0.7530779761373652, 0.7530779761373652, 0.7530779761373652, 0.7530779761373652, 0.7530779761373652, 0.7530779761373652, 0.7530779761373652, 0.7530779761373652, 0.7530779761373652, 0.7530779761373652, 0.7530779761373652, 0.7530779761373652, 0.7530779761373652, 0.7530779761373652, 0.7530779761373652, 0.7530779761373652, 0.7530779761373652, 0.7530779761373652, 0.7530779761373652, 0.7530779761373652]}], \"f1_score_macro\": [{\"categories\": [\"0\", \"1\", \"2\", \"3\", \"4\", \"5\", \"6\", \"7\", \"8\", \"9\", \"10\", \"11\", \"12\", \"13\", \"14\", \"15\", \"16\", \"17\", \"18\", \"19\", \"20\", \"21\", \"22\", \"23\", \"24\", \"25\", \"26\", \"27\", \"28\", \"29\", \"30\", \"31\", \"32\", \"33\", \"34\", \"35\", \"38\", \"39\"], \"mode\": \"markers\", \"name\": \"f1_score_macro\", \"stepped\": false, \"type\": \"scatter\", \"data\": [0.4897648212569614, 0.6938833440910581, 0.7437377574168486, 0.7178959559535599, 0.734564585904841, 0.7471250594965752, 0.7289318970749754, 0.7475766779292401, 0.6972748327634615, 0.3327508071624684, 0.6031180737720879, 0.5050830582147137, 0.3327508071624684, 0.6991436276589638, 0.7270816116815968, 0.7523606272939716, 0.559051535423875, 0.6698349500410741, 0.6425671420921402, 0.5909614655808357, 0.6128964559025345, 0.5268538265347578, 0.5813151197468927, 0.547271560091315, 0.6871018282363898, 0.3327508071624684, 0.7364665147761491, 0.7043721502605419, 0.7453493445753472, 0.7328653844248503, 0.3327508071624684, 0.5673923213497961, 0.49703246194496575, 0.7178179406327784, 0.42022426125840073, 0.3327508071624684, 0.6896911524903233, 0.5452155806705453]}, {\"categories\": [\"0\", \"1\", \"2\", \"3\", \"4\", \"5\", \"6\", \"7\", \"8\", \"9\", \"10\", \"11\", \"12\", \"13\", \"14\", \"15\", \"16\", \"17\", \"18\", \"19\", \"20\", \"21\", \"22\", \"23\", \"24\", \"25\", \"26\", \"27\", \"28\", \"29\", \"30\", \"31\", \"32\", \"33\", \"34\", \"35\", \"38\", \"39\"], \"mode\": \"lines\", \"name\": \"f1_score_macro_max\", \"stepped\": true, \"type\": \"scatter\", \"data\": [0.4897648212569614, 0.6938833440910581, 0.7437377574168486, 0.7437377574168486, 0.7437377574168486, 0.7471250594965752, 0.7471250594965752, 0.7475766779292401, 0.7475766779292401, 0.7475766779292401, 0.7475766779292401, 0.7475766779292401, 0.7475766779292401, 0.7475766779292401, 0.7475766779292401, 0.7523606272939716, 0.7523606272939716, 0.7523606272939716, 0.7523606272939716, 0.7523606272939716, 0.7523606272939716, 0.7523606272939716, 0.7523606272939716, 0.7523606272939716, 0.7523606272939716, 0.7523606272939716, 0.7523606272939716, 0.7523606272939716, 0.7523606272939716, 0.7523606272939716, 0.7523606272939716, 0.7523606272939716, 0.7523606272939716, 0.7523606272939716, 0.7523606272939716, 0.7523606272939716, 0.7523606272939716, 0.7523606272939716]}], \"average_precision_score_micro\": [{\"categories\": [\"0\", \"1\", \"2\", \"3\", \"4\", \"5\", \"6\", \"7\", \"8\", \"9\", \"10\", \"11\", \"12\", \"13\", \"14\", \"15\", \"16\", \"17\", \"18\", \"19\", \"20\", \"21\", \"22\", \"23\", \"24\", \"25\", \"26\", \"27\", \"28\", \"29\", \"30\", \"31\", \"32\", \"33\", \"34\", \"35\", \"38\", \"39\"], \"mode\": \"markers\", \"name\": \"average_precision_score_micro\", \"stepped\": false, \"type\": \"scatter\", \"data\": [0.6758214598390881, 0.7612677325670346, 0.791479026783505, 0.7936444211754439, 0.788584141026371, 0.8341577217618423, 0.7929899809760872, 0.8228532383265188, 0.7812977582750709, 0.6324464245955386, 0.6612097012711502, 0.6244722429694456, 0.6241816975278816, 0.7601973197843709, 0.7550996115165753, 0.8199818063866705, 0.6730185311486037, 0.7265784183092653, 0.6678985696779807, 0.7215008445327171, 0.7163929323737381, 0.7025928452371224, 0.7220084596235529, 0.7033897015152738, 0.7594056704945602, 0.5000523385589428, 0.8157611102902621, 0.7970622772416016, 0.8239347403628943, 0.8081059974711057, 0.6442583377939856, 0.6091322000184278, 0.577121604131636, 0.799434439841438, 0.5395029748835376, 0.6507538068539209, 0.7804807420281994, 0.7573922551079543]}, {\"categories\": [\"0\", \"1\", \"2\", \"3\", \"4\", \"5\", \"6\", \"7\", \"8\", \"9\", \"10\", \"11\", \"12\", \"13\", \"14\", \"15\", \"16\", \"17\", \"18\", \"19\", \"20\", \"21\", \"22\", \"23\", \"24\", \"25\", \"26\", \"27\", \"28\", \"29\", \"30\", \"31\", \"32\", \"33\", \"34\", \"35\", \"38\", \"39\"], \"mode\": \"lines\", \"name\": \"average_precision_score_micro_max\", \"stepped\": true, \"type\": \"scatter\", \"data\": [0.6758214598390881, 0.7612677325670346, 0.791479026783505, 0.7936444211754439, 0.7936444211754439, 0.8341577217618423, 0.8341577217618423, 0.8341577217618423, 0.8341577217618423, 0.8341577217618423, 0.8341577217618423, 0.8341577217618423, 0.8341577217618423, 0.8341577217618423, 0.8341577217618423, 0.8341577217618423, 0.8341577217618423, 0.8341577217618423, 0.8341577217618423, 0.8341577217618423, 0.8341577217618423, 0.8341577217618423, 0.8341577217618423, 0.8341577217618423, 0.8341577217618423, 0.8341577217618423, 0.8341577217618423, 0.8341577217618423, 0.8341577217618423, 0.8341577217618423, 0.8341577217618423, 0.8341577217618423, 0.8341577217618423, 0.8341577217618423, 0.8341577217618423, 0.8341577217618423, 0.8341577217618423, 0.8341577217618423]}], \"f1_score_weighted\": [{\"categories\": [\"0\", \"1\", \"2\", \"3\", \"4\", \"5\", \"6\", \"7\", \"8\", \"9\", \"10\", \"11\", \"12\", \"13\", \"14\", \"15\", \"16\", \"17\", \"18\", \"19\", \"20\", \"21\", \"22\", \"23\", \"24\", \"25\", \"26\", \"27\", \"28\", \"29\", \"30\", \"31\", \"32\", \"33\", \"34\", \"35\", \"38\", \"39\"], \"mode\": \"markers\", \"name\": \"f1_score_weighted\", \"stepped\": false, \"type\": \"scatter\", \"data\": [0.4896863478353215, 0.693782213791319, 0.7443801119802333, 0.7185681967742266, 0.7349312953361598, 0.7478504254441116, 0.7292367968352674, 0.7480237186891388, 0.6969827134157014, 0.33258583815918497, 0.6026555515194717, 0.507199043984379, 0.33258583815918497, 0.6995130315603595, 0.7276954206280803, 0.7529473553178345, 0.5589436124857848, 0.670324161022722, 0.6420133016321397, 0.591719578439702, 0.613080691702409, 0.5270183961337547, 0.5809832639262171, 0.5479497715176893, 0.6872090254836756, 0.33258583815918497, 0.7368475732928377, 0.7047684553325677, 0.7456311437980798, 0.7331022080494783, 0.33258583815918497, 0.5652386886924199, 0.49740510841772123, 0.7172944313910675, 0.4180260439339335, 0.33258583815918497, 0.6905074475119297, 0.5375476346671091]}, {\"categories\": [\"0\", \"1\", \"2\", \"3\", \"4\", \"5\", \"6\", \"7\", \"8\", \"9\", \"10\", \"11\", \"12\", \"13\", \"14\", \"15\", \"16\", \"17\", \"18\", \"19\", \"20\", \"21\", \"22\", \"23\", \"24\", \"25\", \"26\", \"27\", \"28\", \"29\", \"30\", \"31\", \"32\", \"33\", \"34\", \"35\", \"38\", \"39\"], \"mode\": \"lines\", \"name\": \"f1_score_weighted_max\", \"stepped\": true, \"type\": \"scatter\", \"data\": [0.4896863478353215, 0.693782213791319, 0.7443801119802333, 0.7443801119802333, 0.7443801119802333, 0.7478504254441116, 0.7478504254441116, 0.7480237186891388, 0.7480237186891388, 0.7480237186891388, 0.7480237186891388, 0.7480237186891388, 0.7480237186891388, 0.7480237186891388, 0.7480237186891388, 0.7529473553178345, 0.7529473553178345, 0.7529473553178345, 0.7529473553178345, 0.7529473553178345, 0.7529473553178345, 0.7529473553178345, 0.7529473553178345, 0.7529473553178345, 0.7529473553178345, 0.7529473553178345, 0.7529473553178345, 0.7529473553178345, 0.7529473553178345, 0.7529473553178345, 0.7529473553178345, 0.7529473553178345, 0.7529473553178345, 0.7529473553178345, 0.7529473553178345, 0.7529473553178345, 0.7529473553178345, 0.7529473553178345]}], \"precision_score_weighted\": [{\"categories\": [\"0\", \"1\", \"2\", \"3\", \"4\", \"5\", \"6\", \"7\", \"8\", \"9\", \"10\", \"11\", \"12\", \"13\", \"14\", \"15\", \"16\", \"17\", \"18\", \"19\", \"20\", \"21\", \"22\", \"23\", \"24\", \"25\", \"26\", \"27\", \"28\", \"29\", \"30\", \"31\", \"32\", \"33\", \"34\", \"35\", \"38\", \"39\"], \"mode\": \"markers\", \"name\": \"precision_score_weighted\", \"stepped\": false, \"type\": \"scatter\", \"data\": [0.6999217617064941, 0.7244512267214975, 0.7456621648077569, 0.7192534011027457, 0.7359127039366484, 0.7486264969284327, 0.7319048180906564, 0.7495653578435688, 0.7057210971086035, 0.24957420167995875, 0.7867464954226975, 0.7631231574454136, 0.24957420167995875, 0.7222916673988715, 0.7476502242638218, 0.7532328364172983, 0.7720323307426596, 0.73496015676068, 0.7985205561507083, 0.7148153396962226, 0.7169296808965853, 0.7059669131790997, 0.6920000629096619, 0.6921636372507414, 0.7229686868288238, 0.24957420167995875, 0.737374591368359, 0.740974366044634, 0.7468633899100637, 0.7353174026213034, 0.24957420167995875, 0.7562276484037818, 0.7734290265047219, 0.7306743982380364, 0.7626176275377605, 0.24957420167995875, 0.7694084149259648, 0.49815784348000675]}, {\"categories\": [\"0\", \"1\", \"2\", \"3\", \"4\", \"5\", \"6\", \"7\", \"8\", \"9\", \"10\", \"11\", \"12\", \"13\", \"14\", \"15\", \"16\", \"17\", \"18\", \"19\", \"20\", \"21\", \"22\", \"23\", \"24\", \"25\", \"26\", \"27\", \"28\", \"29\", \"30\", \"31\", \"32\", \"33\", \"34\", \"35\", \"38\", \"39\"], \"mode\": \"lines\", \"name\": \"precision_score_weighted_max\", \"stepped\": true, \"type\": \"scatter\", \"data\": [0.6999217617064941, 0.7244512267214975, 0.7456621648077569, 0.7456621648077569, 0.7456621648077569, 0.7486264969284327, 0.7486264969284327, 0.7495653578435688, 0.7495653578435688, 0.7495653578435688, 0.7867464954226975, 0.7867464954226975, 0.7867464954226975, 0.7867464954226975, 0.7867464954226975, 0.7867464954226975, 0.7867464954226975, 0.7867464954226975, 0.7985205561507083, 0.7985205561507083, 0.7985205561507083, 0.7985205561507083, 0.7985205561507083, 0.7985205561507083, 0.7985205561507083, 0.7985205561507083, 0.7985205561507083, 0.7985205561507083, 0.7985205561507083, 0.7985205561507083, 0.7985205561507083, 0.7985205561507083, 0.7985205561507083, 0.7985205561507083, 0.7985205561507083, 0.7985205561507083, 0.7985205561507083, 0.7985205561507083]}], \"AUC_weighted\": [{\"categories\": [\"0\", \"1\", \"2\", \"3\", \"4\", \"5\", \"6\", \"7\", \"8\", \"9\", \"10\", \"11\", \"12\", \"13\", \"14\", \"15\", \"16\", \"17\", \"18\", \"19\", \"20\", \"21\", \"22\", \"23\", \"24\", \"25\", \"26\", \"27\", \"28\", \"29\", \"30\", \"31\", \"32\", \"33\", \"34\", \"35\", \"38\", \"39\"], \"mode\": \"markers\", \"name\": \"AUC_weighted\", \"stepped\": false, \"type\": \"scatter\", \"data\": [0.7851876451222128, 0.7945874152245844, 0.8035454601644958, 0.7907828438103626, 0.8008374428448248, 0.8294452300503394, 0.7999705541857689, 0.8138037681624422, 0.7930695599763453, 0.7549767410452071, 0.770050888654257, 0.7315329059433214, 0.7437781782001405, 0.7999368319637211, 0.8070781927020658, 0.8167133958008965, 0.7908197698508489, 0.7813553092774204, 0.7785736287721968, 0.8029276039606865, 0.7965998890634551, 0.7977821587533087, 0.7957963149205989, 0.7905402150271718, 0.8029828246176496, 0.5, 0.815409969826815, 0.8132973159554704, 0.8226546456385582, 0.8144730497181549, 0.7747730350043626, 0.6944423891295779, 0.6868523144623591, 0.8165769287924145, 0.6045541806237855, 0.7920719338398523, 0.8393950050732002, 0.8376065956718164]}, {\"categories\": [\"0\", \"1\", \"2\", \"3\", \"4\", \"5\", \"6\", \"7\", \"8\", \"9\", \"10\", \"11\", \"12\", \"13\", \"14\", \"15\", \"16\", \"17\", \"18\", \"19\", \"20\", \"21\", \"22\", \"23\", \"24\", \"25\", \"26\", \"27\", \"28\", \"29\", \"30\", \"31\", \"32\", \"33\", \"34\", \"35\", \"38\", \"39\"], \"mode\": \"lines\", \"name\": \"AUC_weighted_max\", \"stepped\": true, \"type\": \"scatter\", \"data\": [0.7851876451222128, 0.7945874152245844, 0.8035454601644958, 0.8035454601644958, 0.8035454601644958, 0.8294452300503394, 0.8294452300503394, 0.8294452300503394, 0.8294452300503394, 0.8294452300503394, 0.8294452300503394, 0.8294452300503394, 0.8294452300503394, 0.8294452300503394, 0.8294452300503394, 0.8294452300503394, 0.8294452300503394, 0.8294452300503394, 0.8294452300503394, 0.8294452300503394, 0.8294452300503394, 0.8294452300503394, 0.8294452300503394, 0.8294452300503394, 0.8294452300503394, 0.8294452300503394, 0.8294452300503394, 0.8294452300503394, 0.8294452300503394, 0.8294452300503394, 0.8294452300503394, 0.8294452300503394, 0.8294452300503394, 0.8294452300503394, 0.8294452300503394, 0.8294452300503394, 0.8393950050732002, 0.8393950050732002]}], \"f1_score_micro\": [{\"categories\": [\"0\", \"1\", \"2\", \"3\", \"4\", \"5\", \"6\", \"7\", \"8\", \"9\", \"10\", \"11\", \"12\", \"13\", \"14\", \"15\", \"16\", \"17\", \"18\", \"19\", \"20\", \"21\", \"22\", \"23\", \"24\", \"25\", \"26\", \"27\", \"28\", \"29\", \"30\", \"31\", \"32\", \"33\", \"34\", \"35\", \"38\", \"39\"], \"mode\": \"markers\", \"name\": \"f1_score_micro\", \"stepped\": false, \"type\": \"scatter\", \"data\": [0.572088930812924, 0.7013449885379666, 0.7447680892010791, 0.7188074140558162, 0.7348780235221652, 0.748242697179794, 0.7295584004205691, 0.7482273887764799, 0.698292185820304, 0.49904372624206433, 0.6495206466971297, 0.59000569093404, 0.49904372624206433, 0.7049235676314525, 0.7320406093702927, 0.753077976137365, 0.6198884189032859, 0.6868227731418627, 0.6777379444126642, 0.6314403842132716, 0.6449903690058255, 0.592498962985917, 0.6206006426245322, 0.6014286494578689, 0.6961931768732347, 0.49904372624206433, 0.7367349419960519, 0.7129919588732787, 0.7455519812834867, 0.7331622203839955, 0.49904372624206433, 0.6238542484728105, 0.5838824827363668, 0.7193715941159474, 0.5415494564887033, 0.49904372624206433, 0.7078609145700417, 0.6219945603085781]}, {\"categories\": [\"0\", \"1\", \"2\", \"3\", \"4\", \"5\", \"6\", \"7\", \"8\", \"9\", \"10\", \"11\", \"12\", \"13\", \"14\", \"15\", \"16\", \"17\", \"18\", \"19\", \"20\", \"21\", \"22\", \"23\", \"24\", \"25\", \"26\", \"27\", \"28\", \"29\", \"30\", \"31\", \"32\", \"33\", \"34\", \"35\", \"38\", \"39\"], \"mode\": \"lines\", \"name\": \"f1_score_micro_max\", \"stepped\": true, \"type\": \"scatter\", \"data\": [0.572088930812924, 0.7013449885379666, 0.7447680892010791, 0.7447680892010791, 0.7447680892010791, 0.748242697179794, 0.748242697179794, 0.748242697179794, 0.748242697179794, 0.748242697179794, 0.748242697179794, 0.748242697179794, 0.748242697179794, 0.748242697179794, 0.748242697179794, 0.753077976137365, 0.753077976137365, 0.753077976137365, 0.753077976137365, 0.753077976137365, 0.753077976137365, 0.753077976137365, 0.753077976137365, 0.753077976137365, 0.753077976137365, 0.753077976137365, 0.753077976137365, 0.753077976137365, 0.753077976137365, 0.753077976137365, 0.753077976137365, 0.753077976137365, 0.753077976137365, 0.753077976137365, 0.753077976137365, 0.753077976137365, 0.753077976137365, 0.753077976137365]}], \"precision_score_micro\": [{\"categories\": [\"0\", \"1\", \"2\", \"3\", \"4\", \"5\", \"6\", \"7\", \"8\", \"9\", \"10\", \"11\", \"12\", \"13\", \"14\", \"15\", \"16\", \"17\", \"18\", \"19\", \"20\", \"21\", \"22\", \"23\", \"24\", \"25\", \"26\", \"27\", \"28\", \"29\", \"30\", \"31\", \"32\", \"33\", \"34\", \"35\", \"38\", \"39\"], \"mode\": \"markers\", \"name\": \"precision_score_micro\", \"stepped\": false, \"type\": \"scatter\", \"data\": [0.5720889308129143, 0.7013449885379618, 0.7447680892010791, 0.718807414055816, 0.7348780235221652, 0.748242697179794, 0.7295584004205691, 0.7482273887764799, 0.6982921858203026, 0.49904372624205395, 0.6495206466971214, 0.5900056909340305, 0.49904372624205395, 0.7049235676314484, 0.7320406093702889, 0.753077976137365, 0.619888418903277, 0.6868227731418579, 0.6777379444126566, 0.6314403842132629, 0.6449903690058172, 0.5924989629859074, 0.6206006426245236, 0.6014286494578598, 0.6961931768732292, 0.49904372624205395, 0.736734941996052, 0.7129919588732754, 0.7455519812834868, 0.7331622203839956, 0.49904372624205395, 0.6238542484728025, 0.5838824827363576, 0.7193715941159455, 0.5415494564886937, 0.49904372624205395, 0.7078609145700367, 0.6219945603085738]}, {\"categories\": [\"0\", \"1\", \"2\", \"3\", \"4\", \"5\", \"6\", \"7\", \"8\", \"9\", \"10\", \"11\", \"12\", \"13\", \"14\", \"15\", \"16\", \"17\", \"18\", \"19\", \"20\", \"21\", \"22\", \"23\", \"24\", \"25\", \"26\", \"27\", \"28\", \"29\", \"30\", \"31\", \"32\", \"33\", \"34\", \"35\", \"38\", \"39\"], \"mode\": \"lines\", \"name\": \"precision_score_micro_max\", \"stepped\": true, \"type\": \"scatter\", \"data\": [0.5720889308129143, 0.7013449885379618, 0.7447680892010791, 0.7447680892010791, 0.7447680892010791, 0.748242697179794, 0.748242697179794, 0.748242697179794, 0.748242697179794, 0.748242697179794, 0.748242697179794, 0.748242697179794, 0.748242697179794, 0.748242697179794, 0.748242697179794, 0.753077976137365, 0.753077976137365, 0.753077976137365, 0.753077976137365, 0.753077976137365, 0.753077976137365, 0.753077976137365, 0.753077976137365, 0.753077976137365, 0.753077976137365, 0.753077976137365, 0.753077976137365, 0.753077976137365, 0.753077976137365, 0.753077976137365, 0.753077976137365, 0.753077976137365, 0.753077976137365, 0.753077976137365, 0.753077976137365, 0.753077976137365, 0.753077976137365, 0.753077976137365]}], \"recall_score_weighted\": [{\"categories\": [\"0\", \"1\", \"2\", \"3\", \"4\", \"5\", \"6\", \"7\", \"8\", \"9\", \"10\", \"11\", \"12\", \"13\", \"14\", \"15\", \"16\", \"17\", \"18\", \"19\", \"20\", \"21\", \"22\", \"23\", \"24\", \"25\", \"26\", \"27\", \"28\", \"29\", \"30\", \"31\", \"32\", \"33\", \"34\", \"35\", \"38\", \"39\"], \"mode\": \"markers\", \"name\": \"recall_score_weighted\", \"stepped\": false, \"type\": \"scatter\", \"data\": [0.5720889308129335, 0.7013449885379712, 0.744768089201079, 0.7188074140558163, 0.7348780235221651, 0.748242697179794, 0.729558400420569, 0.7482273887764799, 0.6982921858203052, 0.4990437262420747, 0.6495206466971382, 0.5900056909340495, 0.4990437262420747, 0.7049235676314567, 0.7320406093702962, 0.7530779761373652, 0.6198884189032949, 0.6868227731418675, 0.6777379444126719, 0.6314403842132803, 0.6449903690058338, 0.5924989629859265, 0.6206006426245407, 0.601428649457878, 0.6961931768732402, 0.4990437262420747, 0.7367349419960519, 0.712991958873282, 0.7455519812834865, 0.7331622203839954, 0.4990437262420747, 0.6238542484728185, 0.583882482736376, 0.7193715941159492, 0.541549456488713, 0.4990437262420747, 0.7078609145700467, 0.6219945603085826]}, {\"categories\": [\"0\", \"1\", \"2\", \"3\", \"4\", \"5\", \"6\", \"7\", \"8\", \"9\", \"10\", \"11\", \"12\", \"13\", \"14\", \"15\", \"16\", \"17\", \"18\", \"19\", \"20\", \"21\", \"22\", \"23\", \"24\", \"25\", \"26\", \"27\", \"28\", \"29\", \"30\", \"31\", \"32\", \"33\", \"34\", \"35\", \"38\", \"39\"], \"mode\": \"lines\", \"name\": \"recall_score_weighted_max\", \"stepped\": true, \"type\": \"scatter\", \"data\": [0.5720889308129335, 0.7013449885379712, 0.744768089201079, 0.744768089201079, 0.744768089201079, 0.748242697179794, 0.748242697179794, 0.748242697179794, 0.748242697179794, 0.748242697179794, 0.748242697179794, 0.748242697179794, 0.748242697179794, 0.748242697179794, 0.748242697179794, 0.7530779761373652, 0.7530779761373652, 0.7530779761373652, 0.7530779761373652, 0.7530779761373652, 0.7530779761373652, 0.7530779761373652, 0.7530779761373652, 0.7530779761373652, 0.7530779761373652, 0.7530779761373652, 0.7530779761373652, 0.7530779761373652, 0.7530779761373652, 0.7530779761373652, 0.7530779761373652, 0.7530779761373652, 0.7530779761373652, 0.7530779761373652, 0.7530779761373652, 0.7530779761373652, 0.7530779761373652, 0.7530779761373652]}], \"average_precision_score_macro\": [{\"categories\": [\"0\", \"1\", \"2\", \"3\", \"4\", \"5\", \"6\", \"7\", \"8\", \"9\", \"10\", \"11\", \"12\", \"13\", \"14\", \"15\", \"16\", \"17\", \"18\", \"19\", \"20\", \"21\", \"22\", \"23\", \"24\", \"25\", \"26\", \"27\", \"28\", \"29\", \"30\", \"31\", \"32\", \"33\", \"34\", \"35\", \"38\", \"39\"], \"mode\": \"markers\", \"name\": \"average_precision_score_macro\", \"stepped\": false, \"type\": \"scatter\", \"data\": [0.7741429294705199, 0.7979310429551687, 0.7960502759789378, 0.7851620462765478, 0.782068727532606, 0.8239009811957758, 0.797470545879855, 0.8107156337811029, 0.7873608537921793, 0.7594389902502763, 0.7729345148339117, 0.7308160589445911, 0.7494180430378803, 0.7905969016095393, 0.785974524745073, 0.8087102211042849, 0.7907681002051006, 0.7805640761411852, 0.7788802524494763, 0.801444783698058, 0.7898595571633451, 0.7970594813043063, 0.7948597465249918, 0.7866524069187916, 0.8057310098547681, 0.5, 0.8091392002355462, 0.8074022370416938, 0.8169755482201979, 0.8069581044890766, 0.7747659188209335, 0.6650636889306947, 0.6550152127632876, 0.8140261115651489, 0.5874065936695053, 0.7869784502715347, 0.8374681992157886, 0.8359913199450477]}, {\"categories\": [\"0\", \"1\", \"2\", \"3\", \"4\", \"5\", \"6\", \"7\", \"8\", \"9\", \"10\", \"11\", \"12\", \"13\", \"14\", \"15\", \"16\", \"17\", \"18\", \"19\", \"20\", \"21\", \"22\", \"23\", \"24\", \"25\", \"26\", \"27\", \"28\", \"29\", \"30\", \"31\", \"32\", \"33\", \"34\", \"35\", \"38\", \"39\"], \"mode\": \"lines\", \"name\": \"average_precision_score_macro_max\", \"stepped\": true, \"type\": \"scatter\", \"data\": [0.7741429294705199, 0.7979310429551687, 0.7979310429551687, 0.7979310429551687, 0.7979310429551687, 0.8239009811957758, 0.8239009811957758, 0.8239009811957758, 0.8239009811957758, 0.8239009811957758, 0.8239009811957758, 0.8239009811957758, 0.8239009811957758, 0.8239009811957758, 0.8239009811957758, 0.8239009811957758, 0.8239009811957758, 0.8239009811957758, 0.8239009811957758, 0.8239009811957758, 0.8239009811957758, 0.8239009811957758, 0.8239009811957758, 0.8239009811957758, 0.8239009811957758, 0.8239009811957758, 0.8239009811957758, 0.8239009811957758, 0.8239009811957758, 0.8239009811957758, 0.8239009811957758, 0.8239009811957758, 0.8239009811957758, 0.8239009811957758, 0.8239009811957758, 0.8239009811957758, 0.8374681992157886, 0.8374681992157886]}], \"matthews_correlation\": [{\"categories\": [\"0\", \"1\", \"2\", \"3\", \"4\", \"5\", \"6\", \"7\", \"8\", \"9\", \"10\", \"11\", \"12\", \"13\", \"14\", \"15\", \"16\", \"17\", \"18\", \"19\", \"20\", \"21\", \"22\", \"23\", \"24\", \"25\", \"26\", \"27\", \"28\", \"29\", \"30\", \"31\", \"32\", \"33\", \"34\", \"35\", \"38\", \"39\"], \"mode\": \"markers\", \"name\": \"matthews_correlation\", \"stepped\": false, \"type\": \"scatter\", \"data\": [0.23959235290754172, 0.4252593666839704, 0.4891483056225512, 0.43671798852995936, 0.47005789613026705, 0.49542077516896804, 0.4608503297686979, 0.49690038356659383, 0.40451655496635675, 0.0, 0.4148916622475047, 0.2984884130369624, 0.0, 0.4261223760301346, 0.4782531157341551, 0.5051381798319416, 0.3620493155941358, 0.41823093063190997, 0.46142967595040607, 0.3347441623306455, 0.354215179789379, 0.2755632442660414, 0.30451564492460503, 0.27803428888757675, 0.4180310131773429, 0.0, 0.4733480213399358, 0.45238358589535965, 0.49185240288089854, 0.4680039745487121, 0.0, 0.35616314869116295, 0.30292189096155314, 0.45089999420990046, 0.19975310617336664, 0.0, 0.4716305539655668, 0.26871012260476107]}, {\"categories\": [\"0\", \"1\", \"2\", \"3\", \"4\", \"5\", \"6\", \"7\", \"8\", \"9\", \"10\", \"11\", \"12\", \"13\", \"14\", \"15\", \"16\", \"17\", \"18\", \"19\", \"20\", \"21\", \"22\", \"23\", \"24\", \"25\", \"26\", \"27\", \"28\", \"29\", \"30\", \"31\", \"32\", \"33\", \"34\", \"35\", \"38\", \"39\"], \"mode\": \"lines\", \"name\": \"matthews_correlation_max\", \"stepped\": true, \"type\": \"scatter\", \"data\": [0.23959235290754172, 0.4252593666839704, 0.4891483056225512, 0.4891483056225512, 0.4891483056225512, 0.49542077516896804, 0.49542077516896804, 0.49690038356659383, 0.49690038356659383, 0.49690038356659383, 0.49690038356659383, 0.49690038356659383, 0.49690038356659383, 0.49690038356659383, 0.49690038356659383, 0.5051381798319416, 0.5051381798319416, 0.5051381798319416, 0.5051381798319416, 0.5051381798319416, 0.5051381798319416, 0.5051381798319416, 0.5051381798319416, 0.5051381798319416, 0.5051381798319416, 0.5051381798319416, 0.5051381798319416, 0.5051381798319416, 0.5051381798319416, 0.5051381798319416, 0.5051381798319416, 0.5051381798319416, 0.5051381798319416, 0.5051381798319416, 0.5051381798319416, 0.5051381798319416, 0.5051381798319416, 0.5051381798319416]}], \"accuracy\": [{\"categories\": [\"0\", \"1\", \"2\", \"3\", \"4\", \"5\", \"6\", \"7\", \"8\", \"9\", \"10\", \"11\", \"12\", \"13\", \"14\", \"15\", \"16\", \"17\", \"18\", \"19\", \"20\", \"21\", \"22\", \"23\", \"24\", \"25\", \"26\", \"27\", \"28\", \"29\", \"30\", \"31\", \"32\", \"33\", \"34\", \"35\", \"38\", \"39\"], \"mode\": \"markers\", \"name\": \"accuracy\", \"stepped\": false, \"type\": \"scatter\", \"data\": [0.5720889308129398, 0.7013449885379728, 0.744768089201078, 0.7188074140558138, 0.7348780235221637, 0.748242697179793, 0.7295584004205681, 0.7482273887764774, 0.6982921858203044, 0.4990437262420671, 0.649520646697128, 0.5900056909340401, 0.4990437262420671, 0.7049235676314578, 0.7320406093702974, 0.7530779761373632, 0.6198884189032849, 0.6868227731418601, 0.6777379444126626, 0.631440384213285, 0.6449903690058381, 0.5924989629859323, 0.6206006426245452, 0.6014286494578831, 0.6961931768732421, 0.4990437262420671, 0.7367349419960504, 0.7129919588732765, 0.7455519812834852, 0.733162220383994, 0.4990437262420671, 0.6238542484728093, 0.5838824827363668, 0.7193715941159486, 0.5415494564887047, 0.4990437262420671, 0.7078609145700394, 0.6219945603085781]}, {\"categories\": [\"0\", \"1\", \"2\", \"3\", \"4\", \"5\", \"6\", \"7\", \"8\", \"9\", \"10\", \"11\", \"12\", \"13\", \"14\", \"15\", \"16\", \"17\", \"18\", \"19\", \"20\", \"21\", \"22\", \"23\", \"24\", \"25\", \"26\", \"27\", \"28\", \"29\", \"30\", \"31\", \"32\", \"33\", \"34\", \"35\", \"38\", \"39\"], \"mode\": \"lines\", \"name\": \"accuracy_max\", \"stepped\": true, \"type\": \"scatter\", \"data\": [0.5720889308129398, 0.7013449885379728, 0.744768089201078, 0.744768089201078, 0.744768089201078, 0.748242697179793, 0.748242697179793, 0.748242697179793, 0.748242697179793, 0.748242697179793, 0.748242697179793, 0.748242697179793, 0.748242697179793, 0.748242697179793, 0.748242697179793, 0.7530779761373632, 0.7530779761373632, 0.7530779761373632, 0.7530779761373632, 0.7530779761373632, 0.7530779761373632, 0.7530779761373632, 0.7530779761373632, 0.7530779761373632, 0.7530779761373632, 0.7530779761373632, 0.7530779761373632, 0.7530779761373632, 0.7530779761373632, 0.7530779761373632, 0.7530779761373632, 0.7530779761373632, 0.7530779761373632, 0.7530779761373632, 0.7530779761373632, 0.7530779761373632, 0.7530779761373632, 0.7530779761373632]}], \"balanced_accuracy\": [{\"categories\": [\"0\", \"1\", \"2\", \"3\", \"4\", \"5\", \"6\", \"7\", \"8\", \"9\", \"10\", \"11\", \"12\", \"13\", \"14\", \"15\", \"16\", \"17\", \"18\", \"19\", \"20\", \"21\", \"22\", \"23\", \"24\", \"25\", \"26\", \"27\", \"28\", \"29\", \"30\", \"31\", \"32\", \"33\", \"34\", \"35\", \"38\", \"39\"], \"mode\": \"markers\", \"name\": \"balanced_accuracy\", \"stepped\": false, \"type\": \"scatter\", \"data\": [0.5720976009349232, 0.7024123211173816, 0.7439810441535906, 0.7178779100818958, 0.7351337137361664, 0.7470137546962734, 0.729868882456403, 0.7480643649258847, 0.700643708595214, 0.5, 0.6509802989688097, 0.5888888931126406, 0.5, 0.7052247736129549, 0.7314671306890389, 0.7523117206762845, 0.6206837443519375, 0.686534508255501, 0.6793914454355114, 0.6306854759723077, 0.6451410574317731, 0.5923469199593695, 0.6212454826354215, 0.6007691342153109, 0.6968273323702923, 0.5, 0.7368809299377994, 0.7132873513397611, 0.7460751301189832, 0.7338815258368625, 0.5, 0.6269904077467229, 0.584404792738129, 0.7225532713776049, 0.5438920647253995, 0.5, 0.7066686252674061, 0.6344594457621284]}, {\"categories\": [\"0\", \"1\", \"2\", \"3\", \"4\", \"5\", \"6\", \"7\", \"8\", \"9\", \"10\", \"11\", \"12\", \"13\", \"14\", \"15\", \"16\", \"17\", \"18\", \"19\", \"20\", \"21\", \"22\", \"23\", \"24\", \"25\", \"26\", \"27\", \"28\", \"29\", \"30\", \"31\", \"32\", \"33\", \"34\", \"35\", \"38\", \"39\"], \"mode\": \"lines\", \"name\": \"balanced_accuracy_max\", \"stepped\": true, \"type\": \"scatter\", \"data\": [0.5720976009349232, 0.7024123211173816, 0.7439810441535906, 0.7439810441535906, 0.7439810441535906, 0.7470137546962734, 0.7470137546962734, 0.7480643649258847, 0.7480643649258847, 0.7480643649258847, 0.7480643649258847, 0.7480643649258847, 0.7480643649258847, 0.7480643649258847, 0.7480643649258847, 0.7523117206762845, 0.7523117206762845, 0.7523117206762845, 0.7523117206762845, 0.7523117206762845, 0.7523117206762845, 0.7523117206762845, 0.7523117206762845, 0.7523117206762845, 0.7523117206762845, 0.7523117206762845, 0.7523117206762845, 0.7523117206762845, 0.7523117206762845, 0.7523117206762845, 0.7523117206762845, 0.7523117206762845, 0.7523117206762845, 0.7523117206762845, 0.7523117206762845, 0.7523117206762845, 0.7523117206762845, 0.7523117206762845]}], \"norm_macro_recall\": [{\"categories\": [\"0\", \"1\", \"2\", \"3\", \"4\", \"5\", \"6\", \"7\", \"8\", \"9\", \"10\", \"11\", \"12\", \"13\", \"14\", \"15\", \"16\", \"17\", \"18\", \"19\", \"20\", \"21\", \"22\", \"23\", \"24\", \"25\", \"26\", \"27\", \"28\", \"29\", \"30\", \"31\", \"32\", \"33\", \"34\", \"35\", \"38\", \"39\"], \"mode\": \"markers\", \"name\": \"norm_macro_recall\", \"stepped\": false, \"type\": \"scatter\", \"data\": [0.14419520186984536, 0.40482464223475767, 0.48796208830717325, 0.4357558201637819, 0.470267427472324, 0.4940275093925385, 0.4597377649127976, 0.4961287298517597, 0.40128741719041916, 0.0, 0.301960597937615, 0.17777778622527918, 0.0, 0.41044954722590377, 0.46293426137807236, 0.5046234413525597, 0.24136748870387204, 0.37306901651099544, 0.35878289087101733, 0.26137095194461313, 0.2902821148635437, 0.18469383991873767, 0.24249096527084046, 0.20153826843061973, 0.3936546647405794, 0.0, 0.4737618598755896, 0.4265747026795146, 0.4921502602379576, 0.4677630516737167, 0.0, 0.2539808154934422, 0.16880958547625657, 0.4451065427552019, 0.0877841294507985, 0.0, 0.41333725053480563, 0.2689188915242531]}, {\"categories\": [\"0\", \"1\", \"2\", \"3\", \"4\", \"5\", \"6\", \"7\", \"8\", \"9\", \"10\", \"11\", \"12\", \"13\", \"14\", \"15\", \"16\", \"17\", \"18\", \"19\", \"20\", \"21\", \"22\", \"23\", \"24\", \"25\", \"26\", \"27\", \"28\", \"29\", \"30\", \"31\", \"32\", \"33\", \"34\", \"35\", \"38\", \"39\"], \"mode\": \"lines\", \"name\": \"norm_macro_recall_max\", \"stepped\": true, \"type\": \"scatter\", \"data\": [0.14419520186984536, 0.40482464223475767, 0.48796208830717325, 0.48796208830717325, 0.48796208830717325, 0.4940275093925385, 0.4940275093925385, 0.4961287298517597, 0.4961287298517597, 0.4961287298517597, 0.4961287298517597, 0.4961287298517597, 0.4961287298517597, 0.4961287298517597, 0.4961287298517597, 0.5046234413525597, 0.5046234413525597, 0.5046234413525597, 0.5046234413525597, 0.5046234413525597, 0.5046234413525597, 0.5046234413525597, 0.5046234413525597, 0.5046234413525597, 0.5046234413525597, 0.5046234413525597, 0.5046234413525597, 0.5046234413525597, 0.5046234413525597, 0.5046234413525597, 0.5046234413525597, 0.5046234413525597, 0.5046234413525597, 0.5046234413525597, 0.5046234413525597, 0.5046234413525597, 0.5046234413525597, 0.5046234413525597]}], \"log_loss\": [{\"categories\": [\"0\", \"1\", \"2\", \"3\", \"4\", \"5\", \"6\", \"7\", \"8\", \"9\", \"10\", \"11\", \"12\", \"13\", \"14\", \"15\", \"16\", \"17\", \"18\", \"19\", \"20\", \"21\", \"22\", \"23\", \"24\", \"25\", \"26\", \"27\", \"28\", \"29\", \"30\", \"31\", \"32\", \"33\", \"34\", \"35\", \"38\", \"39\"], \"mode\": \"markers\", \"name\": \"log_loss\", \"stepped\": false, \"type\": \"scatter\", \"data\": [1.91144865130528, 0.6982746617606663, 0.5495947931186498, 0.6507537874207276, 0.5492293746835515, 0.4958108149514867, 0.5493813822365576, 0.5319014477995914, 0.5848966581051116, 1.2131893607716941, 0.932944468621101, 1.0059490118765313, 1.1726662452220942, 0.5842486294540775, 0.9898806237007358, 0.515411961070895, 0.9355766414510562, 0.6306703120154483, 1.0279449586041005, 0.7578096961506271, 1.0350815357049867, 1.177555202938622, 0.93075645682132, 1.0725360451044867, 0.7512371607726885, 1.5718552062764917, 0.523155284733851, 0.6130968763636833, 0.5123433762401961, 0.5539291460996316, 1.3299277830175589, 11.383214411590181, 12.64469138714784, 0.5972976391639283, 14.586340465847211, 1.1840495655515366, 0.5580702434464451, 0.5946024338270128]}, {\"categories\": [\"0\", \"1\", \"2\", \"3\", \"4\", \"5\", \"6\", \"7\", \"8\", \"9\", \"10\", \"11\", \"12\", \"13\", \"14\", \"15\", \"16\", \"17\", \"18\", \"19\", \"20\", \"21\", \"22\", \"23\", \"24\", \"25\", \"26\", \"27\", \"28\", \"29\", \"30\", \"31\", \"32\", \"33\", \"34\", \"35\", \"38\", \"39\"], \"mode\": \"lines\", \"name\": \"log_loss_min\", \"stepped\": true, \"type\": \"scatter\", \"data\": [1.91144865130528, 0.6982746617606663, 0.5495947931186498, 0.5495947931186498, 0.5492293746835515, 0.4958108149514867, 0.4958108149514867, 0.4958108149514867, 0.4958108149514867, 0.4958108149514867, 0.4958108149514867, 0.4958108149514867, 0.4958108149514867, 0.4958108149514867, 0.4958108149514867, 0.4958108149514867, 0.4958108149514867, 0.4958108149514867, 0.4958108149514867, 0.4958108149514867, 0.4958108149514867, 0.4958108149514867, 0.4958108149514867, 0.4958108149514867, 0.4958108149514867, 0.4958108149514867, 0.4958108149514867, 0.4958108149514867, 0.4958108149514867, 0.4958108149514867, 0.4958108149514867, 0.4958108149514867, 0.4958108149514867, 0.4958108149514867, 0.4958108149514867, 0.4958108149514867, 0.4958108149514867, 0.4958108149514867]}], \"recall_score_macro\": [{\"categories\": [\"0\", \"1\", \"2\", \"3\", \"4\", \"5\", \"6\", \"7\", \"8\", \"9\", \"10\", \"11\", \"12\", \"13\", \"14\", \"15\", \"16\", \"17\", \"18\", \"19\", \"20\", \"21\", \"22\", \"23\", \"24\", \"25\", \"26\", \"27\", \"28\", \"29\", \"30\", \"31\", \"32\", \"33\", \"34\", \"35\", \"38\", \"39\"], \"mode\": \"markers\", \"name\": \"recall_score_macro\", \"stepped\": false, \"type\": \"scatter\", \"data\": [0.5720976009349232, 0.7024123211173816, 0.7439810441535906, 0.7178779100818958, 0.7351337137361664, 0.7470137546962734, 0.729868882456403, 0.7480643649258847, 0.700643708595214, 0.5, 0.6509802989688097, 0.5888888931126406, 0.5, 0.7052247736129549, 0.7314671306890389, 0.7523117206762845, 0.6206837443519375, 0.686534508255501, 0.6793914454355114, 0.6306854759723077, 0.6451410574317731, 0.5923469199593695, 0.6212454826354215, 0.6007691342153109, 0.6968273323702923, 0.5, 0.7368809299377994, 0.7132873513397611, 0.7460751301189832, 0.7338815258368625, 0.5, 0.6269904077467229, 0.584404792738129, 0.7225532713776049, 0.5438920647253995, 0.5, 0.7066686252674061, 0.6344594457621284]}, {\"categories\": [\"0\", \"1\", \"2\", \"3\", \"4\", \"5\", \"6\", \"7\", \"8\", \"9\", \"10\", \"11\", \"12\", \"13\", \"14\", \"15\", \"16\", \"17\", \"18\", \"19\", \"20\", \"21\", \"22\", \"23\", \"24\", \"25\", \"26\", \"27\", \"28\", \"29\", \"30\", \"31\", \"32\", \"33\", \"34\", \"35\", \"38\", \"39\"], \"mode\": \"lines\", \"name\": \"recall_score_macro_max\", \"stepped\": true, \"type\": \"scatter\", \"data\": [0.5720976009349232, 0.7024123211173816, 0.7439810441535906, 0.7439810441535906, 0.7439810441535906, 0.7470137546962734, 0.7470137546962734, 0.7480643649258847, 0.7480643649258847, 0.7480643649258847, 0.7480643649258847, 0.7480643649258847, 0.7480643649258847, 0.7480643649258847, 0.7480643649258847, 0.7523117206762845, 0.7523117206762845, 0.7523117206762845, 0.7523117206762845, 0.7523117206762845, 0.7523117206762845, 0.7523117206762845, 0.7523117206762845, 0.7523117206762845, 0.7523117206762845, 0.7523117206762845, 0.7523117206762845, 0.7523117206762845, 0.7523117206762845, 0.7523117206762845, 0.7523117206762845, 0.7523117206762845, 0.7523117206762845, 0.7523117206762845, 0.7523117206762845, 0.7523117206762845, 0.7523117206762845, 0.7523117206762845]}], \"average_precision_score_weighted\": [{\"categories\": [\"0\", \"1\", \"2\", \"3\", \"4\", \"5\", \"6\", \"7\", \"8\", \"9\", \"10\", \"11\", \"12\", \"13\", \"14\", \"15\", \"16\", \"17\", \"18\", \"19\", \"20\", \"21\", \"22\", \"23\", \"24\", \"25\", \"26\", \"27\", \"28\", \"29\", \"30\", \"31\", \"32\", \"33\", \"34\", \"35\", \"38\", \"39\"], \"mode\": \"markers\", \"name\": \"average_precision_score_weighted\", \"stepped\": false, \"type\": \"scatter\", \"data\": [0.7741679781450533, 0.7984037703666341, 0.796020990285101, 0.7858254013235025, 0.7821991515244615, 0.8241658968409662, 0.798009745262901, 0.8116009726307776, 0.7876257972632539, 0.7602652433717383, 0.7737937147970132, 0.7314153681229336, 0.7504540781361979, 0.7909064182628621, 0.7861245961045951, 0.809196459121183, 0.7912458311371999, 0.7811121607956912, 0.779747994817463, 0.8017097907169138, 0.7902043513795365, 0.7973220584556411, 0.7951671337771429, 0.7869151828903188, 0.8060113135836071, 0.5010609508757891, 0.8093404622907674, 0.8079810089757263, 0.8172880043720065, 0.8071162490484987, 0.7757246986223727, 0.6655042901849015, 0.6561078534824527, 0.8149097833378658, 0.5879400688295872, 0.7876789101986439, 0.8377831460423925, 0.836362251438021]}, {\"categories\": [\"0\", \"1\", \"2\", \"3\", \"4\", \"5\", \"6\", \"7\", \"8\", \"9\", \"10\", \"11\", \"12\", \"13\", \"14\", \"15\", \"16\", \"17\", \"18\", \"19\", \"20\", \"21\", \"22\", \"23\", \"24\", \"25\", \"26\", \"27\", \"28\", \"29\", \"30\", \"31\", \"32\", \"33\", \"34\", \"35\", \"38\", \"39\"], \"mode\": \"lines\", \"name\": \"average_precision_score_weighted_max\", \"stepped\": true, \"type\": \"scatter\", \"data\": [0.7741679781450533, 0.7984037703666341, 0.7984037703666341, 0.7984037703666341, 0.7984037703666341, 0.8241658968409662, 0.8241658968409662, 0.8241658968409662, 0.8241658968409662, 0.8241658968409662, 0.8241658968409662, 0.8241658968409662, 0.8241658968409662, 0.8241658968409662, 0.8241658968409662, 0.8241658968409662, 0.8241658968409662, 0.8241658968409662, 0.8241658968409662, 0.8241658968409662, 0.8241658968409662, 0.8241658968409662, 0.8241658968409662, 0.8241658968409662, 0.8241658968409662, 0.8241658968409662, 0.8241658968409662, 0.8241658968409662, 0.8241658968409662, 0.8241658968409662, 0.8241658968409662, 0.8241658968409662, 0.8241658968409662, 0.8241658968409662, 0.8241658968409662, 0.8241658968409662, 0.8377831460423925, 0.8377831460423925]}], \"weighted_accuracy\": [{\"categories\": [\"0\", \"1\", \"2\", \"3\", \"4\", \"5\", \"6\", \"7\", \"8\", \"9\", \"10\", \"11\", \"12\", \"13\", \"14\", \"15\", \"16\", \"17\", \"18\", \"19\", \"20\", \"21\", \"22\", \"23\", \"24\", \"25\", \"26\", \"27\", \"28\", \"29\", \"30\", \"31\", \"32\", \"33\", \"34\", \"35\", \"38\", \"39\"], \"mode\": \"markers\", \"name\": \"weighted_accuracy\", \"stepped\": false, \"type\": \"scatter\", \"data\": [0.9707084888231801, 0.8556249658890085, 0.7786413288108875, 0.6957513168360419, 0.7530517155759684, 0.7721605635925461, 0.7700550245388837, 0.7150635038393167, 0.751750006366455, 0.0022077885776051005, 0.30920946416265194, 0.18644511196315183, 0.0022077885776051005, 0.8405590586201569, 0.8575156448047683, 0.7371875255162681, 0.24986001335947589, 0.4633487213182407, 0.36590197704997623, 0.9415412332325162, 0.9305565179000181, 0.9620555238178596, 0.9240112500557227, 0.9434447006923519, 0.8649439191400699, 0.0022077885776051005, 0.7439998871815454, 0.5453329960516332, 0.7612435203133664, 0.7608906557540087, 0.0022077885776051005, 0.2738475731868196, 0.17064943127184398, 0.7807222087265129, 0.08977246715561016, 0.0022077885776051005, 0.47383807207448725, 0.3962020387766764]}, {\"categories\": [\"0\", \"1\", \"2\", \"3\", \"4\", \"5\", \"6\", \"7\", \"8\", \"9\", \"10\", \"11\", \"12\", \"13\", \"14\", \"15\", \"16\", \"17\", \"18\", \"19\", \"20\", \"21\", \"22\", \"23\", \"24\", \"25\", \"26\", \"27\", \"28\", \"29\", \"30\", \"31\", \"32\", \"33\", \"34\", \"35\", \"38\", \"39\"], \"mode\": \"lines\", \"name\": \"weighted_accuracy_max\", \"stepped\": true, \"type\": \"scatter\", \"data\": [0.9707084888231801, 0.9707084888231801, 0.9707084888231801, 0.9707084888231801, 0.9707084888231801, 0.9707084888231801, 0.9707084888231801, 0.9707084888231801, 0.9707084888231801, 0.9707084888231801, 0.9707084888231801, 0.9707084888231801, 0.9707084888231801, 0.9707084888231801, 0.9707084888231801, 0.9707084888231801, 0.9707084888231801, 0.9707084888231801, 0.9707084888231801, 0.9707084888231801, 0.9707084888231801, 0.9707084888231801, 0.9707084888231801, 0.9707084888231801, 0.9707084888231801, 0.9707084888231801, 0.9707084888231801, 0.9707084888231801, 0.9707084888231801, 0.9707084888231801, 0.9707084888231801, 0.9707084888231801, 0.9707084888231801, 0.9707084888231801, 0.9707084888231801, 0.9707084888231801, 0.9707084888231801, 0.9707084888231801]}], \"precision_score_macro\": [{\"categories\": [\"0\", \"1\", \"2\", \"3\", \"4\", \"5\", \"6\", \"7\", \"8\", \"9\", \"10\", \"11\", \"12\", \"13\", \"14\", \"15\", \"16\", \"17\", \"18\", \"19\", \"20\", \"21\", \"22\", \"23\", \"24\", \"25\", \"26\", \"27\", \"28\", \"29\", \"30\", \"31\", \"32\", \"33\", \"34\", \"35\", \"38\", \"39\"], \"mode\": \"markers\", \"name\": \"precision_score_macro\", \"stepped\": false, \"type\": \"scatter\", \"data\": [0.699777330351353, 0.7234062935703739, 0.7451718847366304, 0.7188430117083949, 0.7349242404977709, 0.7484123267763443, 0.7309828111085235, 0.7488378473770415, 0.7039040097091279, 0.24952186312102698, 0.7852417999744186, 0.7632031651749354, 0.24952186312102698, 0.7211974788269317, 0.7470621025002266, 0.7528275228657758, 0.7715784599685662, 0.7346040024128414, 0.7969985409128331, 0.7144373328779705, 0.7161609888384928, 0.7057107629955065, 0.6915188318316059, 0.6918109715274849, 0.7219766955845467, 0.24952186312102698, 0.7364672749067689, 0.7398922572307408, 0.7457773670623814, 0.7341226391912629, 0.24952186312102698, 0.7546644858586518, 0.7725499315722868, 0.7284368108604824, 0.7612313665631748, 0.24952186312102698, 0.7698785729521886, 0.50325864145182]}, {\"categories\": [\"0\", \"1\", \"2\", \"3\", \"4\", \"5\", \"6\", \"7\", \"8\", \"9\", \"10\", \"11\", \"12\", \"13\", \"14\", \"15\", \"16\", \"17\", \"18\", \"19\", \"20\", \"21\", \"22\", \"23\", \"24\", \"25\", \"26\", \"27\", \"28\", \"29\", \"30\", \"31\", \"32\", \"33\", \"34\", \"35\", \"38\", \"39\"], \"mode\": \"lines\", \"name\": \"precision_score_macro_max\", \"stepped\": true, \"type\": \"scatter\", \"data\": [0.699777330351353, 0.7234062935703739, 0.7451718847366304, 0.7451718847366304, 0.7451718847366304, 0.7484123267763443, 0.7484123267763443, 0.7488378473770415, 0.7488378473770415, 0.7488378473770415, 0.7852417999744186, 0.7852417999744186, 0.7852417999744186, 0.7852417999744186, 0.7852417999744186, 0.7852417999744186, 0.7852417999744186, 0.7852417999744186, 0.7969985409128331, 0.7969985409128331, 0.7969985409128331, 0.7969985409128331, 0.7969985409128331, 0.7969985409128331, 0.7969985409128331, 0.7969985409128331, 0.7969985409128331, 0.7969985409128331, 0.7969985409128331, 0.7969985409128331, 0.7969985409128331, 0.7969985409128331, 0.7969985409128331, 0.7969985409128331, 0.7969985409128331, 0.7969985409128331, 0.7969985409128331, 0.7969985409128331]}], \"AUC_macro\": [{\"categories\": [\"0\", \"1\", \"2\", \"3\", \"4\", \"5\", \"6\", \"7\", \"8\", \"9\", \"10\", \"11\", \"12\", \"13\", \"14\", \"15\", \"16\", \"17\", \"18\", \"19\", \"20\", \"21\", \"22\", \"23\", \"24\", \"25\", \"26\", \"27\", \"28\", \"29\", \"30\", \"31\", \"32\", \"33\", \"34\", \"35\", \"38\", \"39\"], \"mode\": \"markers\", \"name\": \"AUC_macro\", \"stepped\": false, \"type\": \"scatter\", \"data\": [0.7851876451222128, 0.7945874152245844, 0.8035454601644958, 0.7907828438103626, 0.8008374428448248, 0.8294452300503394, 0.7999705541857689, 0.8138037681624422, 0.7930695599763453, 0.7549767410452071, 0.770050888654257, 0.7315329059433213, 0.7437781782001405, 0.7999368319637211, 0.8070781927020657, 0.8167133958008965, 0.790819769850849, 0.7813553092774204, 0.7785736287721967, 0.8029276039606865, 0.7965998890634551, 0.7977821587533087, 0.7957963149205989, 0.7905402150271718, 0.8029828246176496, 0.5, 0.8154099698268149, 0.8132973159554704, 0.8226546456385582, 0.8144730497181548, 0.7747730350043625, 0.694442389129578, 0.6868523144623591, 0.8165769287924145, 0.6045541806237856, 0.7920719338398522, 0.8393950050732002, 0.8376065956718165]}, {\"categories\": [\"0\", \"1\", \"2\", \"3\", \"4\", \"5\", \"6\", \"7\", \"8\", \"9\", \"10\", \"11\", \"12\", \"13\", \"14\", \"15\", \"16\", \"17\", \"18\", \"19\", \"20\", \"21\", \"22\", \"23\", \"24\", \"25\", \"26\", \"27\", \"28\", \"29\", \"30\", \"31\", \"32\", \"33\", \"34\", \"35\", \"38\", \"39\"], \"mode\": \"lines\", \"name\": \"AUC_macro_max\", \"stepped\": true, \"type\": \"scatter\", \"data\": [0.7851876451222128, 0.7945874152245844, 0.8035454601644958, 0.8035454601644958, 0.8035454601644958, 0.8294452300503394, 0.8294452300503394, 0.8294452300503394, 0.8294452300503394, 0.8294452300503394, 0.8294452300503394, 0.8294452300503394, 0.8294452300503394, 0.8294452300503394, 0.8294452300503394, 0.8294452300503394, 0.8294452300503394, 0.8294452300503394, 0.8294452300503394, 0.8294452300503394, 0.8294452300503394, 0.8294452300503394, 0.8294452300503394, 0.8294452300503394, 0.8294452300503394, 0.8294452300503394, 0.8294452300503394, 0.8294452300503394, 0.8294452300503394, 0.8294452300503394, 0.8294452300503394, 0.8294452300503394, 0.8294452300503394, 0.8294452300503394, 0.8294452300503394, 0.8294452300503394, 0.8393950050732002, 0.8393950050732002]}]}, \"metricName\": null, \"primaryMetricName\": \"AUC_weighted\", \"showLegend\": false}, \"run_metrics\": [{\"name\": \"experiment_status\", \"run_id\": \"AutoML_6cbddc76-77a8-4440-84d1-54b965184012\", \"categories\": [0, 1, 2, 3, 4, 5, 6, 7, 8, 9, 10, 11, 12, 13, 14], \"series\": [{\"data\": [\"DatasetEvaluation\", \"FeaturesGeneration\", \"DatasetFeaturization\", \"DatasetFeaturizationCompleted\", \"DatasetBalancing\", \"DatasetCrossValidationSplit\", \"ModelSelection\", \"BestRunExplainModel\", \"ModelExplanationDataSetSetup\", \"PickSurrogateModel\", \"EngineeredFeatureExplanations\", \"EngineeredFeatureExplanations\", \"RawFeaturesExplanations\", \"RawFeaturesExplanations\", \"BestRunExplainModel\"]}]}, {\"name\": \"experiment_status_description\", \"run_id\": \"AutoML_6cbddc76-77a8-4440-84d1-54b965184012\", \"categories\": [0, 1, 2, 3, 4, 5, 6, 7, 8, 9, 10, 11, 12, 13, 14], \"series\": [{\"data\": [\"Gathering dataset statistics.\", \"Generating features for the dataset.\", \"Beginning to fit featurizers and featurize the dataset.\", \"Completed fit featurizers and featurizing the dataset.\", \"Performing class balancing sweeping\", \"Generating individually featurized CV splits.\", \"Beginning model selection.\", \"Best run model explanations started\", \"Model explanations data setup completed\", \"Choosing LightGBM as the surrogate model for explanations\", \"Computation of engineered features started\", \"Computation of engineered features completed\", \"Computation of raw features started\", \"Computation of raw features completed\", \"Best run model explanations completed\"]}]}, {\"name\": \"recall_score_macro\", \"run_id\": \"AutoML_6cbddc76-77a8-4440-84d1-54b965184012\", \"categories\": [0], \"series\": [{\"data\": [0.7066686252674061]}]}, {\"name\": \"matthews_correlation\", \"run_id\": \"AutoML_6cbddc76-77a8-4440-84d1-54b965184012\", \"categories\": [0], \"series\": [{\"data\": [0.4716305539655668]}]}, {\"name\": \"recall_score_weighted\", \"run_id\": \"AutoML_6cbddc76-77a8-4440-84d1-54b965184012\", \"categories\": [0], \"series\": [{\"data\": [0.7078609145700467]}]}, {\"name\": \"average_precision_score_weighted\", \"run_id\": \"AutoML_6cbddc76-77a8-4440-84d1-54b965184012\", \"categories\": [0], \"series\": [{\"data\": [0.8377831460423925]}]}, {\"name\": \"balanced_accuracy\", \"run_id\": \"AutoML_6cbddc76-77a8-4440-84d1-54b965184012\", \"categories\": [0], \"series\": [{\"data\": [0.7066686252674061]}]}, {\"name\": \"f1_score_weighted\", \"run_id\": \"AutoML_6cbddc76-77a8-4440-84d1-54b965184012\", \"categories\": [0], \"series\": [{\"data\": [0.6905074475119297]}]}, {\"name\": \"f1_score_macro\", \"run_id\": \"AutoML_6cbddc76-77a8-4440-84d1-54b965184012\", \"categories\": [0], \"series\": [{\"data\": [0.6896911524903233]}]}, {\"name\": \"average_precision_score_micro\", \"run_id\": \"AutoML_6cbddc76-77a8-4440-84d1-54b965184012\", \"categories\": [0], \"series\": [{\"data\": [0.7804807420281994]}]}, {\"name\": \"recall_score_micro\", \"run_id\": \"AutoML_6cbddc76-77a8-4440-84d1-54b965184012\", \"categories\": [0], \"series\": [{\"data\": [0.7078609145700467]}]}, {\"name\": \"AUC_micro\", \"run_id\": \"AutoML_6cbddc76-77a8-4440-84d1-54b965184012\", \"categories\": [0], \"series\": [{\"data\": [0.7844296014653827]}]}, {\"name\": \"f1_score_micro\", \"run_id\": \"AutoML_6cbddc76-77a8-4440-84d1-54b965184012\", \"categories\": [0], \"series\": [{\"data\": [0.7078609145700417]}]}, {\"name\": \"weighted_accuracy\", \"run_id\": \"AutoML_6cbddc76-77a8-4440-84d1-54b965184012\", \"categories\": [0], \"series\": [{\"data\": [0.47383807207448725]}]}, {\"name\": \"AUC_macro\", \"run_id\": \"AutoML_6cbddc76-77a8-4440-84d1-54b965184012\", \"categories\": [0], \"series\": [{\"data\": [0.8393950050732002]}]}, {\"name\": \"precision_score_weighted\", \"run_id\": \"AutoML_6cbddc76-77a8-4440-84d1-54b965184012\", \"categories\": [0], \"series\": [{\"data\": [0.7694084149259648]}]}, {\"name\": \"norm_macro_recall\", \"run_id\": \"AutoML_6cbddc76-77a8-4440-84d1-54b965184012\", \"categories\": [0], \"series\": [{\"data\": [0.41333725053480563]}]}, {\"name\": \"precision_score_micro\", \"run_id\": \"AutoML_6cbddc76-77a8-4440-84d1-54b965184012\", \"categories\": [0], \"series\": [{\"data\": [0.7078609145700367]}]}, {\"name\": \"average_precision_score_macro\", \"run_id\": \"AutoML_6cbddc76-77a8-4440-84d1-54b965184012\", \"categories\": [0], \"series\": [{\"data\": [0.8374681992157886]}]}, {\"name\": \"precision_score_macro\", \"run_id\": \"AutoML_6cbddc76-77a8-4440-84d1-54b965184012\", \"categories\": [0], \"series\": [{\"data\": [0.7698785729521886]}]}, {\"name\": \"log_loss\", \"run_id\": \"AutoML_6cbddc76-77a8-4440-84d1-54b965184012\", \"categories\": [0], \"series\": [{\"data\": [0.5580702434464451]}]}, {\"name\": \"accuracy\", \"run_id\": \"AutoML_6cbddc76-77a8-4440-84d1-54b965184012\", \"categories\": [0], \"series\": [{\"data\": [0.7078609145700394]}]}, {\"name\": \"AUC_weighted\", \"run_id\": \"AutoML_6cbddc76-77a8-4440-84d1-54b965184012\", \"categories\": [0], \"series\": [{\"data\": [0.8393950050732002]}]}], \"run_logs\": \"\\nRun is completed.\", \"graph\": {}, \"widget_settings\": {\"childWidgetDisplay\": \"popup\", \"send_telemetry\": false, \"log_level\": \"INFO\", \"sdk_version\": \"1.24.0\"}, \"loading\": false}"
     },
     "metadata": {},
     "output_type": "display_data"
    },
    {
     "data": {
      "text/plain": [
       "{'runId': 'AutoML_6cbddc76-77a8-4440-84d1-54b965184012',\n",
       " 'target': 'aml-cpu-cluster',\n",
       " 'status': 'Completed',\n",
       " 'startTimeUtc': '2021-03-28T17:33:52.905126Z',\n",
       " 'endTimeUtc': '2021-03-28T18:05:46.233822Z',\n",
       " 'properties': {'num_iterations': '1000',\n",
       "  'training_type': 'TrainFull',\n",
       "  'acquisition_function': 'EI',\n",
       "  'primary_metric': 'AUC_weighted',\n",
       "  'train_split': '0',\n",
       "  'acquisition_parameter': '0',\n",
       "  'num_cross_validation': '2',\n",
       "  'target': 'aml-cpu-cluster',\n",
       "  'AMLSettingsJsonString': '{\"path\":null,\"name\":\"aml-stroke-experiment\",\"subscription_id\":\"12cd141f-7e8d-40f4-ba6e-35b327775bd4\",\"resource_group\":\"ska_resources\",\"workspace_name\":\"capstone_project_workspace\",\"region\":\"eastus\",\"compute_target\":\"aml-cpu-cluster\",\"spark_service\":null,\"azure_service\":\"remote\",\"many_models\":false,\"pipeline_fetch_max_batch_size\":1,\"enable_batch_run\":false,\"iterations\":1000,\"primary_metric\":\"AUC_weighted\",\"task_type\":\"classification\",\"data_script\":null,\"validation_size\":0.0,\"n_cross_validations\":2,\"y_min\":null,\"y_max\":null,\"num_classes\":null,\"featurization\":\"auto\",\"_ignore_package_version_incompatibilities\":false,\"is_timeseries\":false,\"max_cores_per_iteration\":1,\"max_concurrent_iterations\":5,\"iteration_timeout_minutes\":null,\"mem_in_mb\":null,\"enforce_time_on_windows\":false,\"experiment_timeout_minutes\":30,\"experiment_exit_score\":null,\"whitelist_models\":null,\"blacklist_algos\":[\"TensorFlowLinearClassifier\",\"TensorFlowDNN\"],\"supported_models\":[\"LightGBM\",\"ExtremeRandomTrees\",\"XGBoostClassifier\",\"TensorFlowDNN\",\"TensorFlowLinearClassifier\",\"BernoulliNaiveBayes\",\"SVM\",\"SGD\",\"AveragedPerceptronClassifier\",\"LinearSVM\",\"GradientBoosting\",\"LogisticRegression\",\"KNN\",\"MultinomialNaiveBayes\",\"RandomForest\",\"DecisionTree\"],\"private_models\":[],\"auto_blacklist\":true,\"blacklist_samples_reached\":false,\"exclude_nan_labels\":true,\"verbosity\":20,\"_debug_log\":\"azureml_automl.log\",\"show_warnings\":false,\"model_explainability\":true,\"service_url\":null,\"sdk_url\":null,\"sdk_packages\":null,\"enable_onnx_compatible_models\":false,\"enable_split_onnx_featurizer_estimator_models\":false,\"vm_type\":\"STANDARD_D2_V2\",\"telemetry_verbosity\":20,\"send_telemetry\":true,\"enable_dnn\":false,\"scenario\":\"SDK-1.13.0\",\"environment_label\":null,\"save_mlflow\":false,\"force_text_dnn\":false,\"enable_feature_sweeping\":true,\"enable_early_stopping\":true,\"early_stopping_n_iters\":10,\"metrics\":null,\"enable_metric_confidence\":false,\"enable_ensembling\":true,\"enable_stack_ensembling\":true,\"ensemble_iterations\":15,\"enable_tf\":false,\"enable_subsampling\":null,\"subsample_seed\":null,\"enable_nimbusml\":false,\"enable_streaming\":false,\"force_streaming\":false,\"track_child_runs\":true,\"allowed_private_models\":[],\"label_column_name\":\"stroke\",\"weight_column_name\":null,\"cv_split_column_names\":null,\"enable_local_managed\":false,\"_local_managed_run_id\":null,\"cost_mode\":1,\"lag_length\":0,\"metric_operation\":\"maximize\",\"preprocess\":true}',\n",
       "  'DataPrepJsonString': '{\\\\\"training_data\\\\\": \\\\\"{\\\\\\\\\\\\\"blocks\\\\\\\\\\\\\": [{\\\\\\\\\\\\\"id\\\\\\\\\\\\\": \\\\\\\\\\\\\"f3662f57-b1f2-4a7a-9992-0dfe71e129e2\\\\\\\\\\\\\", \\\\\\\\\\\\\"type\\\\\\\\\\\\\": \\\\\\\\\\\\\"Microsoft.DPrep.GetDatastoreFilesBlock\\\\\\\\\\\\\", \\\\\\\\\\\\\"arguments\\\\\\\\\\\\\": {\\\\\\\\\\\\\"datastores\\\\\\\\\\\\\": [{\\\\\\\\\\\\\"datastoreName\\\\\\\\\\\\\": \\\\\\\\\\\\\"workspaceblobstore\\\\\\\\\\\\\", \\\\\\\\\\\\\"path\\\\\\\\\\\\\": \\\\\\\\\\\\\"classified/dataset.csv\\\\\\\\\\\\\", \\\\\\\\\\\\\"resourceGroup\\\\\\\\\\\\\": \\\\\\\\\\\\\"ska_resources\\\\\\\\\\\\\", \\\\\\\\\\\\\"subscription\\\\\\\\\\\\\": \\\\\\\\\\\\\"12cd141f-7e8d-40f4-ba6e-35b327775bd4\\\\\\\\\\\\\", \\\\\\\\\\\\\"workspaceName\\\\\\\\\\\\\": \\\\\\\\\\\\\"capstone_project_workspace\\\\\\\\\\\\\"}]}, \\\\\\\\\\\\\"localData\\\\\\\\\\\\\": {}, \\\\\\\\\\\\\"isEnabled\\\\\\\\\\\\\": true, \\\\\\\\\\\\\"name\\\\\\\\\\\\\": null, \\\\\\\\\\\\\"annotation\\\\\\\\\\\\\": null}, {\\\\\\\\\\\\\"id\\\\\\\\\\\\\": \\\\\\\\\\\\\"3549e7e4-e2a9-4fc0-a303-668cb2de889b\\\\\\\\\\\\\", \\\\\\\\\\\\\"type\\\\\\\\\\\\\": \\\\\\\\\\\\\"Microsoft.DPrep.ParseDelimitedBlock\\\\\\\\\\\\\", \\\\\\\\\\\\\"arguments\\\\\\\\\\\\\": {\\\\\\\\\\\\\"columnHeadersMode\\\\\\\\\\\\\": 3, \\\\\\\\\\\\\"fileEncoding\\\\\\\\\\\\\": 0, \\\\\\\\\\\\\"handleQuotedLineBreaks\\\\\\\\\\\\\": false, \\\\\\\\\\\\\"preview\\\\\\\\\\\\\": false, \\\\\\\\\\\\\"separator\\\\\\\\\\\\\": \\\\\\\\\\\\\",\\\\\\\\\\\\\", \\\\\\\\\\\\\"skipRows\\\\\\\\\\\\\": 0, \\\\\\\\\\\\\"skipRowsMode\\\\\\\\\\\\\": 0}, \\\\\\\\\\\\\"localData\\\\\\\\\\\\\": {}, \\\\\\\\\\\\\"isEnabled\\\\\\\\\\\\\": true, \\\\\\\\\\\\\"name\\\\\\\\\\\\\": null, \\\\\\\\\\\\\"annotation\\\\\\\\\\\\\": null}, {\\\\\\\\\\\\\"id\\\\\\\\\\\\\": \\\\\\\\\\\\\"e019ee6c-eebd-4847-ae14-64a57e71e0c1\\\\\\\\\\\\\", \\\\\\\\\\\\\"type\\\\\\\\\\\\\": \\\\\\\\\\\\\"Microsoft.DPrep.DropColumnsBlock\\\\\\\\\\\\\", \\\\\\\\\\\\\"arguments\\\\\\\\\\\\\": {\\\\\\\\\\\\\"columns\\\\\\\\\\\\\": {\\\\\\\\\\\\\"type\\\\\\\\\\\\\": 0, \\\\\\\\\\\\\"details\\\\\\\\\\\\\": {\\\\\\\\\\\\\"selectedColumns\\\\\\\\\\\\\": [\\\\\\\\\\\\\"Path\\\\\\\\\\\\\"]}}}, \\\\\\\\\\\\\"localData\\\\\\\\\\\\\": {}, \\\\\\\\\\\\\"isEnabled\\\\\\\\\\\\\": true, \\\\\\\\\\\\\"name\\\\\\\\\\\\\": null, \\\\\\\\\\\\\"annotation\\\\\\\\\\\\\": null}, {\\\\\\\\\\\\\"id\\\\\\\\\\\\\": \\\\\\\\\\\\\"ac61c286-4233-402a-8993-59c0f682348a\\\\\\\\\\\\\", \\\\\\\\\\\\\"type\\\\\\\\\\\\\": \\\\\\\\\\\\\"Microsoft.DPrep.SetColumnTypesBlock\\\\\\\\\\\\\", \\\\\\\\\\\\\"arguments\\\\\\\\\\\\\": {\\\\\\\\\\\\\"columnConversion\\\\\\\\\\\\\": [{\\\\\\\\\\\\\"column\\\\\\\\\\\\\": {\\\\\\\\\\\\\"type\\\\\\\\\\\\\": 2, \\\\\\\\\\\\\"details\\\\\\\\\\\\\": {\\\\\\\\\\\\\"selectedColumn\\\\\\\\\\\\\": \\\\\\\\\\\\\"id\\\\\\\\\\\\\"}}, \\\\\\\\\\\\\"typeProperty\\\\\\\\\\\\\": 2}, {\\\\\\\\\\\\\"column\\\\\\\\\\\\\": {\\\\\\\\\\\\\"type\\\\\\\\\\\\\": 2, \\\\\\\\\\\\\"details\\\\\\\\\\\\\": {\\\\\\\\\\\\\"selectedColumn\\\\\\\\\\\\\": \\\\\\\\\\\\\"gender\\\\\\\\\\\\\"}}, \\\\\\\\\\\\\"typeProperty\\\\\\\\\\\\\": 2}, {\\\\\\\\\\\\\"column\\\\\\\\\\\\\": {\\\\\\\\\\\\\"type\\\\\\\\\\\\\": 2, \\\\\\\\\\\\\"details\\\\\\\\\\\\\": {\\\\\\\\\\\\\"selectedColumn\\\\\\\\\\\\\": \\\\\\\\\\\\\"age\\\\\\\\\\\\\"}}, \\\\\\\\\\\\\"typeProperty\\\\\\\\\\\\\": 3}, {\\\\\\\\\\\\\"column\\\\\\\\\\\\\": {\\\\\\\\\\\\\"type\\\\\\\\\\\\\": 2, \\\\\\\\\\\\\"details\\\\\\\\\\\\\": {\\\\\\\\\\\\\"selectedColumn\\\\\\\\\\\\\": \\\\\\\\\\\\\"hypertension\\\\\\\\\\\\\"}}, \\\\\\\\\\\\\"typeProperty\\\\\\\\\\\\\": 2}, {\\\\\\\\\\\\\"column\\\\\\\\\\\\\": {\\\\\\\\\\\\\"type\\\\\\\\\\\\\": 2, \\\\\\\\\\\\\"details\\\\\\\\\\\\\": {\\\\\\\\\\\\\"selectedColumn\\\\\\\\\\\\\": \\\\\\\\\\\\\"heart_disease\\\\\\\\\\\\\"}}, \\\\\\\\\\\\\"typeProperty\\\\\\\\\\\\\": 2}, {\\\\\\\\\\\\\"column\\\\\\\\\\\\\": {\\\\\\\\\\\\\"type\\\\\\\\\\\\\": 2, \\\\\\\\\\\\\"details\\\\\\\\\\\\\": {\\\\\\\\\\\\\"selectedColumn\\\\\\\\\\\\\": \\\\\\\\\\\\\"ever_married\\\\\\\\\\\\\"}}, \\\\\\\\\\\\\"typeProperty\\\\\\\\\\\\\": 1}, {\\\\\\\\\\\\\"column\\\\\\\\\\\\\": {\\\\\\\\\\\\\"type\\\\\\\\\\\\\": 2, \\\\\\\\\\\\\"details\\\\\\\\\\\\\": {\\\\\\\\\\\\\"selectedColumn\\\\\\\\\\\\\": \\\\\\\\\\\\\"work_type\\\\\\\\\\\\\"}}, \\\\\\\\\\\\\"typeProperty\\\\\\\\\\\\\": 2}, {\\\\\\\\\\\\\"column\\\\\\\\\\\\\": {\\\\\\\\\\\\\"type\\\\\\\\\\\\\": 2, \\\\\\\\\\\\\"details\\\\\\\\\\\\\": {\\\\\\\\\\\\\"selectedColumn\\\\\\\\\\\\\": \\\\\\\\\\\\\"Residence_type\\\\\\\\\\\\\"}}, \\\\\\\\\\\\\"typeProperty\\\\\\\\\\\\\": 2}, {\\\\\\\\\\\\\"column\\\\\\\\\\\\\": {\\\\\\\\\\\\\"type\\\\\\\\\\\\\": 2, \\\\\\\\\\\\\"details\\\\\\\\\\\\\": {\\\\\\\\\\\\\"selectedColumn\\\\\\\\\\\\\": \\\\\\\\\\\\\"avg_glucose_level\\\\\\\\\\\\\"}}, \\\\\\\\\\\\\"typeProperty\\\\\\\\\\\\\": 3}, {\\\\\\\\\\\\\"column\\\\\\\\\\\\\": {\\\\\\\\\\\\\"type\\\\\\\\\\\\\": 2, \\\\\\\\\\\\\"details\\\\\\\\\\\\\": {\\\\\\\\\\\\\"selectedColumn\\\\\\\\\\\\\": \\\\\\\\\\\\\"bmi\\\\\\\\\\\\\"}}, \\\\\\\\\\\\\"typeProperty\\\\\\\\\\\\\": 3}, {\\\\\\\\\\\\\"column\\\\\\\\\\\\\": {\\\\\\\\\\\\\"type\\\\\\\\\\\\\": 2, \\\\\\\\\\\\\"details\\\\\\\\\\\\\": {\\\\\\\\\\\\\"selectedColumn\\\\\\\\\\\\\": \\\\\\\\\\\\\"smoking_status\\\\\\\\\\\\\"}}, \\\\\\\\\\\\\"typeProperty\\\\\\\\\\\\\": 2}, {\\\\\\\\\\\\\"column\\\\\\\\\\\\\": {\\\\\\\\\\\\\"type\\\\\\\\\\\\\": 2, \\\\\\\\\\\\\"details\\\\\\\\\\\\\": {\\\\\\\\\\\\\"selectedColumn\\\\\\\\\\\\\": \\\\\\\\\\\\\"stroke\\\\\\\\\\\\\"}}, \\\\\\\\\\\\\"typeProperty\\\\\\\\\\\\\": 2}]}, \\\\\\\\\\\\\"localData\\\\\\\\\\\\\": {}, \\\\\\\\\\\\\"isEnabled\\\\\\\\\\\\\": true, \\\\\\\\\\\\\"name\\\\\\\\\\\\\": null, \\\\\\\\\\\\\"annotation\\\\\\\\\\\\\": null}], \\\\\\\\\\\\\"inspectors\\\\\\\\\\\\\": [], \\\\\\\\\\\\\"meta\\\\\\\\\\\\\": {\\\\\\\\\\\\\"savedDatasetId\\\\\\\\\\\\\": \\\\\\\\\\\\\"6bf5faee-8433-4dae-be4e-8ec9b410d058\\\\\\\\\\\\\", \\\\\\\\\\\\\"datasetType\\\\\\\\\\\\\": \\\\\\\\\\\\\"tabular\\\\\\\\\\\\\", \\\\\\\\\\\\\"subscriptionId\\\\\\\\\\\\\": \\\\\\\\\\\\\"12cd141f-7e8d-40f4-ba6e-35b327775bd4\\\\\\\\\\\\\", \\\\\\\\\\\\\"workspaceId\\\\\\\\\\\\\": \\\\\\\\\\\\\"89d491f1-2603-401d-9a8e-87b3aa451d3a\\\\\\\\\\\\\", \\\\\\\\\\\\\"workspaceLocation\\\\\\\\\\\\\": \\\\\\\\\\\\\"eastus\\\\\\\\\\\\\", \\\\\\\\\\\\\"partition_keys\\\\\\\\\\\\\": \\\\\\\\\\\\\"true\\\\\\\\\\\\\"}}\\\\\", \\\\\"activities\\\\\": 0}',\n",
       "  'EnableSubsampling': None,\n",
       "  'runTemplate': 'AutoML',\n",
       "  'azureml.runsource': 'automl',\n",
       "  'display_task_type': 'classification',\n",
       "  'dependencies_versions': '{\"azureml-widgets\": \"1.24.0\", \"azureml-train\": \"1.24.0\", \"azureml-train-restclients-hyperdrive\": \"1.24.0\", \"azureml-train-core\": \"1.24.0\", \"azureml-train-automl\": \"1.24.0\", \"azureml-train-automl-runtime\": \"1.24.0\", \"azureml-train-automl-client\": \"1.24.0\", \"azureml-tensorboard\": \"1.24.0\", \"azureml-telemetry\": \"1.24.0\", \"azureml-sdk\": \"1.24.0\", \"azureml-samples\": \"0+unknown\", \"azureml-pipeline\": \"1.24.0\", \"azureml-pipeline-steps\": \"1.24.0\", \"azureml-pipeline-core\": \"1.24.0\", \"azureml-opendatasets\": \"1.24.0\", \"azureml-model-management-sdk\": \"1.0.1b6.post1\", \"azureml-mlflow\": \"1.24.0\", \"azureml-interpret\": \"1.24.0\", \"azureml-explain-model\": \"1.24.0\", \"azureml-defaults\": \"1.24.0\", \"azureml-dataset-runtime\": \"1.24.0\", \"azureml-dataprep\": \"2.11.2\", \"azureml-dataprep-rslex\": \"1.9.1\", \"azureml-dataprep-native\": \"30.0.0\", \"azureml-datadrift\": \"1.24.0\", \"azureml-core\": \"1.24.0.post2\", \"azureml-contrib-services\": \"1.24.0\", \"azureml-contrib-server\": \"1.24.0\", \"azureml-contrib-reinforcementlearning\": \"1.24.0\", \"azureml-contrib-pipeline-steps\": \"1.24.0\", \"azureml-contrib-notebook\": \"1.24.0\", \"azureml-contrib-gbdt\": \"1.24.0\", \"azureml-contrib-fairness\": \"1.24.0\", \"azureml-contrib-dataset\": \"1.24.0\", \"azureml-cli-common\": \"1.24.0\", \"azureml-automl-runtime\": \"1.24.0\", \"azureml-automl-dnn-nlp\": \"1.24.0\", \"azureml-automl-core\": \"1.24.0\", \"azureml-accel-models\": \"1.24.0\"}',\n",
       "  '_aml_system_scenario_identification': 'Remote.Parent',\n",
       "  'ClientType': 'SDK',\n",
       "  'environment_cpu_name': 'AzureML-AutoML',\n",
       "  'environment_cpu_label': 'prod',\n",
       "  'environment_gpu_name': 'AzureML-AutoML-GPU',\n",
       "  'environment_gpu_label': 'prod',\n",
       "  'root_attribution': 'automl',\n",
       "  'attribution': 'AutoML',\n",
       "  'Orchestrator': 'AutoML',\n",
       "  'CancelUri': 'https://eastus.experiments.azureml.net/jasmine/v1.0/subscriptions/12cd141f-7e8d-40f4-ba6e-35b327775bd4/resourceGroups/ska_resources/providers/Microsoft.MachineLearningServices/workspaces/capstone_project_workspace/experimentids/5f36c50a-60bf-46fa-a67c-567445768bfa/cancel/AutoML_6cbddc76-77a8-4440-84d1-54b965184012',\n",
       "  'ClientSdkVersion': '1.24.0',\n",
       "  'snapshotId': '00000000-0000-0000-0000-000000000000',\n",
       "  'SetupRunId': 'AutoML_6cbddc76-77a8-4440-84d1-54b965184012_setup',\n",
       "  'SetupRunContainerId': 'dcid.AutoML_6cbddc76-77a8-4440-84d1-54b965184012_setup',\n",
       "  'FeaturizationRunJsonPath': 'featurizer_container.json',\n",
       "  'FeaturizationRunId': 'AutoML_6cbddc76-77a8-4440-84d1-54b965184012_featurize',\n",
       "  'ProblemInfoJsonString': '{\"dataset_num_categorical\": 0, \"is_sparse\": true, \"subsampling\": false, \"dataset_classes\": 2, \"dataset_features\": 16, \"dataset_samples\": 3577, \"single_frequency_class_detected\": false}',\n",
       "  'ModelExplainRunId': 'AutoML_6cbddc76-77a8-4440-84d1-54b965184012_ModelExplain'},\n",
       " 'inputDatasets': [{'dataset': {'id': '6bf5faee-8433-4dae-be4e-8ec9b410d058'}, 'consumptionDetails': {'type': 'RunInput', 'inputName': 'training_data', 'mechanism': 'Direct'}}],\n",
       " 'outputDatasets': [],\n",
       " 'logFiles': {},\n",
       " 'submittedBy': 'Francesco Scalise'}"
      ]
     },
     "execution_count": 9,
     "metadata": {},
     "output_type": "execute_result"
    }
   ],
   "source": [
    "RunDetails(remote_run).show()\n",
    "remote_run.wait_for_completion()"
   ]
  },
  {
   "cell_type": "markdown",
   "metadata": {},
   "source": [
    "## Best Model\n",
    "\n",
    "TODO: In the cell below, get the best model from the automl experiments and display all the properties of the model.\n",
    "\n"
   ]
  },
  {
   "cell_type": "code",
   "execution_count": 10,
   "metadata": {
    "collapsed": false,
    "gather": {
     "logged": 1598431425670
    },
    "jupyter": {
     "outputs_hidden": false,
     "source_hidden": false
    },
    "nteract": {
     "transient": {
      "deleting": false
     }
    }
   },
   "outputs": [],
   "source": [
    "best_automl_run, automl_model = remote_run.get_output()"
   ]
  },
  {
   "cell_type": "code",
   "execution_count": 11,
   "metadata": {
    "collapsed": false,
    "gather": {
     "logged": 1598431426111
    },
    "jupyter": {
     "outputs_hidden": false,
     "source_hidden": false
    },
    "nteract": {
     "transient": {
      "deleting": false
     }
    }
   },
   "outputs": [
    {
     "data": {
      "text/plain": [
       "'outputs/model.pkl'"
      ]
     },
     "execution_count": 11,
     "metadata": {},
     "output_type": "execute_result"
    }
   ],
   "source": [
    "#Save the best model\n",
    "automl_model = remote_run.register_model(model_name='stroke-experiment-model')\n",
    "\n",
    "automl_model.download(target_dir=\"outputs\", exist_ok=True)"
   ]
  },
  {
   "cell_type": "markdown",
   "metadata": {},
   "source": [
    "## Model Deployment\n",
    "\n",
    "Remember you have to deploy only one of the two models you trained.. Perform the steps in the rest of this notebook only if you wish to deploy this model.\n",
    "\n",
    "TODO: In the cell below, register the model, create an inference config and deploy the model as a web service."
   ]
  },
  {
   "cell_type": "code",
   "execution_count": null,
   "metadata": {
    "collapsed": false,
    "gather": {
     "logged": 1598431435189
    },
    "jupyter": {
     "outputs_hidden": false,
     "source_hidden": false
    },
    "nteract": {
     "transient": {
      "deleting": false
     }
    }
   },
   "outputs": [],
   "source": []
  },
  {
   "cell_type": "markdown",
   "metadata": {
    "gather": {
     "logged": 1598431657736
    },
    "jupyter": {
     "outputs_hidden": false,
     "source_hidden": false
    },
    "nteract": {
     "transient": {
      "deleting": false
     }
    }
   },
   "source": [
    "TODO: In the cell below, send a request to the web service you deployed to test it."
   ]
  },
  {
   "cell_type": "code",
   "execution_count": null,
   "metadata": {
    "collapsed": false,
    "gather": {
     "logged": 1598432707604
    },
    "jupyter": {
     "outputs_hidden": false,
     "source_hidden": false
    },
    "nteract": {
     "transient": {
      "deleting": false
     }
    }
   },
   "outputs": [],
   "source": []
  },
  {
   "cell_type": "markdown",
   "metadata": {
    "gather": {
     "logged": 1598432765711
    },
    "jupyter": {
     "outputs_hidden": false,
     "source_hidden": false
    },
    "nteract": {
     "transient": {
      "deleting": false
     }
    }
   },
   "source": [
    "TODO: In the cell below, print the logs of the web service and delete the service"
   ]
  },
  {
   "cell_type": "code",
   "execution_count": null,
   "metadata": {
    "collapsed": false,
    "jupyter": {
     "outputs_hidden": false,
     "source_hidden": false
    },
    "nteract": {
     "transient": {
      "deleting": false
     }
    }
   },
   "outputs": [],
   "source": []
  }
 ],
 "metadata": {
  "kernel_info": {
   "name": "python3"
  },
  "kernelspec": {
   "display_name": "Python 3",
   "language": "python",
   "name": "python3"
  },
  "language_info": {
   "codemirror_mode": {
    "name": "ipython",
    "version": 3
   },
   "file_extension": ".py",
   "mimetype": "text/x-python",
   "name": "python",
   "nbconvert_exporter": "python",
   "pygments_lexer": "ipython3",
   "version": "3.6.9"
  },
  "microsoft": {
   "host": {
    "AzureML": {
     "notebookHasBeenCompleted": true
    }
   }
  },
  "nteract": {
   "version": "nteract-front-end@1.0.0"
  }
 },
 "nbformat": 4,
 "nbformat_minor": 4
}
