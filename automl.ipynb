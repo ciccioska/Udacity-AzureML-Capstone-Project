{
 "cells": [
  {
   "cell_type": "markdown",
   "metadata": {},
   "source": [
    "# Automated ML\n",
    "\n",
    "TODO: Import Dependencies. In the cell below, import all the dependencies that you will need to complete the project."
   ]
  },
  {
   "cell_type": "code",
   "execution_count": 1,
   "metadata": {
    "collapsed": false,
    "gather": {
     "logged": 1616782242336
    },
    "jupyter": {
     "outputs_hidden": false,
     "source_hidden": false
    },
    "nteract": {
     "transient": {
      "deleting": false
     }
    }
   },
   "outputs": [],
   "source": [
    "import logging\n",
    "import os\n",
    "import csv\n",
    "\n",
    "from matplotlib import pyplot as plt\n",
    "import numpy as np\n",
    "import pandas as pd\n",
    "from sklearn import datasets\n",
    "import pkg_resources\n",
    "\n",
    "import azureml.core\n",
    "from azureml.core.experiment import Experiment\n",
    "from azureml.core.workspace import Workspace\n",
    "from azureml.train.automl import AutoMLConfig\n",
    "from azureml.core.dataset import Dataset\n",
    "from azureml.core.datastore import Datastore\n",
    "\n",
    "from azureml.pipeline.steps import AutoMLStep\n",
    "\n",
    "from azureml.core.compute import AmlCompute\n",
    "from azureml.core.compute import ComputeTarget\n",
    "from azureml.core.compute_target import ComputeTargetException\n",
    "\n",
    "from azureml.widgets import RunDetails\n",
    "\n",
    "from sklearn.model_selection import train_test_split\n",
    "import pandas as pd\n",
    "from azureml.data.dataset_factory import TabularDatasetFactory\n"
   ]
  },
  {
   "cell_type": "markdown",
   "metadata": {},
   "source": [
    "## Dataset\n",
    "\n",
    "### Overview\n",
    "TODO: In this markdown cell, give an overview of the dataset you are using. Also mention the task you will be performing.\n",
    "\n",
    "\n",
    "TODO: Get data. In the cell below, write code to access the data you will be using in this project. Remember that the dataset needs to be external."
   ]
  },
  {
   "cell_type": "code",
   "execution_count": 2,
   "metadata": {
    "collapsed": false,
    "gather": {
     "logged": 1616782250919
    },
    "jupyter": {
     "outputs_hidden": false,
     "source_hidden": false
    },
    "nteract": {
     "transient": {
      "deleting": false
     }
    }
   },
   "outputs": [],
   "source": [
    "workspace = Workspace.from_config()\n",
    "\n",
    "# choose a name for experiment\n",
    "experiment_name = 'aml-stroke-experiment'\n",
    "project_folder = './aml-project'\n",
    "\n",
    "experiment=Experiment(workspace, experiment_name)\n"
   ]
  },
  {
   "cell_type": "code",
   "execution_count": 3,
   "metadata": {
    "gather": {
     "logged": 1616782257481
    }
   },
   "outputs": [
    {
     "data": {
      "text/html": [
       "<div>\n",
       "<style scoped>\n",
       "    .dataframe tbody tr th:only-of-type {\n",
       "        vertical-align: middle;\n",
       "    }\n",
       "\n",
       "    .dataframe tbody tr th {\n",
       "        vertical-align: top;\n",
       "    }\n",
       "\n",
       "    .dataframe thead th {\n",
       "        text-align: right;\n",
       "    }\n",
       "</style>\n",
       "<table border=\"1\" class=\"dataframe\">\n",
       "  <thead>\n",
       "    <tr style=\"text-align: right;\">\n",
       "      <th></th>\n",
       "      <th>id</th>\n",
       "      <th>age</th>\n",
       "      <th>hypertension</th>\n",
       "      <th>heart_disease</th>\n",
       "      <th>avg_glucose_level</th>\n",
       "      <th>stroke</th>\n",
       "    </tr>\n",
       "  </thead>\n",
       "  <tbody>\n",
       "    <tr>\n",
       "      <th>count</th>\n",
       "      <td>5110.000000</td>\n",
       "      <td>5110.000000</td>\n",
       "      <td>5110.000000</td>\n",
       "      <td>5110.000000</td>\n",
       "      <td>5110.000000</td>\n",
       "      <td>5110.000000</td>\n",
       "    </tr>\n",
       "    <tr>\n",
       "      <th>mean</th>\n",
       "      <td>36517.829354</td>\n",
       "      <td>43.226614</td>\n",
       "      <td>0.097456</td>\n",
       "      <td>0.054012</td>\n",
       "      <td>106.147677</td>\n",
       "      <td>0.048728</td>\n",
       "    </tr>\n",
       "    <tr>\n",
       "      <th>std</th>\n",
       "      <td>21161.721625</td>\n",
       "      <td>22.612647</td>\n",
       "      <td>0.296607</td>\n",
       "      <td>0.226063</td>\n",
       "      <td>45.283560</td>\n",
       "      <td>0.215320</td>\n",
       "    </tr>\n",
       "    <tr>\n",
       "      <th>min</th>\n",
       "      <td>67.000000</td>\n",
       "      <td>0.080000</td>\n",
       "      <td>0.000000</td>\n",
       "      <td>0.000000</td>\n",
       "      <td>55.120000</td>\n",
       "      <td>0.000000</td>\n",
       "    </tr>\n",
       "    <tr>\n",
       "      <th>25%</th>\n",
       "      <td>17741.250000</td>\n",
       "      <td>25.000000</td>\n",
       "      <td>0.000000</td>\n",
       "      <td>0.000000</td>\n",
       "      <td>77.245000</td>\n",
       "      <td>0.000000</td>\n",
       "    </tr>\n",
       "    <tr>\n",
       "      <th>50%</th>\n",
       "      <td>36932.000000</td>\n",
       "      <td>45.000000</td>\n",
       "      <td>0.000000</td>\n",
       "      <td>0.000000</td>\n",
       "      <td>91.885000</td>\n",
       "      <td>0.000000</td>\n",
       "    </tr>\n",
       "    <tr>\n",
       "      <th>75%</th>\n",
       "      <td>54682.000000</td>\n",
       "      <td>61.000000</td>\n",
       "      <td>0.000000</td>\n",
       "      <td>0.000000</td>\n",
       "      <td>114.090000</td>\n",
       "      <td>0.000000</td>\n",
       "    </tr>\n",
       "    <tr>\n",
       "      <th>max</th>\n",
       "      <td>72940.000000</td>\n",
       "      <td>82.000000</td>\n",
       "      <td>1.000000</td>\n",
       "      <td>1.000000</td>\n",
       "      <td>271.740000</td>\n",
       "      <td>1.000000</td>\n",
       "    </tr>\n",
       "  </tbody>\n",
       "</table>\n",
       "</div>"
      ],
      "text/plain": [
       "                 id          age  hypertension  heart_disease  \\\n",
       "count   5110.000000  5110.000000   5110.000000    5110.000000   \n",
       "mean   36517.829354    43.226614      0.097456       0.054012   \n",
       "std    21161.721625    22.612647      0.296607       0.226063   \n",
       "min       67.000000     0.080000      0.000000       0.000000   \n",
       "25%    17741.250000    25.000000      0.000000       0.000000   \n",
       "50%    36932.000000    45.000000      0.000000       0.000000   \n",
       "75%    54682.000000    61.000000      0.000000       0.000000   \n",
       "max    72940.000000    82.000000      1.000000       1.000000   \n",
       "\n",
       "       avg_glucose_level       stroke  \n",
       "count        5110.000000  5110.000000  \n",
       "mean          106.147677     0.048728  \n",
       "std            45.283560     0.215320  \n",
       "min            55.120000     0.000000  \n",
       "25%            77.245000     0.000000  \n",
       "50%            91.885000     0.000000  \n",
       "75%           114.090000     0.000000  \n",
       "max           271.740000     1.000000  "
      ]
     },
     "execution_count": 3,
     "metadata": {},
     "output_type": "execute_result"
    }
   ],
   "source": [
    "found = False\n",
    "key = \"stroke-dataset\"\n",
    "description_text = \"Stroke Dataset - Capstone project\"\n",
    "\n",
    "if key in workspace.datasets.keys(): \n",
    "        found = True\n",
    "        dataset = workspace.datasets[key] \n",
    "\n",
    "if not found:\n",
    "        # Create AML Dataset and register it into Workspace\n",
    "        example_data = 'https://raw.githubusercontent.com/ciccioska/Udacity-AzureML-Capstone-Project/master/healthcare-dataset-stroke-data.csv'\n",
    "        dataset = Dataset.Tabular.from_delimited_files(example_data) \n",
    "\n",
    "        #Register Dataset in Workspace\n",
    "        dataset = dataset.register(workspace=workspace,\n",
    "                                   name=key,\n",
    "                                   description=description_text)\n",
    "\n",
    "\n",
    "x_df = dataset.to_pandas_dataframe().dropna()\n",
    "\n",
    "x_df.describe()"
   ]
  },
  {
   "cell_type": "code",
   "execution_count": 4,
   "metadata": {},
   "outputs": [
    {
     "data": {
      "text/html": [
       "<div>\n",
       "<style scoped>\n",
       "    .dataframe tbody tr th:only-of-type {\n",
       "        vertical-align: middle;\n",
       "    }\n",
       "\n",
       "    .dataframe tbody tr th {\n",
       "        vertical-align: top;\n",
       "    }\n",
       "\n",
       "    .dataframe thead th {\n",
       "        text-align: right;\n",
       "    }\n",
       "</style>\n",
       "<table border=\"1\" class=\"dataframe\">\n",
       "  <thead>\n",
       "    <tr style=\"text-align: right;\">\n",
       "      <th></th>\n",
       "      <th>id</th>\n",
       "      <th>gender</th>\n",
       "      <th>age</th>\n",
       "      <th>hypertension</th>\n",
       "      <th>heart_disease</th>\n",
       "      <th>ever_married</th>\n",
       "      <th>work_type</th>\n",
       "      <th>Residence_type</th>\n",
       "      <th>avg_glucose_level</th>\n",
       "      <th>bmi</th>\n",
       "      <th>smoking_status</th>\n",
       "      <th>stroke</th>\n",
       "    </tr>\n",
       "  </thead>\n",
       "  <tbody>\n",
       "    <tr>\n",
       "      <th>208</th>\n",
       "      <td>54921</td>\n",
       "      <td>1</td>\n",
       "      <td>78.0</td>\n",
       "      <td>1</td>\n",
       "      <td>0</td>\n",
       "      <td>True</td>\n",
       "      <td>0</td>\n",
       "      <td>0</td>\n",
       "      <td>134.80</td>\n",
       "      <td>33.6</td>\n",
       "      <td>0</td>\n",
       "      <td>1</td>\n",
       "    </tr>\n",
       "    <tr>\n",
       "      <th>1763</th>\n",
       "      <td>66502</td>\n",
       "      <td>1</td>\n",
       "      <td>16.0</td>\n",
       "      <td>0</td>\n",
       "      <td>0</td>\n",
       "      <td>False</td>\n",
       "      <td>1</td>\n",
       "      <td>0</td>\n",
       "      <td>111.93</td>\n",
       "      <td>32.2</td>\n",
       "      <td>-1</td>\n",
       "      <td>0</td>\n",
       "    </tr>\n",
       "    <tr>\n",
       "      <th>3854</th>\n",
       "      <td>11692</td>\n",
       "      <td>0</td>\n",
       "      <td>53.0</td>\n",
       "      <td>0</td>\n",
       "      <td>0</td>\n",
       "      <td>False</td>\n",
       "      <td>-1</td>\n",
       "      <td>1</td>\n",
       "      <td>101.81</td>\n",
       "      <td>29.4</td>\n",
       "      <td>1</td>\n",
       "      <td>0</td>\n",
       "    </tr>\n",
       "    <tr>\n",
       "      <th>4067</th>\n",
       "      <td>11280</td>\n",
       "      <td>0</td>\n",
       "      <td>28.0</td>\n",
       "      <td>0</td>\n",
       "      <td>0</td>\n",
       "      <td>True</td>\n",
       "      <td>1</td>\n",
       "      <td>1</td>\n",
       "      <td>98.05</td>\n",
       "      <td>24.7</td>\n",
       "      <td>-1</td>\n",
       "      <td>0</td>\n",
       "    </tr>\n",
       "    <tr>\n",
       "      <th>3623</th>\n",
       "      <td>13817</td>\n",
       "      <td>1</td>\n",
       "      <td>19.0</td>\n",
       "      <td>0</td>\n",
       "      <td>0</td>\n",
       "      <td>False</td>\n",
       "      <td>1</td>\n",
       "      <td>1</td>\n",
       "      <td>123.61</td>\n",
       "      <td>25.2</td>\n",
       "      <td>0</td>\n",
       "      <td>0</td>\n",
       "    </tr>\n",
       "  </tbody>\n",
       "</table>\n",
       "</div>"
      ],
      "text/plain": [
       "         id  gender   age  hypertension  heart_disease  ever_married  \\\n",
       "208   54921       1  78.0             1              0          True   \n",
       "1763  66502       1  16.0             0              0         False   \n",
       "3854  11692       0  53.0             0              0         False   \n",
       "4067  11280       0  28.0             0              0          True   \n",
       "3623  13817       1  19.0             0              0         False   \n",
       "\n",
       "      work_type  Residence_type  avg_glucose_level   bmi  smoking_status  \\\n",
       "208           0               0             134.80  33.6               0   \n",
       "1763          1               0             111.93  32.2              -1   \n",
       "3854         -1               1             101.81  29.4               1   \n",
       "4067          1               1              98.05  24.7              -1   \n",
       "3623          1               1             123.61  25.2               0   \n",
       "\n",
       "      stroke  \n",
       "208        1  \n",
       "1763       0  \n",
       "3854       0  \n",
       "4067       0  \n",
       "3623       0  "
      ]
     },
     "execution_count": 4,
     "metadata": {},
     "output_type": "execute_result"
    }
   ],
   "source": [
    "#prepare dataset\n",
    "x_df[\"work_type\"] = x_df.work_type.apply(lambda s: 1 if s == \"Private\" else 0 if s == \"Self-employed\" else -1)\n",
    "x_df[\"bmi\"] = x_df.bmi.apply(lambda s: 0 if s == \"N/A\" else s)\n",
    "x_df[\"gender\"] = x_df.gender.apply(lambda s: 1 if s == \"Male\" else 0)\n",
    "x_df[\"Residence_type\"] = x_df.Residence_type.apply(lambda s: 1 if s == \"Urban\" else 0)\n",
    "x_df[\"smoking_status\"] = x_df.smoking_status.apply(lambda s: 1 if s == \"smokes\" else -1 if s == \"never smoked\" else 2 if s == \"formerly smoked\" else 0)        \n",
    "\n",
    "y_df = x_df.pop(\"stroke\")\n",
    "\n",
    "# Split data into train and test sets.\n",
    "(x_train, x_test, y_train, y_test) = train_test_split(x_df, y_df, test_size = 0.3)\n",
    "label = \"stroke\"\n",
    "\n",
    "train_data_df = pd.concat([x_train, y_train], axis=1)\n",
    "test_data_df = pd.concat([x_test, y_train], axis=1)\n",
    "\n",
    "# view train dataset\n",
    "train_data_df.head()\n"
   ]
  },
  {
   "cell_type": "code",
   "execution_count": 5,
   "metadata": {},
   "outputs": [
    {
     "name": "stdout",
     "output_type": "stream",
     "text": [
      "Uploading an estimated of 2 files\n",
      "Uploading ./data/dataset.csv\n",
      "Uploaded ./data/dataset.csv, 1 files out of an estimated total of 2\n",
      "Uploading ./data/.ipynb_checkpoints/dataset-checkpoint.csv\n",
      "Uploaded ./data/.ipynb_checkpoints/dataset-checkpoint.csv, 2 files out of an estimated total of 2\n",
      "Uploaded 2 files\n"
     ]
    }
   ],
   "source": [
    "\n",
    "# create a csv file to use with AutoML\n",
    "if not os.path.isdir('data'): \n",
    "    os.mkdir('data')\n",
    "    \n",
    "# save csv file to datastore\n",
    "pd.DataFrame(train_data_df).to_csv(\"data/dataset.csv\", index=False)\n",
    "\n",
    "# upload to datastore\n",
    "datastore = workspace.get_default_datastore()\n",
    "datastore.upload(src_dir='./data', target_path='classified', overwrite=True, show_progress=True)\n",
    "\n",
    " # datastore for AutoML\n",
    "training_data = TabularDatasetFactory.from_delimited_files(path=datastore.path('classified/dataset.csv'))"
   ]
  },
  {
   "cell_type": "code",
   "execution_count": 6,
   "metadata": {
    "gather": {
     "logged": 1616782392966
    }
   },
   "outputs": [
    {
     "name": "stdout",
     "output_type": "stream",
     "text": [
      "Creating....\n",
      "SucceededProvisioning operation finished, operation \"Succeeded\"\n",
      "Succeeded.......................\n",
      "AmlCompute wait for completion finished\n",
      "\n",
      "Wait timeout has been reached\n",
      "Current provisioning state of AmlCompute is \"Succeeded\" and current node count is \"0\"\n"
     ]
    }
   ],
   "source": [
    "\n",
    "amlcompute_cluster_name = \"aml-cpu-cluster\"\n",
    "\n",
    "# Verify that cluster does not exist already\n",
    "try:\n",
    "    compute_target = ComputeTarget(workspace=workspace, name=amlcompute_cluster_name)\n",
    "    print('Found existing cluster, use it.')\n",
    "except ComputeTargetException:\n",
    "    compute_config = AmlCompute.provisioning_configuration(vm_size='STANDARD_D2_V2',\n",
    "                                                           max_nodes=4)\n",
    "    compute_target = ComputeTarget.create(workspace, amlcompute_cluster_name, compute_config)\n",
    "\n",
    "compute_target.wait_for_completion(show_output=True, min_node_count = 1, timeout_in_minutes = 2)"
   ]
  },
  {
   "cell_type": "markdown",
   "metadata": {},
   "source": [
    "## AutoML Configuration\n",
    "\n",
    "TODO: Explain why you chose the automl settings and cofiguration you used below."
   ]
  },
  {
   "cell_type": "code",
   "execution_count": 9,
   "metadata": {
    "collapsed": false,
    "gather": {
     "logged": 1616782419367
    },
    "jupyter": {
     "outputs_hidden": false,
     "source_hidden": false
    },
    "nteract": {
     "transient": {
      "deleting": false
     }
    }
   },
   "outputs": [],
   "source": [
    "automl_settings = {\n",
    "    \"n_cross_validations\": 2,\n",
    "    \"experiment_timeout_minutes\": 30,\n",
    "    \"max_concurrent_iterations\": 5,\n",
    "    \"primary_metric\" : 'norm_macro_recall',\n",
    "    \"verbosity\": logging.INFO\n",
    "}\n",
    "\n",
    "automl_config = AutoMLConfig(compute_target=compute_target,\n",
    "                             task = \"classification\",\n",
    "                             training_data=training_data,\n",
    "                             label_column_name=\"stroke\",   \n",
    "                             path = project_folder,\n",
    "                             enable_early_stopping= True,\n",
    "                             featurization= 'auto',\n",
    "                             debug_log = \"automl_errors.log\",\n",
    "                             **automl_settings\n",
    "                            )"
   ]
  },
  {
   "cell_type": "code",
   "execution_count": 10,
   "metadata": {
    "collapsed": false,
    "gather": {
     "logged": 1616783849165
    },
    "jupyter": {
     "outputs_hidden": false,
     "source_hidden": false
    },
    "nteract": {
     "transient": {
      "deleting": false
     }
    }
   },
   "outputs": [
    {
     "name": "stdout",
     "output_type": "stream",
     "text": [
      "Running on remote.\n",
      "No run_configuration provided, running on aml-cpu-cluster with default configuration\n",
      "Running on remote compute: aml-cpu-cluster\n",
      "Parent Run ID: AutoML_619c1840-31e5-46ec-b705-58c2188161d7\n",
      "\n",
      "Current status: FeaturesGeneration. Generating features for the dataset.\n",
      "Current status: DatasetBalancing. Generating individually featurized CV splits.\n",
      "Current status: DatasetCrossValidationSplit. Generating individually featurized CV splits.\n",
      "Current status: ModelSelection. Beginning model selection.\n",
      "\n",
      "****************************************************************************************************\n",
      "DATA GUARDRAILS: \n",
      "\n",
      "TYPE:         Class balancing detection\n",
      "STATUS:       ALERTED\n",
      "DESCRIPTION:  To decrease model bias, please cancel the current run and fix balancing problem.\n",
      "              Learn more about imbalanced data: https://aka.ms/AutomatedMLImbalancedData\n",
      "DETAILS:      Imbalanced data can lead to a falsely perceived positive effect of a model's accuracy because the input data has bias towards one class.\n",
      "+---------------------------------+---------------------------------+--------------------------------------+\n",
      "|Size of the smallest class       |Name/Label of the smallest class |Number of samples in the training data|\n",
      "+=================================+=================================+======================================+\n",
      "|177                              |1                                |3577                                  |\n",
      "+---------------------------------+---------------------------------+--------------------------------------+\n",
      "\n",
      "****************************************************************************************************\n",
      "\n",
      "TYPE:         Missing feature values imputation\n",
      "STATUS:       PASSED\n",
      "DESCRIPTION:  No feature missing values were detected in the training data.\n",
      "              Learn more about missing value imputation: https://aka.ms/AutomatedMLFeaturization\n",
      "\n",
      "****************************************************************************************************\n",
      "\n",
      "TYPE:         High cardinality feature detection\n",
      "STATUS:       PASSED\n",
      "DESCRIPTION:  Your inputs were analyzed, and no high cardinality features were detected.\n",
      "              Learn more about high cardinality feature handling: https://aka.ms/AutomatedMLFeaturization\n",
      "\n",
      "****************************************************************************************************\n",
      "\n",
      "****************************************************************************************************\n",
      "ITERATION: The iteration being evaluated.\n",
      "PIPELINE: A summary description of the pipeline being evaluated.\n",
      "DURATION: Time taken for the current iteration.\n",
      "METRIC: The result of computing score on the fitted pipeline.\n",
      "BEST: The best observed score thus far.\n",
      "****************************************************************************************************\n",
      "\n",
      " ITERATION   PIPELINE                                       DURATION      METRIC      BEST\n",
      "         3   MaxAbsScaler RandomForest                      0:01:00       0.5354    0.5354\n",
      "         2   MaxAbsScaler RandomForest                      0:05:00          nan    0.5354\n",
      "         0   MaxAbsScaler LightGBM                          0:01:10       0.1498    0.5354\n",
      "         1   MaxAbsScaler XGBoostClassifier                 0:05:36       0.3546    0.5354\n",
      "         4   MaxAbsScaler ExtremeRandomTrees                0:05:32       0.0000    0.5354\n",
      "         5   MaxAbsScaler RandomForest                      0:01:00       0.4582    0.5354\n",
      "         6   MaxAbsScaler ExtremeRandomTrees                0:00:45       0.5342    0.5354\n",
      "Received interrupt. Returning now."
     ]
    }
   ],
   "source": [
    "# TODO: Submit your experiment\n",
    "remote_run = experiment.submit(automl_config, show_output=True)"
   ]
  },
  {
   "cell_type": "markdown",
   "metadata": {},
   "source": [
    "## Run Details\n",
    "\n",
    "OPTIONAL: Write about the different models trained and their performance. Why do you think some models did better than others?\n",
    "\n",
    "TODO: In the cell below, use the `RunDetails` widget to show the different experiments."
   ]
  },
  {
   "cell_type": "code",
   "execution_count": 11,
   "metadata": {
    "collapsed": false,
    "gather": {
     "logged": 1616783898499
    },
    "jupyter": {
     "outputs_hidden": false,
     "source_hidden": false
    },
    "nteract": {
     "transient": {
      "deleting": false
     }
    }
   },
   "outputs": [
    {
     "data": {
      "application/vnd.jupyter.widget-view+json": {
       "model_id": "a3dc4b9e1701447cb0b1dd2a0f0ce7e7",
       "version_major": 2,
       "version_minor": 0
      },
      "text/plain": [
       "_AutoMLWidget(widget_settings={'childWidgetDisplay': 'popup', 'send_telemetry': False, 'log_level': 'INFO', 's…"
      ]
     },
     "metadata": {},
     "output_type": "display_data"
    },
    {
     "data": {
      "application/aml.mini.widget.v1": "{\"status\": \"Completed\", \"workbench_run_details_uri\": \"https://ml.azure.com/experiments/aml-stroke-experiment/runs/AutoML_619c1840-31e5-46ec-b705-58c2188161d7?wsid=/subscriptions/12cd141f-7e8d-40f4-ba6e-35b327775bd4/resourcegroups/ska_resources/workspaces/capstone_project_workspace\", \"run_id\": \"AutoML_619c1840-31e5-46ec-b705-58c2188161d7\", \"run_properties\": {\"run_id\": \"AutoML_619c1840-31e5-46ec-b705-58c2188161d7\", \"created_utc\": \"2021-03-29T11:59:51.038893Z\", \"properties\": {\"num_iterations\": \"1000\", \"training_type\": \"TrainFull\", \"acquisition_function\": \"EI\", \"primary_metric\": \"norm_macro_recall\", \"train_split\": \"0\", \"acquisition_parameter\": \"0\", \"num_cross_validation\": \"2\", \"target\": \"aml-cpu-cluster\", \"AMLSettingsJsonString\": \"{\\\"path\\\":null,\\\"name\\\":\\\"aml-stroke-experiment\\\",\\\"subscription_id\\\":\\\"12cd141f-7e8d-40f4-ba6e-35b327775bd4\\\",\\\"resource_group\\\":\\\"ska_resources\\\",\\\"workspace_name\\\":\\\"capstone_project_workspace\\\",\\\"region\\\":\\\"eastus\\\",\\\"compute_target\\\":\\\"aml-cpu-cluster\\\",\\\"spark_service\\\":null,\\\"azure_service\\\":\\\"remote\\\",\\\"many_models\\\":false,\\\"pipeline_fetch_max_batch_size\\\":1,\\\"enable_batch_run\\\":false,\\\"iterations\\\":1000,\\\"primary_metric\\\":\\\"norm_macro_recall\\\",\\\"task_type\\\":\\\"classification\\\",\\\"data_script\\\":null,\\\"validation_size\\\":0.0,\\\"n_cross_validations\\\":2,\\\"y_min\\\":null,\\\"y_max\\\":null,\\\"num_classes\\\":null,\\\"featurization\\\":\\\"auto\\\",\\\"_ignore_package_version_incompatibilities\\\":false,\\\"is_timeseries\\\":false,\\\"max_cores_per_iteration\\\":1,\\\"max_concurrent_iterations\\\":5,\\\"iteration_timeout_minutes\\\":null,\\\"mem_in_mb\\\":null,\\\"enforce_time_on_windows\\\":false,\\\"experiment_timeout_minutes\\\":30,\\\"experiment_exit_score\\\":null,\\\"whitelist_models\\\":null,\\\"blacklist_algos\\\":[\\\"TensorFlowLinearClassifier\\\",\\\"TensorFlowDNN\\\"],\\\"supported_models\\\":[\\\"MultinomialNaiveBayes\\\",\\\"LightGBM\\\",\\\"TensorFlowDNN\\\",\\\"XGBoostClassifier\\\",\\\"TensorFlowLinearClassifier\\\",\\\"RandomForest\\\",\\\"DecisionTree\\\",\\\"GradientBoosting\\\",\\\"AveragedPerceptronClassifier\\\",\\\"BernoulliNaiveBayes\\\",\\\"LinearSVM\\\",\\\"SVM\\\",\\\"KNN\\\",\\\"ExtremeRandomTrees\\\",\\\"LogisticRegression\\\",\\\"SGD\\\"],\\\"private_models\\\":[],\\\"auto_blacklist\\\":true,\\\"blacklist_samples_reached\\\":false,\\\"exclude_nan_labels\\\":true,\\\"verbosity\\\":20,\\\"_debug_log\\\":\\\"azureml_automl.log\\\",\\\"show_warnings\\\":false,\\\"model_explainability\\\":true,\\\"service_url\\\":null,\\\"sdk_url\\\":null,\\\"sdk_packages\\\":null,\\\"enable_onnx_compatible_models\\\":false,\\\"enable_split_onnx_featurizer_estimator_models\\\":false,\\\"vm_type\\\":\\\"STANDARD_D2_V2\\\",\\\"telemetry_verbosity\\\":20,\\\"send_telemetry\\\":true,\\\"enable_dnn\\\":false,\\\"scenario\\\":\\\"SDK-1.13.0\\\",\\\"environment_label\\\":null,\\\"save_mlflow\\\":false,\\\"force_text_dnn\\\":false,\\\"enable_feature_sweeping\\\":true,\\\"enable_early_stopping\\\":true,\\\"early_stopping_n_iters\\\":10,\\\"metrics\\\":null,\\\"enable_metric_confidence\\\":false,\\\"enable_ensembling\\\":true,\\\"enable_stack_ensembling\\\":true,\\\"ensemble_iterations\\\":15,\\\"enable_tf\\\":false,\\\"enable_subsampling\\\":null,\\\"subsample_seed\\\":null,\\\"enable_nimbusml\\\":false,\\\"enable_streaming\\\":false,\\\"force_streaming\\\":false,\\\"track_child_runs\\\":true,\\\"allowed_private_models\\\":[],\\\"label_column_name\\\":\\\"stroke\\\",\\\"weight_column_name\\\":null,\\\"cv_split_column_names\\\":null,\\\"enable_local_managed\\\":false,\\\"_local_managed_run_id\\\":null,\\\"cost_mode\\\":1,\\\"lag_length\\\":0,\\\"metric_operation\\\":\\\"maximize\\\",\\\"preprocess\\\":true}\", \"DataPrepJsonString\": \"{\\\\\\\"training_data\\\\\\\": \\\\\\\"{\\\\\\\\\\\\\\\"blocks\\\\\\\\\\\\\\\": [{\\\\\\\\\\\\\\\"id\\\\\\\\\\\\\\\": \\\\\\\\\\\\\\\"7c562279-7731-4000-a7b6-45219a95d9cf\\\\\\\\\\\\\\\", \\\\\\\\\\\\\\\"type\\\\\\\\\\\\\\\": \\\\\\\\\\\\\\\"Microsoft.DPrep.GetDatastoreFilesBlock\\\\\\\\\\\\\\\", \\\\\\\\\\\\\\\"arguments\\\\\\\\\\\\\\\": {\\\\\\\\\\\\\\\"datastores\\\\\\\\\\\\\\\": [{\\\\\\\\\\\\\\\"datastoreName\\\\\\\\\\\\\\\": \\\\\\\\\\\\\\\"workspaceblobstore\\\\\\\\\\\\\\\", \\\\\\\\\\\\\\\"path\\\\\\\\\\\\\\\": \\\\\\\\\\\\\\\"classified/dataset.csv\\\\\\\\\\\\\\\", \\\\\\\\\\\\\\\"resourceGroup\\\\\\\\\\\\\\\": \\\\\\\\\\\\\\\"ska_resources\\\\\\\\\\\\\\\", \\\\\\\\\\\\\\\"subscription\\\\\\\\\\\\\\\": \\\\\\\\\\\\\\\"12cd141f-7e8d-40f4-ba6e-35b327775bd4\\\\\\\\\\\\\\\", \\\\\\\\\\\\\\\"workspaceName\\\\\\\\\\\\\\\": \\\\\\\\\\\\\\\"capstone_project_workspace\\\\\\\\\\\\\\\"}]}, \\\\\\\\\\\\\\\"localData\\\\\\\\\\\\\\\": {}, \\\\\\\\\\\\\\\"isEnabled\\\\\\\\\\\\\\\": true, \\\\\\\\\\\\\\\"name\\\\\\\\\\\\\\\": null, \\\\\\\\\\\\\\\"annotation\\\\\\\\\\\\\\\": null}, {\\\\\\\\\\\\\\\"id\\\\\\\\\\\\\\\": \\\\\\\\\\\\\\\"5a8afda0-915b-41d6-ac3c-3e844b8559a5\\\\\\\\\\\\\\\", \\\\\\\\\\\\\\\"type\\\\\\\\\\\\\\\": \\\\\\\\\\\\\\\"Microsoft.DPrep.ParseDelimitedBlock\\\\\\\\\\\\\\\", \\\\\\\\\\\\\\\"arguments\\\\\\\\\\\\\\\": {\\\\\\\\\\\\\\\"columnHeadersMode\\\\\\\\\\\\\\\": 3, \\\\\\\\\\\\\\\"fileEncoding\\\\\\\\\\\\\\\": 0, \\\\\\\\\\\\\\\"handleQuotedLineBreaks\\\\\\\\\\\\\\\": false, \\\\\\\\\\\\\\\"preview\\\\\\\\\\\\\\\": false, \\\\\\\\\\\\\\\"separator\\\\\\\\\\\\\\\": \\\\\\\\\\\\\\\",\\\\\\\\\\\\\\\", \\\\\\\\\\\\\\\"skipRows\\\\\\\\\\\\\\\": 0, \\\\\\\\\\\\\\\"skipRowsMode\\\\\\\\\\\\\\\": 0}, \\\\\\\\\\\\\\\"localData\\\\\\\\\\\\\\\": {}, \\\\\\\\\\\\\\\"isEnabled\\\\\\\\\\\\\\\": true, \\\\\\\\\\\\\\\"name\\\\\\\\\\\\\\\": null, \\\\\\\\\\\\\\\"annotation\\\\\\\\\\\\\\\": null}, {\\\\\\\\\\\\\\\"id\\\\\\\\\\\\\\\": \\\\\\\\\\\\\\\"0586637b-53d0-4d6f-ab2a-d98d8099ebef\\\\\\\\\\\\\\\", \\\\\\\\\\\\\\\"type\\\\\\\\\\\\\\\": \\\\\\\\\\\\\\\"Microsoft.DPrep.DropColumnsBlock\\\\\\\\\\\\\\\", \\\\\\\\\\\\\\\"arguments\\\\\\\\\\\\\\\": {\\\\\\\\\\\\\\\"columns\\\\\\\\\\\\\\\": {\\\\\\\\\\\\\\\"type\\\\\\\\\\\\\\\": 0, \\\\\\\\\\\\\\\"details\\\\\\\\\\\\\\\": {\\\\\\\\\\\\\\\"selectedColumns\\\\\\\\\\\\\\\": [\\\\\\\\\\\\\\\"Path\\\\\\\\\\\\\\\"]}}}, \\\\\\\\\\\\\\\"localData\\\\\\\\\\\\\\\": {}, \\\\\\\\\\\\\\\"isEnabled\\\\\\\\\\\\\\\": true, \\\\\\\\\\\\\\\"name\\\\\\\\\\\\\\\": null, \\\\\\\\\\\\\\\"annotation\\\\\\\\\\\\\\\": null}, {\\\\\\\\\\\\\\\"id\\\\\\\\\\\\\\\": \\\\\\\\\\\\\\\"da26538b-c798-4862-990b-bf49493d4f42\\\\\\\\\\\\\\\", \\\\\\\\\\\\\\\"type\\\\\\\\\\\\\\\": \\\\\\\\\\\\\\\"Microsoft.DPrep.SetColumnTypesBlock\\\\\\\\\\\\\\\", \\\\\\\\\\\\\\\"arguments\\\\\\\\\\\\\\\": {\\\\\\\\\\\\\\\"columnConversion\\\\\\\\\\\\\\\": [{\\\\\\\\\\\\\\\"column\\\\\\\\\\\\\\\": {\\\\\\\\\\\\\\\"type\\\\\\\\\\\\\\\": 2, \\\\\\\\\\\\\\\"details\\\\\\\\\\\\\\\": {\\\\\\\\\\\\\\\"selectedColumn\\\\\\\\\\\\\\\": \\\\\\\\\\\\\\\"id\\\\\\\\\\\\\\\"}}, \\\\\\\\\\\\\\\"typeProperty\\\\\\\\\\\\\\\": 2}, {\\\\\\\\\\\\\\\"column\\\\\\\\\\\\\\\": {\\\\\\\\\\\\\\\"type\\\\\\\\\\\\\\\": 2, \\\\\\\\\\\\\\\"details\\\\\\\\\\\\\\\": {\\\\\\\\\\\\\\\"selectedColumn\\\\\\\\\\\\\\\": \\\\\\\\\\\\\\\"gender\\\\\\\\\\\\\\\"}}, \\\\\\\\\\\\\\\"typeProperty\\\\\\\\\\\\\\\": 2}, {\\\\\\\\\\\\\\\"column\\\\\\\\\\\\\\\": {\\\\\\\\\\\\\\\"type\\\\\\\\\\\\\\\": 2, \\\\\\\\\\\\\\\"details\\\\\\\\\\\\\\\": {\\\\\\\\\\\\\\\"selectedColumn\\\\\\\\\\\\\\\": \\\\\\\\\\\\\\\"age\\\\\\\\\\\\\\\"}}, \\\\\\\\\\\\\\\"typeProperty\\\\\\\\\\\\\\\": 3}, {\\\\\\\\\\\\\\\"column\\\\\\\\\\\\\\\": {\\\\\\\\\\\\\\\"type\\\\\\\\\\\\\\\": 2, \\\\\\\\\\\\\\\"details\\\\\\\\\\\\\\\": {\\\\\\\\\\\\\\\"selectedColumn\\\\\\\\\\\\\\\": \\\\\\\\\\\\\\\"hypertension\\\\\\\\\\\\\\\"}}, \\\\\\\\\\\\\\\"typeProperty\\\\\\\\\\\\\\\": 2}, {\\\\\\\\\\\\\\\"column\\\\\\\\\\\\\\\": {\\\\\\\\\\\\\\\"type\\\\\\\\\\\\\\\": 2, \\\\\\\\\\\\\\\"details\\\\\\\\\\\\\\\": {\\\\\\\\\\\\\\\"selectedColumn\\\\\\\\\\\\\\\": \\\\\\\\\\\\\\\"heart_disease\\\\\\\\\\\\\\\"}}, \\\\\\\\\\\\\\\"typeProperty\\\\\\\\\\\\\\\": 2}, {\\\\\\\\\\\\\\\"column\\\\\\\\\\\\\\\": {\\\\\\\\\\\\\\\"type\\\\\\\\\\\\\\\": 2, \\\\\\\\\\\\\\\"details\\\\\\\\\\\\\\\": {\\\\\\\\\\\\\\\"selectedColumn\\\\\\\\\\\\\\\": \\\\\\\\\\\\\\\"ever_married\\\\\\\\\\\\\\\"}}, \\\\\\\\\\\\\\\"typeProperty\\\\\\\\\\\\\\\": 1}, {\\\\\\\\\\\\\\\"column\\\\\\\\\\\\\\\": {\\\\\\\\\\\\\\\"type\\\\\\\\\\\\\\\": 2, \\\\\\\\\\\\\\\"details\\\\\\\\\\\\\\\": {\\\\\\\\\\\\\\\"selectedColumn\\\\\\\\\\\\\\\": \\\\\\\\\\\\\\\"work_type\\\\\\\\\\\\\\\"}}, \\\\\\\\\\\\\\\"typeProperty\\\\\\\\\\\\\\\": 2}, {\\\\\\\\\\\\\\\"column\\\\\\\\\\\\\\\": {\\\\\\\\\\\\\\\"type\\\\\\\\\\\\\\\": 2, \\\\\\\\\\\\\\\"details\\\\\\\\\\\\\\\": {\\\\\\\\\\\\\\\"selectedColumn\\\\\\\\\\\\\\\": \\\\\\\\\\\\\\\"Residence_type\\\\\\\\\\\\\\\"}}, \\\\\\\\\\\\\\\"typeProperty\\\\\\\\\\\\\\\": 2}, {\\\\\\\\\\\\\\\"column\\\\\\\\\\\\\\\": {\\\\\\\\\\\\\\\"type\\\\\\\\\\\\\\\": 2, \\\\\\\\\\\\\\\"details\\\\\\\\\\\\\\\": {\\\\\\\\\\\\\\\"selectedColumn\\\\\\\\\\\\\\\": \\\\\\\\\\\\\\\"avg_glucose_level\\\\\\\\\\\\\\\"}}, \\\\\\\\\\\\\\\"typeProperty\\\\\\\\\\\\\\\": 3}, {\\\\\\\\\\\\\\\"column\\\\\\\\\\\\\\\": {\\\\\\\\\\\\\\\"type\\\\\\\\\\\\\\\": 2, \\\\\\\\\\\\\\\"details\\\\\\\\\\\\\\\": {\\\\\\\\\\\\\\\"selectedColumn\\\\\\\\\\\\\\\": \\\\\\\\\\\\\\\"bmi\\\\\\\\\\\\\\\"}}, \\\\\\\\\\\\\\\"typeProperty\\\\\\\\\\\\\\\": 3}, {\\\\\\\\\\\\\\\"column\\\\\\\\\\\\\\\": {\\\\\\\\\\\\\\\"type\\\\\\\\\\\\\\\": 2, \\\\\\\\\\\\\\\"details\\\\\\\\\\\\\\\": {\\\\\\\\\\\\\\\"selectedColumn\\\\\\\\\\\\\\\": \\\\\\\\\\\\\\\"smoking_status\\\\\\\\\\\\\\\"}}, \\\\\\\\\\\\\\\"typeProperty\\\\\\\\\\\\\\\": 2}, {\\\\\\\\\\\\\\\"column\\\\\\\\\\\\\\\": {\\\\\\\\\\\\\\\"type\\\\\\\\\\\\\\\": 2, \\\\\\\\\\\\\\\"details\\\\\\\\\\\\\\\": {\\\\\\\\\\\\\\\"selectedColumn\\\\\\\\\\\\\\\": \\\\\\\\\\\\\\\"stroke\\\\\\\\\\\\\\\"}}, \\\\\\\\\\\\\\\"typeProperty\\\\\\\\\\\\\\\": 2}]}, \\\\\\\\\\\\\\\"localData\\\\\\\\\\\\\\\": {}, \\\\\\\\\\\\\\\"isEnabled\\\\\\\\\\\\\\\": true, \\\\\\\\\\\\\\\"name\\\\\\\\\\\\\\\": null, \\\\\\\\\\\\\\\"annotation\\\\\\\\\\\\\\\": null}], \\\\\\\\\\\\\\\"inspectors\\\\\\\\\\\\\\\": [], \\\\\\\\\\\\\\\"meta\\\\\\\\\\\\\\\": {\\\\\\\\\\\\\\\"savedDatasetId\\\\\\\\\\\\\\\": \\\\\\\\\\\\\\\"6bf5faee-8433-4dae-be4e-8ec9b410d058\\\\\\\\\\\\\\\", \\\\\\\\\\\\\\\"datasetType\\\\\\\\\\\\\\\": \\\\\\\\\\\\\\\"tabular\\\\\\\\\\\\\\\", \\\\\\\\\\\\\\\"subscriptionId\\\\\\\\\\\\\\\": \\\\\\\\\\\\\\\"12cd141f-7e8d-40f4-ba6e-35b327775bd4\\\\\\\\\\\\\\\", \\\\\\\\\\\\\\\"workspaceId\\\\\\\\\\\\\\\": \\\\\\\\\\\\\\\"89d491f1-2603-401d-9a8e-87b3aa451d3a\\\\\\\\\\\\\\\", \\\\\\\\\\\\\\\"workspaceLocation\\\\\\\\\\\\\\\": \\\\\\\\\\\\\\\"eastus\\\\\\\\\\\\\\\", \\\\\\\\\\\\\\\"partition_keys\\\\\\\\\\\\\\\": \\\\\\\\\\\\\\\"true\\\\\\\\\\\\\\\"}}\\\\\\\", \\\\\\\"activities\\\\\\\": 0}\", \"EnableSubsampling\": null, \"runTemplate\": \"AutoML\", \"azureml.runsource\": \"automl\", \"display_task_type\": \"classification\", \"dependencies_versions\": \"{\\\"azureml-widgets\\\": \\\"1.24.0\\\", \\\"azureml-train\\\": \\\"1.24.0\\\", \\\"azureml-train-restclients-hyperdrive\\\": \\\"1.24.0\\\", \\\"azureml-train-core\\\": \\\"1.24.0\\\", \\\"azureml-train-automl\\\": \\\"1.24.0\\\", \\\"azureml-train-automl-runtime\\\": \\\"1.24.0\\\", \\\"azureml-train-automl-client\\\": \\\"1.24.0\\\", \\\"azureml-tensorboard\\\": \\\"1.24.0\\\", \\\"azureml-telemetry\\\": \\\"1.24.0\\\", \\\"azureml-sdk\\\": \\\"1.24.0\\\", \\\"azureml-samples\\\": \\\"0+unknown\\\", \\\"azureml-pipeline\\\": \\\"1.24.0\\\", \\\"azureml-pipeline-steps\\\": \\\"1.24.0\\\", \\\"azureml-pipeline-core\\\": \\\"1.24.0\\\", \\\"azureml-opendatasets\\\": \\\"1.24.0\\\", \\\"azureml-model-management-sdk\\\": \\\"1.0.1b6.post1\\\", \\\"azureml-mlflow\\\": \\\"1.24.0\\\", \\\"azureml-interpret\\\": \\\"1.24.0\\\", \\\"azureml-explain-model\\\": \\\"1.24.0\\\", \\\"azureml-defaults\\\": \\\"1.24.0\\\", \\\"azureml-dataset-runtime\\\": \\\"1.24.0\\\", \\\"azureml-dataprep\\\": \\\"2.11.2\\\", \\\"azureml-dataprep-rslex\\\": \\\"1.9.1\\\", \\\"azureml-dataprep-native\\\": \\\"30.0.0\\\", \\\"azureml-datadrift\\\": \\\"1.24.0\\\", \\\"azureml-core\\\": \\\"1.24.0.post2\\\", \\\"azureml-contrib-services\\\": \\\"1.24.0\\\", \\\"azureml-contrib-server\\\": \\\"1.24.0\\\", \\\"azureml-contrib-reinforcementlearning\\\": \\\"1.24.0\\\", \\\"azureml-contrib-pipeline-steps\\\": \\\"1.24.0\\\", \\\"azureml-contrib-notebook\\\": \\\"1.24.0\\\", \\\"azureml-contrib-gbdt\\\": \\\"1.24.0\\\", \\\"azureml-contrib-fairness\\\": \\\"1.24.0\\\", \\\"azureml-contrib-dataset\\\": \\\"1.24.0\\\", \\\"azureml-cli-common\\\": \\\"1.24.0\\\", \\\"azureml-automl-runtime\\\": \\\"1.24.0\\\", \\\"azureml-automl-dnn-nlp\\\": \\\"1.24.0\\\", \\\"azureml-automl-core\\\": \\\"1.24.0\\\", \\\"azureml-accel-models\\\": \\\"1.24.0\\\"}\", \"_aml_system_scenario_identification\": \"Remote.Parent\", \"ClientType\": \"SDK\", \"environment_cpu_name\": \"AzureML-AutoML\", \"environment_cpu_label\": \"prod\", \"environment_gpu_name\": \"AzureML-AutoML-GPU\", \"environment_gpu_label\": \"prod\", \"root_attribution\": \"automl\", \"attribution\": \"AutoML\", \"Orchestrator\": \"AutoML\", \"CancelUri\": \"https://eastus.experiments.azureml.net/jasmine/v1.0/subscriptions/12cd141f-7e8d-40f4-ba6e-35b327775bd4/resourceGroups/ska_resources/providers/Microsoft.MachineLearningServices/workspaces/capstone_project_workspace/experimentids/5f36c50a-60bf-46fa-a67c-567445768bfa/cancel/AutoML_619c1840-31e5-46ec-b705-58c2188161d7\", \"ClientSdkVersion\": \"1.24.0\", \"snapshotId\": \"00000000-0000-0000-0000-000000000000\", \"SetupRunId\": \"AutoML_619c1840-31e5-46ec-b705-58c2188161d7_setup\", \"SetupRunContainerId\": \"dcid.AutoML_619c1840-31e5-46ec-b705-58c2188161d7_setup\", \"FeaturizationRunJsonPath\": \"featurizer_container.json\", \"FeaturizationRunId\": \"AutoML_619c1840-31e5-46ec-b705-58c2188161d7_featurize\", \"ProblemInfoJsonString\": \"{\\\"dataset_num_categorical\\\": 0, \\\"is_sparse\\\": true, \\\"subsampling\\\": false, \\\"dataset_classes\\\": 2, \\\"dataset_features\\\": 16, \\\"dataset_samples\\\": 3577, \\\"single_frequency_class_detected\\\": false}\", \"ModelExplainRunId\": \"AutoML_619c1840-31e5-46ec-b705-58c2188161d7_ModelExplain\"}, \"tags\": {\"model_explain_run\": \"best_run\", \"_aml_system_azureml.automlComponent\": \"AutoML\", \"pipeline_id\": \"\", \"score\": \"\", \"predicted_cost\": \"\", \"fit_time\": \"\", \"training_percent\": \"\", \"iteration\": \"\", \"run_preprocessor\": \"\", \"run_algorithm\": \"\", \"dynamic_whitelisting_iterations\": \"<25>;<30>;<35>;\", \"automl_best_child_run_id\": \"AutoML_619c1840-31e5-46ec-b705-58c2188161d7_38\", \"model_explain_best_run_child_id\": \"AutoML_619c1840-31e5-46ec-b705-58c2188161d7_38\"}, \"end_time_utc\": \"2021-03-29T12:37:58.421629Z\", \"status\": \"Completed\", \"log_files\": {}, \"log_groups\": [], \"run_duration\": \"0:38:07\", \"run_number\": \"241\", \"run_queued_details\": {\"status\": \"Completed\", \"details\": null}}, \"child_runs\": [{\"run_id\": \"AutoML_619c1840-31e5-46ec-b705-58c2188161d7_0\", \"run_number\": 245, \"metric\": null, \"status\": \"Completed\", \"run_type\": \"azureml.scriptrun\", \"training_percent\": \"100\", \"start_time\": \"2021-03-29T12:17:04.948138Z\", \"end_time\": \"2021-03-29T12:18:15.010057Z\", \"created_time\": \"2021-03-29T12:10:38.605826Z\", \"created_time_dt\": \"2021-03-29T12:10:38.605826Z\", \"duration\": \"0:07:36\", \"iteration\": \"0\", \"goal\": \"norm_macro_recall_max\", \"run_name\": \"MaxAbsScaler, LightGBM\", \"run_properties\": \"copy=True\", \"primary_metric\": 0.14984428, \"best_metric\": 0.14984428}, {\"run_id\": \"AutoML_619c1840-31e5-46ec-b705-58c2188161d7_2\", \"run_number\": 246, \"metric\": null, \"status\": \"Completed\", \"run_type\": \"azureml.scriptrun\", \"training_percent\": \"100\", \"start_time\": \"2021-03-29T12:12:05.510067Z\", \"end_time\": \"2021-03-29T12:17:05.347684Z\", \"created_time\": \"2021-03-29T12:10:38.830787Z\", \"created_time_dt\": \"2021-03-29T12:10:38.830787Z\", \"duration\": \"0:06:26\", \"iteration\": \"2\", \"goal\": \"norm_macro_recall_max\", \"run_name\": \"MaxAbsScaler, RandomForest\", \"run_properties\": \"copy=True\"}, {\"run_id\": \"AutoML_619c1840-31e5-46ec-b705-58c2188161d7_3\", \"run_number\": 247, \"metric\": null, \"status\": \"Completed\", \"run_type\": \"azureml.scriptrun\", \"training_percent\": \"100\", \"start_time\": \"2021-03-29T12:10:49.231561Z\", \"end_time\": \"2021-03-29T12:11:49.556615Z\", \"created_time\": \"2021-03-29T12:10:39.227351Z\", \"created_time_dt\": \"2021-03-29T12:10:39.227351Z\", \"duration\": \"0:01:10\", \"iteration\": \"3\", \"goal\": \"norm_macro_recall_max\", \"run_name\": \"MaxAbsScaler, RandomForest\", \"run_properties\": \"copy=True\", \"primary_metric\": 0.53538931, \"best_metric\": 0.53538931}, {\"run_id\": \"AutoML_619c1840-31e5-46ec-b705-58c2188161d7_4\", \"run_number\": 248, \"metric\": null, \"status\": \"Completed\", \"run_type\": \"azureml.scriptrun\", \"training_percent\": \"100\", \"start_time\": \"2021-03-29T12:14:19.792952Z\", \"end_time\": \"2021-03-29T12:19:51.407772Z\", \"created_time\": \"2021-03-29T12:10:26.596892Z\", \"created_time_dt\": \"2021-03-29T12:10:26.596892Z\", \"duration\": \"0:09:24\", \"iteration\": \"4\", \"goal\": \"norm_macro_recall_max\", \"run_name\": \"MaxAbsScaler, ExtremeRandomTrees\", \"run_properties\": \"copy=True\", \"primary_metric\": 0.0, \"best_metric\": 0.53538931}, {\"run_id\": \"AutoML_619c1840-31e5-46ec-b705-58c2188161d7_1\", \"run_number\": 249, \"metric\": null, \"status\": \"Completed\", \"run_type\": \"azureml.scriptrun\", \"training_percent\": \"100\", \"start_time\": \"2021-03-29T12:14:23.041228Z\", \"end_time\": \"2021-03-29T12:19:58.694907Z\", \"created_time\": \"2021-03-29T12:10:38.610359Z\", \"created_time_dt\": \"2021-03-29T12:10:38.610359Z\", \"duration\": \"0:09:20\", \"iteration\": \"1\", \"goal\": \"norm_macro_recall_max\", \"run_name\": \"MaxAbsScaler, XGBoostClassifier\", \"run_properties\": \"copy=True\", \"primary_metric\": 0.35462835, \"best_metric\": 0.35462835}, {\"run_id\": \"AutoML_619c1840-31e5-46ec-b705-58c2188161d7_5\", \"run_number\": 250, \"metric\": null, \"status\": \"Completed\", \"run_type\": \"azureml.scriptrun\", \"training_percent\": \"100\", \"start_time\": \"2021-03-29T12:18:39.276668Z\", \"end_time\": \"2021-03-29T12:19:39.53967Z\", \"created_time\": \"2021-03-29T12:11:57.529273Z\", \"created_time_dt\": \"2021-03-29T12:11:57.529273Z\", \"duration\": \"0:07:42\", \"iteration\": \"5\", \"goal\": \"norm_macro_recall_max\", \"run_name\": \"MaxAbsScaler, RandomForest\", \"run_properties\": \"copy=True\", \"primary_metric\": 0.45821095, \"best_metric\": 0.53538931}, {\"run_id\": \"AutoML_619c1840-31e5-46ec-b705-58c2188161d7_6\", \"run_number\": 251, \"metric\": null, \"status\": \"Completed\", \"run_type\": \"azureml.scriptrun\", \"training_percent\": \"100\", \"start_time\": \"2021-03-29T12:19:41.834175Z\", \"end_time\": \"2021-03-29T12:20:26.527692Z\", \"created_time\": \"2021-03-29T12:17:08.51726Z\", \"created_time_dt\": \"2021-03-29T12:17:08.51726Z\", \"duration\": \"0:03:18\", \"iteration\": \"6\", \"goal\": \"norm_macro_recall_max\", \"run_name\": \"MaxAbsScaler, ExtremeRandomTrees\", \"run_properties\": \"copy=True\", \"primary_metric\": 0.53422815, \"best_metric\": 0.53538931}, {\"run_id\": \"AutoML_619c1840-31e5-46ec-b705-58c2188161d7_7\", \"run_number\": 252, \"metric\": null, \"status\": \"Completed\", \"run_type\": \"azureml.scriptrun\", \"training_percent\": \"100\", \"start_time\": \"2021-03-29T12:20:02.02858Z\", \"end_time\": \"2021-03-29T12:21:23.566253Z\", \"created_time\": \"2021-03-29T12:18:32.078361Z\", \"created_time_dt\": \"2021-03-29T12:18:32.078361Z\", \"duration\": \"0:02:51\", \"iteration\": \"7\", \"goal\": \"norm_macro_recall_max\", \"run_name\": \"MaxAbsScaler, ExtremeRandomTrees\", \"run_properties\": \"copy=True\", \"primary_metric\": 0.48693746, \"best_metric\": 0.53538931}, {\"run_id\": \"AutoML_619c1840-31e5-46ec-b705-58c2188161d7_8\", \"run_number\": 253, \"metric\": null, \"status\": \"Completed\", \"run_type\": \"azureml.scriptrun\", \"training_percent\": \"100\", \"start_time\": \"2021-03-29T12:20:09.890974Z\", \"end_time\": \"2021-03-29T12:21:08.02439Z\", \"created_time\": \"2021-03-29T12:19:44.265904Z\", \"created_time_dt\": \"2021-03-29T12:19:44.265904Z\", \"duration\": \"0:01:23\", \"iteration\": \"8\", \"goal\": \"norm_macro_recall_max\", \"run_name\": \"MaxAbsScaler, ExtremeRandomTrees\", \"run_properties\": \"copy=True\", \"primary_metric\": 0.49388023, \"best_metric\": 0.53538931}, {\"run_id\": \"AutoML_619c1840-31e5-46ec-b705-58c2188161d7_9\", \"run_number\": 254, \"metric\": null, \"status\": \"Completed\", \"run_type\": \"azureml.scriptrun\", \"training_percent\": \"100\", \"start_time\": \"2021-03-29T12:20:55.522263Z\", \"end_time\": \"2021-03-29T12:21:56.73872Z\", \"created_time\": \"2021-03-29T12:19:55.572589Z\", \"created_time_dt\": \"2021-03-29T12:19:55.572589Z\", \"duration\": \"0:02:01\", \"iteration\": \"9\", \"goal\": \"norm_macro_recall_max\", \"run_name\": \"MaxAbsScaler, ExtremeRandomTrees\", \"run_properties\": \"copy=True\", \"primary_metric\": 0.32365411, \"best_metric\": 0.53538931}, {\"run_id\": \"AutoML_619c1840-31e5-46ec-b705-58c2188161d7_10\", \"run_number\": 255, \"metric\": null, \"status\": \"Completed\", \"run_type\": \"azureml.scriptrun\", \"training_percent\": \"100\", \"start_time\": \"2021-03-29T12:21:26.715739Z\", \"end_time\": \"2021-03-29T12:22:10.55464Z\", \"created_time\": \"2021-03-29T12:20:04.157807Z\", \"created_time_dt\": \"2021-03-29T12:20:04.157807Z\", \"duration\": \"0:02:06\", \"iteration\": \"10\", \"goal\": \"norm_macro_recall_max\", \"run_name\": \"MaxAbsScaler, RandomForest\", \"run_properties\": \"copy=True\", \"primary_metric\": 0.31783914, \"best_metric\": 0.53538931}, {\"run_id\": \"AutoML_619c1840-31e5-46ec-b705-58c2188161d7_11\", \"run_number\": 256, \"metric\": null, \"status\": \"Completed\", \"run_type\": \"azureml.scriptrun\", \"training_percent\": \"100\", \"start_time\": \"2021-03-29T12:21:38.934767Z\", \"end_time\": \"2021-03-29T12:22:32.586695Z\", \"created_time\": \"2021-03-29T12:20:43.64138Z\", \"created_time_dt\": \"2021-03-29T12:20:43.64138Z\", \"duration\": \"0:01:48\", \"iteration\": \"11\", \"goal\": \"norm_macro_recall_max\", \"run_name\": \"MaxAbsScaler, RandomForest\", \"run_properties\": \"copy=True\", \"primary_metric\": 0.31027213, \"best_metric\": 0.53538931}, {\"run_id\": \"AutoML_619c1840-31e5-46ec-b705-58c2188161d7_12\", \"run_number\": 257, \"metric\": null, \"status\": \"Completed\", \"run_type\": \"azureml.scriptrun\", \"training_percent\": \"100\", \"start_time\": \"2021-03-29T12:22:13.843916Z\", \"end_time\": \"2021-03-29T12:23:03.631294Z\", \"created_time\": \"2021-03-29T12:21:14.160591Z\", \"created_time_dt\": \"2021-03-29T12:21:14.160591Z\", \"duration\": \"0:01:49\", \"iteration\": \"12\", \"goal\": \"norm_macro_recall_max\", \"run_name\": \"MaxAbsScaler, RandomForest\", \"run_properties\": \"copy=True\", \"primary_metric\": 0.35940122, \"best_metric\": 0.53538931}, {\"run_id\": \"AutoML_619c1840-31e5-46ec-b705-58c2188161d7_13\", \"run_number\": 258, \"metric\": null, \"status\": \"Completed\", \"run_type\": \"azureml.scriptrun\", \"training_percent\": \"100\", \"start_time\": \"2021-03-29T12:22:24.899068Z\", \"end_time\": \"2021-03-29T12:23:14.081443Z\", \"created_time\": \"2021-03-29T12:21:27.689986Z\", \"created_time_dt\": \"2021-03-29T12:21:27.689986Z\", \"duration\": \"0:01:46\", \"iteration\": \"13\", \"goal\": \"norm_macro_recall_max\", \"run_name\": \"MaxAbsScaler, SGD\", \"run_properties\": \"copy=True\", \"primary_metric\": 0.27655927, \"best_metric\": 0.53538931}, {\"run_id\": \"AutoML_619c1840-31e5-46ec-b705-58c2188161d7_14\", \"run_number\": 259, \"metric\": null, \"status\": \"Completed\", \"run_type\": \"azureml.scriptrun\", \"training_percent\": \"100\", \"start_time\": \"2021-03-29T12:22:45.129785Z\", \"end_time\": \"2021-03-29T12:23:59.874784Z\", \"created_time\": \"2021-03-29T12:22:02.170159Z\", \"created_time_dt\": \"2021-03-29T12:22:02.170159Z\", \"duration\": \"0:01:57\", \"iteration\": \"14\", \"goal\": \"norm_macro_recall_max\", \"run_name\": \"SparseNormalizer, ExtremeRandomTrees\", \"run_properties\": \"<azureml.automl.runtime.shared.model_wrappers.SparseNormalizer object at 0x7f03905cd1d0\", \"primary_metric\": 0.0, \"best_metric\": 0.53538931}, {\"run_id\": \"AutoML_619c1840-31e5-46ec-b705-58c2188161d7_15\", \"run_number\": 260, \"metric\": null, \"status\": \"Completed\", \"run_type\": \"azureml.scriptrun\", \"training_percent\": \"100\", \"start_time\": \"2021-03-29T12:23:18.183726Z\", \"end_time\": \"2021-03-29T12:24:09.392321Z\", \"created_time\": \"2021-03-29T12:22:15.721895Z\", \"created_time_dt\": \"2021-03-29T12:22:15.721895Z\", \"duration\": \"0:01:53\", \"iteration\": \"15\", \"goal\": \"norm_macro_recall_max\", \"run_name\": \"MaxAbsScaler, ExtremeRandomTrees\", \"run_properties\": \"copy=True\", \"primary_metric\": 0.38946972, \"best_metric\": 0.53538931}, {\"run_id\": \"AutoML_619c1840-31e5-46ec-b705-58c2188161d7_16\", \"run_number\": 261, \"metric\": null, \"status\": \"Completed\", \"run_type\": \"azureml.scriptrun\", \"training_percent\": \"100\", \"start_time\": \"2021-03-29T12:23:28.439134Z\", \"end_time\": \"2021-03-29T12:24:27.403612Z\", \"created_time\": \"2021-03-29T12:22:36.817632Z\", \"created_time_dt\": \"2021-03-29T12:22:36.817632Z\", \"duration\": \"0:01:50\", \"iteration\": \"16\", \"goal\": \"norm_macro_recall_max\", \"run_name\": \"StandardScalerWrapper, XGBoostClassifier\", \"run_properties\": \"<azureml.automl.runtime.shared.model_wrappers.StandardScalerWrapper object at 0x7f297b66d5f8\", \"primary_metric\": 0.38753085, \"best_metric\": 0.53538931}, {\"run_id\": \"AutoML_619c1840-31e5-46ec-b705-58c2188161d7_17\", \"run_number\": 262, \"metric\": null, \"status\": \"Completed\", \"run_type\": \"azureml.scriptrun\", \"training_percent\": \"100\", \"start_time\": \"2021-03-29T12:24:15.343937Z\", \"end_time\": \"2021-03-29T12:25:15.533487Z\", \"created_time\": \"2021-03-29T12:23:08.754298Z\", \"created_time_dt\": \"2021-03-29T12:23:08.754298Z\", \"duration\": \"0:02:06\", \"iteration\": \"17\", \"goal\": \"norm_macro_recall_max\", \"run_name\": \"MaxAbsScaler, RandomForest\", \"run_properties\": \"copy=True\", \"primary_metric\": 0.39059482, \"best_metric\": 0.53538931}, {\"run_id\": \"AutoML_619c1840-31e5-46ec-b705-58c2188161d7_18\", \"run_number\": 263, \"metric\": null, \"status\": \"Completed\", \"run_type\": \"azureml.scriptrun\", \"training_percent\": \"100\", \"start_time\": \"2021-03-29T12:24:23.804481Z\", \"end_time\": \"2021-03-29T12:25:10.670042Z\", \"created_time\": \"2021-03-29T12:23:18.990868Z\", \"created_time_dt\": \"2021-03-29T12:23:18.990868Z\", \"duration\": \"0:01:51\", \"iteration\": \"18\", \"goal\": \"norm_macro_recall_max\", \"run_name\": \"MaxAbsScaler, ExtremeRandomTrees\", \"run_properties\": \"copy=True\", \"primary_metric\": 0.30507264, \"best_metric\": 0.53538931}, {\"run_id\": \"AutoML_619c1840-31e5-46ec-b705-58c2188161d7_19\", \"run_number\": 264, \"metric\": null, \"status\": \"Completed\", \"run_type\": \"azureml.scriptrun\", \"training_percent\": \"100\", \"start_time\": \"2021-03-29T12:24:34.413833Z\", \"end_time\": \"2021-03-29T12:25:39.094962Z\", \"created_time\": \"2021-03-29T12:24:06.459823Z\", \"created_time_dt\": \"2021-03-29T12:24:06.459823Z\", \"duration\": \"0:01:32\", \"iteration\": \"19\", \"goal\": \"norm_macro_recall_max\", \"run_name\": \"StandardScalerWrapper, ExtremeRandomTrees\", \"run_properties\": \"<azureml.automl.runtime.shared.model_wrappers.StandardScalerWrapper object at 0x7fafe14eb400\", \"primary_metric\": 0.46793472, \"best_metric\": 0.53538931}, {\"run_id\": \"AutoML_619c1840-31e5-46ec-b705-58c2188161d7_20\", \"run_number\": 265, \"metric\": null, \"status\": \"Completed\", \"run_type\": \"azureml.scriptrun\", \"training_percent\": \"100\", \"start_time\": \"2021-03-29T12:25:29.387558Z\", \"end_time\": \"2021-03-29T12:26:23.518029Z\", \"created_time\": \"2021-03-29T12:24:13.314688Z\", \"created_time_dt\": \"2021-03-29T12:24:13.314688Z\", \"duration\": \"0:02:10\", \"iteration\": \"20\", \"goal\": \"norm_macro_recall_max\", \"run_name\": \"MaxAbsScaler, LightGBM\", \"run_properties\": \"copy=True\", \"primary_metric\": 0.38894431, \"best_metric\": 0.53538931}, {\"run_id\": \"AutoML_619c1840-31e5-46ec-b705-58c2188161d7_21\", \"run_number\": 266, \"metric\": null, \"status\": \"Completed\", \"run_type\": \"azureml.scriptrun\", \"training_percent\": \"100\", \"start_time\": \"2021-03-29T12:25:31.522493Z\", \"end_time\": \"2021-03-29T12:26:43.336694Z\", \"created_time\": \"2021-03-29T12:24:33.844202Z\", \"created_time_dt\": \"2021-03-29T12:24:33.844202Z\", \"duration\": \"0:02:09\", \"iteration\": \"21\", \"goal\": \"norm_macro_recall_max\", \"run_name\": \"MaxAbsScaler, LightGBM\", \"run_properties\": \"copy=True\", \"primary_metric\": 0.51182881, \"best_metric\": 0.53538931}, {\"run_id\": \"AutoML_619c1840-31e5-46ec-b705-58c2188161d7_22\", \"run_number\": 267, \"metric\": null, \"status\": \"Completed\", \"run_type\": \"azureml.scriptrun\", \"training_percent\": \"100\", \"start_time\": \"2021-03-29T12:26:04.573206Z\", \"end_time\": \"2021-03-29T12:26:54.716063Z\", \"created_time\": \"2021-03-29T12:25:16.485415Z\", \"created_time_dt\": \"2021-03-29T12:25:16.485415Z\", \"duration\": \"0:01:38\", \"iteration\": \"22\", \"goal\": \"norm_macro_recall_max\", \"run_name\": \"MaxAbsScaler, LightGBM\", \"run_properties\": \"copy=True\", \"primary_metric\": 0.40696564, \"best_metric\": 0.53538931}, {\"run_id\": \"AutoML_619c1840-31e5-46ec-b705-58c2188161d7_23\", \"run_number\": 268, \"metric\": null, \"status\": \"Completed\", \"run_type\": \"azureml.scriptrun\", \"training_percent\": \"100\", \"start_time\": \"2021-03-29T12:26:41.500962Z\", \"end_time\": \"2021-03-29T12:27:29.430842Z\", \"created_time\": \"2021-03-29T12:25:21.398398Z\", \"created_time_dt\": \"2021-03-29T12:25:21.398398Z\", \"duration\": \"0:02:08\", \"iteration\": \"23\", \"goal\": \"norm_macro_recall_max\", \"run_name\": \"MaxAbsScaler, LightGBM\", \"run_properties\": \"copy=True\", \"primary_metric\": 0.44155479, \"best_metric\": 0.53538931}, {\"run_id\": \"AutoML_619c1840-31e5-46ec-b705-58c2188161d7_24\", \"run_number\": 269, \"metric\": null, \"status\": \"Completed\", \"run_type\": \"azureml.scriptrun\", \"training_percent\": \"100\", \"start_time\": \"2021-03-29T12:26:56.520933Z\", \"end_time\": \"2021-03-29T12:27:42.69475Z\", \"created_time\": \"2021-03-29T12:25:56.856377Z\", \"created_time_dt\": \"2021-03-29T12:25:56.856377Z\", \"duration\": \"0:01:45\", \"iteration\": \"24\", \"goal\": \"norm_macro_recall_max\", \"run_name\": \"MaxAbsScaler, LightGBM\", \"run_properties\": \"copy=True\", \"primary_metric\": 0.47682027, \"best_metric\": 0.53538931}, {\"run_id\": \"AutoML_619c1840-31e5-46ec-b705-58c2188161d7_25\", \"run_number\": 270, \"metric\": null, \"status\": \"Completed\", \"run_type\": \"azureml.scriptrun\", \"training_percent\": \"100\", \"start_time\": \"2021-03-29T12:27:10.144441Z\", \"end_time\": \"2021-03-29T12:28:11.658938Z\", \"created_time\": \"2021-03-29T12:26:27.922449Z\", \"created_time_dt\": \"2021-03-29T12:26:27.922449Z\", \"duration\": \"0:01:43\", \"iteration\": \"25\", \"goal\": \"norm_macro_recall_max\", \"run_name\": \"StandardScalerWrapper, RandomForest\", \"run_properties\": \"<azureml.automl.runtime.shared.model_wrappers.StandardScalerWrapper object at 0x7fc00036ec88\", \"primary_metric\": 0.0, \"best_metric\": 0.53538931}, {\"run_id\": \"AutoML_619c1840-31e5-46ec-b705-58c2188161d7_26\", \"run_number\": 271, \"metric\": null, \"status\": \"Completed\", \"run_type\": \"azureml.scriptrun\", \"training_percent\": \"100\", \"start_time\": \"2021-03-29T12:27:40.552145Z\", \"end_time\": \"2021-03-29T12:28:38.01617Z\", \"created_time\": \"2021-03-29T12:26:47.484768Z\", \"created_time_dt\": \"2021-03-29T12:26:47.484768Z\", \"duration\": \"0:01:50\", \"iteration\": \"26\", \"goal\": \"norm_macro_recall_max\", \"run_name\": \"MaxAbsScaler, RandomForest\", \"run_properties\": \"copy=True\", \"primary_metric\": 0.48272798, \"best_metric\": 0.53538931}, {\"run_id\": \"AutoML_619c1840-31e5-46ec-b705-58c2188161d7_27\", \"run_number\": 272, \"metric\": null, \"status\": \"Completed\", \"run_type\": \"azureml.scriptrun\", \"training_percent\": \"100\", \"start_time\": \"2021-03-29T12:27:59.143868Z\", \"end_time\": \"2021-03-29T12:28:45.084734Z\", \"created_time\": \"2021-03-29T12:26:59.091306Z\", \"created_time_dt\": \"2021-03-29T12:26:59.091306Z\", \"duration\": \"0:01:45\", \"iteration\": \"27\", \"goal\": \"norm_macro_recall_max\", \"run_name\": \"SparseNormalizer, XGBoostClassifier\", \"run_properties\": \"<azureml.automl.runtime.shared.model_wrappers.SparseNormalizer object at 0x7f7edab885c0\", \"primary_metric\": 0.20582058, \"best_metric\": 0.53538931}, {\"run_id\": \"AutoML_619c1840-31e5-46ec-b705-58c2188161d7_28\", \"run_number\": 273, \"metric\": null, \"status\": \"Completed\", \"run_type\": \"azureml.scriptrun\", \"training_percent\": \"100\", \"start_time\": \"2021-03-29T12:28:26.789077Z\", \"end_time\": \"2021-03-29T12:29:24.904048Z\", \"created_time\": \"2021-03-29T12:27:33.192127Z\", \"created_time_dt\": \"2021-03-29T12:27:33.192127Z\", \"duration\": \"0:01:51\", \"iteration\": \"28\", \"goal\": \"norm_macro_recall_max\", \"run_name\": \"StandardScalerWrapper, XGBoostClassifier\", \"run_properties\": \"<azureml.automl.runtime.shared.model_wrappers.StandardScalerWrapper object at 0x7f10baf09eb8\", \"primary_metric\": 0.44770744, \"best_metric\": 0.53538931}, {\"run_id\": \"AutoML_619c1840-31e5-46ec-b705-58c2188161d7_29\", \"run_number\": 274, \"metric\": null, \"status\": \"Completed\", \"run_type\": \"azureml.scriptrun\", \"training_percent\": \"100\", \"start_time\": \"2021-03-29T12:28:55.850381Z\", \"end_time\": \"2021-03-29T12:29:44.806946Z\", \"created_time\": \"2021-03-29T12:27:45.967924Z\", \"created_time_dt\": \"2021-03-29T12:27:45.967924Z\", \"duration\": \"0:01:58\", \"iteration\": \"29\", \"goal\": \"norm_macro_recall_max\", \"run_name\": \"StandardScalerWrapper, XGBoostClassifier\", \"run_properties\": \"<azureml.automl.runtime.shared.model_wrappers.StandardScalerWrapper object at 0x7fd4cc1102b0\", \"primary_metric\": 0.15381579, \"best_metric\": 0.53538931}, {\"run_id\": \"AutoML_619c1840-31e5-46ec-b705-58c2188161d7_30\", \"run_number\": 275, \"metric\": null, \"status\": \"Completed\", \"run_type\": \"azureml.scriptrun\", \"training_percent\": \"100\", \"start_time\": \"2021-03-29T12:29:02.155052Z\", \"end_time\": \"2021-03-29T12:30:06.352148Z\", \"created_time\": \"2021-03-29T12:28:15.934561Z\", \"created_time_dt\": \"2021-03-29T12:28:15.934561Z\", \"duration\": \"0:01:50\", \"iteration\": \"30\", \"goal\": \"norm_macro_recall_max\", \"run_name\": \"TruncatedSVDWrapper, RandomForest\", \"run_properties\": \"n_components=0.40578947368421053, random_state=None\", \"primary_metric\": 0.1951822, \"best_metric\": 0.53538931}, {\"run_id\": \"AutoML_619c1840-31e5-46ec-b705-58c2188161d7_31\", \"run_number\": 276, \"metric\": null, \"status\": \"Completed\", \"run_type\": \"azureml.scriptrun\", \"training_percent\": \"100\", \"start_time\": \"2021-03-29T12:29:37.412352Z\", \"end_time\": \"2021-03-29T12:30:44.843609Z\", \"created_time\": \"2021-03-29T12:28:41.419398Z\", \"created_time_dt\": \"2021-03-29T12:28:41.419398Z\", \"duration\": \"0:02:03\", \"iteration\": \"31\", \"goal\": \"norm_macro_recall_max\", \"run_name\": \"MaxAbsScaler, LightGBM\", \"run_properties\": \"copy=True\", \"primary_metric\": 0.43603223, \"best_metric\": 0.53538931}, {\"run_id\": \"AutoML_619c1840-31e5-46ec-b705-58c2188161d7_32\", \"run_number\": 277, \"metric\": null, \"status\": \"Completed\", \"run_type\": \"azureml.scriptrun\", \"training_percent\": \"100\", \"start_time\": \"2021-03-29T12:29:59.827003Z\", \"end_time\": \"2021-03-29T12:30:59.761404Z\", \"created_time\": \"2021-03-29T12:28:52.822675Z\", \"created_time_dt\": \"2021-03-29T12:28:52.822675Z\", \"duration\": \"0:02:06\", \"iteration\": \"32\", \"goal\": \"norm_macro_recall_max\", \"run_name\": \"MaxAbsScaler, LightGBM\", \"run_properties\": \"copy=True\", \"primary_metric\": 0.39528624, \"best_metric\": 0.53538931}, {\"run_id\": \"AutoML_619c1840-31e5-46ec-b705-58c2188161d7_33\", \"run_number\": 278, \"metric\": null, \"status\": \"Completed\", \"run_type\": \"azureml.scriptrun\", \"training_percent\": \"100\", \"start_time\": \"2021-03-29T12:30:22.347151Z\", \"end_time\": \"2021-03-29T12:31:25.2585Z\", \"created_time\": \"2021-03-29T12:29:28.108403Z\", \"created_time_dt\": \"2021-03-29T12:29:28.108403Z\", \"duration\": \"0:01:57\", \"iteration\": \"33\", \"goal\": \"norm_macro_recall_max\", \"run_name\": \"MaxAbsScaler, RandomForest\", \"run_properties\": \"copy=True\", \"primary_metric\": 0.41770771, \"best_metric\": 0.53538931}, {\"run_id\": \"AutoML_619c1840-31e5-46ec-b705-58c2188161d7_34\", \"run_number\": 279, \"metric\": null, \"status\": \"Canceled\", \"run_type\": \"azureml.scriptrun\", \"training_percent\": \"100\", \"start_time\": \"2021-03-29T12:30:59.562149Z\", \"end_time\": \"2021-03-29T12:31:35.253143Z\", \"created_time\": \"2021-03-29T12:29:48.703142Z\", \"created_time_dt\": \"2021-03-29T12:29:48.703142Z\", \"duration\": \"0:01:46\", \"iteration\": \"34\", \"goal\": \"norm_macro_recall_max\", \"run_name\": \"StandardScalerWrapper, XGBoostClassifier\", \"run_properties\": \"<azureml.automl.runtime.shared.model_wrappers.StandardScalerWrapper object at 0x7fa310420c50\", \"primary_metric\": 0.46324736, \"best_metric\": 0.53538931}, {\"run_id\": \"AutoML_619c1840-31e5-46ec-b705-58c2188161d7_35\", \"run_number\": 280, \"metric\": null, \"status\": \"Canceled\", \"run_type\": \"azureml.scriptrun\", \"training_percent\": \"100\", \"start_time\": \"2021-03-29T12:31:13.366527Z\", \"end_time\": \"2021-03-29T12:31:34.83551Z\", \"created_time\": \"2021-03-29T12:30:10.223526Z\", \"created_time_dt\": \"2021-03-29T12:30:10.223526Z\", \"duration\": \"0:01:24\", \"iteration\": \"35\", \"goal\": null, \"run_name\": \"Canceled\", \"run_properties\": null}, {\"run_id\": \"AutoML_619c1840-31e5-46ec-b705-58c2188161d7_36\", \"run_number\": 281, \"metric\": null, \"status\": \"Canceled\", \"run_type\": \"azureml.scriptrun\", \"training_percent\": \"100\", \"start_time\": \"2021-03-29T12:30:47.865495Z\", \"end_time\": \"2021-03-29T12:31:33.988235Z\", \"created_time\": \"2021-03-29T12:30:47.865495Z\", \"created_time_dt\": \"2021-03-29T12:30:47.865495Z\", \"duration\": \"0:00:46\", \"iteration\": \"36\", \"goal\": null, \"run_name\": \"Canceled\", \"run_properties\": null}, {\"run_id\": \"AutoML_619c1840-31e5-46ec-b705-58c2188161d7_37\", \"run_number\": 282, \"metric\": null, \"status\": \"Canceled\", \"run_type\": \"azureml.scriptrun\", \"training_percent\": \"100\", \"start_time\": \"2021-03-29T12:31:03.454053Z\", \"end_time\": \"2021-03-29T12:31:35.63631Z\", \"created_time\": \"2021-03-29T12:31:03.454053Z\", \"created_time_dt\": \"2021-03-29T12:31:03.454053Z\", \"duration\": \"0:00:32\", \"iteration\": \"37\", \"goal\": null, \"run_name\": \"Canceled\", \"run_properties\": null}, {\"run_id\": \"AutoML_619c1840-31e5-46ec-b705-58c2188161d7_38\", \"run_number\": 283, \"metric\": null, \"status\": \"Completed\", \"run_type\": \"azureml.scriptrun\", \"training_percent\": \"100\", \"start_time\": \"2021-03-29T12:31:52.893121Z\", \"end_time\": \"2021-03-29T12:37:35.664432Z\", \"created_time\": \"2021-03-29T12:31:38.710918Z\", \"created_time_dt\": \"2021-03-29T12:31:38.710918Z\", \"duration\": \"0:05:56\", \"iteration\": \"38\", \"goal\": \"norm_macro_recall_max\", \"run_name\": \"VotingEnsemble\", \"run_properties\": \"classification_labels=None,\\n                              estimators=[('3',\\n                                           Pipeline(memory=None,\\n                                                    steps=[('maxabsscaler',\\n                                                            MaxAbsScaler(copy=True\", \"primary_metric\": 0.57219406, \"best_metric\": 0.57219406}, {\"run_id\": \"AutoML_619c1840-31e5-46ec-b705-58c2188161d7_39\", \"run_number\": 284, \"metric\": null, \"status\": \"Completed\", \"run_type\": \"azureml.scriptrun\", \"training_percent\": \"100\", \"start_time\": \"2021-03-29T12:31:51.347523Z\", \"end_time\": \"2021-03-29T12:37:15.575172Z\", \"created_time\": \"2021-03-29T12:31:38.926182Z\", \"created_time_dt\": \"2021-03-29T12:31:38.926182Z\", \"duration\": \"0:05:36\", \"iteration\": \"39\", \"goal\": \"norm_macro_recall_max\", \"run_name\": \"StackEnsemble\", \"run_properties\": \"base_learners=[('3',\\n                                        Pipeline(memory=None,\\n                                                 steps=[('maxabsscaler',\\n                                                         MaxAbsScaler(copy=True\", \"primary_metric\": 0.21141077, \"best_metric\": 0.57219406}], \"children_metrics\": {\"categories\": [0], \"series\": {\"AUC_macro\": [{\"categories\": [\"0\", \"1\", \"3\", \"4\", \"5\", \"6\", \"7\", \"8\", \"9\", \"10\", \"11\", \"12\", \"13\", \"14\", \"15\", \"16\", \"17\", \"18\", \"19\", \"20\", \"21\", \"22\", \"23\", \"24\", \"25\", \"26\", \"27\", \"28\", \"29\", \"30\", \"31\", \"32\", \"33\", \"34\", \"38\", \"39\"], \"mode\": \"markers\", \"name\": \"AUC_macro\", \"stepped\": false, \"type\": \"scatter\", \"data\": [0.8090425175621535, 0.8202027260702931, 0.8276673842154443, 0.7740342221602595, 0.7921357213904834, 0.8349901899506338, 0.8203043038221122, 0.8138326038010701, 0.8194877047147104, 0.7823514324728369, 0.7902005395609175, 0.7985365676509257, 0.7935194213362283, 0.6434391229561016, 0.8103468781525324, 0.8178685272601498, 0.8083676928754285, 0.790566131235889, 0.812090030528924, 0.8285548069696637, 0.832598235432233, 0.8293533716185961, 0.8129056623888795, 0.8256621867621419, 0.5211642461639525, 0.821033372445279, 0.7750112106936295, 0.8312607716815803, 0.8083239176254378, 0.7109377581310049, 0.8050523181835597, 0.8154470991035856, 0.8176035603349923, 0.8330465412797936, 0.8401081422387999, 0.8182993668440031]}, {\"categories\": [\"0\", \"1\", \"3\", \"4\", \"5\", \"6\", \"7\", \"8\", \"9\", \"10\", \"11\", \"12\", \"13\", \"14\", \"15\", \"16\", \"17\", \"18\", \"19\", \"20\", \"21\", \"22\", \"23\", \"24\", \"25\", \"26\", \"27\", \"28\", \"29\", \"30\", \"31\", \"32\", \"33\", \"34\", \"38\", \"39\"], \"mode\": \"lines\", \"name\": \"AUC_macro_max\", \"stepped\": true, \"type\": \"scatter\", \"data\": [0.8090425175621535, 0.8202027260702931, 0.8276673842154443, 0.8276673842154443, 0.8276673842154443, 0.8349901899506338, 0.8349901899506338, 0.8349901899506338, 0.8349901899506338, 0.8349901899506338, 0.8349901899506338, 0.8349901899506338, 0.8349901899506338, 0.8349901899506338, 0.8349901899506338, 0.8349901899506338, 0.8349901899506338, 0.8349901899506338, 0.8349901899506338, 0.8349901899506338, 0.8349901899506338, 0.8349901899506338, 0.8349901899506338, 0.8349901899506338, 0.8349901899506338, 0.8349901899506338, 0.8349901899506338, 0.8349901899506338, 0.8349901899506338, 0.8349901899506338, 0.8349901899506338, 0.8349901899506338, 0.8349901899506338, 0.8349901899506338, 0.8401081422387999, 0.8401081422387999]}], \"precision_score_weighted\": [{\"categories\": [\"0\", \"1\", \"3\", \"4\", \"5\", \"6\", \"7\", \"8\", \"9\", \"10\", \"11\", \"12\", \"13\", \"14\", \"15\", \"16\", \"17\", \"18\", \"19\", \"20\", \"21\", \"22\", \"23\", \"24\", \"25\", \"26\", \"27\", \"28\", \"29\", \"30\", \"31\", \"32\", \"33\", \"34\", \"38\", \"39\"], \"mode\": \"markers\", \"name\": \"precision_score_weighted\", \"stepped\": false, \"type\": \"scatter\", \"data\": [0.6900293194905167, 0.7035144217401925, 0.7717907245031683, 0.24889457576466661, 0.7319703675138979, 0.7740164070722784, 0.753093790093208, 0.7499218808768175, 0.7933994872062679, 0.7859625852059552, 0.7886172542965709, 0.7998156739796558, 0.7599664203458039, 0.24889457576466661, 0.76444545508294, 0.7145155700523915, 0.7141887095474653, 0.7957586190154282, 0.7516491578238984, 0.7259264893304326, 0.7644127608969324, 0.7299600649529182, 0.7314720475003476, 0.7445033284046674, 0.24889457576466661, 0.7457688693674331, 0.6909585019796156, 0.7451175712969758, 0.6768044960839812, 0.6450683730814457, 0.7351768654746116, 0.7186263225025051, 0.7975704758559474, 0.7433872238381338, 0.7914687244724476, 0.490480304694474]}, {\"categories\": [\"0\", \"1\", \"3\", \"4\", \"5\", \"6\", \"7\", \"8\", \"9\", \"10\", \"11\", \"12\", \"13\", \"14\", \"15\", \"16\", \"17\", \"18\", \"19\", \"20\", \"21\", \"22\", \"23\", \"24\", \"25\", \"26\", \"27\", \"28\", \"29\", \"30\", \"31\", \"32\", \"33\", \"34\", \"38\", \"39\"], \"mode\": \"lines\", \"name\": \"precision_score_weighted_max\", \"stepped\": true, \"type\": \"scatter\", \"data\": [0.6900293194905167, 0.7035144217401925, 0.7717907245031683, 0.7717907245031683, 0.7717907245031683, 0.7740164070722784, 0.7740164070722784, 0.7740164070722784, 0.7933994872062679, 0.7933994872062679, 0.7933994872062679, 0.7998156739796558, 0.7998156739796558, 0.7998156739796558, 0.7998156739796558, 0.7998156739796558, 0.7998156739796558, 0.7998156739796558, 0.7998156739796558, 0.7998156739796558, 0.7998156739796558, 0.7998156739796558, 0.7998156739796558, 0.7998156739796558, 0.7998156739796558, 0.7998156739796558, 0.7998156739796558, 0.7998156739796558, 0.7998156739796558, 0.7998156739796558, 0.7998156739796558, 0.7998156739796558, 0.7998156739796558, 0.7998156739796558, 0.7998156739796558, 0.7998156739796558]}], \"norm_macro_recall\": [{\"categories\": [\"0\", \"1\", \"3\", \"4\", \"5\", \"6\", \"7\", \"8\", \"9\", \"10\", \"11\", \"12\", \"13\", \"14\", \"15\", \"16\", \"17\", \"18\", \"19\", \"20\", \"21\", \"22\", \"23\", \"24\", \"25\", \"26\", \"27\", \"28\", \"29\", \"30\", \"31\", \"32\", \"33\", \"34\", \"38\", \"39\"], \"mode\": \"markers\", \"name\": \"norm_macro_recall\", \"stepped\": false, \"type\": \"scatter\", \"data\": [0.14984427647906062, 0.3546283463991903, 0.5353893112835795, 0.0, 0.45821095188735406, 0.5342281534447917, 0.48693745811767974, 0.49388022901326567, 0.32365411362303953, 0.3178391402667313, 0.31027213196028536, 0.3594012235136361, 0.2765592732812733, 0.0, 0.3894697152501998, 0.38753084935110527, 0.39059481805684615, 0.3050726402976496, 0.46793471787464813, 0.38894430586030193, 0.5118288145186786, 0.40696564481905195, 0.4415547936200639, 0.4768202727067111, 0.0, 0.48272797919887933, 0.20582058483407306, 0.44770743587292283, 0.15381579305127413, 0.19518220091358818, 0.436032230491018, 0.3952862379335126, 0.41770770886607345, 0.46324736462072935, 0.572194059012405, 0.21141077377880002]}, {\"categories\": [\"0\", \"1\", \"3\", \"4\", \"5\", \"6\", \"7\", \"8\", \"9\", \"10\", \"11\", \"12\", \"13\", \"14\", \"15\", \"16\", \"17\", \"18\", \"19\", \"20\", \"21\", \"22\", \"23\", \"24\", \"25\", \"26\", \"27\", \"28\", \"29\", \"30\", \"31\", \"32\", \"33\", \"34\", \"38\", \"39\"], \"mode\": \"lines\", \"name\": \"norm_macro_recall_max\", \"stepped\": true, \"type\": \"scatter\", \"data\": [0.14984427647906062, 0.3546283463991903, 0.5353893112835795, 0.5353893112835795, 0.5353893112835795, 0.5353893112835795, 0.5353893112835795, 0.5353893112835795, 0.5353893112835795, 0.5353893112835795, 0.5353893112835795, 0.5353893112835795, 0.5353893112835795, 0.5353893112835795, 0.5353893112835795, 0.5353893112835795, 0.5353893112835795, 0.5353893112835795, 0.5353893112835795, 0.5353893112835795, 0.5353893112835795, 0.5353893112835795, 0.5353893112835795, 0.5353893112835795, 0.5353893112835795, 0.5353893112835795, 0.5353893112835795, 0.5353893112835795, 0.5353893112835795, 0.5353893112835795, 0.5353893112835795, 0.5353893112835795, 0.5353893112835795, 0.5353893112835795, 0.572194059012405, 0.572194059012405]}], \"matthews_correlation\": [{\"categories\": [\"0\", \"1\", \"3\", \"4\", \"5\", \"6\", \"7\", \"8\", \"9\", \"10\", \"11\", \"12\", \"13\", \"14\", \"15\", \"16\", \"17\", \"18\", \"19\", \"20\", \"21\", \"22\", \"23\", \"24\", \"25\", \"26\", \"27\", \"28\", \"29\", \"30\", \"31\", \"32\", \"33\", \"34\", \"38\", \"39\"], \"mode\": \"markers\", \"name\": \"matthews_correlation\", \"stepped\": false, \"type\": \"scatter\", \"data\": [0.23344008772741398, 0.37716159752821304, 0.5355594835745913, 0.0, 0.45746841368246954, 0.5365482334390379, 0.4911855535615005, 0.4932131547449581, 0.4328421075644777, 0.41793168933908165, 0.4208606268742135, 0.46170999262292634, 0.3684796839609461, 0.0, 0.44817549288826963, 0.40492925861386375, 0.4058868640748702, 0.4222581009809871, 0.4808306840279455, 0.4155966919791496, 0.5151471372098783, 0.42892892812764133, 0.448083007932638, 0.4788596479055359, 0.0, 0.4834139069102942, 0.2787649570426779, 0.4637288563311178, 0.23159063595734566, 0.23005597940178044, 0.44668331865022587, 0.4119492084457415, 0.49526618507826237, 0.47031655385485216, 0.5730225207087318, 0.24158473872402023]}, {\"categories\": [\"0\", \"1\", \"3\", \"4\", \"5\", \"6\", \"7\", \"8\", \"9\", \"10\", \"11\", \"12\", \"13\", \"14\", \"15\", \"16\", \"17\", \"18\", \"19\", \"20\", \"21\", \"22\", \"23\", \"24\", \"25\", \"26\", \"27\", \"28\", \"29\", \"30\", \"31\", \"32\", \"33\", \"34\", \"38\", \"39\"], \"mode\": \"lines\", \"name\": \"matthews_correlation_max\", \"stepped\": true, \"type\": \"scatter\", \"data\": [0.23344008772741398, 0.37716159752821304, 0.5355594835745913, 0.5355594835745913, 0.5355594835745913, 0.5365482334390379, 0.5365482334390379, 0.5365482334390379, 0.5365482334390379, 0.5365482334390379, 0.5365482334390379, 0.5365482334390379, 0.5365482334390379, 0.5365482334390379, 0.5365482334390379, 0.5365482334390379, 0.5365482334390379, 0.5365482334390379, 0.5365482334390379, 0.5365482334390379, 0.5365482334390379, 0.5365482334390379, 0.5365482334390379, 0.5365482334390379, 0.5365482334390379, 0.5365482334390379, 0.5365482334390379, 0.5365482334390379, 0.5365482334390379, 0.5365482334390379, 0.5365482334390379, 0.5365482334390379, 0.5365482334390379, 0.5365482334390379, 0.5730225207087318, 0.5730225207087318]}], \"AUC_weighted\": [{\"categories\": [\"0\", \"1\", \"3\", \"4\", \"5\", \"6\", \"7\", \"8\", \"9\", \"10\", \"11\", \"12\", \"13\", \"14\", \"15\", \"16\", \"17\", \"18\", \"19\", \"20\", \"21\", \"22\", \"23\", \"24\", \"25\", \"26\", \"27\", \"28\", \"29\", \"30\", \"31\", \"32\", \"33\", \"34\", \"38\", \"39\"], \"mode\": \"markers\", \"name\": \"AUC_weighted\", \"stepped\": false, \"type\": \"scatter\", \"data\": [0.8090425175621534, 0.8202027260702931, 0.8276673842154443, 0.7740342221602594, 0.7921357213904833, 0.8349901899506338, 0.8203043038221123, 0.8138326038010701, 0.8194877047147104, 0.7823514324728369, 0.7902005395609175, 0.7985365676509257, 0.7935194213362284, 0.6434391229561016, 0.8103468781525324, 0.8178685272601498, 0.808366979597708, 0.7905661312358891, 0.812090030528924, 0.8285548069696638, 0.832598235432233, 0.8293533716185961, 0.8129056623888795, 0.8256621867621419, 0.5211642461639527, 0.821033372445279, 0.7750112106936297, 0.8312607716815803, 0.8083239176254378, 0.7109377581310049, 0.8050523181835598, 0.8154470991035856, 0.8176035603349923, 0.8330465412797936, 0.8401081422387999, 0.8182993668440031]}, {\"categories\": [\"0\", \"1\", \"3\", \"4\", \"5\", \"6\", \"7\", \"8\", \"9\", \"10\", \"11\", \"12\", \"13\", \"14\", \"15\", \"16\", \"17\", \"18\", \"19\", \"20\", \"21\", \"22\", \"23\", \"24\", \"25\", \"26\", \"27\", \"28\", \"29\", \"30\", \"31\", \"32\", \"33\", \"34\", \"38\", \"39\"], \"mode\": \"lines\", \"name\": \"AUC_weighted_max\", \"stepped\": true, \"type\": \"scatter\", \"data\": [0.8090425175621534, 0.8202027260702931, 0.8276673842154443, 0.8276673842154443, 0.8276673842154443, 0.8349901899506338, 0.8349901899506338, 0.8349901899506338, 0.8349901899506338, 0.8349901899506338, 0.8349901899506338, 0.8349901899506338, 0.8349901899506338, 0.8349901899506338, 0.8349901899506338, 0.8349901899506338, 0.8349901899506338, 0.8349901899506338, 0.8349901899506338, 0.8349901899506338, 0.8349901899506338, 0.8349901899506338, 0.8349901899506338, 0.8349901899506338, 0.8349901899506338, 0.8349901899506338, 0.8349901899506338, 0.8349901899506338, 0.8349901899506338, 0.8349901899506338, 0.8349901899506338, 0.8349901899506338, 0.8349901899506338, 0.8349901899506338, 0.8401081422387999, 0.8401081422387999]}], \"recall_score_weighted\": [{\"categories\": [\"0\", \"1\", \"3\", \"4\", \"5\", \"6\", \"7\", \"8\", \"9\", \"10\", \"11\", \"12\", \"13\", \"14\", \"15\", \"16\", \"17\", \"18\", \"19\", \"20\", \"21\", \"22\", \"23\", \"24\", \"25\", \"26\", \"27\", \"28\", \"29\", \"30\", \"31\", \"32\", \"33\", \"34\", \"38\", \"39\"], \"mode\": \"markers\", \"name\": \"recall_score_weighted\", \"stepped\": false, \"type\": \"scatter\", \"data\": [0.5730104007573646, 0.6752057596085985, 0.7642836753306309, 0.49750128486028966, 0.7260336616463584, 0.762655239959466, 0.7372255061864224, 0.7438127903610158, 0.658028887299826, 0.6518509012265914, 0.6536301925726344, 0.6767053204367922, 0.6305078012204726, 0.49750128486028966, 0.689071536127702, 0.6912620550516437, 0.6923460854283663, 0.6519684320762267, 0.7296444412331139, 0.6901749026529658, 0.7501034730858764, 0.6990906046218669, 0.7161814316632189, 0.734223908196509, 0.49750128486028966, 0.7376463869384264, 0.6029120692623584, 0.7175031244663334, 0.577186734624777, 0.5757675555383379, 0.7085545925501331, 0.6923044464127299, 0.7059333259720882, 0.7257373076302771, 0.7816025854482979, 0.5937973158549055]}, {\"categories\": [\"0\", \"1\", \"3\", \"4\", \"5\", \"6\", \"7\", \"8\", \"9\", \"10\", \"11\", \"12\", \"13\", \"14\", \"15\", \"16\", \"17\", \"18\", \"19\", \"20\", \"21\", \"22\", \"23\", \"24\", \"25\", \"26\", \"27\", \"28\", \"29\", \"30\", \"31\", \"32\", \"33\", \"34\", \"38\", \"39\"], \"mode\": \"lines\", \"name\": \"recall_score_weighted_max\", \"stepped\": true, \"type\": \"scatter\", \"data\": [0.5730104007573646, 0.6752057596085985, 0.7642836753306309, 0.7642836753306309, 0.7642836753306309, 0.7642836753306309, 0.7642836753306309, 0.7642836753306309, 0.7642836753306309, 0.7642836753306309, 0.7642836753306309, 0.7642836753306309, 0.7642836753306309, 0.7642836753306309, 0.7642836753306309, 0.7642836753306309, 0.7642836753306309, 0.7642836753306309, 0.7642836753306309, 0.7642836753306309, 0.7642836753306309, 0.7642836753306309, 0.7642836753306309, 0.7642836753306309, 0.7642836753306309, 0.7642836753306309, 0.7642836753306309, 0.7642836753306309, 0.7642836753306309, 0.7642836753306309, 0.7642836753306309, 0.7642836753306309, 0.7642836753306309, 0.7642836753306309, 0.7816025854482979, 0.7816025854482979]}], \"recall_score_micro\": [{\"categories\": [\"0\", \"1\", \"3\", \"4\", \"5\", \"6\", \"7\", \"8\", \"9\", \"10\", \"11\", \"12\", \"13\", \"14\", \"15\", \"16\", \"17\", \"18\", \"19\", \"20\", \"21\", \"22\", \"23\", \"24\", \"25\", \"26\", \"27\", \"28\", \"29\", \"30\", \"31\", \"32\", \"33\", \"34\", \"38\", \"39\"], \"mode\": \"markers\", \"name\": \"recall_score_micro\", \"stepped\": false, \"type\": \"scatter\", \"data\": [0.5730104007573646, 0.6752057596085985, 0.7642836753306309, 0.49750128486028966, 0.7260336616463584, 0.762655239959466, 0.7372255061864224, 0.7438127903610158, 0.658028887299826, 0.6518509012265914, 0.6536301925726344, 0.6767053204367922, 0.6305078012204726, 0.49750128486028966, 0.689071536127702, 0.6912620550516437, 0.6923460854283663, 0.6519684320762267, 0.7296444412331139, 0.6901749026529658, 0.7501034730858764, 0.6990906046218669, 0.7161814316632189, 0.734223908196509, 0.49750128486028966, 0.7376463869384264, 0.6029120692623584, 0.7175031244663334, 0.577186734624777, 0.5757675555383379, 0.7085545925501331, 0.6923044464127299, 0.7059333259720882, 0.7257373076302771, 0.7816025854482979, 0.5937973158549055]}, {\"categories\": [\"0\", \"1\", \"3\", \"4\", \"5\", \"6\", \"7\", \"8\", \"9\", \"10\", \"11\", \"12\", \"13\", \"14\", \"15\", \"16\", \"17\", \"18\", \"19\", \"20\", \"21\", \"22\", \"23\", \"24\", \"25\", \"26\", \"27\", \"28\", \"29\", \"30\", \"31\", \"32\", \"33\", \"34\", \"38\", \"39\"], \"mode\": \"lines\", \"name\": \"recall_score_micro_max\", \"stepped\": true, \"type\": \"scatter\", \"data\": [0.5730104007573646, 0.6752057596085985, 0.7642836753306309, 0.7642836753306309, 0.7642836753306309, 0.7642836753306309, 0.7642836753306309, 0.7642836753306309, 0.7642836753306309, 0.7642836753306309, 0.7642836753306309, 0.7642836753306309, 0.7642836753306309, 0.7642836753306309, 0.7642836753306309, 0.7642836753306309, 0.7642836753306309, 0.7642836753306309, 0.7642836753306309, 0.7642836753306309, 0.7642836753306309, 0.7642836753306309, 0.7642836753306309, 0.7642836753306309, 0.7642836753306309, 0.7642836753306309, 0.7642836753306309, 0.7642836753306309, 0.7642836753306309, 0.7642836753306309, 0.7642836753306309, 0.7642836753306309, 0.7642836753306309, 0.7642836753306309, 0.7816025854482979, 0.7816025854482979]}], \"precision_score_macro\": [{\"categories\": [\"0\", \"1\", \"3\", \"4\", \"5\", \"6\", \"7\", \"8\", \"9\", \"10\", \"11\", \"12\", \"13\", \"14\", \"15\", \"16\", \"17\", \"18\", \"19\", \"20\", \"21\", \"22\", \"23\", \"24\", \"25\", \"26\", \"27\", \"28\", \"29\", \"30\", \"31\", \"32\", \"33\", \"34\", \"38\", \"39\"], \"mode\": \"markers\", \"name\": \"precision_score_macro\", \"stepped\": false, \"type\": \"scatter\", \"data\": [0.6888867299614653, 0.7006548636153643, 0.7678664327772042, 0.24875064243014147, 0.7283635398305326, 0.7694490959850542, 0.7477552028930481, 0.7462737111151565, 0.7898941446515169, 0.7808028370498495, 0.785801939312093, 0.7966114168853462, 0.7535358644566374, 0.24875064243014147, 0.7587479772974337, 0.7116335929014457, 0.7109824790047199, 0.7937897628601441, 0.7471003739021578, 0.7225013250078027, 0.7592578292253341, 0.7263871571126131, 0.7274255926829621, 0.7404695667899162, 0.24875064243014147, 0.7420575533762248, 0.6890502461057213, 0.740583776980617, 0.6748564500169385, 0.6368206022869629, 0.7289453577484819, 0.7150390877423951, 0.7936313420144262, 0.7388627176128872, 0.7869291697297661, 0.50309721740386]}, {\"categories\": [\"0\", \"1\", \"3\", \"4\", \"5\", \"6\", \"7\", \"8\", \"9\", \"10\", \"11\", \"12\", \"13\", \"14\", \"15\", \"16\", \"17\", \"18\", \"19\", \"20\", \"21\", \"22\", \"23\", \"24\", \"25\", \"26\", \"27\", \"28\", \"29\", \"30\", \"31\", \"32\", \"33\", \"34\", \"38\", \"39\"], \"mode\": \"lines\", \"name\": \"precision_score_macro_max\", \"stepped\": true, \"type\": \"scatter\", \"data\": [0.6888867299614653, 0.7006548636153643, 0.7678664327772042, 0.7678664327772042, 0.7678664327772042, 0.7694490959850542, 0.7694490959850542, 0.7694490959850542, 0.7898941446515169, 0.7898941446515169, 0.7898941446515169, 0.7966114168853462, 0.7966114168853462, 0.7966114168853462, 0.7966114168853462, 0.7966114168853462, 0.7966114168853462, 0.7966114168853462, 0.7966114168853462, 0.7966114168853462, 0.7966114168853462, 0.7966114168853462, 0.7966114168853462, 0.7966114168853462, 0.7966114168853462, 0.7966114168853462, 0.7966114168853462, 0.7966114168853462, 0.7966114168853462, 0.7966114168853462, 0.7966114168853462, 0.7966114168853462, 0.7966114168853462, 0.7966114168853462, 0.7966114168853462, 0.7966114168853462]}], \"precision_score_micro\": [{\"categories\": [\"0\", \"1\", \"3\", \"4\", \"5\", \"6\", \"7\", \"8\", \"9\", \"10\", \"11\", \"12\", \"13\", \"14\", \"15\", \"16\", \"17\", \"18\", \"19\", \"20\", \"21\", \"22\", \"23\", \"24\", \"25\", \"26\", \"27\", \"28\", \"29\", \"30\", \"31\", \"32\", \"33\", \"34\", \"38\", \"39\"], \"mode\": \"markers\", \"name\": \"precision_score_micro\", \"stepped\": false, \"type\": \"scatter\", \"data\": [0.5730104007573582, 0.6752057596085974, 0.7642836753306321, 0.49750128486028294, 0.7260336616463587, 0.762655239959467, 0.7372255061864239, 0.7438127903610163, 0.6580288872998228, 0.6518509012265896, 0.6536301925726309, 0.6767053204367902, 0.6305078012204708, 0.49750128486028294, 0.6890715361277027, 0.6912620550516422, 0.6923460854283647, 0.6519684320762229, 0.7296444412331158, 0.6901749026529642, 0.7501034730858775, 0.699090604621865, 0.716181431663218, 0.7342239081965088, 0.49750128486028294, 0.737646386938426, 0.6029120692623529, 0.7175031244663321, 0.5771867346247705, 0.5757675555383361, 0.7085545925501333, 0.6923044464127287, 0.7059333259720891, 0.7257373076302766, 0.7816025854482991, 0.5937973158549036]}, {\"categories\": [\"0\", \"1\", \"3\", \"4\", \"5\", \"6\", \"7\", \"8\", \"9\", \"10\", \"11\", \"12\", \"13\", \"14\", \"15\", \"16\", \"17\", \"18\", \"19\", \"20\", \"21\", \"22\", \"23\", \"24\", \"25\", \"26\", \"27\", \"28\", \"29\", \"30\", \"31\", \"32\", \"33\", \"34\", \"38\", \"39\"], \"mode\": \"lines\", \"name\": \"precision_score_micro_max\", \"stepped\": true, \"type\": \"scatter\", \"data\": [0.5730104007573582, 0.6752057596085974, 0.7642836753306321, 0.7642836753306321, 0.7642836753306321, 0.7642836753306321, 0.7642836753306321, 0.7642836753306321, 0.7642836753306321, 0.7642836753306321, 0.7642836753306321, 0.7642836753306321, 0.7642836753306321, 0.7642836753306321, 0.7642836753306321, 0.7642836753306321, 0.7642836753306321, 0.7642836753306321, 0.7642836753306321, 0.7642836753306321, 0.7642836753306321, 0.7642836753306321, 0.7642836753306321, 0.7642836753306321, 0.7642836753306321, 0.7642836753306321, 0.7642836753306321, 0.7642836753306321, 0.7642836753306321, 0.7642836753306321, 0.7642836753306321, 0.7642836753306321, 0.7642836753306321, 0.7642836753306321, 0.7816025854482991, 0.7816025854482991]}], \"f1_score_macro\": [{\"categories\": [\"0\", \"1\", \"3\", \"4\", \"5\", \"6\", \"7\", \"8\", \"9\", \"10\", \"11\", \"12\", \"13\", \"14\", \"15\", \"16\", \"17\", \"18\", \"19\", \"20\", \"21\", \"22\", \"23\", \"24\", \"25\", \"26\", \"27\", \"28\", \"29\", \"30\", \"31\", \"32\", \"33\", \"34\", \"38\", \"39\"], \"mode\": \"markers\", \"name\": \"f1_score_macro\", \"stepped\": false, \"type\": \"scatter\", \"data\": [0.4917598240742639, 0.6648447692025095, 0.7640483558845301, 0.33180764692732817, 0.7259831311936507, 0.762255660475349, 0.7367743826868578, 0.7437206524348883, 0.6163234554501071, 0.6080604819874642, 0.608546518226978, 0.6419410304377811, 0.5831914283679973, 0.33180764692732817, 0.6696324482539203, 0.683990723909765, 0.6860225304601741, 0.6032675988968357, 0.7262190598566707, 0.6790108491226261, 0.7497745452982121, 0.6904344419264771, 0.7139421644335058, 0.7335790364405159, 0.33180764692732817, 0.7372354689871075, 0.5507601481531689, 0.7116065264309648, 0.5070852158896562, 0.5423471419758829, 0.7054090807547867, 0.6844000587102521, 0.6831718932407699, 0.7233862104609875, 0.7814966609184791, 0.5097891329243991]}, {\"categories\": [\"0\", \"1\", \"3\", \"4\", \"5\", \"6\", \"7\", \"8\", \"9\", \"10\", \"11\", \"12\", \"13\", \"14\", \"15\", \"16\", \"17\", \"18\", \"19\", \"20\", \"21\", \"22\", \"23\", \"24\", \"25\", \"26\", \"27\", \"28\", \"29\", \"30\", \"31\", \"32\", \"33\", \"34\", \"38\", \"39\"], \"mode\": \"lines\", \"name\": \"f1_score_macro_max\", \"stepped\": true, \"type\": \"scatter\", \"data\": [0.4917598240742639, 0.6648447692025095, 0.7640483558845301, 0.7640483558845301, 0.7640483558845301, 0.7640483558845301, 0.7640483558845301, 0.7640483558845301, 0.7640483558845301, 0.7640483558845301, 0.7640483558845301, 0.7640483558845301, 0.7640483558845301, 0.7640483558845301, 0.7640483558845301, 0.7640483558845301, 0.7640483558845301, 0.7640483558845301, 0.7640483558845301, 0.7640483558845301, 0.7640483558845301, 0.7640483558845301, 0.7640483558845301, 0.7640483558845301, 0.7640483558845301, 0.7640483558845301, 0.7640483558845301, 0.7640483558845301, 0.7640483558845301, 0.7640483558845301, 0.7640483558845301, 0.7640483558845301, 0.7640483558845301, 0.7640483558845301, 0.7814966609184791, 0.7814966609184791]}], \"accuracy\": [{\"categories\": [\"0\", \"1\", \"3\", \"4\", \"5\", \"6\", \"7\", \"8\", \"9\", \"10\", \"11\", \"12\", \"13\", \"14\", \"15\", \"16\", \"17\", \"18\", \"19\", \"20\", \"21\", \"22\", \"23\", \"24\", \"25\", \"26\", \"27\", \"28\", \"29\", \"30\", \"31\", \"32\", \"33\", \"34\", \"38\", \"39\"], \"mode\": \"markers\", \"name\": \"accuracy\", \"stepped\": false, \"type\": \"scatter\", \"data\": [0.5730104007573629, 0.6752057596086014, 0.7642836753306377, 0.4975012848602931, 0.7260336616463654, 0.7626552399594733, 0.7372255061864299, 0.7438127903610227, 0.658028887299831, 0.6518509012265973, 0.6536301925726391, 0.676705320436798, 0.6305078012204783, 0.4975012848602931, 0.68907153612771, 0.6912620550516471, 0.6923460854283698, 0.6519684320762313, 0.729644441233124, 0.6901749026529682, 0.7501034730858837, 0.6990906046218698, 0.7161814316632236, 0.7342239081965143, 0.4975012848602931, 0.737646386938432, 0.6029120692623577, 0.7175031244663368, 0.5771867346247758, 0.5757675555383418, 0.7085545925501389, 0.6923044464127333, 0.7059333259720959, 0.7257373076302818, 0.7816025854483042, 0.5937973158549115]}, {\"categories\": [\"0\", \"1\", \"3\", \"4\", \"5\", \"6\", \"7\", \"8\", \"9\", \"10\", \"11\", \"12\", \"13\", \"14\", \"15\", \"16\", \"17\", \"18\", \"19\", \"20\", \"21\", \"22\", \"23\", \"24\", \"25\", \"26\", \"27\", \"28\", \"29\", \"30\", \"31\", \"32\", \"33\", \"34\", \"38\", \"39\"], \"mode\": \"lines\", \"name\": \"accuracy_max\", \"stepped\": true, \"type\": \"scatter\", \"data\": [0.5730104007573629, 0.6752057596086014, 0.7642836753306377, 0.7642836753306377, 0.7642836753306377, 0.7642836753306377, 0.7642836753306377, 0.7642836753306377, 0.7642836753306377, 0.7642836753306377, 0.7642836753306377, 0.7642836753306377, 0.7642836753306377, 0.7642836753306377, 0.7642836753306377, 0.7642836753306377, 0.7642836753306377, 0.7642836753306377, 0.7642836753306377, 0.7642836753306377, 0.7642836753306377, 0.7642836753306377, 0.7642836753306377, 0.7642836753306377, 0.7642836753306377, 0.7642836753306377, 0.7642836753306377, 0.7642836753306377, 0.7642836753306377, 0.7642836753306377, 0.7642836753306377, 0.7642836753306377, 0.7642836753306377, 0.7642836753306377, 0.7816025854483042, 0.7816025854483042]}], \"weighted_accuracy\": [{\"categories\": [\"0\", \"1\", \"3\", \"4\", \"5\", \"6\", \"7\", \"8\", \"9\", \"10\", \"11\", \"12\", \"13\", \"14\", \"15\", \"16\", \"17\", \"18\", \"19\", \"20\", \"21\", \"22\", \"23\", \"24\", \"25\", \"26\", \"27\", \"28\", \"29\", \"30\", \"31\", \"32\", \"33\", \"34\", \"38\", \"39\"], \"mode\": \"markers\", \"name\": \"weighted_accuracy\", \"stepped\": false, \"type\": \"scatter\", \"data\": [0.9648781749969693, 0.8479476708580691, 0.7349541966189543, 0.0027670854378558764, 0.7234839174696732, 0.7206901344379448, 0.7046491581076987, 0.731200023285842, 0.330402887400139, 0.33437917466297323, 0.3171079093137976, 0.36606641461247164, 0.31289090585795754, 0.0027670854378558764, 0.4517602577572144, 0.839813849295405, 0.8313951513147857, 0.30702067276573275, 0.6185093871596095, 0.8691009066054491, 0.719634457271038, 0.859218007299163, 0.8003059862633926, 0.7813973319674747, 0.0027670854378558764, 0.7742147800189685, 0.9387381078643251, 0.8441648377017391, 0.9491305221920608, 0.6529685897124912, 0.765353364237098, 0.8377708458341495, 0.43897773655140715, 0.8055874451277172, 0.7585481815406662, 0.24291473130459337]}, {\"categories\": [\"0\", \"1\", \"3\", \"4\", \"5\", \"6\", \"7\", \"8\", \"9\", \"10\", \"11\", \"12\", \"13\", \"14\", \"15\", \"16\", \"17\", \"18\", \"19\", \"20\", \"21\", \"22\", \"23\", \"24\", \"25\", \"26\", \"27\", \"28\", \"29\", \"30\", \"31\", \"32\", \"33\", \"34\", \"38\", \"39\"], \"mode\": \"lines\", \"name\": \"weighted_accuracy_max\", \"stepped\": true, \"type\": \"scatter\", \"data\": [0.9648781749969693, 0.9648781749969693, 0.9648781749969693, 0.9648781749969693, 0.9648781749969693, 0.9648781749969693, 0.9648781749969693, 0.9648781749969693, 0.9648781749969693, 0.9648781749969693, 0.9648781749969693, 0.9648781749969693, 0.9648781749969693, 0.9648781749969693, 0.9648781749969693, 0.9648781749969693, 0.9648781749969693, 0.9648781749969693, 0.9648781749969693, 0.9648781749969693, 0.9648781749969693, 0.9648781749969693, 0.9648781749969693, 0.9648781749969693, 0.9648781749969693, 0.9648781749969693, 0.9648781749969693, 0.9648781749969693, 0.9648781749969693, 0.9648781749969693, 0.9648781749969693, 0.9648781749969693, 0.9648781749969693, 0.9648781749969693, 0.9648781749969693, 0.9648781749969693]}], \"AUC_micro\": [{\"categories\": [\"0\", \"1\", \"3\", \"4\", \"5\", \"6\", \"7\", \"8\", \"9\", \"10\", \"11\", \"12\", \"13\", \"14\", \"15\", \"16\", \"17\", \"18\", \"19\", \"20\", \"21\", \"22\", \"23\", \"24\", \"25\", \"26\", \"27\", \"28\", \"29\", \"30\", \"31\", \"32\", \"33\", \"34\", \"38\", \"39\"], \"mode\": \"markers\", \"name\": \"AUC_micro\", \"stepped\": false, \"type\": \"scatter\", \"data\": [0.6729664393531285, 0.770356394848107, 0.8207569522867826, 0.6337590532027129, 0.7848396639639459, 0.8295531757003093, 0.8100776097056952, 0.8029486514733728, 0.7110328000509782, 0.6747122897481057, 0.6802795336673926, 0.6816941168602857, 0.6964330268631245, 0.5687927616386101, 0.7581913367157282, 0.7750257634795271, 0.7681042536724456, 0.69852649459344, 0.8056303063159471, 0.7666337986581324, 0.8240529043509142, 0.7738749065365651, 0.7858441622317879, 0.8087377679400358, 0.5080323102059223, 0.8096213353669113, 0.6732881365549386, 0.7862655361622339, 0.6810377852591774, 0.6351407116165257, 0.7701368964760817, 0.7654140174055825, 0.7856687242586451, 0.8079718102598212, 0.829758461030529, 0.6881411748391975]}, {\"categories\": [\"0\", \"1\", \"3\", \"4\", \"5\", \"6\", \"7\", \"8\", \"9\", \"10\", \"11\", \"12\", \"13\", \"14\", \"15\", \"16\", \"17\", \"18\", \"19\", \"20\", \"21\", \"22\", \"23\", \"24\", \"25\", \"26\", \"27\", \"28\", \"29\", \"30\", \"31\", \"32\", \"33\", \"34\", \"38\", \"39\"], \"mode\": \"lines\", \"name\": \"AUC_micro_max\", \"stepped\": true, \"type\": \"scatter\", \"data\": [0.6729664393531285, 0.770356394848107, 0.8207569522867826, 0.8207569522867826, 0.8207569522867826, 0.8295531757003093, 0.8295531757003093, 0.8295531757003093, 0.8295531757003093, 0.8295531757003093, 0.8295531757003093, 0.8295531757003093, 0.8295531757003093, 0.8295531757003093, 0.8295531757003093, 0.8295531757003093, 0.8295531757003093, 0.8295531757003093, 0.8295531757003093, 0.8295531757003093, 0.8295531757003093, 0.8295531757003093, 0.8295531757003093, 0.8295531757003093, 0.8295531757003093, 0.8295531757003093, 0.8295531757003093, 0.8295531757003093, 0.8295531757003093, 0.8295531757003093, 0.8295531757003093, 0.8295531757003093, 0.8295531757003093, 0.8295531757003093, 0.829758461030529, 0.829758461030529]}], \"recall_score_macro\": [{\"categories\": [\"0\", \"1\", \"3\", \"4\", \"5\", \"6\", \"7\", \"8\", \"9\", \"10\", \"11\", \"12\", \"13\", \"14\", \"15\", \"16\", \"17\", \"18\", \"19\", \"20\", \"21\", \"22\", \"23\", \"24\", \"25\", \"26\", \"27\", \"28\", \"29\", \"30\", \"31\", \"32\", \"33\", \"34\", \"38\", \"39\"], \"mode\": \"markers\", \"name\": \"recall_score_macro\", \"stepped\": false, \"type\": \"scatter\", \"data\": [0.5749221382395291, 0.6773141731995909, 0.7676946556417839, 0.5, 0.7291054759436706, 0.7671140767223894, 0.7434687290588331, 0.7469401145066265, 0.6618270568115162, 0.6589195701333614, 0.6551360659801396, 0.6797006117568135, 0.6382796366406327, 0.5, 0.6947348576250932, 0.693765424675548, 0.6952974090284183, 0.6525363201488219, 0.7339673589373157, 0.6944721529301471, 0.7559144072593327, 0.703482822409522, 0.7207773968100268, 0.7384101363533502, 0.5, 0.7413639895994342, 0.6029102924170345, 0.723853717936457, 0.5769078965256355, 0.5975911004567893, 0.7180161152455034, 0.6976431189667518, 0.7088538544330301, 0.7316236823103597, 0.7860970295061969, 0.6057053868893962]}, {\"categories\": [\"0\", \"1\", \"3\", \"4\", \"5\", \"6\", \"7\", \"8\", \"9\", \"10\", \"11\", \"12\", \"13\", \"14\", \"15\", \"16\", \"17\", \"18\", \"19\", \"20\", \"21\", \"22\", \"23\", \"24\", \"25\", \"26\", \"27\", \"28\", \"29\", \"30\", \"31\", \"32\", \"33\", \"34\", \"38\", \"39\"], \"mode\": \"lines\", \"name\": \"recall_score_macro_max\", \"stepped\": true, \"type\": \"scatter\", \"data\": [0.5749221382395291, 0.6773141731995909, 0.7676946556417839, 0.7676946556417839, 0.7676946556417839, 0.7676946556417839, 0.7676946556417839, 0.7676946556417839, 0.7676946556417839, 0.7676946556417839, 0.7676946556417839, 0.7676946556417839, 0.7676946556417839, 0.7676946556417839, 0.7676946556417839, 0.7676946556417839, 0.7676946556417839, 0.7676946556417839, 0.7676946556417839, 0.7676946556417839, 0.7676946556417839, 0.7676946556417839, 0.7676946556417839, 0.7676946556417839, 0.7676946556417839, 0.7676946556417839, 0.7676946556417839, 0.7676946556417839, 0.7676946556417839, 0.7676946556417839, 0.7676946556417839, 0.7676946556417839, 0.7676946556417839, 0.7676946556417839, 0.7860970295061969, 0.7860970295061969]}], \"average_precision_score_micro\": [{\"categories\": [\"0\", \"1\", \"3\", \"4\", \"5\", \"6\", \"7\", \"8\", \"9\", \"10\", \"11\", \"12\", \"13\", \"14\", \"15\", \"16\", \"17\", \"18\", \"19\", \"20\", \"21\", \"22\", \"23\", \"24\", \"25\", \"26\", \"27\", \"28\", \"29\", \"30\", \"31\", \"32\", \"33\", \"34\", \"38\", \"39\"], \"mode\": \"markers\", \"name\": \"average_precision_score_micro\", \"stepped\": false, \"type\": \"scatter\", \"data\": [0.7049943722892068, 0.7838022297591904, 0.8176054027058735, 0.6375608289434043, 0.7821534469896794, 0.83094936267797, 0.8153640895236595, 0.8078795826886929, 0.7035802302316595, 0.661535820594942, 0.6706410314006008, 0.6694772873827743, 0.6723899990886206, 0.5646709847146387, 0.7359575543800174, 0.7809298000884505, 0.7697409695499264, 0.6826869513333104, 0.8036828288874176, 0.7813627415589999, 0.8261458323559971, 0.7860811063642837, 0.7888639177589379, 0.815266778597221, 0.511109770610426, 0.8111657704015116, 0.704021640621763, 0.7919378482888648, 0.7121609249492026, 0.6247960594544428, 0.7576454027037103, 0.7774024959516912, 0.7659668671945663, 0.8137612660869246, 0.830531411710689, 0.6802549917662625]}, {\"categories\": [\"0\", \"1\", \"3\", \"4\", \"5\", \"6\", \"7\", \"8\", \"9\", \"10\", \"11\", \"12\", \"13\", \"14\", \"15\", \"16\", \"17\", \"18\", \"19\", \"20\", \"21\", \"22\", \"23\", \"24\", \"25\", \"26\", \"27\", \"28\", \"29\", \"30\", \"31\", \"32\", \"33\", \"34\", \"38\", \"39\"], \"mode\": \"lines\", \"name\": \"average_precision_score_micro_max\", \"stepped\": true, \"type\": \"scatter\", \"data\": [0.7049943722892068, 0.7838022297591904, 0.8176054027058735, 0.8176054027058735, 0.8176054027058735, 0.83094936267797, 0.83094936267797, 0.83094936267797, 0.83094936267797, 0.83094936267797, 0.83094936267797, 0.83094936267797, 0.83094936267797, 0.83094936267797, 0.83094936267797, 0.83094936267797, 0.83094936267797, 0.83094936267797, 0.83094936267797, 0.83094936267797, 0.83094936267797, 0.83094936267797, 0.83094936267797, 0.83094936267797, 0.83094936267797, 0.83094936267797, 0.83094936267797, 0.83094936267797, 0.83094936267797, 0.83094936267797, 0.83094936267797, 0.83094936267797, 0.83094936267797, 0.83094936267797, 0.83094936267797, 0.83094936267797]}], \"average_precision_score_macro\": [{\"categories\": [\"0\", \"1\", \"3\", \"4\", \"5\", \"6\", \"7\", \"8\", \"9\", \"10\", \"11\", \"12\", \"13\", \"14\", \"15\", \"16\", \"17\", \"18\", \"19\", \"20\", \"21\", \"22\", \"23\", \"24\", \"25\", \"26\", \"27\", \"28\", \"29\", \"30\", \"31\", \"32\", \"33\", \"34\", \"38\", \"39\"], \"mode\": \"markers\", \"name\": \"average_precision_score_macro\", \"stepped\": false, \"type\": \"scatter\", \"data\": [0.8006368888730386, 0.8155485867456645, 0.8175888974707102, 0.7702733127065786, 0.7787238067004343, 0.8235370129846663, 0.8177956280154719, 0.8117786253437782, 0.8148100371487044, 0.7743355890271764, 0.7886622713786542, 0.7889356585806806, 0.7683422112525011, 0.6223621295150863, 0.80097556780272, 0.8071974571688363, 0.7914737730672289, 0.7855193828350926, 0.7983314854716079, 0.8230780562023561, 0.8236989763638214, 0.8239901051555627, 0.8015065216700257, 0.8201814047424854, 0.5132424356951162, 0.8090485287772704, 0.777558255690658, 0.8171658005077964, 0.7999064060664616, 0.688937914570485, 0.7860993750719889, 0.8100591076169819, 0.8110857406259555, 0.8234642771645294, 0.8269166296148432, 0.8029027285522274]}, {\"categories\": [\"0\", \"1\", \"3\", \"4\", \"5\", \"6\", \"7\", \"8\", \"9\", \"10\", \"11\", \"12\", \"13\", \"14\", \"15\", \"16\", \"17\", \"18\", \"19\", \"20\", \"21\", \"22\", \"23\", \"24\", \"25\", \"26\", \"27\", \"28\", \"29\", \"30\", \"31\", \"32\", \"33\", \"34\", \"38\", \"39\"], \"mode\": \"lines\", \"name\": \"average_precision_score_macro_max\", \"stepped\": true, \"type\": \"scatter\", \"data\": [0.8006368888730386, 0.8155485867456645, 0.8175888974707102, 0.8175888974707102, 0.8175888974707102, 0.8235370129846663, 0.8235370129846663, 0.8235370129846663, 0.8235370129846663, 0.8235370129846663, 0.8235370129846663, 0.8235370129846663, 0.8235370129846663, 0.8235370129846663, 0.8235370129846663, 0.8235370129846663, 0.8235370129846663, 0.8235370129846663, 0.8235370129846663, 0.8235370129846663, 0.8236989763638214, 0.8239901051555627, 0.8239901051555627, 0.8239901051555627, 0.8239901051555627, 0.8239901051555627, 0.8239901051555627, 0.8239901051555627, 0.8239901051555627, 0.8239901051555627, 0.8239901051555627, 0.8239901051555627, 0.8239901051555627, 0.8239901051555627, 0.8269166296148432, 0.8269166296148432]}], \"f1_score_weighted\": [{\"categories\": [\"0\", \"1\", \"3\", \"4\", \"5\", \"6\", \"7\", \"8\", \"9\", \"10\", \"11\", \"12\", \"13\", \"14\", \"15\", \"16\", \"17\", \"18\", \"19\", \"20\", \"21\", \"22\", \"23\", \"24\", \"25\", \"26\", \"27\", \"28\", \"29\", \"30\", \"31\", \"32\", \"33\", \"34\", \"38\", \"39\"], \"mode\": \"markers\", \"name\": \"f1_score_weighted\", \"stepped\": false, \"type\": \"scatter\", \"data\": [0.48982074904338785, 0.664977386910558, 0.7643000277073319, 0.3313872758659141, 0.7262550147659961, 0.7622790523474652, 0.7362629939214673, 0.7439839448494974, 0.6150737448821575, 0.604267808641865, 0.6092698359300746, 0.6414339872065005, 0.5791580282056146, 0.3313872758659141, 0.668433669453437, 0.6839840350748245, 0.6859491678184726, 0.6047024977283189, 0.726148879361685, 0.6780721631864269, 0.7494025539274273, 0.6896191673210157, 0.7135573456930405, 0.7334736369826924, 0.3313872758659141, 0.7372194518372615, 0.5513192573513678, 0.7103246674518152, 0.5077362885475005, 0.5336288915412541, 0.7035847185637293, 0.6831442040212742, 0.683153763506291, 0.7225676367667472, 0.781508647138021, 0.5001245722474614]}, {\"categories\": [\"0\", \"1\", \"3\", \"4\", \"5\", \"6\", \"7\", \"8\", \"9\", \"10\", \"11\", \"12\", \"13\", \"14\", \"15\", \"16\", \"17\", \"18\", \"19\", \"20\", \"21\", \"22\", \"23\", \"24\", \"25\", \"26\", \"27\", \"28\", \"29\", \"30\", \"31\", \"32\", \"33\", \"34\", \"38\", \"39\"], \"mode\": \"lines\", \"name\": \"f1_score_weighted_max\", \"stepped\": true, \"type\": \"scatter\", \"data\": [0.48982074904338785, 0.664977386910558, 0.7643000277073319, 0.7643000277073319, 0.7643000277073319, 0.7643000277073319, 0.7643000277073319, 0.7643000277073319, 0.7643000277073319, 0.7643000277073319, 0.7643000277073319, 0.7643000277073319, 0.7643000277073319, 0.7643000277073319, 0.7643000277073319, 0.7643000277073319, 0.7643000277073319, 0.7643000277073319, 0.7643000277073319, 0.7643000277073319, 0.7643000277073319, 0.7643000277073319, 0.7643000277073319, 0.7643000277073319, 0.7643000277073319, 0.7643000277073319, 0.7643000277073319, 0.7643000277073319, 0.7643000277073319, 0.7643000277073319, 0.7643000277073319, 0.7643000277073319, 0.7643000277073319, 0.7643000277073319, 0.781508647138021, 0.781508647138021]}], \"average_precision_score_weighted\": [{\"categories\": [\"0\", \"1\", \"3\", \"4\", \"5\", \"6\", \"7\", \"8\", \"9\", \"10\", \"11\", \"12\", \"13\", \"14\", \"15\", \"16\", \"17\", \"18\", \"19\", \"20\", \"21\", \"22\", \"23\", \"24\", \"25\", \"26\", \"27\", \"28\", \"29\", \"30\", \"31\", \"32\", \"33\", \"34\", \"38\", \"39\"], \"mode\": \"markers\", \"name\": \"average_precision_score_weighted\", \"stepped\": false, \"type\": \"scatter\", \"data\": [0.8020052843063881, 0.8171893954254097, 0.8191080921046451, 0.7715811594521517, 0.7808447631243272, 0.8247539693053666, 0.8188501713023338, 0.8129056075291413, 0.8157670677626773, 0.7761173131581762, 0.7898478805386924, 0.7908372246849261, 0.7703096567891399, 0.6258901607054005, 0.802521117582264, 0.809008462948914, 0.7933421887188947, 0.7877548413896297, 0.799921255811049, 0.8240358637810077, 0.8250572496841938, 0.8248108960505747, 0.8029247144411289, 0.8212250941843776, 0.5160003962367761, 0.8108408197941226, 0.7789582258086925, 0.8189194122128757, 0.8013146181144596, 0.6917757420837681, 0.7883863366232261, 0.8113412948438425, 0.8118009086181608, 0.8247238599172653, 0.8282914501939123, 0.8044053332455663]}, {\"categories\": [\"0\", \"1\", \"3\", \"4\", \"5\", \"6\", \"7\", \"8\", \"9\", \"10\", \"11\", \"12\", \"13\", \"14\", \"15\", \"16\", \"17\", \"18\", \"19\", \"20\", \"21\", \"22\", \"23\", \"24\", \"25\", \"26\", \"27\", \"28\", \"29\", \"30\", \"31\", \"32\", \"33\", \"34\", \"38\", \"39\"], \"mode\": \"lines\", \"name\": \"average_precision_score_weighted_max\", \"stepped\": true, \"type\": \"scatter\", \"data\": [0.8020052843063881, 0.8171893954254097, 0.8191080921046451, 0.8191080921046451, 0.8191080921046451, 0.8247539693053666, 0.8247539693053666, 0.8247539693053666, 0.8247539693053666, 0.8247539693053666, 0.8247539693053666, 0.8247539693053666, 0.8247539693053666, 0.8247539693053666, 0.8247539693053666, 0.8247539693053666, 0.8247539693053666, 0.8247539693053666, 0.8247539693053666, 0.8247539693053666, 0.8250572496841938, 0.8250572496841938, 0.8250572496841938, 0.8250572496841938, 0.8250572496841938, 0.8250572496841938, 0.8250572496841938, 0.8250572496841938, 0.8250572496841938, 0.8250572496841938, 0.8250572496841938, 0.8250572496841938, 0.8250572496841938, 0.8250572496841938, 0.8282914501939123, 0.8282914501939123]}], \"f1_score_micro\": [{\"categories\": [\"0\", \"1\", \"3\", \"4\", \"5\", \"6\", \"7\", \"8\", \"9\", \"10\", \"11\", \"12\", \"13\", \"14\", \"15\", \"16\", \"17\", \"18\", \"19\", \"20\", \"21\", \"22\", \"23\", \"24\", \"25\", \"26\", \"27\", \"28\", \"29\", \"30\", \"31\", \"32\", \"33\", \"34\", \"38\", \"39\"], \"mode\": \"markers\", \"name\": \"f1_score_micro\", \"stepped\": false, \"type\": \"scatter\", \"data\": [0.5730104007573614, 0.6752057596085979, 0.7642836753306316, 0.49750128486028633, 0.7260336616463585, 0.7626552399594666, 0.737225506186423, 0.743812790361016, 0.6580288872998244, 0.6518509012265905, 0.6536301925726327, 0.6767053204367912, 0.6305078012204717, 0.49750128486028633, 0.6890715361277023, 0.691262055051643, 0.6923460854283654, 0.6519684320762248, 0.7296444412331149, 0.690174902652965, 0.750103473085877, 0.6990906046218659, 0.7161814316632183, 0.734223908196509, 0.49750128486028633, 0.7376463869384261, 0.6029120692623555, 0.7175031244663328, 0.5771867346247737, 0.575767555538337, 0.7085545925501332, 0.6923044464127293, 0.7059333259720887, 0.7257373076302769, 0.7816025854482984, 0.5937973158549046]}, {\"categories\": [\"0\", \"1\", \"3\", \"4\", \"5\", \"6\", \"7\", \"8\", \"9\", \"10\", \"11\", \"12\", \"13\", \"14\", \"15\", \"16\", \"17\", \"18\", \"19\", \"20\", \"21\", \"22\", \"23\", \"24\", \"25\", \"26\", \"27\", \"28\", \"29\", \"30\", \"31\", \"32\", \"33\", \"34\", \"38\", \"39\"], \"mode\": \"lines\", \"name\": \"f1_score_micro_max\", \"stepped\": true, \"type\": \"scatter\", \"data\": [0.5730104007573614, 0.6752057596085979, 0.7642836753306316, 0.7642836753306316, 0.7642836753306316, 0.7642836753306316, 0.7642836753306316, 0.7642836753306316, 0.7642836753306316, 0.7642836753306316, 0.7642836753306316, 0.7642836753306316, 0.7642836753306316, 0.7642836753306316, 0.7642836753306316, 0.7642836753306316, 0.7642836753306316, 0.7642836753306316, 0.7642836753306316, 0.7642836753306316, 0.7642836753306316, 0.7642836753306316, 0.7642836753306316, 0.7642836753306316, 0.7642836753306316, 0.7642836753306316, 0.7642836753306316, 0.7642836753306316, 0.7642836753306316, 0.7642836753306316, 0.7642836753306316, 0.7642836753306316, 0.7642836753306316, 0.7642836753306316, 0.7816025854482984, 0.7816025854482984]}], \"log_loss\": [{\"categories\": [\"0\", \"1\", \"3\", \"4\", \"5\", \"6\", \"7\", \"8\", \"9\", \"10\", \"11\", \"12\", \"13\", \"14\", \"15\", \"16\", \"17\", \"18\", \"19\", \"20\", \"21\", \"22\", \"23\", \"24\", \"25\", \"26\", \"27\", \"28\", \"29\", \"30\", \"31\", \"32\", \"33\", \"34\", \"38\", \"39\"], \"mode\": \"markers\", \"name\": \"log_loss\", \"stepped\": false, \"type\": \"scatter\", \"data\": [1.7381390512938562, 0.6292087907440669, 0.5149893239564187, 1.155328493997536, 0.5620755887155242, 0.5015674647910096, 0.534640510397236, 0.5378020477352671, 0.8792890287942132, 0.9296233627328883, 0.9142071288427561, 1.0111932718765575, 4.4950685106434545, 1.492299905784496, 0.6344893359681603, 0.5787140975813073, 0.7531772918890962, 0.8489970988477882, 0.5773122747820899, 0.6387035144037987, 0.5309232211591102, 0.6213031186397409, 0.5614309027626705, 0.5281389175165968, 1.5353149455031851, 0.6094607948100068, 1.1041009661679295, 0.5654151866035628, 1.142142311192406, 0.67195421430076, 0.6115941284294657, 0.6339038010757452, 0.7355820448570337, 0.5371498136178657, 0.522885438825722, 2.239160418260761]}, {\"categories\": [\"0\", \"1\", \"3\", \"4\", \"5\", \"6\", \"7\", \"8\", \"9\", \"10\", \"11\", \"12\", \"13\", \"14\", \"15\", \"16\", \"17\", \"18\", \"19\", \"20\", \"21\", \"22\", \"23\", \"24\", \"25\", \"26\", \"27\", \"28\", \"29\", \"30\", \"31\", \"32\", \"33\", \"34\", \"38\", \"39\"], \"mode\": \"lines\", \"name\": \"log_loss_min\", \"stepped\": true, \"type\": \"scatter\", \"data\": [1.7381390512938562, 0.6292087907440669, 0.5149893239564187, 0.5149893239564187, 0.5149893239564187, 0.5015674647910096, 0.5015674647910096, 0.5015674647910096, 0.5015674647910096, 0.5015674647910096, 0.5015674647910096, 0.5015674647910096, 0.5015674647910096, 0.5015674647910096, 0.5015674647910096, 0.5015674647910096, 0.5015674647910096, 0.5015674647910096, 0.5015674647910096, 0.5015674647910096, 0.5015674647910096, 0.5015674647910096, 0.5015674647910096, 0.5015674647910096, 0.5015674647910096, 0.5015674647910096, 0.5015674647910096, 0.5015674647910096, 0.5015674647910096, 0.5015674647910096, 0.5015674647910096, 0.5015674647910096, 0.5015674647910096, 0.5015674647910096, 0.5015674647910096, 0.5015674647910096]}], \"balanced_accuracy\": [{\"categories\": [\"0\", \"1\", \"3\", \"4\", \"5\", \"6\", \"7\", \"8\", \"9\", \"10\", \"11\", \"12\", \"13\", \"14\", \"15\", \"16\", \"17\", \"18\", \"19\", \"20\", \"21\", \"22\", \"23\", \"24\", \"25\", \"26\", \"27\", \"28\", \"29\", \"30\", \"31\", \"32\", \"33\", \"34\", \"38\", \"39\"], \"mode\": \"markers\", \"name\": \"balanced_accuracy\", \"stepped\": false, \"type\": \"scatter\", \"data\": [0.5749221382395291, 0.6773141731995909, 0.7676946556417839, 0.5, 0.7291054759436706, 0.7671140767223894, 0.7434687290588331, 0.7469401145066265, 0.6618270568115162, 0.6589195701333614, 0.6551360659801396, 0.6797006117568135, 0.6382796366406327, 0.5, 0.6947348576250932, 0.693765424675548, 0.6952974090284183, 0.6525363201488219, 0.7339673589373157, 0.6944721529301471, 0.7559144072593327, 0.703482822409522, 0.7207773968100268, 0.7384101363533502, 0.5, 0.7413639895994342, 0.6029102924170345, 0.723853717936457, 0.5769078965256355, 0.5975911004567893, 0.7180161152455034, 0.6976431189667518, 0.7088538544330301, 0.7316236823103597, 0.7860970295061969, 0.6057053868893962]}, {\"categories\": [\"0\", \"1\", \"3\", \"4\", \"5\", \"6\", \"7\", \"8\", \"9\", \"10\", \"11\", \"12\", \"13\", \"14\", \"15\", \"16\", \"17\", \"18\", \"19\", \"20\", \"21\", \"22\", \"23\", \"24\", \"25\", \"26\", \"27\", \"28\", \"29\", \"30\", \"31\", \"32\", \"33\", \"34\", \"38\", \"39\"], \"mode\": \"lines\", \"name\": \"balanced_accuracy_max\", \"stepped\": true, \"type\": \"scatter\", \"data\": [0.5749221382395291, 0.6773141731995909, 0.7676946556417839, 0.7676946556417839, 0.7676946556417839, 0.7676946556417839, 0.7676946556417839, 0.7676946556417839, 0.7676946556417839, 0.7676946556417839, 0.7676946556417839, 0.7676946556417839, 0.7676946556417839, 0.7676946556417839, 0.7676946556417839, 0.7676946556417839, 0.7676946556417839, 0.7676946556417839, 0.7676946556417839, 0.7676946556417839, 0.7676946556417839, 0.7676946556417839, 0.7676946556417839, 0.7676946556417839, 0.7676946556417839, 0.7676946556417839, 0.7676946556417839, 0.7676946556417839, 0.7676946556417839, 0.7676946556417839, 0.7676946556417839, 0.7676946556417839, 0.7676946556417839, 0.7676946556417839, 0.7860970295061969, 0.7860970295061969]}]}, \"metricName\": null, \"primaryMetricName\": \"norm_macro_recall\", \"showLegend\": false}, \"run_metrics\": [{\"name\": \"experiment_status\", \"run_id\": \"AutoML_619c1840-31e5-46ec-b705-58c2188161d7\", \"categories\": [0, 1, 2, 3, 4, 5, 6, 7, 8, 9, 10, 11, 12, 13, 14], \"series\": [{\"data\": [\"DatasetEvaluation\", \"FeaturesGeneration\", \"DatasetFeaturization\", \"DatasetFeaturizationCompleted\", \"DatasetBalancing\", \"DatasetCrossValidationSplit\", \"ModelSelection\", \"BestRunExplainModel\", \"ModelExplanationDataSetSetup\", \"PickSurrogateModel\", \"EngineeredFeatureExplanations\", \"EngineeredFeatureExplanations\", \"RawFeaturesExplanations\", \"RawFeaturesExplanations\", \"BestRunExplainModel\"]}]}, {\"name\": \"experiment_status_description\", \"run_id\": \"AutoML_619c1840-31e5-46ec-b705-58c2188161d7\", \"categories\": [0, 1, 2, 3, 4, 5, 6, 7, 8, 9, 10, 11, 12, 13, 14], \"series\": [{\"data\": [\"Gathering dataset statistics.\", \"Generating features for the dataset.\", \"Beginning to fit featurizers and featurize the dataset.\", \"Completed fit featurizers and featurizing the dataset.\", \"Performing class balancing sweeping\", \"Generating individually featurized CV splits.\", \"Beginning model selection.\", \"Best run model explanations started\", \"Model explanations data setup completed\", \"Choosing LightGBM as the surrogate model for explanations\", \"Computation of engineered features started\", \"Computation of engineered features completed\", \"Computation of raw features started\", \"Computation of raw features completed\", \"Best run model explanations completed\"]}]}, {\"name\": \"precision_score_micro\", \"run_id\": \"AutoML_619c1840-31e5-46ec-b705-58c2188161d7\", \"categories\": [0], \"series\": [{\"data\": [0.7816025854482991]}]}, {\"name\": \"recall_score_macro\", \"run_id\": \"AutoML_619c1840-31e5-46ec-b705-58c2188161d7\", \"categories\": [0], \"series\": [{\"data\": [0.7860970295061969]}]}, {\"name\": \"recall_score_micro\", \"run_id\": \"AutoML_619c1840-31e5-46ec-b705-58c2188161d7\", \"categories\": [0], \"series\": [{\"data\": [0.7816025854482979]}]}, {\"name\": \"average_precision_score_weighted\", \"run_id\": \"AutoML_619c1840-31e5-46ec-b705-58c2188161d7\", \"categories\": [0], \"series\": [{\"data\": [0.8282914501939123]}]}, {\"name\": \"weighted_accuracy\", \"run_id\": \"AutoML_619c1840-31e5-46ec-b705-58c2188161d7\", \"categories\": [0], \"series\": [{\"data\": [0.7585481815406662]}]}, {\"name\": \"precision_score_weighted\", \"run_id\": \"AutoML_619c1840-31e5-46ec-b705-58c2188161d7\", \"categories\": [0], \"series\": [{\"data\": [0.7914687244724476]}]}, {\"name\": \"f1_score_macro\", \"run_id\": \"AutoML_619c1840-31e5-46ec-b705-58c2188161d7\", \"categories\": [0], \"series\": [{\"data\": [0.7814966609184791]}]}, {\"name\": \"accuracy\", \"run_id\": \"AutoML_619c1840-31e5-46ec-b705-58c2188161d7\", \"categories\": [0], \"series\": [{\"data\": [0.7816025854483042]}]}, {\"name\": \"f1_score_weighted\", \"run_id\": \"AutoML_619c1840-31e5-46ec-b705-58c2188161d7\", \"categories\": [0], \"series\": [{\"data\": [0.781508647138021]}]}, {\"name\": \"AUC_micro\", \"run_id\": \"AutoML_619c1840-31e5-46ec-b705-58c2188161d7\", \"categories\": [0], \"series\": [{\"data\": [0.829758461030529]}]}, {\"name\": \"balanced_accuracy\", \"run_id\": \"AutoML_619c1840-31e5-46ec-b705-58c2188161d7\", \"categories\": [0], \"series\": [{\"data\": [0.7860970295061969]}]}, {\"name\": \"log_loss\", \"run_id\": \"AutoML_619c1840-31e5-46ec-b705-58c2188161d7\", \"categories\": [0], \"series\": [{\"data\": [0.522885438825722]}]}, {\"name\": \"AUC_macro\", \"run_id\": \"AutoML_619c1840-31e5-46ec-b705-58c2188161d7\", \"categories\": [0], \"series\": [{\"data\": [0.8401081422387999]}]}, {\"name\": \"average_precision_score_macro\", \"run_id\": \"AutoML_619c1840-31e5-46ec-b705-58c2188161d7\", \"categories\": [0], \"series\": [{\"data\": [0.8269166296148432]}]}, {\"name\": \"precision_score_macro\", \"run_id\": \"AutoML_619c1840-31e5-46ec-b705-58c2188161d7\", \"categories\": [0], \"series\": [{\"data\": [0.7869291697297661]}]}, {\"name\": \"f1_score_micro\", \"run_id\": \"AutoML_619c1840-31e5-46ec-b705-58c2188161d7\", \"categories\": [0], \"series\": [{\"data\": [0.7816025854482984]}]}, {\"name\": \"AUC_weighted\", \"run_id\": \"AutoML_619c1840-31e5-46ec-b705-58c2188161d7\", \"categories\": [0], \"series\": [{\"data\": [0.8401081422387999]}]}, {\"name\": \"matthews_correlation\", \"run_id\": \"AutoML_619c1840-31e5-46ec-b705-58c2188161d7\", \"categories\": [0], \"series\": [{\"data\": [0.5730225207087318]}]}, {\"name\": \"norm_macro_recall\", \"run_id\": \"AutoML_619c1840-31e5-46ec-b705-58c2188161d7\", \"categories\": [0], \"series\": [{\"data\": [0.572194059012405]}]}, {\"name\": \"average_precision_score_micro\", \"run_id\": \"AutoML_619c1840-31e5-46ec-b705-58c2188161d7\", \"categories\": [0], \"series\": [{\"data\": [0.830531411710689]}]}, {\"name\": \"recall_score_weighted\", \"run_id\": \"AutoML_619c1840-31e5-46ec-b705-58c2188161d7\", \"categories\": [0], \"series\": [{\"data\": [0.7816025854482979]}]}], \"run_logs\": \"\\nRun is completed.\", \"graph\": {}, \"widget_settings\": {\"childWidgetDisplay\": \"popup\", \"send_telemetry\": false, \"log_level\": \"INFO\", \"sdk_version\": \"1.24.0\"}, \"loading\": false}"
     },
     "metadata": {},
     "output_type": "display_data"
    },
    {
     "data": {
      "text/plain": [
       "{'runId': 'AutoML_619c1840-31e5-46ec-b705-58c2188161d7',\n",
       " 'target': 'aml-cpu-cluster',\n",
       " 'status': 'Completed',\n",
       " 'startTimeUtc': '2021-03-29T12:00:10.064383Z',\n",
       " 'endTimeUtc': '2021-03-29T12:37:58.421629Z',\n",
       " 'properties': {'num_iterations': '1000',\n",
       "  'training_type': 'TrainFull',\n",
       "  'acquisition_function': 'EI',\n",
       "  'primary_metric': 'norm_macro_recall',\n",
       "  'train_split': '0',\n",
       "  'acquisition_parameter': '0',\n",
       "  'num_cross_validation': '2',\n",
       "  'target': 'aml-cpu-cluster',\n",
       "  'AMLSettingsJsonString': '{\"path\":null,\"name\":\"aml-stroke-experiment\",\"subscription_id\":\"12cd141f-7e8d-40f4-ba6e-35b327775bd4\",\"resource_group\":\"ska_resources\",\"workspace_name\":\"capstone_project_workspace\",\"region\":\"eastus\",\"compute_target\":\"aml-cpu-cluster\",\"spark_service\":null,\"azure_service\":\"remote\",\"many_models\":false,\"pipeline_fetch_max_batch_size\":1,\"enable_batch_run\":false,\"iterations\":1000,\"primary_metric\":\"norm_macro_recall\",\"task_type\":\"classification\",\"data_script\":null,\"validation_size\":0.0,\"n_cross_validations\":2,\"y_min\":null,\"y_max\":null,\"num_classes\":null,\"featurization\":\"auto\",\"_ignore_package_version_incompatibilities\":false,\"is_timeseries\":false,\"max_cores_per_iteration\":1,\"max_concurrent_iterations\":5,\"iteration_timeout_minutes\":null,\"mem_in_mb\":null,\"enforce_time_on_windows\":false,\"experiment_timeout_minutes\":30,\"experiment_exit_score\":null,\"whitelist_models\":null,\"blacklist_algos\":[\"TensorFlowLinearClassifier\",\"TensorFlowDNN\"],\"supported_models\":[\"MultinomialNaiveBayes\",\"LightGBM\",\"TensorFlowDNN\",\"XGBoostClassifier\",\"TensorFlowLinearClassifier\",\"RandomForest\",\"DecisionTree\",\"GradientBoosting\",\"AveragedPerceptronClassifier\",\"BernoulliNaiveBayes\",\"LinearSVM\",\"SVM\",\"KNN\",\"ExtremeRandomTrees\",\"LogisticRegression\",\"SGD\"],\"private_models\":[],\"auto_blacklist\":true,\"blacklist_samples_reached\":false,\"exclude_nan_labels\":true,\"verbosity\":20,\"_debug_log\":\"azureml_automl.log\",\"show_warnings\":false,\"model_explainability\":true,\"service_url\":null,\"sdk_url\":null,\"sdk_packages\":null,\"enable_onnx_compatible_models\":false,\"enable_split_onnx_featurizer_estimator_models\":false,\"vm_type\":\"STANDARD_D2_V2\",\"telemetry_verbosity\":20,\"send_telemetry\":true,\"enable_dnn\":false,\"scenario\":\"SDK-1.13.0\",\"environment_label\":null,\"save_mlflow\":false,\"force_text_dnn\":false,\"enable_feature_sweeping\":true,\"enable_early_stopping\":true,\"early_stopping_n_iters\":10,\"metrics\":null,\"enable_metric_confidence\":false,\"enable_ensembling\":true,\"enable_stack_ensembling\":true,\"ensemble_iterations\":15,\"enable_tf\":false,\"enable_subsampling\":null,\"subsample_seed\":null,\"enable_nimbusml\":false,\"enable_streaming\":false,\"force_streaming\":false,\"track_child_runs\":true,\"allowed_private_models\":[],\"label_column_name\":\"stroke\",\"weight_column_name\":null,\"cv_split_column_names\":null,\"enable_local_managed\":false,\"_local_managed_run_id\":null,\"cost_mode\":1,\"lag_length\":0,\"metric_operation\":\"maximize\",\"preprocess\":true}',\n",
       "  'DataPrepJsonString': '{\\\\\"training_data\\\\\": \\\\\"{\\\\\\\\\\\\\"blocks\\\\\\\\\\\\\": [{\\\\\\\\\\\\\"id\\\\\\\\\\\\\": \\\\\\\\\\\\\"7c562279-7731-4000-a7b6-45219a95d9cf\\\\\\\\\\\\\", \\\\\\\\\\\\\"type\\\\\\\\\\\\\": \\\\\\\\\\\\\"Microsoft.DPrep.GetDatastoreFilesBlock\\\\\\\\\\\\\", \\\\\\\\\\\\\"arguments\\\\\\\\\\\\\": {\\\\\\\\\\\\\"datastores\\\\\\\\\\\\\": [{\\\\\\\\\\\\\"datastoreName\\\\\\\\\\\\\": \\\\\\\\\\\\\"workspaceblobstore\\\\\\\\\\\\\", \\\\\\\\\\\\\"path\\\\\\\\\\\\\": \\\\\\\\\\\\\"classified/dataset.csv\\\\\\\\\\\\\", \\\\\\\\\\\\\"resourceGroup\\\\\\\\\\\\\": \\\\\\\\\\\\\"ska_resources\\\\\\\\\\\\\", \\\\\\\\\\\\\"subscription\\\\\\\\\\\\\": \\\\\\\\\\\\\"12cd141f-7e8d-40f4-ba6e-35b327775bd4\\\\\\\\\\\\\", \\\\\\\\\\\\\"workspaceName\\\\\\\\\\\\\": \\\\\\\\\\\\\"capstone_project_workspace\\\\\\\\\\\\\"}]}, \\\\\\\\\\\\\"localData\\\\\\\\\\\\\": {}, \\\\\\\\\\\\\"isEnabled\\\\\\\\\\\\\": true, \\\\\\\\\\\\\"name\\\\\\\\\\\\\": null, \\\\\\\\\\\\\"annotation\\\\\\\\\\\\\": null}, {\\\\\\\\\\\\\"id\\\\\\\\\\\\\": \\\\\\\\\\\\\"5a8afda0-915b-41d6-ac3c-3e844b8559a5\\\\\\\\\\\\\", \\\\\\\\\\\\\"type\\\\\\\\\\\\\": \\\\\\\\\\\\\"Microsoft.DPrep.ParseDelimitedBlock\\\\\\\\\\\\\", \\\\\\\\\\\\\"arguments\\\\\\\\\\\\\": {\\\\\\\\\\\\\"columnHeadersMode\\\\\\\\\\\\\": 3, \\\\\\\\\\\\\"fileEncoding\\\\\\\\\\\\\": 0, \\\\\\\\\\\\\"handleQuotedLineBreaks\\\\\\\\\\\\\": false, \\\\\\\\\\\\\"preview\\\\\\\\\\\\\": false, \\\\\\\\\\\\\"separator\\\\\\\\\\\\\": \\\\\\\\\\\\\",\\\\\\\\\\\\\", \\\\\\\\\\\\\"skipRows\\\\\\\\\\\\\": 0, \\\\\\\\\\\\\"skipRowsMode\\\\\\\\\\\\\": 0}, \\\\\\\\\\\\\"localData\\\\\\\\\\\\\": {}, \\\\\\\\\\\\\"isEnabled\\\\\\\\\\\\\": true, \\\\\\\\\\\\\"name\\\\\\\\\\\\\": null, \\\\\\\\\\\\\"annotation\\\\\\\\\\\\\": null}, {\\\\\\\\\\\\\"id\\\\\\\\\\\\\": \\\\\\\\\\\\\"0586637b-53d0-4d6f-ab2a-d98d8099ebef\\\\\\\\\\\\\", \\\\\\\\\\\\\"type\\\\\\\\\\\\\": \\\\\\\\\\\\\"Microsoft.DPrep.DropColumnsBlock\\\\\\\\\\\\\", \\\\\\\\\\\\\"arguments\\\\\\\\\\\\\": {\\\\\\\\\\\\\"columns\\\\\\\\\\\\\": {\\\\\\\\\\\\\"type\\\\\\\\\\\\\": 0, \\\\\\\\\\\\\"details\\\\\\\\\\\\\": {\\\\\\\\\\\\\"selectedColumns\\\\\\\\\\\\\": [\\\\\\\\\\\\\"Path\\\\\\\\\\\\\"]}}}, \\\\\\\\\\\\\"localData\\\\\\\\\\\\\": {}, \\\\\\\\\\\\\"isEnabled\\\\\\\\\\\\\": true, \\\\\\\\\\\\\"name\\\\\\\\\\\\\": null, \\\\\\\\\\\\\"annotation\\\\\\\\\\\\\": null}, {\\\\\\\\\\\\\"id\\\\\\\\\\\\\": \\\\\\\\\\\\\"da26538b-c798-4862-990b-bf49493d4f42\\\\\\\\\\\\\", \\\\\\\\\\\\\"type\\\\\\\\\\\\\": \\\\\\\\\\\\\"Microsoft.DPrep.SetColumnTypesBlock\\\\\\\\\\\\\", \\\\\\\\\\\\\"arguments\\\\\\\\\\\\\": {\\\\\\\\\\\\\"columnConversion\\\\\\\\\\\\\": [{\\\\\\\\\\\\\"column\\\\\\\\\\\\\": {\\\\\\\\\\\\\"type\\\\\\\\\\\\\": 2, \\\\\\\\\\\\\"details\\\\\\\\\\\\\": {\\\\\\\\\\\\\"selectedColumn\\\\\\\\\\\\\": \\\\\\\\\\\\\"id\\\\\\\\\\\\\"}}, \\\\\\\\\\\\\"typeProperty\\\\\\\\\\\\\": 2}, {\\\\\\\\\\\\\"column\\\\\\\\\\\\\": {\\\\\\\\\\\\\"type\\\\\\\\\\\\\": 2, \\\\\\\\\\\\\"details\\\\\\\\\\\\\": {\\\\\\\\\\\\\"selectedColumn\\\\\\\\\\\\\": \\\\\\\\\\\\\"gender\\\\\\\\\\\\\"}}, \\\\\\\\\\\\\"typeProperty\\\\\\\\\\\\\": 2}, {\\\\\\\\\\\\\"column\\\\\\\\\\\\\": {\\\\\\\\\\\\\"type\\\\\\\\\\\\\": 2, \\\\\\\\\\\\\"details\\\\\\\\\\\\\": {\\\\\\\\\\\\\"selectedColumn\\\\\\\\\\\\\": \\\\\\\\\\\\\"age\\\\\\\\\\\\\"}}, \\\\\\\\\\\\\"typeProperty\\\\\\\\\\\\\": 3}, {\\\\\\\\\\\\\"column\\\\\\\\\\\\\": {\\\\\\\\\\\\\"type\\\\\\\\\\\\\": 2, \\\\\\\\\\\\\"details\\\\\\\\\\\\\": {\\\\\\\\\\\\\"selectedColumn\\\\\\\\\\\\\": \\\\\\\\\\\\\"hypertension\\\\\\\\\\\\\"}}, \\\\\\\\\\\\\"typeProperty\\\\\\\\\\\\\": 2}, {\\\\\\\\\\\\\"column\\\\\\\\\\\\\": {\\\\\\\\\\\\\"type\\\\\\\\\\\\\": 2, \\\\\\\\\\\\\"details\\\\\\\\\\\\\": {\\\\\\\\\\\\\"selectedColumn\\\\\\\\\\\\\": \\\\\\\\\\\\\"heart_disease\\\\\\\\\\\\\"}}, \\\\\\\\\\\\\"typeProperty\\\\\\\\\\\\\": 2}, {\\\\\\\\\\\\\"column\\\\\\\\\\\\\": {\\\\\\\\\\\\\"type\\\\\\\\\\\\\": 2, \\\\\\\\\\\\\"details\\\\\\\\\\\\\": {\\\\\\\\\\\\\"selectedColumn\\\\\\\\\\\\\": \\\\\\\\\\\\\"ever_married\\\\\\\\\\\\\"}}, \\\\\\\\\\\\\"typeProperty\\\\\\\\\\\\\": 1}, {\\\\\\\\\\\\\"column\\\\\\\\\\\\\": {\\\\\\\\\\\\\"type\\\\\\\\\\\\\": 2, \\\\\\\\\\\\\"details\\\\\\\\\\\\\": {\\\\\\\\\\\\\"selectedColumn\\\\\\\\\\\\\": \\\\\\\\\\\\\"work_type\\\\\\\\\\\\\"}}, \\\\\\\\\\\\\"typeProperty\\\\\\\\\\\\\": 2}, {\\\\\\\\\\\\\"column\\\\\\\\\\\\\": {\\\\\\\\\\\\\"type\\\\\\\\\\\\\": 2, \\\\\\\\\\\\\"details\\\\\\\\\\\\\": {\\\\\\\\\\\\\"selectedColumn\\\\\\\\\\\\\": \\\\\\\\\\\\\"Residence_type\\\\\\\\\\\\\"}}, \\\\\\\\\\\\\"typeProperty\\\\\\\\\\\\\": 2}, {\\\\\\\\\\\\\"column\\\\\\\\\\\\\": {\\\\\\\\\\\\\"type\\\\\\\\\\\\\": 2, \\\\\\\\\\\\\"details\\\\\\\\\\\\\": {\\\\\\\\\\\\\"selectedColumn\\\\\\\\\\\\\": \\\\\\\\\\\\\"avg_glucose_level\\\\\\\\\\\\\"}}, \\\\\\\\\\\\\"typeProperty\\\\\\\\\\\\\": 3}, {\\\\\\\\\\\\\"column\\\\\\\\\\\\\": {\\\\\\\\\\\\\"type\\\\\\\\\\\\\": 2, \\\\\\\\\\\\\"details\\\\\\\\\\\\\": {\\\\\\\\\\\\\"selectedColumn\\\\\\\\\\\\\": \\\\\\\\\\\\\"bmi\\\\\\\\\\\\\"}}, \\\\\\\\\\\\\"typeProperty\\\\\\\\\\\\\": 3}, {\\\\\\\\\\\\\"column\\\\\\\\\\\\\": {\\\\\\\\\\\\\"type\\\\\\\\\\\\\": 2, \\\\\\\\\\\\\"details\\\\\\\\\\\\\": {\\\\\\\\\\\\\"selectedColumn\\\\\\\\\\\\\": \\\\\\\\\\\\\"smoking_status\\\\\\\\\\\\\"}}, \\\\\\\\\\\\\"typeProperty\\\\\\\\\\\\\": 2}, {\\\\\\\\\\\\\"column\\\\\\\\\\\\\": {\\\\\\\\\\\\\"type\\\\\\\\\\\\\": 2, \\\\\\\\\\\\\"details\\\\\\\\\\\\\": {\\\\\\\\\\\\\"selectedColumn\\\\\\\\\\\\\": \\\\\\\\\\\\\"stroke\\\\\\\\\\\\\"}}, \\\\\\\\\\\\\"typeProperty\\\\\\\\\\\\\": 2}]}, \\\\\\\\\\\\\"localData\\\\\\\\\\\\\": {}, \\\\\\\\\\\\\"isEnabled\\\\\\\\\\\\\": true, \\\\\\\\\\\\\"name\\\\\\\\\\\\\": null, \\\\\\\\\\\\\"annotation\\\\\\\\\\\\\": null}], \\\\\\\\\\\\\"inspectors\\\\\\\\\\\\\": [], \\\\\\\\\\\\\"meta\\\\\\\\\\\\\": {\\\\\\\\\\\\\"savedDatasetId\\\\\\\\\\\\\": \\\\\\\\\\\\\"6bf5faee-8433-4dae-be4e-8ec9b410d058\\\\\\\\\\\\\", \\\\\\\\\\\\\"datasetType\\\\\\\\\\\\\": \\\\\\\\\\\\\"tabular\\\\\\\\\\\\\", \\\\\\\\\\\\\"subscriptionId\\\\\\\\\\\\\": \\\\\\\\\\\\\"12cd141f-7e8d-40f4-ba6e-35b327775bd4\\\\\\\\\\\\\", \\\\\\\\\\\\\"workspaceId\\\\\\\\\\\\\": \\\\\\\\\\\\\"89d491f1-2603-401d-9a8e-87b3aa451d3a\\\\\\\\\\\\\", \\\\\\\\\\\\\"workspaceLocation\\\\\\\\\\\\\": \\\\\\\\\\\\\"eastus\\\\\\\\\\\\\", \\\\\\\\\\\\\"partition_keys\\\\\\\\\\\\\": \\\\\\\\\\\\\"true\\\\\\\\\\\\\"}}\\\\\", \\\\\"activities\\\\\": 0}',\n",
       "  'EnableSubsampling': None,\n",
       "  'runTemplate': 'AutoML',\n",
       "  'azureml.runsource': 'automl',\n",
       "  'display_task_type': 'classification',\n",
       "  'dependencies_versions': '{\"azureml-widgets\": \"1.24.0\", \"azureml-train\": \"1.24.0\", \"azureml-train-restclients-hyperdrive\": \"1.24.0\", \"azureml-train-core\": \"1.24.0\", \"azureml-train-automl\": \"1.24.0\", \"azureml-train-automl-runtime\": \"1.24.0\", \"azureml-train-automl-client\": \"1.24.0\", \"azureml-tensorboard\": \"1.24.0\", \"azureml-telemetry\": \"1.24.0\", \"azureml-sdk\": \"1.24.0\", \"azureml-samples\": \"0+unknown\", \"azureml-pipeline\": \"1.24.0\", \"azureml-pipeline-steps\": \"1.24.0\", \"azureml-pipeline-core\": \"1.24.0\", \"azureml-opendatasets\": \"1.24.0\", \"azureml-model-management-sdk\": \"1.0.1b6.post1\", \"azureml-mlflow\": \"1.24.0\", \"azureml-interpret\": \"1.24.0\", \"azureml-explain-model\": \"1.24.0\", \"azureml-defaults\": \"1.24.0\", \"azureml-dataset-runtime\": \"1.24.0\", \"azureml-dataprep\": \"2.11.2\", \"azureml-dataprep-rslex\": \"1.9.1\", \"azureml-dataprep-native\": \"30.0.0\", \"azureml-datadrift\": \"1.24.0\", \"azureml-core\": \"1.24.0.post2\", \"azureml-contrib-services\": \"1.24.0\", \"azureml-contrib-server\": \"1.24.0\", \"azureml-contrib-reinforcementlearning\": \"1.24.0\", \"azureml-contrib-pipeline-steps\": \"1.24.0\", \"azureml-contrib-notebook\": \"1.24.0\", \"azureml-contrib-gbdt\": \"1.24.0\", \"azureml-contrib-fairness\": \"1.24.0\", \"azureml-contrib-dataset\": \"1.24.0\", \"azureml-cli-common\": \"1.24.0\", \"azureml-automl-runtime\": \"1.24.0\", \"azureml-automl-dnn-nlp\": \"1.24.0\", \"azureml-automl-core\": \"1.24.0\", \"azureml-accel-models\": \"1.24.0\"}',\n",
       "  '_aml_system_scenario_identification': 'Remote.Parent',\n",
       "  'ClientType': 'SDK',\n",
       "  'environment_cpu_name': 'AzureML-AutoML',\n",
       "  'environment_cpu_label': 'prod',\n",
       "  'environment_gpu_name': 'AzureML-AutoML-GPU',\n",
       "  'environment_gpu_label': 'prod',\n",
       "  'root_attribution': 'automl',\n",
       "  'attribution': 'AutoML',\n",
       "  'Orchestrator': 'AutoML',\n",
       "  'CancelUri': 'https://eastus.experiments.azureml.net/jasmine/v1.0/subscriptions/12cd141f-7e8d-40f4-ba6e-35b327775bd4/resourceGroups/ska_resources/providers/Microsoft.MachineLearningServices/workspaces/capstone_project_workspace/experimentids/5f36c50a-60bf-46fa-a67c-567445768bfa/cancel/AutoML_619c1840-31e5-46ec-b705-58c2188161d7',\n",
       "  'ClientSdkVersion': '1.24.0',\n",
       "  'snapshotId': '00000000-0000-0000-0000-000000000000',\n",
       "  'SetupRunId': 'AutoML_619c1840-31e5-46ec-b705-58c2188161d7_setup',\n",
       "  'SetupRunContainerId': 'dcid.AutoML_619c1840-31e5-46ec-b705-58c2188161d7_setup',\n",
       "  'FeaturizationRunJsonPath': 'featurizer_container.json',\n",
       "  'FeaturizationRunId': 'AutoML_619c1840-31e5-46ec-b705-58c2188161d7_featurize',\n",
       "  'ProblemInfoJsonString': '{\"dataset_num_categorical\": 0, \"is_sparse\": true, \"subsampling\": false, \"dataset_classes\": 2, \"dataset_features\": 16, \"dataset_samples\": 3577, \"single_frequency_class_detected\": false}',\n",
       "  'ModelExplainRunId': 'AutoML_619c1840-31e5-46ec-b705-58c2188161d7_ModelExplain'},\n",
       " 'inputDatasets': [{'dataset': {'id': '6bf5faee-8433-4dae-be4e-8ec9b410d058'}, 'consumptionDetails': {'type': 'RunInput', 'inputName': 'training_data', 'mechanism': 'Direct'}}],\n",
       " 'outputDatasets': [],\n",
       " 'logFiles': {},\n",
       " 'submittedBy': 'Francesco Scalise'}"
      ]
     },
     "execution_count": 11,
     "metadata": {},
     "output_type": "execute_result"
    }
   ],
   "source": [
    "RunDetails(remote_run).show()\n",
    "remote_run.wait_for_completion()"
   ]
  },
  {
   "cell_type": "markdown",
   "metadata": {},
   "source": [
    "## Best Model\n",
    "\n",
    "TODO: In the cell below, get the best model from the automl experiments and display all the properties of the model.\n",
    "\n"
   ]
  },
  {
   "cell_type": "code",
   "execution_count": 12,
   "metadata": {
    "collapsed": false,
    "gather": {
     "logged": 1598431425670
    },
    "jupyter": {
     "outputs_hidden": false,
     "source_hidden": false
    },
    "nteract": {
     "transient": {
      "deleting": false
     }
    }
   },
   "outputs": [],
   "source": [
    "best_automl_run, automl_model = remote_run.get_output()"
   ]
  },
  {
   "cell_type": "code",
   "execution_count": 13,
   "metadata": {
    "collapsed": false,
    "gather": {
     "logged": 1598431426111
    },
    "jupyter": {
     "outputs_hidden": false,
     "source_hidden": false
    },
    "nteract": {
     "transient": {
      "deleting": false
     }
    }
   },
   "outputs": [
    {
     "data": {
      "text/plain": [
       "'outputs/model.pkl'"
      ]
     },
     "execution_count": 13,
     "metadata": {},
     "output_type": "execute_result"
    }
   ],
   "source": [
    "#Save the best model\n",
    "automl_model = remote_run.register_model(model_name='stroke-experiment-model')\n",
    "\n",
    "automl_model.download(target_dir=\"outputs\", exist_ok=True)"
   ]
  },
  {
   "cell_type": "markdown",
   "metadata": {},
   "source": [
    "## Model Deployment\n",
    "\n",
    "Remember you have to deploy only one of the two models you trained.. Perform the steps in the rest of this notebook only if you wish to deploy this model.\n",
    "\n",
    "TODO: In the cell below, register the model, create an inference config and deploy the model as a web service."
   ]
  },
  {
   "cell_type": "code",
   "execution_count": null,
   "metadata": {
    "collapsed": false,
    "gather": {
     "logged": 1598431435189
    },
    "jupyter": {
     "outputs_hidden": false,
     "source_hidden": false
    },
    "nteract": {
     "transient": {
      "deleting": false
     }
    }
   },
   "outputs": [],
   "source": []
  },
  {
   "cell_type": "markdown",
   "metadata": {
    "gather": {
     "logged": 1598431657736
    },
    "jupyter": {
     "outputs_hidden": false,
     "source_hidden": false
    },
    "nteract": {
     "transient": {
      "deleting": false
     }
    }
   },
   "source": [
    "TODO: In the cell below, send a request to the web service you deployed to test it."
   ]
  },
  {
   "cell_type": "code",
   "execution_count": null,
   "metadata": {
    "collapsed": false,
    "gather": {
     "logged": 1598432707604
    },
    "jupyter": {
     "outputs_hidden": false,
     "source_hidden": false
    },
    "nteract": {
     "transient": {
      "deleting": false
     }
    }
   },
   "outputs": [],
   "source": []
  },
  {
   "cell_type": "markdown",
   "metadata": {
    "gather": {
     "logged": 1598432765711
    },
    "jupyter": {
     "outputs_hidden": false,
     "source_hidden": false
    },
    "nteract": {
     "transient": {
      "deleting": false
     }
    }
   },
   "source": [
    "TODO: In the cell below, print the logs of the web service and delete the service"
   ]
  },
  {
   "cell_type": "code",
   "execution_count": null,
   "metadata": {
    "collapsed": false,
    "jupyter": {
     "outputs_hidden": false,
     "source_hidden": false
    },
    "nteract": {
     "transient": {
      "deleting": false
     }
    }
   },
   "outputs": [],
   "source": []
  }
 ],
 "metadata": {
  "kernel_info": {
   "name": "python3"
  },
  "kernelspec": {
   "display_name": "Python 3",
   "language": "python",
   "name": "python3"
  },
  "language_info": {
   "codemirror_mode": {
    "name": "ipython",
    "version": 3
   },
   "file_extension": ".py",
   "mimetype": "text/x-python",
   "name": "python",
   "nbconvert_exporter": "python",
   "pygments_lexer": "ipython3",
   "version": "3.6.9"
  },
  "microsoft": {
   "host": {
    "AzureML": {
     "notebookHasBeenCompleted": true
    }
   }
  },
  "nteract": {
   "version": "nteract-front-end@1.0.0"
  }
 },
 "nbformat": 4,
 "nbformat_minor": 4
}
